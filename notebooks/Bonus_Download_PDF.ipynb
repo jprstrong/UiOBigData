{
 "cells": [
  {
   "cell_type": "markdown",
   "metadata": {
    "slideshow": {
     "slide_type": "slide"
    }
   },
   "source": [
    "## We want some pdfs!\n",
    "\n",
    "[Link](http://www.europarl.europa.eu/thinktank/en/search.html?selectedDocumentType=&fakeSelectedKeywords=&fakeSelectedAuthor=&fakeDocumentTypes=BRIEFING&dateEnd=&previousResultSetDateStart=01-03-1997&dateStart=&selectedKeyword=&previousSubmitter=POLICY_AREA&documentTypes=BRIEFING&page=1&selectedAuthor=&previousResultSetDateEnd=02-05-2019&fakeSelectedPolicyArea=FORAFF&selectedPolicyArea=FORAFF&word=&facetAction=ADD)"
   ]
  },
  {
   "cell_type": "code",
   "execution_count": null,
   "metadata": {
    "slideshow": {
     "slide_type": "slide"
    }
   },
   "outputs": [],
   "source": [
    "import requests"
   ]
  },
  {
   "cell_type": "code",
   "execution_count": null,
   "metadata": {
    "slideshow": {
     "slide_type": "fragment"
    }
   },
   "outputs": [],
   "source": [
    "url = 'http://www.europarl.europa.eu/RegData/etudes/BRIE/2019/635581/EPRS_BRI(2019)635581_EN.pdf'"
   ]
  },
  {
   "cell_type": "code",
   "execution_count": null,
   "metadata": {
    "slideshow": {
     "slide_type": "fragment"
    }
   },
   "outputs": [],
   "source": [
    "response = requests.get(url)"
   ]
  },
  {
   "cell_type": "code",
   "execution_count": null,
   "metadata": {
    "slideshow": {
     "slide_type": "slide"
    }
   },
   "outputs": [],
   "source": [
    "with open('EPRS_BRI(2019)635581_EN.pdf', 'wb') as outfile:\n",
    "    outfile.write(response.content)"
   ]
  },
  {
   "cell_type": "markdown",
   "metadata": {
    "slideshow": {
     "slide_type": "slide"
    }
   },
   "source": [
    "## Did it work? Find the file!"
   ]
  },
  {
   "cell_type": "code",
   "execution_count": null,
   "metadata": {
    "slideshow": {
     "slide_type": "slide"
    }
   },
   "outputs": [],
   "source": [
    "import PyPDF2\n",
    "\n",
    "def extract_text(pdf_file_name):\n",
    "    '''Extract text contents from a PDF file'''\n",
    "    \n",
    "    pdfFileObj = open(pdf_file_name, 'rb')\n",
    "        \n",
    "    pdfReader = PyPDF2.PdfFileReader(pdfFileObj)\n",
    "    \n",
    "    full_text = ''\n",
    "\n",
    "    for page_number in range(0, pdfReader.numPages):\n",
    "        new_page_text = pdfReader.getPage(page_number).extractText()\n",
    "        full_text = full_text +  '\\n' + new_page_text\n",
    "    return full_text\n",
    "    "
   ]
  },
  {
   "cell_type": "code",
   "execution_count": null,
   "metadata": {
    "slideshow": {
     "slide_type": "slide"
    }
   },
   "outputs": [],
   "source": [
    "print(extract_text('EPRS_BRI(2019)635581_EN.pdf'))"
   ]
  },
  {
   "cell_type": "code",
   "execution_count": null,
   "metadata": {},
   "outputs": [],
   "source": []
  }
 ],
 "metadata": {
  "kernelspec": {
   "display_name": "Python 3",
   "language": "python",
   "name": "python3"
  },
  "language_info": {
   "codemirror_mode": {
    "name": "ipython",
    "version": 3
   },
   "file_extension": ".py",
   "mimetype": "text/x-python",
   "name": "python",
   "nbconvert_exporter": "python",
   "pygments_lexer": "ipython3",
   "version": "3.6.8"
  }
 },
 "nbformat": 4,
 "nbformat_minor": 2
}

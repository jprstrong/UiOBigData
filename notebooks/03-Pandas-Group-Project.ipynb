{
 "cells": [
  {
   "cell_type": "markdown",
   "metadata": {},
   "source": [
    "## Panda trolls\n",
    "\n",
    "In this assignment, you will analyze a sample of 50,000 Russian troll tweets. You can answer each question in the cell space provided in this notebook or start a new notebook.\n",
    "\n",
    "As part of analysis of Russian influence in the 2016 U.S. presidential election, FiveThirtyEight released almost [three million russian troll tweets](https://fivethirtyeight.com/features/why-were-sharing-3-million-russian-troll-tweets/). FiveThirtyEight obtained the data from Clemson University researchers [Darren Linvill](https://www.clemson.edu/cbshs/faculty-staff/profiles/darrenl) and [Patrick Warren](http://pwarren.people.clemson.edu/). Tweets were collected from accounts identified in the  [November 2017](https://democrats-intelligence.house.gov/uploadedfiles/exhibit_b.pdf) and [June 2018](https://democrats-intelligence.house.gov/uploadedfiles/ira_handles_june_2018.pdf) lists of Internet Research Agency-connected handles [provided to Congress](https://democrats-intelligence.house.gov/news/documentsingle.aspx?DocumentID=396) by Twitter. You can access the FiveThirtyEight repository for a comlete description of the data.\n"
   ]
  },
  {
   "cell_type": "markdown",
   "metadata": {},
   "source": [
    "Variables in the file include:\n",
    "\n",
    "Name | Definition\n",
    "---|---------\n",
    "`external_author_id` | An author account ID from Twitter \n",
    "`author` | The handle sending the tweet\n",
    "`content` | The text of the tweet\n",
    "`region` | A region classification, as [determined by Social Studio](https://help.salesforce.com/articleView?id=000199367&type=1)\n",
    "`language` | The language of the tweet\n",
    "`publish_date` | The date and time the tweet was sent\n",
    "`harvested_date` | The date and time the tweet was collected by Social Studio\n",
    "`following` | The number of accounts the handle was following at the time of the tweet\n",
    "`followers` | The number of followers the handle had at the time of the tweet\n",
    "`updates` | The number of “update actions” on the account that authored the tweet, including tweets, retweets and likes\n",
    "`post_type` | Indicates if the tweet was a retweet or a quote-tweet\n",
    "`account_type` | Specific account theme, as coded by Linvill and Warren\n",
    "`retweet` | A binary indicator of whether or not the tweet is a retweet\n",
    "`account_category` | General account theme, as coded by Linvill and Warren\n",
    "`new_june_2018` | A binary indicator of whether the handle was newly listed in June 2018\n",
    "`alt_external_id` | Reconstruction of author account ID from Twitter, derived from `article_url` variable and the first list provided to Congress\n",
    "`tweet_id` | Unique id assigned by twitter to each status update, derived from `article_url`\n",
    "`article_url` | Link to original tweet. Now redirects to \"Account Suspended\" page\n",
    "`tco1_step1` | First redirect for the first http(s)://t.co/ link in a tweet, if it exists\n",
    "`tco2_step1` | First redirect for the second http(s)://t.co/ link in a tweet, if it exists\n",
    "`tco3_step1` | First redirect for the third http(s)://t.co/ link in a tweet, if it exists\n"
   ]
  },
  {
   "cell_type": "markdown",
   "metadata": {},
   "source": [
    "### Part I\n",
    "**Load the dataset as a pandas dataframe.** \n",
    "The dataset is available in the [`data`](https://github.com/nealcaren/UiOBigData/tree/master/notebooks/data) folder on the course [Github site](https://github.com/nealcaren/UiOBigData/). You can also access it directly from this URL:\n",
    "https://raw.githubusercontent.com/nealcaren/UiOBigData/master/notebooks/data/ira_sample_50k.csv\n",
    "\n",
    "Hint:\n",
    "* Remember to `import` pandas. \n",
    "* Pandas can load a file from a local directory or from a URL."
   ]
  },
  {
   "cell_type": "code",
   "execution_count": null,
   "metadata": {},
   "outputs": [],
   "source": []
  },
  {
   "cell_type": "markdown",
   "metadata": {},
   "source": [
    "### Part II\n",
    "\n",
    "After inspecting the dataframe, answer the following questions.\n",
    "\n"
   ]
  },
  {
   "cell_type": "markdown",
   "metadata": {},
   "source": [
    "* **How many columns in the dataset?**\n",
    "\n",
    "Hint: \n",
    "* `len` can be used to compute the length of a list."
   ]
  },
  {
   "cell_type": "code",
   "execution_count": null,
   "metadata": {},
   "outputs": [],
   "source": []
  },
  {
   "cell_type": "markdown",
   "metadata": {},
   "source": [
    "* **What percent of the tweets had links?**\n"
   ]
  },
  {
   "cell_type": "code",
   "execution_count": null,
   "metadata": {},
   "outputs": [],
   "source": []
  },
  {
   "cell_type": "markdown",
   "metadata": {},
   "source": [
    "* **How many of the tweets are tagged `RightTroll`?**\n"
   ]
  },
  {
   "cell_type": "code",
   "execution_count": null,
   "metadata": {},
   "outputs": [],
   "source": []
  },
  {
   "cell_type": "markdown",
   "metadata": {},
   "source": [
    "* **What is the median number of following accounts?**"
   ]
  },
  {
   "cell_type": "code",
   "execution_count": null,
   "metadata": {},
   "outputs": [],
   "source": []
  },
  {
   "cell_type": "markdown",
   "metadata": {},
   "source": [
    "### Part III\n",
    "\n",
    "* **Plot a histogram of the number of follower accounts.**\n",
    "\n",
    "Hint:\n",
    "* Remember to enable graph displays in a notebook.\n"
   ]
  },
  {
   "cell_type": "code",
   "execution_count": null,
   "metadata": {},
   "outputs": [],
   "source": []
  },
  {
   "cell_type": "markdown",
   "metadata": {},
   "source": [
    "* **Plot a histogram of the date the tweets were published, using 100 bins.**\n",
    "\n",
    "Hint:\n",
    "* `troll_df['date'] = pd.to_datetime(troll_df['publish_date'])` will convert the date to a pandas datetime object (assuming your datframe is called troll_df)."
   ]
  },
  {
   "cell_type": "code",
   "execution_count": null,
   "metadata": {},
   "outputs": [],
   "source": []
  },
  {
   "cell_type": "markdown",
   "metadata": {},
   "source": [
    "### Part IV\n",
    "\n",
    "* **Create a histogram of a new variable `tweet_length` that is the number of words in the tweet (`content`).**\n",
    "\n",
    "Hint:\n",
    "* This requires you to `apply` a function that you create."
   ]
  },
  {
   "cell_type": "code",
   "execution_count": null,
   "metadata": {},
   "outputs": [],
   "source": []
  },
  {
   "cell_type": "markdown",
   "metadata": {},
   "source": [
    "* **What are the ten most frequently occur first words in the tweets?**\n",
    "\n",
    "Hint:\n",
    "* Create a new variable `first_word` that is the first word of the tweet (`content`).\n",
    "* This requires you to `apply` a function that you create."
   ]
  },
  {
   "cell_type": "code",
   "execution_count": null,
   "metadata": {},
   "outputs": [],
   "source": []
  }
 ],
 "metadata": {
  "kernelspec": {
   "display_name": "Python 3",
   "language": "python",
   "name": "python3"
  },
  "language_info": {
   "codemirror_mode": {
    "name": "ipython",
    "version": 3
   },
   "file_extension": ".py",
   "mimetype": "text/x-python",
   "name": "python",
   "nbconvert_exporter": "python",
   "pygments_lexer": "ipython3",
   "version": "3.6.8"
  }
 },
 "nbformat": 4,
 "nbformat_minor": 2
}

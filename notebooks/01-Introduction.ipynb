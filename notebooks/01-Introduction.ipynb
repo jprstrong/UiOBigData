{
 "cells": [
  {
   "cell_type": "markdown",
   "metadata": {
    "slideshow": {
     "slide_type": "slide"
    }
   },
   "source": [
    "## Collecting and Analyzing Big Data\n",
    "\n",
    "\n",
    "### Neal Caren  \n",
    "Department of Sociology  \n",
    "University of North Carolina,  Chapel Hill  \n",
    "neal.caren@gmail.com  \n",
    "@haphazardsoc  \n",
    "\n",
    "\n",
    "#### https://github.com/nealcaren/UiOBigData"
   ]
  },
  {
   "cell_type": "markdown",
   "metadata": {
    "slideshow": {
     "slide_type": "slide"
    }
   },
   "source": [
    "### This class is an introduction to:"
   ]
  },
  {
   "cell_type": "markdown",
   "metadata": {
    "slideshow": {
     "slide_type": "fragment"
    }
   },
   "source": [
    "Collecting digital data"
   ]
  },
  {
   "cell_type": "markdown",
   "metadata": {
    "slideshow": {
     "slide_type": "fragment"
    }
   },
   "source": [
    "- Including words and numbers"
   ]
  },
  {
   "cell_type": "markdown",
   "metadata": {
    "slideshow": {
     "slide_type": "fragment"
    }
   },
   "source": [
    "- From pre-made text files (such as CSV, JSON)"
   ]
  },
  {
   "cell_type": "markdown",
   "metadata": {
    "slideshow": {
     "slide_type": "fragment"
    }
   },
   "source": [
    "- From APIs"
   ]
  },
  {
   "cell_type": "markdown",
   "metadata": {
    "slideshow": {
     "slide_type": "fragment"
    }
   },
   "source": [
    "- From HTML"
   ]
  },
  {
   "cell_type": "markdown",
   "metadata": {
    "slideshow": {
     "slide_type": "slide"
    }
   },
   "source": [
    "### This class is an introduction to:"
   ]
  },
  {
   "cell_type": "markdown",
   "metadata": {
    "slideshow": {
     "slide_type": "fragment"
    }
   },
   "source": [
    "Manipulating digital data"
   ]
  },
  {
   "cell_type": "markdown",
   "metadata": {
    "slideshow": {
     "slide_type": "fragment"
    }
   },
   "source": [
    "- Creating datasets"
   ]
  },
  {
   "cell_type": "markdown",
   "metadata": {
    "slideshow": {
     "slide_type": "fragment"
    }
   },
   "source": [
    "- Turning numbers in words"
   ]
  },
  {
   "cell_type": "markdown",
   "metadata": {
    "slideshow": {
     "slide_type": "slide"
    }
   },
   "source": [
    "Basics of machine learning"
   ]
  },
  {
   "cell_type": "markdown",
   "metadata": {
    "slideshow": {
     "slide_type": "fragment"
    }
   },
   "source": [
    "- Supervised learning"
   ]
  },
  {
   "cell_type": "markdown",
   "metadata": {
    "slideshow": {
     "slide_type": "fragment"
    }
   },
   "source": [
    "- Unsupervised learning"
   ]
  },
  {
   "cell_type": "markdown",
   "metadata": {
    "slideshow": {
     "slide_type": "slide"
    }
   },
   "source": [
    "### This class is an introduction to:"
   ]
  },
  {
   "cell_type": "markdown",
   "metadata": {
    "slideshow": {
     "slide_type": "fragment"
    }
   },
   "source": [
    "Python"
   ]
  },
  {
   "cell_type": "markdown",
   "metadata": {
    "collapsed": true,
    "slideshow": {
     "slide_type": "fragment"
    }
   },
   "source": [
    "- The basics of the language"
   ]
  },
  {
   "cell_type": "markdown",
   "metadata": {
    "collapsed": true,
    "slideshow": {
     "slide_type": "fragment"
    }
   },
   "source": [
    "- Writing functions"
   ]
  },
  {
   "cell_type": "markdown",
   "metadata": {
    "collapsed": true,
    "slideshow": {
     "slide_type": "fragment"
    }
   },
   "source": [
    "- Jupyter notebooks"
   ]
  },
  {
   "cell_type": "markdown",
   "metadata": {
    "collapsed": true,
    "slideshow": {
     "slide_type": "fragment"
    }
   },
   "source": [
    "- PandaKit"
   ]
  },
  {
   "cell_type": "markdown",
   "metadata": {
    "slideshow": {
     "slide_type": "slide"
    }
   },
   "source": [
    "### This class is an introduction to:"
   ]
  },
  {
   "cell_type": "markdown",
   "metadata": {
    "slideshow": {
     "slide_type": "fragment"
    }
   },
   "source": [
    "- Markdown"
   ]
  },
  {
   "cell_type": "markdown",
   "metadata": {
    "slideshow": {
     "slide_type": "fragment"
    }
   },
   "source": [
    "- Translating between social science and machine learning"
   ]
  },
  {
   "cell_type": "markdown",
   "metadata": {
    "slideshow": {
     "slide_type": "slide"
    }
   },
   "source": [
    "### My job"
   ]
  },
  {
   "cell_type": "markdown",
   "metadata": {
    "slideshow": {
     "slide_type": "fragment"
    }
   },
   "source": [
    "- Introduce the material"
   ]
  },
  {
   "cell_type": "markdown",
   "metadata": {
    "slideshow": {
     "slide_type": "fragment"
    }
   },
   "source": [
    "- Outline the field"
   ]
  },
  {
   "cell_type": "markdown",
   "metadata": {
    "slideshow": {
     "slide_type": "fragment"
    }
   },
   "source": [
    "- Provide opportunity to practice"
   ]
  },
  {
   "cell_type": "markdown",
   "metadata": {
    "slideshow": {
     "slide_type": "slide"
    }
   },
   "source": [
    "### Your job"
   ]
  },
  {
   "cell_type": "markdown",
   "metadata": {
    "slideshow": {
     "slide_type": "fragment"
    }
   },
   "source": [
    "- Practice!"
   ]
  },
  {
   "cell_type": "markdown",
   "metadata": {
    "slideshow": {
     "slide_type": "fragment"
    }
   },
   "source": [
    "- Figure out the relevance to your field."
   ]
  },
  {
   "cell_type": "markdown",
   "metadata": {
    "slideshow": {
     "slide_type": "fragment"
    }
   },
   "source": [
    "- Write a paper like thing"
   ]
  },
  {
   "cell_type": "markdown",
   "metadata": {
    "slideshow": {
     "slide_type": "slide"
    }
   },
   "source": [
    "###  Final Paper"
   ]
  },
  {
   "cell_type": "markdown",
   "metadata": {
    "slideshow": {
     "slide_type": "fragment"
    }
   },
   "source": [
    "- 3,000 + words on a project related to your academic interests."
   ]
  },
  {
   "cell_type": "markdown",
   "metadata": {
    "slideshow": {
     "slide_type": "fragment"
    }
   },
   "source": [
    "- Uses two or more methods from the class."
   ]
  },
  {
   "cell_type": "markdown",
   "metadata": {
    "slideshow": {
     "slide_type": "fragment"
    }
   },
   "source": [
    "- Hand in paper with notebook, or just a notebook."
   ]
  },
  {
   "cell_type": "markdown",
   "metadata": {
    "slideshow": {
     "slide_type": "fragment"
    }
   },
   "source": [
    "- Proposal paragraph due by end of day Wednesday."
   ]
  },
  {
   "cell_type": "markdown",
   "metadata": {
    "slideshow": {
     "slide_type": "slide"
    }
   },
   "source": [
    "### Some of my stuff"
   ]
  },
  {
   "cell_type": "code",
   "execution_count": null,
   "metadata": {},
   "outputs": [],
   "source": []
  },
  {
   "cell_type": "markdown",
   "metadata": {
    "slideshow": {
     "slide_type": "slide"
    }
   },
   "source": [
    "### Yelp can tell us how SES structures food options.\n",
    "![](https://raw.githubusercontent.com/nealcaren/UiOBigData/master/notebooks/images/yelp.png) \n"
   ]
  },
  {
   "cell_type": "markdown",
   "metadata": {
    "slideshow": {
     "slide_type": "slide"
    }
   },
   "source": [
    "### Yelp can tell us how SES structures food options.\n",
    "\n",
    "| High | Mid   | Low\n",
    "|------|------|------|\n",
    "|   ![](https://raw.githubusercontent.com/nealcaren/UiOBigData/master/notebooks/images/high_ses.png)  |  ![](https://raw.githubusercontent.com/nealcaren/UiOBigData/master/notebooks/images/mid_ses.png)  | ![](https://raw.githubusercontent.com/nealcaren/UiOBigData/master/notebooks/images/low_ses.png) |\n",
    "\n"
   ]
  },
  {
   "cell_type": "markdown",
   "metadata": {
    "slideshow": {
     "slide_type": "slide"
    }
   },
   "source": [
    "### Or map who signs petitions\n",
    "\n",
    "\n",
    "![](https://raw.githubusercontent.com/nealcaren/UiOBigData/master/notebooks/images/whpetition.png)"
   ]
  },
  {
   "cell_type": "markdown",
   "metadata": {
    "slideshow": {
     "slide_type": "slide"
    }
   },
   "source": [
    "### Or map who signs petitions\n",
    "\n",
    "![](https://raw.githubusercontent.com/nealcaren/UiOBigData/master/notebooks/images/petitions.png)"
   ]
  },
  {
   "cell_type": "markdown",
   "metadata": {
    "slideshow": {
     "slide_type": "slide"
    }
   },
   "source": [
    "### Or chart news coverage\n",
    "\n",
    "![](https://raw.githubusercontent.com/nealcaren/UiOBigData/master/notebooks/images/teapartynews.jpg)"
   ]
  },
  {
   "cell_type": "markdown",
   "metadata": {
    "slideshow": {
     "slide_type": "slide"
    }
   },
   "source": [
    "### Or chart news coverage\n",
    "\n",
    "\n",
    "![](https://raw.githubusercontent.com/nealcaren/UiOBigData/master/notebooks/images/tpm_lda.png)"
   ]
  },
  {
   "cell_type": "markdown",
   "metadata": {
    "slideshow": {
     "slide_type": "slide"
    }
   },
   "source": [
    "### What were Occupy supporters doing on Facebook?  \n",
    "![](https://raw.githubusercontent.com/nealcaren/UiOBigData/master/notebooks/images/occupy.png)\n"
   ]
  },
  {
   "cell_type": "markdown",
   "metadata": {
    "slideshow": {
     "slide_type": "slide"
    }
   },
   "source": [
    "### What were Occupy supporters doing on Facebook?  \n",
    "![](https://raw.githubusercontent.com/nealcaren/UiOBigData/master/notebooks/images/occupy_figure.png)\n",
    "\n"
   ]
  },
  {
   "cell_type": "markdown",
   "metadata": {
    "slideshow": {
     "slide_type": "slide"
    }
   },
   "source": [
    "### How the New York Times writes about and women\n",
    "\n",
    "![](https://raw.githubusercontent.com/nealcaren/UiOBigData/master/notebooks/images/nytimes.png)"
   ]
  },
  {
   "cell_type": "markdown",
   "metadata": {
    "slideshow": {
     "slide_type": "slide"
    }
   },
   "source": [
    "### How the New York Times writes about and women\n",
    "\n",
    "| Female | Male   |\n",
    "|------|------|\n",
    "|   ![](https://raw.githubusercontent.com/nealcaren/UiOBigData/master/notebooks/images/times_female.png)  | ![](https://raw.githubusercontent.com/nealcaren/UiOBigData/master/notebooks/images/times_male.png)|\n",
    "\n",
    "\n"
   ]
  },
  {
   "cell_type": "markdown",
   "metadata": {
    "slideshow": {
     "slide_type": "slide"
    }
   },
   "source": [
    "### Plan for the course\n",
    "* Basics of Python and working with data\n",
    "* Gathering data\n",
    "   - text files\n",
    "   - APIs\n",
    "   - web sites\n",
    "* Machine learning\n",
    "* Text analysis"
   ]
  },
  {
   "cell_type": "markdown",
   "metadata": {
    "slideshow": {
     "slide_type": "slide"
    }
   },
   "source": [
    "## Why are are you here? \n",
    "\n",
    "Take the survey \n",
    "\n",
    "## [http://www.allourideas.org/WhyAreYouHere](http://www.allourideas.org/WhyAreYouHere)\n"
   ]
  },
  {
   "cell_type": "markdown",
   "metadata": {
    "slideshow": {
     "slide_type": "slide"
    }
   },
   "source": [
    "### Goals for today\n",
    "\n",
    "Understand the basics of Python"
   ]
  },
  {
   "cell_type": "markdown",
   "metadata": {
    "slideshow": {
     "slide_type": "fragment"
    }
   },
   "source": [
    "(well enough so that you can Google your problems, find the answer (most likely on stackoverflow) and implement it.)"
   ]
  },
  {
   "cell_type": "markdown",
   "metadata": {
    "slideshow": {
     "slide_type": "slide"
    }
   },
   "source": [
    "#### Why Python"
   ]
  },
  {
   "cell_type": "markdown",
   "metadata": {
    "slideshow": {
     "slide_type": "fragment"
    }
   },
   "source": [
    "![](https://raw.githubusercontent.com/nealcaren/UiOBigData/master/notebooks/images/stanford.png)"
   ]
  },
  {
   "cell_type": "markdown",
   "metadata": {
    "slideshow": {
     "slide_type": "slide"
    }
   },
   "source": [
    "![](https://raw.githubusercontent.com/nealcaren/UiOBigData/master/notebooks/images/language_rank.png)"
   ]
  },
  {
   "cell_type": "markdown",
   "metadata": {
    "slideshow": {
     "slide_type": "slide"
    }
   },
   "source": [
    "## The PandaKit\n",
    "\n",
    "\n",
    "* [pandas](http://pandas.pydata.org) Data management and analysis.\n",
    "* [scikit-learn](http://scikit-learn.org/stable/) Machine learning\n",
    "* [jupyter notebook](http://jupyter.org) Development environment\n",
    "\n",
    "\n"
   ]
  },
  {
   "cell_type": "markdown",
   "metadata": {
    "slideshow": {
     "slide_type": "slide"
    }
   },
   "source": [
    "![](https://raw.githubusercontent.com/nealcaren/UiOBigData/master/notebooks/images/blackhole.jpg)"
   ]
  },
  {
   "cell_type": "markdown",
   "metadata": {
    "slideshow": {
     "slide_type": "slide"
    }
   },
   "source": [
    "![](https://raw.githubusercontent.com/nealcaren/UiOBigData/master/notebooks/images/bhtitle.png)\n"
   ]
  },
  {
   "cell_type": "markdown",
   "metadata": {
    "slideshow": {
     "slide_type": "slide"
    }
   },
   "source": [
    "![](images/bhsoftware.png)"
   ]
  },
  {
   "cell_type": "markdown",
   "metadata": {
    "slideshow": {
     "slide_type": "slide"
    }
   },
   "source": [
    "#### Other Python Packages\n",
    "\n",
    "Data acquisition\n",
    "\n",
    "* [requests](http://docs.python-requests.org/en/latest/) Web scraping & APIs \n",
    "* [mechanize](http://wwwsearch.sourceforge.net/mechanize/) For complex scraping\n",
    "* [selenium](http://selenium-python.readthedocs.io/) For super complex scrapes\n",
    "* [BeautifulSoup](https://www.crummy.com/software/BeautifulSoup/bs4/doc/) HTML cleaning\n",
    "* [database](https://dataset.readthedocs.org/en/latest/) Relational database/SQL\n"
   ]
  },
  {
   "cell_type": "markdown",
   "metadata": {
    "slideshow": {
     "slide_type": "slide"
    }
   },
   "source": [
    "Analysis\n",
    "\n",
    "* [NLTK](http://nltk.org) Natural Language Toolkit. There's a [book](http://nltk.org/book/)\n",
    "* [gensim](http://radimrehurek.com/gensim/) Topic modeling\n",
    "* [NetworkX](http://networkx.github.io) Network analysis\n",
    "* [matplotlib](http://matplotlib.org) Plotting\n",
    "* [seaborn](https://seaborn.pydata.org/) Prettier plotting\n",
    "* [NumPy](http://www.numpy.org) and [scipy](http://scipy.org) Computational backbone\n",
    "* [rpy](http://rpy.sourceforge.net) Python bindings for R\n"
   ]
  },
  {
   "cell_type": "markdown",
   "metadata": {
    "slideshow": {
     "slide_type": "slide"
    }
   },
   "source": [
    "#### Setup\n",
    "\n",
    "On your computer\n",
    "\n",
    "* [Anaconda](https://store.continuum.io/cshop/anaconda/)\n",
    "\n"
   ]
  },
  {
   "cell_type": "markdown",
   "metadata": {
    "slideshow": {
     "slide_type": "slide"
    }
   },
   "source": [
    "On Windows\n",
    "\n",
    "\n",
    "<img src=\"https://raw.githubusercontent.com/nealcaren/UiOBigData/master/notebooks/images/windows.png\" height=\"500\">\n"
   ]
  },
  {
   "cell_type": "markdown",
   "metadata": {
    "slideshow": {
     "slide_type": "slide"
    }
   },
   "source": [
    "#### Jupyter Notebooks are what all the cool kids use.\n",
    "\n",
    "![](https://raw.githubusercontent.com/nealcaren/UiOBigData/master/notebooks/images/jnotebook.png)"
   ]
  },
  {
   "cell_type": "markdown",
   "metadata": {
    "slideshow": {
     "slide_type": "slide"
    }
   },
   "source": [
    "#### This notebook\n",
    "\n",
    "![](images/thisnotebook.png)"
   ]
  },
  {
   "cell_type": "markdown",
   "metadata": {
    "slideshow": {
     "slide_type": "slide"
    }
   },
   "source": [
    "Cells can be Markdown (like this one) or code\n",
    "\n",
    "![](https://raw.githubusercontent.com/nealcaren/UiOBigData/master/notebooks/images/celltype.png)"
   ]
  },
  {
   "cell_type": "markdown",
   "metadata": {
    "slideshow": {
     "slide_type": "slide"
    }
   },
   "source": [
    "#### To start off with\n",
    "\n",
    "Make sure you hit `Shift-Enter` or `Ctrl-Enter` when you are done."
   ]
  },
  {
   "cell_type": "code",
   "execution_count": null,
   "metadata": {
    "slideshow": {
     "slide_type": "fragment"
    }
   },
   "outputs": [],
   "source": [
    "2 + 2"
   ]
  },
  {
   "cell_type": "code",
   "execution_count": null,
   "metadata": {},
   "outputs": [],
   "source": []
  },
  {
   "cell_type": "markdown",
   "metadata": {
    "slideshow": {
     "slide_type": "slide"
    }
   },
   "source": [
    "Download all the course materials from the Github page. These will updated each day...\n",
    "#### https://github.com/nealcaren/UiOBigData"
   ]
  },
  {
   "cell_type": "markdown",
   "metadata": {
    "slideshow": {
     "slide_type": "slide"
    }
   },
   "source": [
    "### Starting Navigator\n",
    "# Windows\n",
    "\n",
    "- From the Start menu, click the Anaconda Navigator desktop app.\n",
    "- Or from the Start menu, search for and open “Anaconda Prompt” and type the command anaconda-navigator."
   ]
  },
  {
   "cell_type": "markdown",
   "metadata": {
    "slideshow": {
     "slide_type": "slide"
    }
   },
   "source": [
    "<img src=\"https://raw.githubusercontent.com/nealcaren/UiOBigData/master/notebooks/images/win-navigator1.png\" height=\"500\">"
   ]
  },
  {
   "cell_type": "markdown",
   "metadata": {
    "slideshow": {
     "slide_type": "slide"
    }
   },
   "source": [
    "### If things go wrong on your computer.\n",
    "\n",
    "I will set you up an account on:\n",
    "http://jupyternotebook.org"
   ]
  }
 ],
 "metadata": {
  "celltoolbar": "Slideshow",
  "kernelspec": {
   "display_name": "Python 3",
   "language": "python",
   "name": "python3"
  },
  "language_info": {
   "codemirror_mode": {
    "name": "ipython",
    "version": 3
   },
   "file_extension": ".py",
   "mimetype": "text/x-python",
   "name": "python",
   "nbconvert_exporter": "python",
   "pygments_lexer": "ipython3",
   "version": "3.6.8"
  },
  "name": "_merged"
 },
 "nbformat": 4,
 "nbformat_minor": 2
}

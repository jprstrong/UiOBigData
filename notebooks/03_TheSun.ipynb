{
 "cells": [
  {
   "cell_type": "markdown",
   "metadata": {},
   "source": [
    "This notebook demonstrates how to search The [Sun newspaper](https://www.thesun.co.uk)."
   ]
  },
  {
   "cell_type": "markdown",
   "metadata": {},
   "source": [
    "Import the two required libraries"
   ]
  },
  {
   "cell_type": "code",
   "execution_count": 6,
   "metadata": {},
   "outputs": [],
   "source": [
    "import pandas as pd\n",
    "from requests_html import HTMLSession"
   ]
  },
  {
   "cell_type": "markdown",
   "metadata": {},
   "source": [
    "Start a `requests_html` session."
   ]
  },
  {
   "cell_type": "code",
   "execution_count": 7,
   "metadata": {},
   "outputs": [],
   "source": [
    "session = HTMLSession()"
   ]
  },
  {
   "cell_type": "markdown",
   "metadata": {},
   "source": [
    "The function that was written during class to scrape a search page."
   ]
  },
  {
   "cell_type": "code",
   "execution_count": 8,
   "metadata": {},
   "outputs": [],
   "source": [
    "def scrape_sun_search(url):\n",
    "    \n",
    "    '''Scrapes Sun search page and returns URLs and Title'''\n",
    "    r = session.get(url)\n",
    "    parsed_html = r.html\n",
    "    article_info = parsed_html.find('.text-anchor-wrap')\n",
    "    article_list = []\n",
    "    for article in article_info:\n",
    "        url = list(article.absolute_links)[0]\n",
    "        text = article.text\n",
    "\n",
    "        article_dict = {'url': url, \n",
    "                        'text': text}\n",
    "\n",
    "        article_list.append(article_dict)\n",
    "    article_df = pd.DataFrame(article_list)\n",
    "    return article_df"
   ]
  },
  {
   "cell_type": "markdown",
   "metadata": {},
   "source": [
    "The loop that was created in class."
   ]
  },
  {
   "cell_type": "code",
   "execution_count": 9,
   "metadata": {},
   "outputs": [],
   "source": [
    "sun_dfs = []\n",
    "url = 'https://www.thesun.co.uk/page/16/?s=brexit'\n",
    "\n",
    "for page in range(1, 50):\n",
    "    url = 'https://www.thesun.co.uk/page/16/?s=brexit'.replace('16', str(page))\n",
    "    df = scrape_sun_search(url)\n",
    "    sun_dfs.append(df)\n",
    "    "
   ]
  },
  {
   "cell_type": "markdown",
   "metadata": {},
   "source": [
    "Last step is merge all of the collected dataframes and store the results as a CSV file."
   ]
  },
  {
   "cell_type": "code",
   "execution_count": 10,
   "metadata": {},
   "outputs": [],
   "source": [
    "df = pd.concat(sun_dfs)"
   ]
  },
  {
   "cell_type": "code",
   "execution_count": 11,
   "metadata": {},
   "outputs": [
    {
     "name": "stdout",
     "output_type": "stream",
     "text": [
      "<class 'pandas.core.frame.DataFrame'>\n",
      "Int64Index: 490 entries, 0 to 9\n",
      "Data columns (total 2 columns):\n",
      "text    490 non-null object\n",
      "url     490 non-null object\n",
      "dtypes: object(2)\n",
      "memory usage: 11.5+ KB\n"
     ]
    }
   ],
   "source": [
    "df.info()"
   ]
  },
  {
   "cell_type": "code",
   "execution_count": 12,
   "metadata": {},
   "outputs": [],
   "source": [
    "df.to_csv('sun_brexit.csv')"
   ]
  },
  {
   "cell_type": "markdown",
   "metadata": {},
   "source": [
    "Below is a more flexible version. Note that this functions calls our earlier function!"
   ]
  },
  {
   "cell_type": "code",
   "execution_count": 24,
   "metadata": {},
   "outputs": [],
   "source": [
    "def search_sun(searchterm, pages):\n",
    "    '''Searches the The Sun. \n",
    "       Returns a df of titles and URLs'''\n",
    "    \n",
    "    results_dfs = []\n",
    "    \n",
    "    for page in range(1, pages+1):\n",
    "        url = 'https://www.thesun.co.uk/page/'\n",
    "        url = url + str(page) + '/?s=' + searchterm\n",
    "        df = scrape_sun_search(url)\n",
    "        results_dfs.append(df)\n",
    "    result_df = pd.concat(results_dfs)\n",
    "    return result_df\n"
   ]
  },
  {
   "cell_type": "code",
   "execution_count": 25,
   "metadata": {},
   "outputs": [],
   "source": [
    "snake_df = search_sun('snakes', 2)"
   ]
  },
  {
   "cell_type": "code",
   "execution_count": 26,
   "metadata": {},
   "outputs": [
    {
     "data": {
      "text/html": [
       "<div>\n",
       "<style scoped>\n",
       "    .dataframe tbody tr th:only-of-type {\n",
       "        vertical-align: middle;\n",
       "    }\n",
       "\n",
       "    .dataframe tbody tr th {\n",
       "        vertical-align: top;\n",
       "    }\n",
       "\n",
       "    .dataframe thead th {\n",
       "        text-align: right;\n",
       "    }\n",
       "</style>\n",
       "<table border=\"1\" class=\"dataframe\">\n",
       "  <thead>\n",
       "    <tr style=\"text-align: right;\">\n",
       "      <th></th>\n",
       "      <th>text</th>\n",
       "      <th>url</th>\n",
       "    </tr>\n",
       "  </thead>\n",
       "  <tbody>\n",
       "    <tr>\n",
       "      <th>0</th>\n",
       "      <td>BONKOSAURUS SEX\\nDinosaurs 'would be with us t...</td>\n",
       "      <td>https://www.thesun.co.uk/tech/8998777/dinosaur...</td>\n",
       "    </tr>\n",
       "    <tr>\n",
       "      <th>1</th>\n",
       "      <td>SWEET LITTLE LIES\\nThe 'natural' foods that ar...</td>\n",
       "      <td>https://www.thesun.co.uk/fabulous/food/9005828...</td>\n",
       "    </tr>\n",
       "    <tr>\n",
       "      <th>2</th>\n",
       "      <td>MR RIGHT?\\nJess Wright cosies up new mystery m...</td>\n",
       "      <td>https://www.thesun.co.uk/tvandshowbiz/9001998/...</td>\n",
       "    </tr>\n",
       "    <tr>\n",
       "      <th>3</th>\n",
       "      <td>SUFFOCATED ON STAGE\\nCircus performer 'strangl...</td>\n",
       "      <td>https://www.thesun.co.uk/news/8999226/distress...</td>\n",
       "    </tr>\n",
       "    <tr>\n",
       "      <th>4</th>\n",
       "      <td>LOOK ON THE TIGHT SIDE\\nWe test 'spray-on' PVC...</td>\n",
       "      <td>https://www.thesun.co.uk/fabulous/8992765/we-t...</td>\n",
       "    </tr>\n",
       "  </tbody>\n",
       "</table>\n",
       "</div>"
      ],
      "text/plain": [
       "                                                text  \\\n",
       "0  BONKOSAURUS SEX\\nDinosaurs 'would be with us t...   \n",
       "1  SWEET LITTLE LIES\\nThe 'natural' foods that ar...   \n",
       "2  MR RIGHT?\\nJess Wright cosies up new mystery m...   \n",
       "3  SUFFOCATED ON STAGE\\nCircus performer 'strangl...   \n",
       "4  LOOK ON THE TIGHT SIDE\\nWe test 'spray-on' PVC...   \n",
       "\n",
       "                                                 url  \n",
       "0  https://www.thesun.co.uk/tech/8998777/dinosaur...  \n",
       "1  https://www.thesun.co.uk/fabulous/food/9005828...  \n",
       "2  https://www.thesun.co.uk/tvandshowbiz/9001998/...  \n",
       "3  https://www.thesun.co.uk/news/8999226/distress...  \n",
       "4  https://www.thesun.co.uk/fabulous/8992765/we-t...  "
      ]
     },
     "execution_count": 26,
     "metadata": {},
     "output_type": "execute_result"
    }
   ],
   "source": [
    "snake_df.head()"
   ]
  },
  {
   "cell_type": "markdown",
   "metadata": {},
   "source": [
    "You might also want the text of newspaper articles. For this, I use the `Article3K` library."
   ]
  },
  {
   "cell_type": "code",
   "execution_count": 27,
   "metadata": {},
   "outputs": [],
   "source": [
    "from newspaper import Article\n",
    "\n",
    "def get_article_info(url):\n",
    "    article = Article(url)\n",
    "    article.download()\n",
    "    article.parse()\n",
    "    \n",
    "    article_details = {'title'       : article.title,\n",
    "                       'text'        : article.text,\n",
    "                       'url'         : article.url,\n",
    "                       'date'        : article.publish_date}\n",
    "\n",
    "    return article_details"
   ]
  },
  {
   "cell_type": "code",
   "execution_count": 17,
   "metadata": {},
   "outputs": [],
   "source": [
    "test_url = 'https://www.thesun.co.uk/news/8931618/theresa-may-leadership-challenge-sir-graham-brady/'"
   ]
  },
  {
   "cell_type": "code",
   "execution_count": 18,
   "metadata": {},
   "outputs": [
    {
     "data": {
      "text/plain": [
       "{'title': 'Theresa May is safe until December as party chiefs refuse to change rules so she can be kicked out earlier',\n",
       " 'text': 'THERESA May is safe from a Brexiteer challenge after Tory bosses refused to change party rules so she can be forced out.\\n\\nConservative grandees tonight voted against allowing a fresh bid to oust the PM to take place within weeks.\\n\\nPA:Press Association 2 Theresa May has avoided a bid to kick her out of No10\\n\\nBut Mrs May will have to lay out a \"clear timetable\" for leaving 10 Downing Street, backbench boss Sir Graham Brady warned.\\n\\nUnder Tory party rules, the leader can\\'t be subjected to a no-confidence vote until December after seeing off the last bid to unseat her four months ago.\\n\\nSenior MPs furious about her handling of Brexit were pushing for a rule change to allow another vote in June.\\n\\nBut the powerful 1922 Committee decided against any change - with a majority of members saying it would be unfair to impose new rules with no warning.\\n\\nChairman Sir Graham told Sky News: \"After looking at it at length, the executive\\'s very clear view was that this would not be an appropriate thing to do.\\n\\n\"We will communicate to the Prime Minister our request for a clear timetable to be set for her departure as leader of the Conservative party.\\n\\n\"We need to see what her response is and see how that is dealt with by the Prime Minister.\"\\n\\nMrs May has pledged to quit if her Brexit deal is approved by the House of Commons.\\n\\nMOST READ IN POLITICS Exclusive AID FOR ADDICTS Drug addicts to get thousands of pounds to help them hold down a job IT MAY GET GORY Splitting Tories to get Brexit deal with Labour is worth it, says minister Exclusive #TWOW Out-of-touch MPs\\' wives say they want own reality show as they swap tips on £3k coats BREX APPEAL Farage’s Brexit Party already two thirds size of the Tories with 85k members CASH BOOST 2m Brits could get huge minimum wage hike to £9.60 an hour under fresh plans TORY TURMOIL Record 82 per cent of Conservatives want Theresa May to quit, poll reveals\\n\\nSir Graham said this evening that she must also reveal when she plans to leave if her deal is defeated yet again.\\n\\nFrustrated Tories are increasingly going public with their demands to see her gone as soon as possible.\\n\\nAnd the PM also faces a grassroots revolt as key constituency chairmen call for their own no-confidence vote in Mrs May.\\n\\nGetty Images - Getty 2 Sir Graham Brady will ask the PM to explain when she plans to quit\\n\\nBrexiteer MP Bill Cash tells Theresa May to her face she should QUIT in House of Commons following EU summit\\n\\nWe pay for your stories! Do you have a story for The Sun Online politics team? Email us at tips@the-sun.co.uk or call 0207 782 4368. We pay for videos too. Click here to upload yours',\n",
       " 'url': 'https://www.thesun.co.uk/news/8931618/theresa-may-leadership-challenge-sir-graham-brady/',\n",
       " 'date': datetime.datetime(2019, 4, 24, 17, 4, 1, tzinfo=tzutc())}"
      ]
     },
     "execution_count": 18,
     "metadata": {},
     "output_type": "execute_result"
    }
   ],
   "source": [
    "get_article_info(test_url)"
   ]
  },
  {
   "cell_type": "markdown",
   "metadata": {},
   "source": [
    "I want to add a sleep to be polite."
   ]
  },
  {
   "cell_type": "code",
   "execution_count": 19,
   "metadata": {},
   "outputs": [],
   "source": [
    "from time import sleep"
   ]
  },
  {
   "cell_type": "markdown",
   "metadata": {},
   "source": [
    "I extract the urls I want from the dataframe"
   ]
  },
  {
   "cell_type": "code",
   "execution_count": 32,
   "metadata": {},
   "outputs": [
    {
     "data": {
      "text/plain": [
       "array(['https://www.thesun.co.uk/tech/8998777/dinosaurs-alive-today-sex-lakes/',\n",
       "       'https://www.thesun.co.uk/fabulous/food/9005828/natural-foods-unhealthy-sugar-misleading/',\n",
       "       'https://www.thesun.co.uk/tvandshowbiz/9001998/jess-wright-mystery-man-holiday/',\n",
       "       'https://www.thesun.co.uk/news/8999226/distressing-video-circus-trainer-strangled-by-large-snake-during-performance-russia/',\n",
       "       'https://www.thesun.co.uk/fabulous/8992765/we-test-spray-on-pvc-trousers-loved-by-celebs-for-how-much-squeak-and-sweat-they-cause/'],\n",
       "      dtype=object)"
      ]
     },
     "execution_count": 32,
     "metadata": {},
     "output_type": "execute_result"
    }
   ],
   "source": [
    "urls_to_get = snake_df['url'].values\n",
    "urls_to_get[:5]"
   ]
  },
  {
   "cell_type": "code",
   "execution_count": 33,
   "metadata": {},
   "outputs": [],
   "source": [
    "article_texts = []  #empty list to store list\n",
    "for url in urls_to_get:  # loop ever each url\n",
    "    df = get_article_info(url) # download the article info\n",
    "    article_texts.append(df) # add the article info to our list\n",
    "    sleep(1) # pause one second"
   ]
  },
  {
   "cell_type": "code",
   "execution_count": 34,
   "metadata": {},
   "outputs": [],
   "source": [
    "text_df = pd.DataFrame(article_texts) # stack all of our dataframes together"
   ]
  },
  {
   "cell_type": "code",
   "execution_count": 135,
   "metadata": {},
   "outputs": [
    {
     "data": {
      "text/plain": [
       "138"
      ]
     },
     "execution_count": 135,
     "metadata": {},
     "output_type": "execute_result"
    }
   ],
   "source": [
    "len(text_df)"
   ]
  },
  {
   "cell_type": "code",
   "execution_count": 35,
   "metadata": {},
   "outputs": [
    {
     "data": {
      "text/html": [
       "<div>\n",
       "<style scoped>\n",
       "    .dataframe tbody tr th:only-of-type {\n",
       "        vertical-align: middle;\n",
       "    }\n",
       "\n",
       "    .dataframe tbody tr th {\n",
       "        vertical-align: top;\n",
       "    }\n",
       "\n",
       "    .dataframe thead th {\n",
       "        text-align: right;\n",
       "    }\n",
       "</style>\n",
       "<table border=\"1\" class=\"dataframe\">\n",
       "  <thead>\n",
       "    <tr style=\"text-align: right;\">\n",
       "      <th></th>\n",
       "      <th>date</th>\n",
       "      <th>text</th>\n",
       "      <th>title</th>\n",
       "      <th>url</th>\n",
       "    </tr>\n",
       "  </thead>\n",
       "  <tbody>\n",
       "    <tr>\n",
       "      <th>0</th>\n",
       "      <td>2019-05-05 14:35:42+00:00</td>\n",
       "      <td>THE DINOSAURS would still walk among us today ...</td>\n",
       "      <td>Dinosaurs ‘would be with us today’ if their ‘s...</td>\n",
       "      <td>https://www.thesun.co.uk/tech/8998777/dinosaur...</td>\n",
       "    </tr>\n",
       "    <tr>\n",
       "      <th>1</th>\n",
       "      <td>2019-05-04 23:47:25+00:00</td>\n",
       "      <td>THE Sun on Sunday can reveal claims by some br...</td>\n",
       "      <td>The Sun exposes foods branded ‘natural’ that a...</td>\n",
       "      <td>https://www.thesun.co.uk/fabulous/food/9005828...</td>\n",
       "    </tr>\n",
       "    <tr>\n",
       "      <th>2</th>\n",
       "      <td>2019-05-04 08:29:06+00:00</td>\n",
       "      <td>JESS Wright has confirmed she's all loved up a...</td>\n",
       "      <td>Jess Wright cosies up new mystery man on a lux...</td>\n",
       "      <td>https://www.thesun.co.uk/tvandshowbiz/9001998/...</td>\n",
       "    </tr>\n",
       "    <tr>\n",
       "      <th>3</th>\n",
       "      <td>2019-05-03 17:23:27+00:00</td>\n",
       "      <td>DISTRESSING video shows a circus trainer slump...</td>\n",
       "      <td>Distressing video 'shows circus trainer strang...</td>\n",
       "      <td>https://www.thesun.co.uk/news/8999226/distress...</td>\n",
       "    </tr>\n",
       "    <tr>\n",
       "      <th>4</th>\n",
       "      <td>2019-05-02 22:44:11+00:00</td>\n",
       "      <td>SPRAY-ON trousers are one of spring’s hottest ...</td>\n",
       "      <td>We test ‘spray-on’ PVC trousers loved by celeb...</td>\n",
       "      <td>https://www.thesun.co.uk/fabulous/8992765/we-t...</td>\n",
       "    </tr>\n",
       "  </tbody>\n",
       "</table>\n",
       "</div>"
      ],
      "text/plain": [
       "                       date  \\\n",
       "0 2019-05-05 14:35:42+00:00   \n",
       "1 2019-05-04 23:47:25+00:00   \n",
       "2 2019-05-04 08:29:06+00:00   \n",
       "3 2019-05-03 17:23:27+00:00   \n",
       "4 2019-05-02 22:44:11+00:00   \n",
       "\n",
       "                                                text  \\\n",
       "0  THE DINOSAURS would still walk among us today ...   \n",
       "1  THE Sun on Sunday can reveal claims by some br...   \n",
       "2  JESS Wright has confirmed she's all loved up a...   \n",
       "3  DISTRESSING video shows a circus trainer slump...   \n",
       "4  SPRAY-ON trousers are one of spring’s hottest ...   \n",
       "\n",
       "                                               title  \\\n",
       "0  Dinosaurs ‘would be with us today’ if their ‘s...   \n",
       "1  The Sun exposes foods branded ‘natural’ that a...   \n",
       "2  Jess Wright cosies up new mystery man on a lux...   \n",
       "3  Distressing video 'shows circus trainer strang...   \n",
       "4  We test ‘spray-on’ PVC trousers loved by celeb...   \n",
       "\n",
       "                                                 url  \n",
       "0  https://www.thesun.co.uk/tech/8998777/dinosaur...  \n",
       "1  https://www.thesun.co.uk/fabulous/food/9005828...  \n",
       "2  https://www.thesun.co.uk/tvandshowbiz/9001998/...  \n",
       "3  https://www.thesun.co.uk/news/8999226/distress...  \n",
       "4  https://www.thesun.co.uk/fabulous/8992765/we-t...  "
      ]
     },
     "execution_count": 35,
     "metadata": {},
     "output_type": "execute_result"
    }
   ],
   "source": [
    "text_df.head()"
   ]
  },
  {
   "cell_type": "code",
   "execution_count": 124,
   "metadata": {},
   "outputs": [],
   "source": [
    "text_df.to_json('text_df.json', orient='records')"
   ]
  }
 ],
 "metadata": {
  "kernelspec": {
   "display_name": "Python 3",
   "language": "python",
   "name": "python3"
  },
  "language_info": {
   "codemirror_mode": {
    "name": "ipython",
    "version": 3
   },
   "file_extension": ".py",
   "mimetype": "text/x-python",
   "name": "python",
   "nbconvert_exporter": "python",
   "pygments_lexer": "ipython3",
   "version": "3.6.8"
  }
 },
 "nbformat": 4,
 "nbformat_minor": 2
}

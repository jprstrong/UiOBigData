{
 "cells": [
  {
   "cell_type": "markdown",
   "metadata": {
    "slideshow": {
     "slide_type": "slide"
    }
   },
   "source": [
    "## Panda trolls\n",
    "\n",
    "In this assignment, you will analyze a sample of 50,000 Russian troll tweets. You can answer each question in the cell space provided in this notebook or start a new notebook.\n",
    "\n",
    "As part of analysis of Russian influence in the 2016 U.S. presidential election, FiveThirtyEight released almost [three million russian troll tweets](https://fivethirtyeight.com/features/why-were-sharing-3-million-russian-troll-tweets/). FiveThirtyEight obtained the data from Clemson University researchers [Darren Linvill](https://www.clemson.edu/cbshs/faculty-staff/profiles/darrenl) and [Patrick Warren](http://pwarren.people.clemson.edu/). Tweets were collected from accounts identified in the  [November 2017](https://democrats-intelligence.house.gov/uploadedfiles/exhibit_b.pdf) and [June 2018](https://democrats-intelligence.house.gov/uploadedfiles/ira_handles_june_2018.pdf) lists of Internet Research Agency-connected handles [provided to Congress](https://democrats-intelligence.house.gov/news/documentsingle.aspx?DocumentID=396) by Twitter. You can access the FiveThirtyEight repository for a comlete description of the data.\n"
   ]
  },
  {
   "cell_type": "markdown",
   "metadata": {
    "slideshow": {
     "slide_type": "slide"
    }
   },
   "source": [
    "Variables in the file include:\n",
    "\n",
    "Name | Definition\n",
    "---|---------\n",
    "`external_author_id` | An author account ID from Twitter \n",
    "`author` | The handle sending the tweet\n",
    "`content` | The text of the tweet\n",
    "`region` | A region classification, as [determined by Social Studio](https://help.salesforce.com/articleView?id=000199367&type=1)\n",
    "`language` | The language of the tweet\n",
    "`publish_date` | The date and time the tweet was sent\n",
    "`harvested_date` | The date and time the tweet was collected by Social Studio\n",
    "`following` | The number of accounts the handle was following at the time of the tweet\n",
    "`followers` | The number of followers the handle had at the time of the tweet\n",
    "`updates` | The number of “update actions” on the account that authored the tweet, including tweets, retweets and likes\n",
    "`post_type` | Indicates if the tweet was a retweet or a quote-tweet\n",
    "`account_type` | Specific account theme, as coded by Linvill and Warren\n",
    "`retweet` | A binary indicator of whether or not the tweet is a retweet\n",
    "`account_category` | General account theme, as coded by Linvill and Warren\n",
    "`new_june_2018` | A binary indicator of whether the handle was newly listed in June 2018\n",
    "`alt_external_id` | Reconstruction of author account ID from Twitter, derived from `article_url` variable and the first list provided to Congress\n",
    "`tweet_id` | Unique id assigned by twitter to each status update, derived from `article_url`\n",
    "`article_url` | Link to original tweet. Now redirects to \"Account Suspended\" page\n",
    "`tco1_step1` | First redirect for the first http(s)://t.co/ link in a tweet, if it exists\n",
    "`tco2_step1` | First redirect for the second http(s)://t.co/ link in a tweet, if it exists\n",
    "`tco3_step1` | First redirect for the third http(s)://t.co/ link in a tweet, if it exists\n"
   ]
  },
  {
   "cell_type": "markdown",
   "metadata": {
    "slideshow": {
     "slide_type": "slide"
    }
   },
   "source": [
    "### Part I\n",
    "**Load the dataset as a pandas dataframe.** \n",
    "The dataset is available in the [`data`](https://github.com/nealcaren/KULeuvenBigData/tree/master/notebooks/data) folder on the course [Github site](https://github.com/nealcaren/KULeuvenBigData/). You can also access it directly from this URL:\n",
    "https://raw.githubusercontent.com/nealcaren/KULeuvenBigData/master/notebooks/data/ira_sample_50k.csv\n",
    "\n",
    "Hint:\n",
    "* Remember to `import` pandas. \n",
    "* Pandas can load a file from a local directory or from a URL."
   ]
  },
  {
   "cell_type": "code",
   "execution_count": 1,
   "metadata": {
    "slideshow": {
     "slide_type": "slide"
    }
   },
   "outputs": [],
   "source": [
    "import pandas as pd"
   ]
  },
  {
   "cell_type": "code",
   "execution_count": 2,
   "metadata": {
    "slideshow": {
     "slide_type": "fragment"
    }
   },
   "outputs": [],
   "source": [
    "troll_df = pd.read_csv('data/ira_sample_50k.csv')"
   ]
  },
  {
   "cell_type": "code",
   "execution_count": 3,
   "metadata": {
    "slideshow": {
     "slide_type": "slide"
    }
   },
   "outputs": [],
   "source": [
    "import pandas as pd\n",
    "\n",
    "url = 'https://raw.githubusercontent.com/nealcaren/KULeuvenBigData/master/notebooks/data/ira_sample_50k.csv'\n",
    "\n",
    "troll_df = pd.read_csv(url)"
   ]
  },
  {
   "cell_type": "markdown",
   "metadata": {
    "slideshow": {
     "slide_type": "slide"
    }
   },
   "source": [
    "### Part II\n",
    "\n",
    "After inspecting the dataframe, answer the following questions.\n",
    "\n"
   ]
  },
  {
   "cell_type": "code",
   "execution_count": 4,
   "metadata": {
    "slideshow": {
     "slide_type": "slide"
    }
   },
   "outputs": [
    {
     "data": {
      "text/html": [
       "<div>\n",
       "<style scoped>\n",
       "    .dataframe tbody tr th:only-of-type {\n",
       "        vertical-align: middle;\n",
       "    }\n",
       "\n",
       "    .dataframe tbody tr th {\n",
       "        vertical-align: top;\n",
       "    }\n",
       "\n",
       "    .dataframe thead th {\n",
       "        text-align: right;\n",
       "    }\n",
       "</style>\n",
       "<table border=\"1\" class=\"dataframe\">\n",
       "  <thead>\n",
       "    <tr style=\"text-align: right;\">\n",
       "      <th></th>\n",
       "      <th>external_author_id</th>\n",
       "      <th>author</th>\n",
       "      <th>content</th>\n",
       "      <th>region</th>\n",
       "      <th>language</th>\n",
       "      <th>publish_date</th>\n",
       "      <th>harvested_date</th>\n",
       "      <th>following</th>\n",
       "      <th>followers</th>\n",
       "      <th>updates</th>\n",
       "      <th>...</th>\n",
       "      <th>account_type</th>\n",
       "      <th>retweet</th>\n",
       "      <th>account_category</th>\n",
       "      <th>new_june_2018</th>\n",
       "      <th>alt_external_id</th>\n",
       "      <th>tweet_id</th>\n",
       "      <th>article_url</th>\n",
       "      <th>tco1_step1</th>\n",
       "      <th>tco2_step1</th>\n",
       "      <th>tco3_step1</th>\n",
       "    </tr>\n",
       "  </thead>\n",
       "  <tbody>\n",
       "    <tr>\n",
       "      <th>0</th>\n",
       "      <td>1653442950</td>\n",
       "      <td>EMMETTMTH</td>\n",
       "      <td>Former Rep. Walsh Tweets Father's Day Message ...</td>\n",
       "      <td>United States</td>\n",
       "      <td>English</td>\n",
       "      <td>6/22/2015 0:12</td>\n",
       "      <td>6/22/2015 0:12</td>\n",
       "      <td>42</td>\n",
       "      <td>70</td>\n",
       "      <td>617</td>\n",
       "      <td>...</td>\n",
       "      <td>Right</td>\n",
       "      <td>1</td>\n",
       "      <td>RightTroll</td>\n",
       "      <td>0</td>\n",
       "      <td>1653442950</td>\n",
       "      <td>612775177047244801</td>\n",
       "      <td>http://twitter.com/EmmettMth/statuses/61277517...</td>\n",
       "      <td>NaN</td>\n",
       "      <td>NaN</td>\n",
       "      <td>NaN</td>\n",
       "    </tr>\n",
       "    <tr>\n",
       "      <th>1</th>\n",
       "      <td>854000000000000000</td>\n",
       "      <td>HANNOVER_BOTE</td>\n",
       "      <td>Integration: Uetze lernt von Schweden https://...</td>\n",
       "      <td>United States</td>\n",
       "      <td>German</td>\n",
       "      <td>10/10/2017 12:59</td>\n",
       "      <td>10/10/2017 12:59</td>\n",
       "      <td>312</td>\n",
       "      <td>179</td>\n",
       "      <td>1895</td>\n",
       "      <td>...</td>\n",
       "      <td>German</td>\n",
       "      <td>0</td>\n",
       "      <td>NonEnglish</td>\n",
       "      <td>0</td>\n",
       "      <td>853871825251688448</td>\n",
       "      <td>917736346759856133</td>\n",
       "      <td>http://twitter.com/853871825251688448/statuses...</td>\n",
       "      <td>https://twitter.com/Hannover_Bote/status/91773...</td>\n",
       "      <td>http://www.haz.de/Hannover/Aus-der-Region/Uetz...</td>\n",
       "      <td>NaN</td>\n",
       "    </tr>\n",
       "    <tr>\n",
       "      <th>2</th>\n",
       "      <td>2426235844</td>\n",
       "      <td>DEMIDOVDMITRII</td>\n",
       "      <td>В Москве автомобиль сбил беременную женщину и ...</td>\n",
       "      <td>United States</td>\n",
       "      <td>Russian</td>\n",
       "      <td>9/20/2015 19:31</td>\n",
       "      <td>9/20/2015 19:31</td>\n",
       "      <td>1550</td>\n",
       "      <td>459</td>\n",
       "      <td>3523</td>\n",
       "      <td>...</td>\n",
       "      <td>Russian</td>\n",
       "      <td>1</td>\n",
       "      <td>NonEnglish</td>\n",
       "      <td>1</td>\n",
       "      <td>2426235844</td>\n",
       "      <td>645681644653944833</td>\n",
       "      <td>http://twitter.com/demidovdmitrii/statuses/645...</td>\n",
       "      <td>http://www.gazeta.ru/auto/news/2015/09/20/n_76...</td>\n",
       "      <td>NaN</td>\n",
       "      <td>NaN</td>\n",
       "    </tr>\n",
       "    <tr>\n",
       "      <th>3</th>\n",
       "      <td>3899481526</td>\n",
       "      <td>TODAYINSYRIA</td>\n",
       "      <td>Egypt Deports French Journalist Amid Crackdown...</td>\n",
       "      <td>United Kingdom</td>\n",
       "      <td>English</td>\n",
       "      <td>5/25/2016 16:28</td>\n",
       "      <td>5/25/2016 16:28</td>\n",
       "      <td>6929</td>\n",
       "      <td>18863</td>\n",
       "      <td>5174</td>\n",
       "      <td>...</td>\n",
       "      <td>news</td>\n",
       "      <td>0</td>\n",
       "      <td>NewsFeed</td>\n",
       "      <td>0</td>\n",
       "      <td>3899481526</td>\n",
       "      <td>735507769902563328</td>\n",
       "      <td>http://twitter.com/todayinsyria/statuses/73550...</td>\n",
       "      <td>http://bit.ly/1WTlPkx</td>\n",
       "      <td>NaN</td>\n",
       "      <td>NaN</td>\n",
       "    </tr>\n",
       "    <tr>\n",
       "      <th>4</th>\n",
       "      <td>3074563039</td>\n",
       "      <td>STLOUISONLINE</td>\n",
       "      <td>Municipal court changes poised to move forward...</td>\n",
       "      <td>United States</td>\n",
       "      <td>English</td>\n",
       "      <td>4/11/2016 20:03</td>\n",
       "      <td>4/11/2016 20:03</td>\n",
       "      <td>4729</td>\n",
       "      <td>8136</td>\n",
       "      <td>13168</td>\n",
       "      <td>...</td>\n",
       "      <td>local</td>\n",
       "      <td>0</td>\n",
       "      <td>NewsFeed</td>\n",
       "      <td>0</td>\n",
       "      <td>3074563039</td>\n",
       "      <td>719616888796422148</td>\n",
       "      <td>http://twitter.com/StLouisOnline/statuses/7196...</td>\n",
       "      <td>NaN</td>\n",
       "      <td>NaN</td>\n",
       "      <td>NaN</td>\n",
       "    </tr>\n",
       "  </tbody>\n",
       "</table>\n",
       "<p>5 rows × 21 columns</p>\n",
       "</div>"
      ],
      "text/plain": [
       "   external_author_id          author  \\\n",
       "0          1653442950       EMMETTMTH   \n",
       "1  854000000000000000   HANNOVER_BOTE   \n",
       "2          2426235844  DEMIDOVDMITRII   \n",
       "3          3899481526    TODAYINSYRIA   \n",
       "4          3074563039   STLOUISONLINE   \n",
       "\n",
       "                                             content          region language  \\\n",
       "0  Former Rep. Walsh Tweets Father's Day Message ...   United States  English   \n",
       "1  Integration: Uetze lernt von Schweden https://...   United States   German   \n",
       "2  В Москве автомобиль сбил беременную женщину и ...   United States  Russian   \n",
       "3  Egypt Deports French Journalist Amid Crackdown...  United Kingdom  English   \n",
       "4  Municipal court changes poised to move forward...   United States  English   \n",
       "\n",
       "       publish_date    harvested_date  following  followers  updates  ...  \\\n",
       "0    6/22/2015 0:12    6/22/2015 0:12         42         70      617  ...   \n",
       "1  10/10/2017 12:59  10/10/2017 12:59        312        179     1895  ...   \n",
       "2   9/20/2015 19:31   9/20/2015 19:31       1550        459     3523  ...   \n",
       "3   5/25/2016 16:28   5/25/2016 16:28       6929      18863     5174  ...   \n",
       "4   4/11/2016 20:03   4/11/2016 20:03       4729       8136    13168  ...   \n",
       "\n",
       "  account_type retweet  account_category new_june_2018     alt_external_id  \\\n",
       "0        Right       1        RightTroll             0          1653442950   \n",
       "1       German       0        NonEnglish             0  853871825251688448   \n",
       "2      Russian       1        NonEnglish             1          2426235844   \n",
       "3         news       0          NewsFeed             0          3899481526   \n",
       "4        local       0          NewsFeed             0          3074563039   \n",
       "\n",
       "             tweet_id                                        article_url  \\\n",
       "0  612775177047244801  http://twitter.com/EmmettMth/statuses/61277517...   \n",
       "1  917736346759856133  http://twitter.com/853871825251688448/statuses...   \n",
       "2  645681644653944833  http://twitter.com/demidovdmitrii/statuses/645...   \n",
       "3  735507769902563328  http://twitter.com/todayinsyria/statuses/73550...   \n",
       "4  719616888796422148  http://twitter.com/StLouisOnline/statuses/7196...   \n",
       "\n",
       "                                          tco1_step1  \\\n",
       "0                                                NaN   \n",
       "1  https://twitter.com/Hannover_Bote/status/91773...   \n",
       "2  http://www.gazeta.ru/auto/news/2015/09/20/n_76...   \n",
       "3                              http://bit.ly/1WTlPkx   \n",
       "4                                                NaN   \n",
       "\n",
       "                                          tco2_step1 tco3_step1  \n",
       "0                                                NaN        NaN  \n",
       "1  http://www.haz.de/Hannover/Aus-der-Region/Uetz...        NaN  \n",
       "2                                                NaN        NaN  \n",
       "3                                                NaN        NaN  \n",
       "4                                                NaN        NaN  \n",
       "\n",
       "[5 rows x 21 columns]"
      ]
     },
     "execution_count": 4,
     "metadata": {},
     "output_type": "execute_result"
    }
   ],
   "source": [
    "troll_df.head()"
   ]
  },
  {
   "cell_type": "code",
   "execution_count": 5,
   "metadata": {
    "slideshow": {
     "slide_type": "slide"
    }
   },
   "outputs": [
    {
     "name": "stdout",
     "output_type": "stream",
     "text": [
      "<class 'pandas.core.frame.DataFrame'>\n",
      "RangeIndex: 50000 entries, 0 to 49999\n",
      "Data columns (total 21 columns):\n",
      "external_author_id    50000 non-null int64\n",
      "author                50000 non-null object\n",
      "content               50000 non-null object\n",
      "region                49843 non-null object\n",
      "language              50000 non-null object\n",
      "publish_date          50000 non-null object\n",
      "harvested_date        50000 non-null object\n",
      "following             50000 non-null int64\n",
      "followers             50000 non-null int64\n",
      "updates               50000 non-null int64\n",
      "post_type             21917 non-null object\n",
      "account_type          50000 non-null object\n",
      "retweet               50000 non-null int64\n",
      "account_category      50000 non-null object\n",
      "new_june_2018         50000 non-null int64\n",
      "alt_external_id       50000 non-null int64\n",
      "tweet_id              50000 non-null int64\n",
      "article_url           50000 non-null object\n",
      "tco1_step1            35825 non-null object\n",
      "tco2_step1            12156 non-null object\n",
      "tco3_step1            260 non-null object\n",
      "dtypes: int64(8), object(13)\n",
      "memory usage: 8.0+ MB\n"
     ]
    }
   ],
   "source": [
    "troll_df.info()"
   ]
  },
  {
   "cell_type": "code",
   "execution_count": 6,
   "metadata": {
    "slideshow": {
     "slide_type": "slide"
    }
   },
   "outputs": [
    {
     "data": {
      "text/html": [
       "<div>\n",
       "<style scoped>\n",
       "    .dataframe tbody tr th:only-of-type {\n",
       "        vertical-align: middle;\n",
       "    }\n",
       "\n",
       "    .dataframe tbody tr th {\n",
       "        vertical-align: top;\n",
       "    }\n",
       "\n",
       "    .dataframe thead th {\n",
       "        text-align: right;\n",
       "    }\n",
       "</style>\n",
       "<table border=\"1\" class=\"dataframe\">\n",
       "  <thead>\n",
       "    <tr style=\"text-align: right;\">\n",
       "      <th></th>\n",
       "      <th>external_author_id</th>\n",
       "      <th>following</th>\n",
       "      <th>followers</th>\n",
       "      <th>updates</th>\n",
       "      <th>retweet</th>\n",
       "      <th>new_june_2018</th>\n",
       "      <th>alt_external_id</th>\n",
       "      <th>tweet_id</th>\n",
       "    </tr>\n",
       "  </thead>\n",
       "  <tbody>\n",
       "    <tr>\n",
       "      <th>count</th>\n",
       "      <td>5.000000e+04</td>\n",
       "      <td>50000.000000</td>\n",
       "      <td>50000.000000</td>\n",
       "      <td>50000.000000</td>\n",
       "      <td>50000.000000</td>\n",
       "      <td>50000.00000</td>\n",
       "      <td>5.000000e+04</td>\n",
       "      <td>5.000000e+04</td>\n",
       "    </tr>\n",
       "    <tr>\n",
       "      <th>mean</th>\n",
       "      <td>1.273233e+17</td>\n",
       "      <td>3446.866700</td>\n",
       "      <td>7025.970420</td>\n",
       "      <td>10586.753980</td>\n",
       "      <td>0.438340</td>\n",
       "      <td>0.21284</td>\n",
       "      <td>1.273355e+17</td>\n",
       "      <td>7.597890e+17</td>\n",
       "    </tr>\n",
       "    <tr>\n",
       "      <th>std</th>\n",
       "      <td>3.012598e+17</td>\n",
       "      <td>5616.629783</td>\n",
       "      <td>14363.372185</td>\n",
       "      <td>17966.244128</td>\n",
       "      <td>0.496188</td>\n",
       "      <td>0.40932</td>\n",
       "      <td>3.012889e+17</td>\n",
       "      <td>9.647651e+16</td>\n",
       "    </tr>\n",
       "    <tr>\n",
       "      <th>min</th>\n",
       "      <td>8.758894e+07</td>\n",
       "      <td>0.000000</td>\n",
       "      <td>0.000000</td>\n",
       "      <td>1.000000</td>\n",
       "      <td>0.000000</td>\n",
       "      <td>0.00000</td>\n",
       "      <td>8.758894e+07</td>\n",
       "      <td>1.672898e+17</td>\n",
       "    </tr>\n",
       "    <tr>\n",
       "      <th>25%</th>\n",
       "      <td>1.905260e+09</td>\n",
       "      <td>322.000000</td>\n",
       "      <td>315.000000</td>\n",
       "      <td>1806.000000</td>\n",
       "      <td>0.000000</td>\n",
       "      <td>0.00000</td>\n",
       "      <td>1.905260e+09</td>\n",
       "      <td>6.730155e+17</td>\n",
       "    </tr>\n",
       "    <tr>\n",
       "      <th>50%</th>\n",
       "      <td>2.586507e+09</td>\n",
       "      <td>1481.000000</td>\n",
       "      <td>1255.500000</td>\n",
       "      <td>4384.000000</td>\n",
       "      <td>0.000000</td>\n",
       "      <td>0.00000</td>\n",
       "      <td>2.586507e+09</td>\n",
       "      <td>7.753215e+17</td>\n",
       "    </tr>\n",
       "    <tr>\n",
       "      <th>75%</th>\n",
       "      <td>3.254274e+09</td>\n",
       "      <td>4751.000000</td>\n",
       "      <td>10928.000000</td>\n",
       "      <td>12470.000000</td>\n",
       "      <td>1.000000</td>\n",
       "      <td>0.00000</td>\n",
       "      <td>3.254274e+09</td>\n",
       "      <td>8.384575e+17</td>\n",
       "    </tr>\n",
       "    <tr>\n",
       "      <th>max</th>\n",
       "      <td>9.812510e+17</td>\n",
       "      <td>76130.000000</td>\n",
       "      <td>245274.000000</td>\n",
       "      <td>166016.000000</td>\n",
       "      <td>1.000000</td>\n",
       "      <td>1.00000</td>\n",
       "      <td>9.812509e+17</td>\n",
       "      <td>1.001648e+18</td>\n",
       "    </tr>\n",
       "  </tbody>\n",
       "</table>\n",
       "</div>"
      ],
      "text/plain": [
       "       external_author_id     following      followers        updates  \\\n",
       "count        5.000000e+04  50000.000000   50000.000000   50000.000000   \n",
       "mean         1.273233e+17   3446.866700    7025.970420   10586.753980   \n",
       "std          3.012598e+17   5616.629783   14363.372185   17966.244128   \n",
       "min          8.758894e+07      0.000000       0.000000       1.000000   \n",
       "25%          1.905260e+09    322.000000     315.000000    1806.000000   \n",
       "50%          2.586507e+09   1481.000000    1255.500000    4384.000000   \n",
       "75%          3.254274e+09   4751.000000   10928.000000   12470.000000   \n",
       "max          9.812510e+17  76130.000000  245274.000000  166016.000000   \n",
       "\n",
       "            retweet  new_june_2018  alt_external_id      tweet_id  \n",
       "count  50000.000000    50000.00000     5.000000e+04  5.000000e+04  \n",
       "mean       0.438340        0.21284     1.273355e+17  7.597890e+17  \n",
       "std        0.496188        0.40932     3.012889e+17  9.647651e+16  \n",
       "min        0.000000        0.00000     8.758894e+07  1.672898e+17  \n",
       "25%        0.000000        0.00000     1.905260e+09  6.730155e+17  \n",
       "50%        0.000000        0.00000     2.586507e+09  7.753215e+17  \n",
       "75%        1.000000        0.00000     3.254274e+09  8.384575e+17  \n",
       "max        1.000000        1.00000     9.812509e+17  1.001648e+18  "
      ]
     },
     "execution_count": 6,
     "metadata": {},
     "output_type": "execute_result"
    }
   ],
   "source": [
    "troll_df.describe()"
   ]
  },
  {
   "cell_type": "markdown",
   "metadata": {
    "slideshow": {
     "slide_type": "slide"
    }
   },
   "source": [
    "* **How many columns in the dataset?**\n",
    "\n",
    "Hint: \n",
    "* `len` can be used to compute the length of a list."
   ]
  },
  {
   "cell_type": "code",
   "execution_count": 7,
   "metadata": {
    "slideshow": {
     "slide_type": "slide"
    }
   },
   "outputs": [
    {
     "name": "stdout",
     "output_type": "stream",
     "text": [
      "<class 'pandas.core.frame.DataFrame'>\n",
      "RangeIndex: 50000 entries, 0 to 49999\n",
      "Data columns (total 21 columns):\n",
      "external_author_id    50000 non-null int64\n",
      "author                50000 non-null object\n",
      "content               50000 non-null object\n",
      "region                49843 non-null object\n",
      "language              50000 non-null object\n",
      "publish_date          50000 non-null object\n",
      "harvested_date        50000 non-null object\n",
      "following             50000 non-null int64\n",
      "followers             50000 non-null int64\n",
      "updates               50000 non-null int64\n",
      "post_type             21917 non-null object\n",
      "account_type          50000 non-null object\n",
      "retweet               50000 non-null int64\n",
      "account_category      50000 non-null object\n",
      "new_june_2018         50000 non-null int64\n",
      "alt_external_id       50000 non-null int64\n",
      "tweet_id              50000 non-null int64\n",
      "article_url           50000 non-null object\n",
      "tco1_step1            35825 non-null object\n",
      "tco2_step1            12156 non-null object\n",
      "tco3_step1            260 non-null object\n",
      "dtypes: int64(8), object(13)\n",
      "memory usage: 8.0+ MB\n"
     ]
    }
   ],
   "source": [
    "troll_df.info()"
   ]
  },
  {
   "cell_type": "code",
   "execution_count": 8,
   "metadata": {
    "slideshow": {
     "slide_type": "slide"
    }
   },
   "outputs": [
    {
     "data": {
      "text/plain": [
       "21"
      ]
     },
     "execution_count": 8,
     "metadata": {},
     "output_type": "execute_result"
    }
   ],
   "source": [
    "len(troll_df.keys())"
   ]
  },
  {
   "cell_type": "markdown",
   "metadata": {
    "slideshow": {
     "slide_type": "slide"
    }
   },
   "source": [
    "* **What percent of the tweets had links?**\n"
   ]
  },
  {
   "cell_type": "code",
   "execution_count": 36,
   "metadata": {
    "slideshow": {
     "slide_type": "slide"
    }
   },
   "outputs": [
    {
     "name": "stdout",
     "output_type": "stream",
     "text": [
      "<class 'pandas.core.frame.DataFrame'>\n",
      "RangeIndex: 50000 entries, 0 to 49999\n",
      "Data columns (total 24 columns):\n",
      "external_author_id    50000 non-null int64\n",
      "author                50000 non-null object\n",
      "content               50000 non-null object\n",
      "region                49843 non-null object\n",
      "language              50000 non-null object\n",
      "publish_date          50000 non-null object\n",
      "harvested_date        50000 non-null object\n",
      "following             50000 non-null int64\n",
      "followers             50000 non-null int64\n",
      "updates               50000 non-null int64\n",
      "post_type             21917 non-null object\n",
      "account_type          50000 non-null object\n",
      "retweet               50000 non-null int64\n",
      "account_category      50000 non-null object\n",
      "new_june_2018         50000 non-null int64\n",
      "alt_external_id       50000 non-null int64\n",
      "tweet_id              50000 non-null int64\n",
      "article_url           50000 non-null object\n",
      "tco1_step1            35825 non-null object\n",
      "tco2_step1            12156 non-null object\n",
      "tco3_step1            260 non-null object\n",
      "date                  50000 non-null datetime64[ns]\n",
      "tweet_length          50000 non-null int64\n",
      "first_word            50000 non-null object\n",
      "dtypes: datetime64[ns](1), int64(9), object(14)\n",
      "memory usage: 9.2+ MB\n"
     ]
    }
   ],
   "source": [
    "troll_df.info()"
   ]
  },
  {
   "cell_type": "code",
   "execution_count": 10,
   "metadata": {
    "slideshow": {
     "slide_type": "slide"
    }
   },
   "outputs": [
    {
     "data": {
      "text/plain": [
       "count                35825\n",
       "unique               34825\n",
       "top       http://1063.mobi\n",
       "freq                    66\n",
       "Name: tco1_step1, dtype: object"
      ]
     },
     "execution_count": 10,
     "metadata": {},
     "output_type": "execute_result"
    }
   ],
   "source": [
    "troll_df['tco1_step1'].describe()"
   ]
  },
  {
   "cell_type": "code",
   "execution_count": 11,
   "metadata": {
    "slideshow": {
     "slide_type": "slide"
    }
   },
   "outputs": [
    {
     "data": {
      "text/plain": [
       "50000"
      ]
     },
     "execution_count": 11,
     "metadata": {},
     "output_type": "execute_result"
    }
   ],
   "source": [
    "len(troll_df)"
   ]
  },
  {
   "cell_type": "code",
   "execution_count": 12,
   "metadata": {
    "slideshow": {
     "slide_type": "fragment"
    }
   },
   "outputs": [
    {
     "data": {
      "text/plain": [
       "0.7165"
      ]
     },
     "execution_count": 12,
     "metadata": {},
     "output_type": "execute_result"
    }
   ],
   "source": [
    "35825/50000"
   ]
  },
  {
   "cell_type": "code",
   "execution_count": 13,
   "metadata": {
    "slideshow": {
     "slide_type": "slide"
    }
   },
   "outputs": [
    {
     "data": {
      "text/plain": [
       "0.7165"
      ]
     },
     "execution_count": 13,
     "metadata": {},
     "output_type": "execute_result"
    }
   ],
   "source": [
    "troll_df['tco1_step1'].describe()['count'] / len(troll_df)"
   ]
  },
  {
   "cell_type": "markdown",
   "metadata": {
    "slideshow": {
     "slide_type": "slide"
    }
   },
   "source": [
    "* **How many of the tweets are tagged `RightTroll`?**\n"
   ]
  },
  {
   "cell_type": "code",
   "execution_count": 14,
   "metadata": {
    "slideshow": {
     "slide_type": "fragment"
    }
   },
   "outputs": [
    {
     "data": {
      "text/plain": [
       "NonEnglish      13925\n",
       "RightTroll      11945\n",
       "NewsFeed        10279\n",
       "LeftTroll        7277\n",
       "HashtagGamer     4036\n",
       "Commercial       2118\n",
       "Unknown           230\n",
       "Fearmonger        190\n",
       "Name: account_category, dtype: int64"
      ]
     },
     "execution_count": 14,
     "metadata": {},
     "output_type": "execute_result"
    }
   ],
   "source": [
    "troll_df['account_category'].value_counts()"
   ]
  },
  {
   "cell_type": "code",
   "execution_count": 37,
   "metadata": {
    "slideshow": {
     "slide_type": "slide"
    }
   },
   "outputs": [
    {
     "data": {
      "text/plain": [
       "11945"
      ]
     },
     "execution_count": 37,
     "metadata": {},
     "output_type": "execute_result"
    }
   ],
   "source": [
    "troll_df['account_category'].value_counts()['RightTroll']"
   ]
  },
  {
   "cell_type": "markdown",
   "metadata": {
    "slideshow": {
     "slide_type": "slide"
    }
   },
   "source": [
    "* **What is the median number of following accounts?**"
   ]
  },
  {
   "cell_type": "code",
   "execution_count": 15,
   "metadata": {
    "slideshow": {
     "slide_type": "fragment"
    }
   },
   "outputs": [
    {
     "data": {
      "text/plain": [
       "count    50000.000000\n",
       "mean      3446.866700\n",
       "std       5616.629783\n",
       "min          0.000000\n",
       "25%        322.000000\n",
       "50%       1481.000000\n",
       "75%       4751.000000\n",
       "max      76130.000000\n",
       "Name: following, dtype: float64"
      ]
     },
     "execution_count": 15,
     "metadata": {},
     "output_type": "execute_result"
    }
   ],
   "source": [
    "troll_df['following'].describe()"
   ]
  },
  {
   "cell_type": "markdown",
   "metadata": {
    "slideshow": {
     "slide_type": "slide"
    }
   },
   "source": [
    "### Part III\n",
    "\n",
    "* **Plot a histogram of the number of follower accounts.**\n",
    "\n",
    "Hint:\n",
    "* Remember to enable graph displays in a notebook.\n"
   ]
  },
  {
   "cell_type": "code",
   "execution_count": 16,
   "metadata": {
    "slideshow": {
     "slide_type": "fragment"
    }
   },
   "outputs": [],
   "source": [
    "%matplotlib inline"
   ]
  },
  {
   "cell_type": "code",
   "execution_count": 17,
   "metadata": {
    "slideshow": {
     "slide_type": "slide"
    }
   },
   "outputs": [
    {
     "data": {
      "text/plain": [
       "<matplotlib.axes._subplots.AxesSubplot at 0x11f12b748>"
      ]
     },
     "execution_count": 17,
     "metadata": {},
     "output_type": "execute_result"
    },
    {
     "data": {
      "image/png": "[encoded data removed]",
      "text/plain": [
       "<Figure size 432x288 with 1 Axes>"
      ]
     },
     "metadata": {
      "needs_background": "light"
     },
     "output_type": "display_data"
    }
   ],
   "source": [
    "troll_df['followers'].hist()"
   ]
  },
  {
   "cell_type": "code",
   "execution_count": 18,
   "metadata": {
    "slideshow": {
     "slide_type": "slide"
    }
   },
   "outputs": [
    {
     "data": {
      "text/plain": [
       "count     50000.000000\n",
       "mean       7025.970420\n",
       "std       14363.372185\n",
       "min           0.000000\n",
       "25%         315.000000\n",
       "50%        1255.500000\n",
       "75%       10928.000000\n",
       "max      245274.000000\n",
       "Name: followers, dtype: float64"
      ]
     },
     "execution_count": 18,
     "metadata": {},
     "output_type": "execute_result"
    }
   ],
   "source": [
    "troll_df['followers'].describe()"
   ]
  },
  {
   "cell_type": "markdown",
   "metadata": {
    "slideshow": {
     "slide_type": "slide"
    }
   },
   "source": [
    "* **Plot a histogram of the date the tweets were published, using 100 bins.**"
   ]
  },
  {
   "cell_type": "code",
   "execution_count": 19,
   "metadata": {
    "slideshow": {
     "slide_type": "fragment"
    }
   },
   "outputs": [
    {
     "data": {
      "text/plain": [
       "count              50000\n",
       "unique             47095\n",
       "top       9/3/2017 18:21\n",
       "freq                   5\n",
       "Name: publish_date, dtype: object"
      ]
     },
     "execution_count": 19,
     "metadata": {},
     "output_type": "execute_result"
    }
   ],
   "source": [
    "troll_df['publish_date'].describe()"
   ]
  },
  {
   "cell_type": "code",
   "execution_count": 20,
   "metadata": {
    "slideshow": {
     "slide_type": "slide"
    }
   },
   "outputs": [],
   "source": [
    "troll_df['date'] = pd.to_datetime(troll_df['publish_date'])"
   ]
  },
  {
   "cell_type": "code",
   "execution_count": 21,
   "metadata": {
    "slideshow": {
     "slide_type": "slide"
    }
   },
   "outputs": [
    {
     "name": "stderr",
     "output_type": "stream",
     "text": [
      "/Users/nealcaren/anaconda3/lib/python3.6/site-packages/pandas/plotting/_converter.py:129: FutureWarning: Using an implicitly registered datetime converter for a matplotlib plotting method. The converter was registered by pandas on import. Future versions of pandas will require you to explicitly register matplotlib converters.\n",
      "\n",
      "To register the converters:\n",
      "\t>>> from pandas.plotting import register_matplotlib_converters\n",
      "\t>>> register_matplotlib_converters()\n",
      "  warnings.warn(msg, FutureWarning)\n"
     ]
    },
    {
     "data": {
      "text/plain": [
       "<matplotlib.axes._subplots.AxesSubplot at 0x11a48a5f8>"
      ]
     },
     "execution_count": 21,
     "metadata": {},
     "output_type": "execute_result"
    },
    {
     "data": {
      "image/png": "[encoded data removed]",
      "text/plain": [
       "<Figure size 432x288 with 1 Axes>"
      ]
     },
     "metadata": {
      "needs_background": "light"
     },
     "output_type": "display_data"
    }
   ],
   "source": [
    "troll_df['date'].hist()"
   ]
  },
  {
   "cell_type": "code",
   "execution_count": 22,
   "metadata": {
    "slideshow": {
     "slide_type": "slide"
    }
   },
   "outputs": [
    {
     "data": {
      "text/plain": [
       "<matplotlib.axes._subplots.AxesSubplot at 0x119765978>"
      ]
     },
     "execution_count": 22,
     "metadata": {},
     "output_type": "execute_result"
    },
    {
     "data": {
      "image/png": "[encoded data removed]",
      "text/plain": [
       "<Figure size 432x288 with 1 Axes>"
      ]
     },
     "metadata": {
      "needs_background": "light"
     },
     "output_type": "display_data"
    }
   ],
   "source": [
    "troll_df['date'].hist(bins=100)"
   ]
  },
  {
   "cell_type": "markdown",
   "metadata": {
    "slideshow": {
     "slide_type": "slide"
    }
   },
   "source": [
    "### Part IV\n",
    "\n",
    "* **Create a new variable `tweet_length` that is the number of words in the tweet (`content`).**\n",
    "\n",
    "Hint:\n",
    "* This requires you to `apply` a function that you create."
   ]
  },
  {
   "cell_type": "code",
   "execution_count": 23,
   "metadata": {
    "slideshow": {
     "slide_type": "slide"
    }
   },
   "outputs": [],
   "source": [
    "content = 'Egypt Deports French Journalist Amid Crackdown on the Media'"
   ]
  },
  {
   "cell_type": "code",
   "execution_count": 24,
   "metadata": {
    "slideshow": {
     "slide_type": "fragment"
    }
   },
   "outputs": [
    {
     "name": "stdout",
     "output_type": "stream",
     "text": [
      "['Egypt', 'Deports', 'French', 'Journalist', 'Amid', 'Crackdown', 'on', 'the', 'Media']\n"
     ]
    }
   ],
   "source": [
    "content_words = content.split()\n",
    "print(content_words)"
   ]
  },
  {
   "cell_type": "code",
   "execution_count": 25,
   "metadata": {
    "slideshow": {
     "slide_type": "slide"
    }
   },
   "outputs": [
    {
     "name": "stdout",
     "output_type": "stream",
     "text": [
      "9\n"
     ]
    }
   ],
   "source": [
    "word_count = len(content_words)\n",
    "print(word_count)"
   ]
  },
  {
   "cell_type": "code",
   "execution_count": 26,
   "metadata": {
    "slideshow": {
     "slide_type": "slide"
    }
   },
   "outputs": [],
   "source": [
    "def word_counter(content):\n",
    "    content_words = content.split()\n",
    "    word_count = len(content_words)\n",
    "    return word_count"
   ]
  },
  {
   "cell_type": "markdown",
   "metadata": {
    "slideshow": {
     "slide_type": "slide"
    }
   },
   "source": [
    "![](images/function.png)"
   ]
  },
  {
   "cell_type": "code",
   "execution_count": 27,
   "metadata": {
    "slideshow": {
     "slide_type": "fragment"
    }
   },
   "outputs": [
    {
     "data": {
      "text/plain": [
       "9"
      ]
     },
     "execution_count": 27,
     "metadata": {},
     "output_type": "execute_result"
    }
   ],
   "source": [
    "word_counter(content)"
   ]
  },
  {
   "cell_type": "code",
   "execution_count": 28,
   "metadata": {
    "slideshow": {
     "slide_type": "slide"
    }
   },
   "outputs": [
    {
     "data": {
      "text/plain": [
       "4"
      ]
     },
     "execution_count": 28,
     "metadata": {},
     "output_type": "execute_result"
    }
   ],
   "source": [
    "word_counter('The birds are chirping.')"
   ]
  },
  {
   "cell_type": "code",
   "execution_count": 29,
   "metadata": {
    "slideshow": {
     "slide_type": "slide"
    }
   },
   "outputs": [
    {
     "data": {
      "text/plain": [
       "0        22\n",
       "1         7\n",
       "2        13\n",
       "3        10\n",
       "4        11\n",
       "5        15\n",
       "6         4\n",
       "7        10\n",
       "8        13\n",
       "9        22\n",
       "10       11\n",
       "11       19\n",
       "12       11\n",
       "13       11\n",
       "14       10\n",
       "15       11\n",
       "16        2\n",
       "17       15\n",
       "18       19\n",
       "19       13\n",
       "20       15\n",
       "21        9\n",
       "22       17\n",
       "23       16\n",
       "24        6\n",
       "25       11\n",
       "26       21\n",
       "27       11\n",
       "28       11\n",
       "29        7\n",
       "         ..\n",
       "49970    22\n",
       "49971     1\n",
       "49972    12\n",
       "49973     3\n",
       "49974     4\n",
       "49975    18\n",
       "49976     8\n",
       "49977    13\n",
       "49978    15\n",
       "49979     7\n",
       "49980    13\n",
       "49981    20\n",
       "49982     4\n",
       "49983     7\n",
       "49984    12\n",
       "49985    11\n",
       "49986    23\n",
       "49987    16\n",
       "49988    17\n",
       "49989     7\n",
       "49990    21\n",
       "49991    11\n",
       "49992     9\n",
       "49993    13\n",
       "49994    14\n",
       "49995     8\n",
       "49996     4\n",
       "49997    16\n",
       "49998     8\n",
       "49999     5\n",
       "Name: content, Length: 50000, dtype: int64"
      ]
     },
     "execution_count": 29,
     "metadata": {},
     "output_type": "execute_result"
    }
   ],
   "source": [
    "troll_df['content'].apply(word_counter)"
   ]
  },
  {
   "cell_type": "code",
   "execution_count": 30,
   "metadata": {
    "slideshow": {
     "slide_type": "slide"
    }
   },
   "outputs": [],
   "source": [
    "troll_df['tweet_length'] = troll_df['content'].apply(word_counter)"
   ]
  },
  {
   "cell_type": "code",
   "execution_count": 31,
   "metadata": {
    "slideshow": {
     "slide_type": "slide"
    }
   },
   "outputs": [
    {
     "data": {
      "text/plain": [
       "<matplotlib.axes._subplots.AxesSubplot at 0x11a3c8518>"
      ]
     },
     "execution_count": 31,
     "metadata": {},
     "output_type": "execute_result"
    },
    {
     "data": {
      "image/png": "[encoded data removed]",
      "text/plain": [
       "<Figure size 432x288 with 1 Axes>"
      ]
     },
     "metadata": {
      "needs_background": "light"
     },
     "output_type": "display_data"
    }
   ],
   "source": [
    "troll_df['tweet_length'].hist(bins=40)"
   ]
  },
  {
   "cell_type": "markdown",
   "metadata": {
    "slideshow": {
     "slide_type": "slide"
    }
   },
   "source": [
    "* **Create a new variable `first_word` that is the first word of the tweet (`content`).**\n",
    "\n",
    "Hint:\n",
    "* This requires you to `apply` a function that you create."
   ]
  },
  {
   "cell_type": "code",
   "execution_count": 32,
   "metadata": {
    "slideshow": {
     "slide_type": "slide"
    }
   },
   "outputs": [],
   "source": [
    "def first_word(content):\n",
    "    content_words = content.split()\n",
    "    first_word = content_words[0]\n",
    "    return first_word"
   ]
  },
  {
   "cell_type": "code",
   "execution_count": 33,
   "metadata": {
    "slideshow": {
     "slide_type": "fragment"
    }
   },
   "outputs": [
    {
     "data": {
      "text/plain": [
       "'Egypt'"
      ]
     },
     "execution_count": 33,
     "metadata": {},
     "output_type": "execute_result"
    }
   ],
   "source": [
    "first_word(content)"
   ]
  },
  {
   "cell_type": "code",
   "execution_count": 34,
   "metadata": {
    "slideshow": {
     "slide_type": "slide"
    }
   },
   "outputs": [],
   "source": [
    "troll_df['first_word'] = troll_df['content'].apply(first_word)"
   ]
  },
  {
   "cell_type": "code",
   "execution_count": 35,
   "metadata": {
    "slideshow": {
     "slide_type": "slide"
    }
   },
   "outputs": [
    {
     "data": {
      "text/plain": [
       "RT          1148\n",
       "В            925\n",
       "The          739\n",
       "I            497\n",
       "Trump        273\n",
       "This         264\n",
       "A            227\n",
       "#TopNews     226\n",
       "New          222\n",
       "Man          215\n",
       "Name: first_word, dtype: int64"
      ]
     },
     "execution_count": 35,
     "metadata": {},
     "output_type": "execute_result"
    }
   ],
   "source": [
    "troll_df['first_word'].value_counts()[:10]"
   ]
  }
 ],
 "metadata": {
  "celltoolbar": "Slideshow",
  "kernelspec": {
   "display_name": "Python 3",
   "language": "python",
   "name": "python3"
  },
  "language_info": {
   "codemirror_mode": {
    "name": "ipython",
    "version": 3
   },
   "file_extension": ".py",
   "mimetype": "text/x-python",
   "name": "python",
   "nbconvert_exporter": "python",
   "pygments_lexer": "ipython3",
   "version": "3.6.8"
  }
 },
 "nbformat": 4,
 "nbformat_minor": 2
}

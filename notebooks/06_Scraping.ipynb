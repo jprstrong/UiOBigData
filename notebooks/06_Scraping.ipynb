{
 "cells": [
  {
   "cell_type": "markdown",
   "metadata": {
    "slideshow": {
     "slide_type": "slide"
    }
   },
   "source": [
    "# Installing additional libraries\n",
    "\n"
   ]
  },
  {
   "cell_type": "markdown",
   "metadata": {
    "slideshow": {
     "slide_type": "slide"
    }
   },
   "source": [
    "## Two major packing systems\n",
    "- Conda\n",
    "- Pip"
   ]
  },
  {
   "cell_type": "markdown",
   "metadata": {
    "slideshow": {
     "slide_type": "slide"
    }
   },
   "source": [
    "## Conda on your home machine"
   ]
  },
  {
   "cell_type": "markdown",
   "metadata": {
    "slideshow": {
     "slide_type": "slide"
    }
   },
   "source": [
    "![](https://raw.githubusercontent.com/nealcaren/KULeuvenBigData/master/notebooks/images/conda1.png)"
   ]
  },
  {
   "cell_type": "markdown",
   "metadata": {
    "slideshow": {
     "slide_type": "slide"
    }
   },
   "source": [
    "![](https://raw.githubusercontent.com/nealcaren/KULeuvenBigData/master/notebooks/images/conda2.png)"
   ]
  },
  {
   "cell_type": "markdown",
   "metadata": {
    "slideshow": {
     "slide_type": "slide"
    }
   },
   "source": [
    "![](https://raw.githubusercontent.com/nealcaren/KULeuvenBigData/master/notebooks/images/conda3.png)"
   ]
  },
  {
   "cell_type": "markdown",
   "metadata": {
    "slideshow": {
     "slide_type": "slide"
    }
   },
   "source": [
    "![](https://raw.githubusercontent.com/nealcaren/KULeuvenBigData/master/notebooks/images/conda4.png)"
   ]
  },
  {
   "cell_type": "markdown",
   "metadata": {
    "slideshow": {
     "slide_type": "slide"
    }
   },
   "source": [
    "![](https://raw.githubusercontent.com/nealcaren/KULeuvenBigData/master/notebooks/images/conda5.png)"
   ]
  },
  {
   "cell_type": "markdown",
   "metadata": {
    "slideshow": {
     "slide_type": "slide"
    }
   },
   "source": [
    "![](https://raw.githubusercontent.com/nealcaren/KULeuvenBigData/master/notebooks/images/conda6.png)"
   ]
  },
  {
   "cell_type": "markdown",
   "metadata": {
    "slideshow": {
     "slide_type": "slide"
    }
   },
   "source": [
    "## Adding conda-forge channel"
   ]
  },
  {
   "cell_type": "markdown",
   "metadata": {
    "slideshow": {
     "slide_type": "slide"
    }
   },
   "source": [
    "![](https://raw.githubusercontent.com/nealcaren/KULeuvenBigData/master/notebooks/images/conda7.png)"
   ]
  },
  {
   "cell_type": "markdown",
   "metadata": {
    "slideshow": {
     "slide_type": "slide"
    }
   },
   "source": [
    "![](https://raw.githubusercontent.com/nealcaren/KULeuvenBigData/master/notebooks/images/conda8.png)"
   ]
  },
  {
   "cell_type": "markdown",
   "metadata": {
    "slideshow": {
     "slide_type": "slide"
    }
   },
   "source": [
    "### Adding within a notebook"
   ]
  },
  {
   "cell_type": "markdown",
   "metadata": {
    "slideshow": {
     "slide_type": "slide"
    }
   },
   "source": [
    "![](https://raw.githubusercontent.com/nealcaren/KULeuvenBigData/master/notebooks/images/nb_install0.png)"
   ]
  },
  {
   "cell_type": "markdown",
   "metadata": {
    "slideshow": {
     "slide_type": "slide"
    }
   },
   "source": [
    "![](https://raw.githubusercontent.com/nealcaren/KULeuvenBigData/master/notebooks/images/nb_install1.png)"
   ]
  },
  {
   "cell_type": "markdown",
   "metadata": {
    "slideshow": {
     "slide_type": "slide"
    }
   },
   "source": [
    "![](https://raw.githubusercontent.com/nealcaren/KULeuvenBigData/master/notebooks/images/pip1.png)"
   ]
  },
  {
   "cell_type": "markdown",
   "metadata": {
    "slideshow": {
     "slide_type": "slide"
    }
   },
   "source": [
    "![](https://raw.githubusercontent.com/nealcaren/KULeuvenBigData/master/notebooks/images/nb_install2.png)"
   ]
  },
  {
   "cell_type": "markdown",
   "metadata": {
    "slideshow": {
     "slide_type": "slide"
    }
   },
   "source": [
    "![](https://raw.githubusercontent.com/nealcaren/KULeuvenBigData/master/notebooks/images/pip2.png)"
   ]
  },
  {
   "cell_type": "markdown",
   "metadata": {
    "slideshow": {
     "slide_type": "slide"
    }
   },
   "source": [
    "![](https://raw.githubusercontent.com/nealcaren/KULeuvenBigData/master/notebooks/images/pip3.png)"
   ]
  },
  {
   "cell_type": "markdown",
   "metadata": {
    "slideshow": {
     "slide_type": "slide"
    }
   },
   "source": [
    "![](https://raw.githubusercontent.com/nealcaren/KULeuvenBigData/master/notebooks/images/pip4.png)"
   ]
  },
  {
   "cell_type": "markdown",
   "metadata": {
    "slideshow": {
     "slide_type": "slide"
    }
   },
   "source": [
    "<div class=\"alert alert-info\">\n",
    "<h3> Your turn</h3>\n",
    "    <p> Open up a new notebook. Use pip to install the afinn library. Test to see if it worked by running the following lines of code:</p>\n",
    "    <p> <code>from afinn import Afinn</code></p>\n",
    "    <p> <code>afinn = Afinn(language='da')</code></p>\n",
    "    <p> <code>afinn.score('Hvis ikke det er det mest afskyelige flueknepperi...')</code></p>\n",
    "    \n",
    "</div>\n",
    "\n"
   ]
  },
  {
   "cell_type": "code",
   "execution_count": null,
   "metadata": {
    "slideshow": {
     "slide_type": "fragment"
    }
   },
   "outputs": [],
   "source": []
  },
  {
   "cell_type": "markdown",
   "metadata": {
    "slideshow": {
     "slide_type": "slide"
    }
   },
   "source": [
    "# Ways to get digital data"
   ]
  },
  {
   "cell_type": "markdown",
   "metadata": {
    "slideshow": {
     "slide_type": "slide"
    }
   },
   "source": [
    "# Hope somebody already downloaded it."
   ]
  },
  {
   "cell_type": "markdown",
   "metadata": {
    "slideshow": {
     "slide_type": "slide"
    }
   },
   "source": [
    "![](https://raw.githubusercontent.com/nealcaren/KULeuvenBigData/master/notebooks/images/nytimes1.png)"
   ]
  },
  {
   "cell_type": "markdown",
   "metadata": {
    "slideshow": {
     "slide_type": "fragment"
    }
   },
   "source": [
    "![](https://raw.githubusercontent.com/nealcaren/KULeuvenBigData/master/notebooks/images/nytimes2.png)"
   ]
  },
  {
   "cell_type": "markdown",
   "metadata": {
    "slideshow": {
     "slide_type": "slide"
    }
   },
   "source": [
    "# See if there is an API\n"
   ]
  },
  {
   "cell_type": "markdown",
   "metadata": {
    "slideshow": {
     "slide_type": "slide"
    }
   },
   "source": [
    "<div class=\"alert alert-info\">\n",
    "<p>This url\n",
    "<p><code>https://itunes.apple.com/search?term=beyonce&entity=song</code>\n",
    "<p>will return 50 songs in the iTunes store by Beyoncé.\n",
    "<p>\n",
    "<p>Write a function that will return the results of a call for any artists into a dataframe. Hint: inspect the contents of the resulting JSON to make sure you are getting what you want.</p>\n",
    "<p>\n",
    "<p><b>Hint:</b> Don't forget your <code>import</code> statements!  \n",
    "    \n",
    "</div>\n",
    "\n",
    "[API Manual](https://affiliate.itunes.apple.com/resources/documentation/itunes-store-web-service-search-api/)"
   ]
  },
  {
   "cell_type": "code",
   "execution_count": 3,
   "metadata": {
    "slideshow": {
     "slide_type": "slide"
    }
   },
   "outputs": [],
   "source": [
    "import pandas as pd\n",
    "import requests"
   ]
  },
  {
   "cell_type": "code",
   "execution_count": 4,
   "metadata": {
    "slideshow": {
     "slide_type": "slide"
    }
   },
   "outputs": [],
   "source": [
    "def search_itunes(search_term):\n",
    "    '''Simplified iTunes search'''\n",
    "    \n",
    "    base_url = 'https://itunes.apple.com/search'\n",
    "    search_parameters = {'term': search_term}\n",
    "    \n",
    "    r = requests.get(base_url, params = search_parameters)\n",
    "    \n",
    "    results_df = pd.DataFrame(r.json()['results'])\n",
    "    \n",
    "    return results_df"
   ]
  },
  {
   "cell_type": "code",
   "execution_count": 5,
   "metadata": {},
   "outputs": [
    {
     "data": {
      "text/html": [
       "<div>\n",
       "<style scoped>\n",
       "    .dataframe tbody tr th:only-of-type {\n",
       "        vertical-align: middle;\n",
       "    }\n",
       "\n",
       "    .dataframe tbody tr th {\n",
       "        vertical-align: top;\n",
       "    }\n",
       "\n",
       "    .dataframe thead th {\n",
       "        text-align: right;\n",
       "    }\n",
       "</style>\n",
       "<table border=\"1\" class=\"dataframe\">\n",
       "  <thead>\n",
       "    <tr style=\"text-align: right;\">\n",
       "      <th></th>\n",
       "      <th>artistId</th>\n",
       "      <th>artistName</th>\n",
       "      <th>artistViewUrl</th>\n",
       "      <th>artworkUrl100</th>\n",
       "      <th>artworkUrl30</th>\n",
       "      <th>artworkUrl60</th>\n",
       "      <th>collectionArtistId</th>\n",
       "      <th>collectionArtistName</th>\n",
       "      <th>collectionArtistViewUrl</th>\n",
       "      <th>collectionCensoredName</th>\n",
       "      <th>...</th>\n",
       "      <th>trackCensoredName</th>\n",
       "      <th>trackCount</th>\n",
       "      <th>trackExplicitness</th>\n",
       "      <th>trackId</th>\n",
       "      <th>trackName</th>\n",
       "      <th>trackNumber</th>\n",
       "      <th>trackPrice</th>\n",
       "      <th>trackTimeMillis</th>\n",
       "      <th>trackViewUrl</th>\n",
       "      <th>wrapperType</th>\n",
       "    </tr>\n",
       "  </thead>\n",
       "  <tbody>\n",
       "    <tr>\n",
       "      <th>0</th>\n",
       "      <td>1065981054</td>\n",
       "      <td>Billie Eilish</td>\n",
       "      <td>https://music.apple.com/us/artist/billie-eilis...</td>\n",
       "      <td>https://is5-ssl.mzstatic.com/image/thumb/Music...</td>\n",
       "      <td>https://is5-ssl.mzstatic.com/image/thumb/Music...</td>\n",
       "      <td>https://is5-ssl.mzstatic.com/image/thumb/Music...</td>\n",
       "      <td>NaN</td>\n",
       "      <td>NaN</td>\n",
       "      <td>NaN</td>\n",
       "      <td>WHEN WE ALL FALL ASLEEP, WHERE DO WE GO?</td>\n",
       "      <td>...</td>\n",
       "      <td>bad guy</td>\n",
       "      <td>14.0</td>\n",
       "      <td>notExplicit</td>\n",
       "      <td>1450695739</td>\n",
       "      <td>bad guy</td>\n",
       "      <td>2.0</td>\n",
       "      <td>1.29</td>\n",
       "      <td>194088</td>\n",
       "      <td>https://music.apple.com/us/album/bad-guy/14506...</td>\n",
       "      <td>track</td>\n",
       "    </tr>\n",
       "    <tr>\n",
       "      <th>1</th>\n",
       "      <td>1065981054</td>\n",
       "      <td>Billie Eilish</td>\n",
       "      <td>https://music.apple.com/us/artist/billie-eilis...</td>\n",
       "      <td>https://is5-ssl.mzstatic.com/image/thumb/Music...</td>\n",
       "      <td>https://is5-ssl.mzstatic.com/image/thumb/Music...</td>\n",
       "      <td>https://is5-ssl.mzstatic.com/image/thumb/Music...</td>\n",
       "      <td>NaN</td>\n",
       "      <td>NaN</td>\n",
       "      <td>NaN</td>\n",
       "      <td>WHEN WE ALL FALL ASLEEP, WHERE DO WE GO?</td>\n",
       "      <td>...</td>\n",
       "      <td>bury a friend</td>\n",
       "      <td>14.0</td>\n",
       "      <td>notExplicit</td>\n",
       "      <td>1450695881</td>\n",
       "      <td>bury a friend</td>\n",
       "      <td>10.0</td>\n",
       "      <td>1.29</td>\n",
       "      <td>193149</td>\n",
       "      <td>https://music.apple.com/us/album/bury-a-friend...</td>\n",
       "      <td>track</td>\n",
       "    </tr>\n",
       "    <tr>\n",
       "      <th>2</th>\n",
       "      <td>1065981054</td>\n",
       "      <td>Billie Eilish &amp; Khalid</td>\n",
       "      <td>https://music.apple.com/us/artist/billie-eilis...</td>\n",
       "      <td>https://is2-ssl.mzstatic.com/image/thumb/Music...</td>\n",
       "      <td>https://is2-ssl.mzstatic.com/image/thumb/Music...</td>\n",
       "      <td>https://is2-ssl.mzstatic.com/image/thumb/Music...</td>\n",
       "      <td>NaN</td>\n",
       "      <td>NaN</td>\n",
       "      <td>NaN</td>\n",
       "      <td>lovely - Single</td>\n",
       "      <td>...</td>\n",
       "      <td>lovely</td>\n",
       "      <td>1.0</td>\n",
       "      <td>notExplicit</td>\n",
       "      <td>1369380479</td>\n",
       "      <td>lovely</td>\n",
       "      <td>1.0</td>\n",
       "      <td>1.29</td>\n",
       "      <td>200187</td>\n",
       "      <td>https://music.apple.com/us/album/lovely/136937...</td>\n",
       "      <td>track</td>\n",
       "    </tr>\n",
       "    <tr>\n",
       "      <th>3</th>\n",
       "      <td>1065981054</td>\n",
       "      <td>Billie Eilish</td>\n",
       "      <td>https://music.apple.com/us/artist/billie-eilis...</td>\n",
       "      <td>https://is5-ssl.mzstatic.com/image/thumb/Music...</td>\n",
       "      <td>https://is5-ssl.mzstatic.com/image/thumb/Music...</td>\n",
       "      <td>https://is5-ssl.mzstatic.com/image/thumb/Music...</td>\n",
       "      <td>NaN</td>\n",
       "      <td>NaN</td>\n",
       "      <td>NaN</td>\n",
       "      <td>WHEN WE ALL FALL ASLEEP, WHERE DO WE GO?</td>\n",
       "      <td>...</td>\n",
       "      <td>when the party's over</td>\n",
       "      <td>14.0</td>\n",
       "      <td>notExplicit</td>\n",
       "      <td>1450695872</td>\n",
       "      <td>when the party's over</td>\n",
       "      <td>7.0</td>\n",
       "      <td>1.29</td>\n",
       "      <td>196077</td>\n",
       "      <td>https://music.apple.com/us/album/when-the-part...</td>\n",
       "      <td>track</td>\n",
       "    </tr>\n",
       "    <tr>\n",
       "      <th>4</th>\n",
       "      <td>1065981054</td>\n",
       "      <td>Billie Eilish</td>\n",
       "      <td>https://music.apple.com/us/artist/billie-eilis...</td>\n",
       "      <td>https://is5-ssl.mzstatic.com/image/thumb/Music...</td>\n",
       "      <td>https://is5-ssl.mzstatic.com/image/thumb/Music...</td>\n",
       "      <td>https://is5-ssl.mzstatic.com/image/thumb/Music...</td>\n",
       "      <td>NaN</td>\n",
       "      <td>NaN</td>\n",
       "      <td>NaN</td>\n",
       "      <td>WHEN WE ALL FALL ASLEEP, WHERE DO WE GO?</td>\n",
       "      <td>...</td>\n",
       "      <td>you should see me in a crown</td>\n",
       "      <td>14.0</td>\n",
       "      <td>notExplicit</td>\n",
       "      <td>1450695745</td>\n",
       "      <td>you should see me in a crown</td>\n",
       "      <td>4.0</td>\n",
       "      <td>1.29</td>\n",
       "      <td>180953</td>\n",
       "      <td>https://music.apple.com/us/album/you-should-se...</td>\n",
       "      <td>track</td>\n",
       "    </tr>\n",
       "    <tr>\n",
       "      <th>5</th>\n",
       "      <td>1065981054</td>\n",
       "      <td>Billie Eilish</td>\n",
       "      <td>https://music.apple.com/us/artist/billie-eilis...</td>\n",
       "      <td>https://is5-ssl.mzstatic.com/image/thumb/Music...</td>\n",
       "      <td>https://is5-ssl.mzstatic.com/image/thumb/Music...</td>\n",
       "      <td>https://is5-ssl.mzstatic.com/image/thumb/Music...</td>\n",
       "      <td>NaN</td>\n",
       "      <td>NaN</td>\n",
       "      <td>NaN</td>\n",
       "      <td>dont smile at me</td>\n",
       "      <td>...</td>\n",
       "      <td>ocean eyes</td>\n",
       "      <td>9.0</td>\n",
       "      <td>notExplicit</td>\n",
       "      <td>1440899467</td>\n",
       "      <td>ocean eyes</td>\n",
       "      <td>7.0</td>\n",
       "      <td>1.29</td>\n",
       "      <td>200379</td>\n",
       "      <td>https://music.apple.com/us/album/ocean-eyes/14...</td>\n",
       "      <td>track</td>\n",
       "    </tr>\n",
       "    <tr>\n",
       "      <th>6</th>\n",
       "      <td>1065981054</td>\n",
       "      <td>Billie Eilish &amp; Justin Bieber</td>\n",
       "      <td>https://music.apple.com/us/artist/billie-eilis...</td>\n",
       "      <td>https://is2-ssl.mzstatic.com/image/thumb/Music...</td>\n",
       "      <td>https://is2-ssl.mzstatic.com/image/thumb/Music...</td>\n",
       "      <td>https://is2-ssl.mzstatic.com/image/thumb/Music...</td>\n",
       "      <td>NaN</td>\n",
       "      <td>NaN</td>\n",
       "      <td>NaN</td>\n",
       "      <td>bad guy - Single</td>\n",
       "      <td>...</td>\n",
       "      <td>bad guy</td>\n",
       "      <td>1.0</td>\n",
       "      <td>notExplicit</td>\n",
       "      <td>1472563571</td>\n",
       "      <td>bad guy</td>\n",
       "      <td>1.0</td>\n",
       "      <td>1.29</td>\n",
       "      <td>194840</td>\n",
       "      <td>https://music.apple.com/us/album/bad-guy/14725...</td>\n",
       "      <td>track</td>\n",
       "    </tr>\n",
       "    <tr>\n",
       "      <th>7</th>\n",
       "      <td>1065981054</td>\n",
       "      <td>Billie Eilish</td>\n",
       "      <td>https://music.apple.com/us/artist/billie-eilis...</td>\n",
       "      <td>https://is5-ssl.mzstatic.com/image/thumb/Music...</td>\n",
       "      <td>https://is5-ssl.mzstatic.com/image/thumb/Music...</td>\n",
       "      <td>https://is5-ssl.mzstatic.com/image/thumb/Music...</td>\n",
       "      <td>NaN</td>\n",
       "      <td>NaN</td>\n",
       "      <td>NaN</td>\n",
       "      <td>WHEN WE ALL FALL ASLEEP, WHERE DO WE GO?</td>\n",
       "      <td>...</td>\n",
       "      <td>my strange addiction</td>\n",
       "      <td>14.0</td>\n",
       "      <td>notExplicit</td>\n",
       "      <td>1450695877</td>\n",
       "      <td>my strange addiction</td>\n",
       "      <td>9.0</td>\n",
       "      <td>1.29</td>\n",
       "      <td>179884</td>\n",
       "      <td>https://music.apple.com/us/album/my-strange-ad...</td>\n",
       "      <td>track</td>\n",
       "    </tr>\n",
       "    <tr>\n",
       "      <th>8</th>\n",
       "      <td>1065981054</td>\n",
       "      <td>Billie Eilish</td>\n",
       "      <td>https://music.apple.com/us/artist/billie-eilis...</td>\n",
       "      <td>https://is5-ssl.mzstatic.com/image/thumb/Music...</td>\n",
       "      <td>https://is5-ssl.mzstatic.com/image/thumb/Music...</td>\n",
       "      <td>https://is5-ssl.mzstatic.com/image/thumb/Music...</td>\n",
       "      <td>NaN</td>\n",
       "      <td>NaN</td>\n",
       "      <td>NaN</td>\n",
       "      <td>WHEN WE ALL FALL ASLEEP, WHERE DO WE GO?</td>\n",
       "      <td>...</td>\n",
       "      <td>wish you were gay</td>\n",
       "      <td>14.0</td>\n",
       "      <td>notExplicit</td>\n",
       "      <td>1450695871</td>\n",
       "      <td>wish you were gay</td>\n",
       "      <td>6.0</td>\n",
       "      <td>1.29</td>\n",
       "      <td>221543</td>\n",
       "      <td>https://music.apple.com/us/album/wish-you-were...</td>\n",
       "      <td>track</td>\n",
       "    </tr>\n",
       "    <tr>\n",
       "      <th>9</th>\n",
       "      <td>1065981054</td>\n",
       "      <td>Billie Eilish</td>\n",
       "      <td>https://music.apple.com/us/artist/billie-eilis...</td>\n",
       "      <td>https://is5-ssl.mzstatic.com/image/thumb/Music...</td>\n",
       "      <td>https://is5-ssl.mzstatic.com/image/thumb/Music...</td>\n",
       "      <td>https://is5-ssl.mzstatic.com/image/thumb/Music...</td>\n",
       "      <td>NaN</td>\n",
       "      <td>NaN</td>\n",
       "      <td>NaN</td>\n",
       "      <td>WHEN WE ALL FALL ASLEEP, WHERE DO WE GO?</td>\n",
       "      <td>...</td>\n",
       "      <td>i love you</td>\n",
       "      <td>14.0</td>\n",
       "      <td>notExplicit</td>\n",
       "      <td>1450695895</td>\n",
       "      <td>i love you</td>\n",
       "      <td>13.0</td>\n",
       "      <td>1.29</td>\n",
       "      <td>291796</td>\n",
       "      <td>https://music.apple.com/us/album/i-love-you/14...</td>\n",
       "      <td>track</td>\n",
       "    </tr>\n",
       "    <tr>\n",
       "      <th>10</th>\n",
       "      <td>1065981054</td>\n",
       "      <td>Billie Eilish</td>\n",
       "      <td>https://music.apple.com/us/artist/billie-eilis...</td>\n",
       "      <td>https://is5-ssl.mzstatic.com/image/thumb/Music...</td>\n",
       "      <td>https://is5-ssl.mzstatic.com/image/thumb/Music...</td>\n",
       "      <td>https://is5-ssl.mzstatic.com/image/thumb/Music...</td>\n",
       "      <td>NaN</td>\n",
       "      <td>NaN</td>\n",
       "      <td>NaN</td>\n",
       "      <td>dont smile at me</td>\n",
       "      <td>...</td>\n",
       "      <td>bellyache</td>\n",
       "      <td>9.0</td>\n",
       "      <td>notExplicit</td>\n",
       "      <td>1440899447</td>\n",
       "      <td>bellyache</td>\n",
       "      <td>6.0</td>\n",
       "      <td>1.29</td>\n",
       "      <td>179172</td>\n",
       "      <td>https://music.apple.com/us/album/bellyache/144...</td>\n",
       "      <td>track</td>\n",
       "    </tr>\n",
       "    <tr>\n",
       "      <th>11</th>\n",
       "      <td>1065981054</td>\n",
       "      <td>Billie Eilish</td>\n",
       "      <td>https://music.apple.com/us/artist/billie-eilis...</td>\n",
       "      <td>https://is5-ssl.mzstatic.com/image/thumb/Music...</td>\n",
       "      <td>https://is5-ssl.mzstatic.com/image/thumb/Music...</td>\n",
       "      <td>https://is5-ssl.mzstatic.com/image/thumb/Music...</td>\n",
       "      <td>NaN</td>\n",
       "      <td>NaN</td>\n",
       "      <td>NaN</td>\n",
       "      <td>WHEN WE ALL FALL ASLEEP, WHERE DO WE GO?</td>\n",
       "      <td>...</td>\n",
       "      <td>listen before i go</td>\n",
       "      <td>14.0</td>\n",
       "      <td>notExplicit</td>\n",
       "      <td>1450695888</td>\n",
       "      <td>listen before i go</td>\n",
       "      <td>12.0</td>\n",
       "      <td>1.29</td>\n",
       "      <td>242652</td>\n",
       "      <td>https://music.apple.com/us/album/listen-before...</td>\n",
       "      <td>track</td>\n",
       "    </tr>\n",
       "    <tr>\n",
       "      <th>12</th>\n",
       "      <td>1065981054</td>\n",
       "      <td>Billie Eilish</td>\n",
       "      <td>https://music.apple.com/us/artist/billie-eilis...</td>\n",
       "      <td>https://is5-ssl.mzstatic.com/image/thumb/Music...</td>\n",
       "      <td>https://is5-ssl.mzstatic.com/image/thumb/Music...</td>\n",
       "      <td>https://is5-ssl.mzstatic.com/image/thumb/Music...</td>\n",
       "      <td>NaN</td>\n",
       "      <td>NaN</td>\n",
       "      <td>NaN</td>\n",
       "      <td>WHEN WE ALL FALL ASLEEP, WHERE DO WE GO?</td>\n",
       "      <td>...</td>\n",
       "      <td>ilomilo</td>\n",
       "      <td>14.0</td>\n",
       "      <td>notExplicit</td>\n",
       "      <td>1450695884</td>\n",
       "      <td>ilomilo</td>\n",
       "      <td>11.0</td>\n",
       "      <td>1.29</td>\n",
       "      <td>156371</td>\n",
       "      <td>https://music.apple.com/us/album/ilomilo/14506...</td>\n",
       "      <td>track</td>\n",
       "    </tr>\n",
       "    <tr>\n",
       "      <th>13</th>\n",
       "      <td>1065981054</td>\n",
       "      <td>Billie Eilish</td>\n",
       "      <td>https://music.apple.com/us/artist/billie-eilis...</td>\n",
       "      <td>https://is5-ssl.mzstatic.com/image/thumb/Music...</td>\n",
       "      <td>https://is5-ssl.mzstatic.com/image/thumb/Music...</td>\n",
       "      <td>https://is5-ssl.mzstatic.com/image/thumb/Music...</td>\n",
       "      <td>NaN</td>\n",
       "      <td>NaN</td>\n",
       "      <td>NaN</td>\n",
       "      <td>dont smile at me</td>\n",
       "      <td>...</td>\n",
       "      <td>idontwannabeyouanymore</td>\n",
       "      <td>9.0</td>\n",
       "      <td>notExplicit</td>\n",
       "      <td>1440899127</td>\n",
       "      <td>idontwannabeyouanymore</td>\n",
       "      <td>2.0</td>\n",
       "      <td>1.29</td>\n",
       "      <td>203569</td>\n",
       "      <td>https://music.apple.com/us/album/idontwannabey...</td>\n",
       "      <td>track</td>\n",
       "    </tr>\n",
       "    <tr>\n",
       "      <th>14</th>\n",
       "      <td>1065981054</td>\n",
       "      <td>Billie Eilish</td>\n",
       "      <td>https://music.apple.com/us/artist/billie-eilis...</td>\n",
       "      <td>https://is5-ssl.mzstatic.com/image/thumb/Music...</td>\n",
       "      <td>https://is5-ssl.mzstatic.com/image/thumb/Music...</td>\n",
       "      <td>https://is5-ssl.mzstatic.com/image/thumb/Music...</td>\n",
       "      <td>NaN</td>\n",
       "      <td>NaN</td>\n",
       "      <td>NaN</td>\n",
       "      <td>WHEN WE ALL FALL ASLEEP, WHERE DO WE GO?</td>\n",
       "      <td>...</td>\n",
       "      <td>xanny</td>\n",
       "      <td>14.0</td>\n",
       "      <td>notExplicit</td>\n",
       "      <td>1450695742</td>\n",
       "      <td>xanny</td>\n",
       "      <td>3.0</td>\n",
       "      <td>1.29</td>\n",
       "      <td>243725</td>\n",
       "      <td>https://music.apple.com/us/album/xanny/1450695...</td>\n",
       "      <td>track</td>\n",
       "    </tr>\n",
       "    <tr>\n",
       "      <th>15</th>\n",
       "      <td>1065981054</td>\n",
       "      <td>Billie Eilish</td>\n",
       "      <td>https://music.apple.com/us/artist/billie-eilis...</td>\n",
       "      <td>https://is5-ssl.mzstatic.com/image/thumb/Music...</td>\n",
       "      <td>https://is5-ssl.mzstatic.com/image/thumb/Music...</td>\n",
       "      <td>https://is5-ssl.mzstatic.com/image/thumb/Music...</td>\n",
       "      <td>NaN</td>\n",
       "      <td>NaN</td>\n",
       "      <td>NaN</td>\n",
       "      <td>dont smile at me</td>\n",
       "      <td>...</td>\n",
       "      <td>COPYCAT</td>\n",
       "      <td>9.0</td>\n",
       "      <td>notExplicit</td>\n",
       "      <td>1440899117</td>\n",
       "      <td>COPYCAT</td>\n",
       "      <td>1.0</td>\n",
       "      <td>1.29</td>\n",
       "      <td>193357</td>\n",
       "      <td>https://music.apple.com/us/album/copycat/14408...</td>\n",
       "      <td>track</td>\n",
       "    </tr>\n",
       "    <tr>\n",
       "      <th>16</th>\n",
       "      <td>1065981054</td>\n",
       "      <td>Billie Eilish</td>\n",
       "      <td>https://music.apple.com/us/artist/billie-eilis...</td>\n",
       "      <td>https://is5-ssl.mzstatic.com/image/thumb/Music...</td>\n",
       "      <td>https://is5-ssl.mzstatic.com/image/thumb/Music...</td>\n",
       "      <td>https://is5-ssl.mzstatic.com/image/thumb/Music...</td>\n",
       "      <td>NaN</td>\n",
       "      <td>NaN</td>\n",
       "      <td>NaN</td>\n",
       "      <td>WHEN WE ALL FALL ASLEEP, WHERE DO WE GO?</td>\n",
       "      <td>...</td>\n",
       "      <td>all the good girls go to hell</td>\n",
       "      <td>14.0</td>\n",
       "      <td>notExplicit</td>\n",
       "      <td>1450695867</td>\n",
       "      <td>all the good girls go to hell</td>\n",
       "      <td>5.0</td>\n",
       "      <td>1.29</td>\n",
       "      <td>168840</td>\n",
       "      <td>https://music.apple.com/us/album/all-the-good-...</td>\n",
       "      <td>track</td>\n",
       "    </tr>\n",
       "    <tr>\n",
       "      <th>17</th>\n",
       "      <td>1065981054</td>\n",
       "      <td>Billie Eilish</td>\n",
       "      <td>https://music.apple.com/us/artist/billie-eilis...</td>\n",
       "      <td>https://is5-ssl.mzstatic.com/image/thumb/Music...</td>\n",
       "      <td>https://is5-ssl.mzstatic.com/image/thumb/Music...</td>\n",
       "      <td>https://is5-ssl.mzstatic.com/image/thumb/Music...</td>\n",
       "      <td>NaN</td>\n",
       "      <td>NaN</td>\n",
       "      <td>NaN</td>\n",
       "      <td>WHEN WE ALL FALL ASLEEP, WHERE DO WE GO?</td>\n",
       "      <td>...</td>\n",
       "      <td>!!!!!!!</td>\n",
       "      <td>14.0</td>\n",
       "      <td>notExplicit</td>\n",
       "      <td>1450695729</td>\n",
       "      <td>!!!!!!!</td>\n",
       "      <td>1.0</td>\n",
       "      <td>1.29</td>\n",
       "      <td>13578</td>\n",
       "      <td>https://music.apple.com/us/album/1450695723?i=...</td>\n",
       "      <td>track</td>\n",
       "    </tr>\n",
       "    <tr>\n",
       "      <th>18</th>\n",
       "      <td>1065981054</td>\n",
       "      <td>Billie Eilish</td>\n",
       "      <td>https://music.apple.com/us/artist/billie-eilis...</td>\n",
       "      <td>https://is5-ssl.mzstatic.com/image/thumb/Music...</td>\n",
       "      <td>https://is5-ssl.mzstatic.com/image/thumb/Music...</td>\n",
       "      <td>https://is5-ssl.mzstatic.com/image/thumb/Music...</td>\n",
       "      <td>NaN</td>\n",
       "      <td>NaN</td>\n",
       "      <td>NaN</td>\n",
       "      <td>WHEN WE ALL FALL ASLEEP, WHERE DO WE GO?</td>\n",
       "      <td>...</td>\n",
       "      <td>goodbye</td>\n",
       "      <td>14.0</td>\n",
       "      <td>notExplicit</td>\n",
       "      <td>1450696020</td>\n",
       "      <td>goodbye</td>\n",
       "      <td>14.0</td>\n",
       "      <td>1.29</td>\n",
       "      <td>119422</td>\n",
       "      <td>https://music.apple.com/us/album/goodbye/14506...</td>\n",
       "      <td>track</td>\n",
       "    </tr>\n",
       "    <tr>\n",
       "      <th>19</th>\n",
       "      <td>1065981054</td>\n",
       "      <td>Billie Eilish</td>\n",
       "      <td>https://music.apple.com/us/artist/billie-eilis...</td>\n",
       "      <td>https://is2-ssl.mzstatic.com/image/thumb/Music...</td>\n",
       "      <td>https://is2-ssl.mzstatic.com/image/thumb/Music...</td>\n",
       "      <td>https://is2-ssl.mzstatic.com/image/thumb/Music...</td>\n",
       "      <td>NaN</td>\n",
       "      <td>NaN</td>\n",
       "      <td>NaN</td>\n",
       "      <td>bitches broken hearts - Single</td>\n",
       "      <td>...</td>\n",
       "      <td>bitches broken hearts</td>\n",
       "      <td>1.0</td>\n",
       "      <td>explicit</td>\n",
       "      <td>1362274278</td>\n",
       "      <td>bitches broken hearts</td>\n",
       "      <td>1.0</td>\n",
       "      <td>1.29</td>\n",
       "      <td>176472</td>\n",
       "      <td>https://music.apple.com/us/album/bitches-broke...</td>\n",
       "      <td>track</td>\n",
       "    </tr>\n",
       "    <tr>\n",
       "      <th>20</th>\n",
       "      <td>1065981054</td>\n",
       "      <td>Billie Eilish</td>\n",
       "      <td>https://music.apple.com/us/artist/billie-eilis...</td>\n",
       "      <td>https://is5-ssl.mzstatic.com/image/thumb/Music...</td>\n",
       "      <td>https://is5-ssl.mzstatic.com/image/thumb/Music...</td>\n",
       "      <td>https://is5-ssl.mzstatic.com/image/thumb/Music...</td>\n",
       "      <td>NaN</td>\n",
       "      <td>NaN</td>\n",
       "      <td>NaN</td>\n",
       "      <td>dont smile at me</td>\n",
       "      <td>...</td>\n",
       "      <td>my boy</td>\n",
       "      <td>9.0</td>\n",
       "      <td>notExplicit</td>\n",
       "      <td>1440899130</td>\n",
       "      <td>my boy</td>\n",
       "      <td>3.0</td>\n",
       "      <td>1.29</td>\n",
       "      <td>170852</td>\n",
       "      <td>https://music.apple.com/us/album/my-boy/144089...</td>\n",
       "      <td>track</td>\n",
       "    </tr>\n",
       "    <tr>\n",
       "      <th>21</th>\n",
       "      <td>1065981054</td>\n",
       "      <td>Billie Eilish &amp; Vince Staples</td>\n",
       "      <td>https://music.apple.com/us/artist/billie-eilis...</td>\n",
       "      <td>https://is5-ssl.mzstatic.com/image/thumb/Music...</td>\n",
       "      <td>https://is5-ssl.mzstatic.com/image/thumb/Music...</td>\n",
       "      <td>https://is5-ssl.mzstatic.com/image/thumb/Music...</td>\n",
       "      <td>NaN</td>\n",
       "      <td>Billie Eilish</td>\n",
       "      <td>NaN</td>\n",
       "      <td>dont smile at me</td>\n",
       "      <td>...</td>\n",
       "      <td>&amp;burn</td>\n",
       "      <td>9.0</td>\n",
       "      <td>notExplicit</td>\n",
       "      <td>1440899628</td>\n",
       "      <td>&amp;burn</td>\n",
       "      <td>9.0</td>\n",
       "      <td>1.29</td>\n",
       "      <td>179016</td>\n",
       "      <td>https://music.apple.com/us/album/burn/14408989...</td>\n",
       "      <td>track</td>\n",
       "    </tr>\n",
       "    <tr>\n",
       "      <th>22</th>\n",
       "      <td>1065981054</td>\n",
       "      <td>Billie Eilish</td>\n",
       "      <td>https://music.apple.com/us/artist/billie-eilis...</td>\n",
       "      <td>https://is5-ssl.mzstatic.com/image/thumb/Music...</td>\n",
       "      <td>https://is5-ssl.mzstatic.com/image/thumb/Music...</td>\n",
       "      <td>https://is5-ssl.mzstatic.com/image/thumb/Music...</td>\n",
       "      <td>NaN</td>\n",
       "      <td>NaN</td>\n",
       "      <td>NaN</td>\n",
       "      <td>WHEN WE ALL FALL ASLEEP, WHERE DO WE GO?</td>\n",
       "      <td>...</td>\n",
       "      <td>8</td>\n",
       "      <td>14.0</td>\n",
       "      <td>notExplicit</td>\n",
       "      <td>1450695875</td>\n",
       "      <td>8</td>\n",
       "      <td>8.0</td>\n",
       "      <td>1.29</td>\n",
       "      <td>173202</td>\n",
       "      <td>https://music.apple.com/us/album/8/1450695723?...</td>\n",
       "      <td>track</td>\n",
       "    </tr>\n",
       "    <tr>\n",
       "      <th>23</th>\n",
       "      <td>1065981054</td>\n",
       "      <td>Billie Eilish</td>\n",
       "      <td>https://music.apple.com/us/artist/billie-eilis...</td>\n",
       "      <td>https://is5-ssl.mzstatic.com/image/thumb/Music...</td>\n",
       "      <td>https://is5-ssl.mzstatic.com/image/thumb/Music...</td>\n",
       "      <td>https://is5-ssl.mzstatic.com/image/thumb/Music...</td>\n",
       "      <td>NaN</td>\n",
       "      <td>NaN</td>\n",
       "      <td>NaN</td>\n",
       "      <td>dont smile at me</td>\n",
       "      <td>...</td>\n",
       "      <td>watch</td>\n",
       "      <td>9.0</td>\n",
       "      <td>notExplicit</td>\n",
       "      <td>1440899134</td>\n",
       "      <td>watch</td>\n",
       "      <td>4.0</td>\n",
       "      <td>1.29</td>\n",
       "      <td>177523</td>\n",
       "      <td>https://music.apple.com/us/album/watch/1440898...</td>\n",
       "      <td>track</td>\n",
       "    </tr>\n",
       "    <tr>\n",
       "      <th>24</th>\n",
       "      <td>1065981054</td>\n",
       "      <td>Billie Eilish</td>\n",
       "      <td>https://music.apple.com/us/artist/billie-eilis...</td>\n",
       "      <td>https://is5-ssl.mzstatic.com/image/thumb/Music...</td>\n",
       "      <td>https://is5-ssl.mzstatic.com/image/thumb/Music...</td>\n",
       "      <td>https://is5-ssl.mzstatic.com/image/thumb/Music...</td>\n",
       "      <td>NaN</td>\n",
       "      <td>NaN</td>\n",
       "      <td>NaN</td>\n",
       "      <td>dont smile at me</td>\n",
       "      <td>...</td>\n",
       "      <td>hostage</td>\n",
       "      <td>9.0</td>\n",
       "      <td>notExplicit</td>\n",
       "      <td>1440899606</td>\n",
       "      <td>hostage</td>\n",
       "      <td>8.0</td>\n",
       "      <td>1.29</td>\n",
       "      <td>229426</td>\n",
       "      <td>https://music.apple.com/us/album/hostage/14408...</td>\n",
       "      <td>track</td>\n",
       "    </tr>\n",
       "    <tr>\n",
       "      <th>25</th>\n",
       "      <td>1065981054</td>\n",
       "      <td>Billie Eilish</td>\n",
       "      <td>https://music.apple.com/us/artist/billie-eilis...</td>\n",
       "      <td>https://is2-ssl.mzstatic.com/image/thumb/Music...</td>\n",
       "      <td>https://is2-ssl.mzstatic.com/image/thumb/Music...</td>\n",
       "      <td>https://is2-ssl.mzstatic.com/image/thumb/Music...</td>\n",
       "      <td>NaN</td>\n",
       "      <td>NaN</td>\n",
       "      <td>NaN</td>\n",
       "      <td>come out and play - Single</td>\n",
       "      <td>...</td>\n",
       "      <td>come out and play</td>\n",
       "      <td>1.0</td>\n",
       "      <td>notExplicit</td>\n",
       "      <td>1442107933</td>\n",
       "      <td>come out and play</td>\n",
       "      <td>1.0</td>\n",
       "      <td>1.29</td>\n",
       "      <td>210376</td>\n",
       "      <td>https://music.apple.com/us/album/come-out-and-...</td>\n",
       "      <td>track</td>\n",
       "    </tr>\n",
       "    <tr>\n",
       "      <th>26</th>\n",
       "      <td>1065981054</td>\n",
       "      <td>Billie Eilish</td>\n",
       "      <td>https://music.apple.com/us/artist/billie-eilis...</td>\n",
       "      <td>https://is4-ssl.mzstatic.com/image/thumb/Music...</td>\n",
       "      <td>https://is4-ssl.mzstatic.com/image/thumb/Music...</td>\n",
       "      <td>https://is4-ssl.mzstatic.com/image/thumb/Music...</td>\n",
       "      <td>4.035426e+06</td>\n",
       "      <td>Various Artists</td>\n",
       "      <td>NaN</td>\n",
       "      <td>13 Reasons Why (A Netflix Original Series Soun...</td>\n",
       "      <td>...</td>\n",
       "      <td>Bored</td>\n",
       "      <td>13.0</td>\n",
       "      <td>notExplicit</td>\n",
       "      <td>1440881181</td>\n",
       "      <td>Bored</td>\n",
       "      <td>3.0</td>\n",
       "      <td>1.29</td>\n",
       "      <td>180933</td>\n",
       "      <td>https://music.apple.com/us/album/bored/1440880...</td>\n",
       "      <td>track</td>\n",
       "    </tr>\n",
       "    <tr>\n",
       "      <th>27</th>\n",
       "      <td>1065981054</td>\n",
       "      <td>Billie Eilish</td>\n",
       "      <td>https://music.apple.com/us/artist/billie-eilis...</td>\n",
       "      <td>https://is5-ssl.mzstatic.com/image/thumb/Music...</td>\n",
       "      <td>https://is5-ssl.mzstatic.com/image/thumb/Music...</td>\n",
       "      <td>https://is5-ssl.mzstatic.com/image/thumb/Music...</td>\n",
       "      <td>NaN</td>\n",
       "      <td>NaN</td>\n",
       "      <td>NaN</td>\n",
       "      <td>dont smile at me</td>\n",
       "      <td>...</td>\n",
       "      <td>party favor</td>\n",
       "      <td>9.0</td>\n",
       "      <td>notExplicit</td>\n",
       "      <td>1440899140</td>\n",
       "      <td>party favor</td>\n",
       "      <td>5.0</td>\n",
       "      <td>1.29</td>\n",
       "      <td>204770</td>\n",
       "      <td>https://music.apple.com/us/album/party-favor/1...</td>\n",
       "      <td>track</td>\n",
       "    </tr>\n",
       "    <tr>\n",
       "      <th>28</th>\n",
       "      <td>1065981054</td>\n",
       "      <td>Billie Eilish</td>\n",
       "      <td>https://music.apple.com/us/artist/billie-eilis...</td>\n",
       "      <td>https://is5-ssl.mzstatic.com/image/thumb/Music...</td>\n",
       "      <td>https://is5-ssl.mzstatic.com/image/thumb/Music...</td>\n",
       "      <td>https://is5-ssl.mzstatic.com/image/thumb/Music...</td>\n",
       "      <td>NaN</td>\n",
       "      <td>NaN</td>\n",
       "      <td>NaN</td>\n",
       "      <td>Up Next Session: Billie Eilish (Live) - Single</td>\n",
       "      <td>...</td>\n",
       "      <td>bellyache (Live)</td>\n",
       "      <td>3.0</td>\n",
       "      <td>notExplicit</td>\n",
       "      <td>1444871458</td>\n",
       "      <td>bellyache</td>\n",
       "      <td>1.0</td>\n",
       "      <td>1.29</td>\n",
       "      <td>186973</td>\n",
       "      <td>https://music.apple.com/us/album/bellyache-liv...</td>\n",
       "      <td>track</td>\n",
       "    </tr>\n",
       "    <tr>\n",
       "      <th>29</th>\n",
       "      <td>1065981054</td>\n",
       "      <td>Billie Eilish</td>\n",
       "      <td>https://music.apple.com/us/artist/billie-eilis...</td>\n",
       "      <td>https://is5-ssl.mzstatic.com/image/thumb/Music...</td>\n",
       "      <td>https://is5-ssl.mzstatic.com/image/thumb/Music...</td>\n",
       "      <td>https://is5-ssl.mzstatic.com/image/thumb/Music...</td>\n",
       "      <td>3.627000e+04</td>\n",
       "      <td>Various Artists</td>\n",
       "      <td>NaN</td>\n",
       "      <td>NOW That's What I Call Music, Vol. 64</td>\n",
       "      <td>...</td>\n",
       "      <td>Ocean Eyes (NOW What's Next!)</td>\n",
       "      <td>22.0</td>\n",
       "      <td>notExplicit</td>\n",
       "      <td>1429675332</td>\n",
       "      <td>Ocean Eyes</td>\n",
       "      <td>21.0</td>\n",
       "      <td>-1.00</td>\n",
       "      <td>195600</td>\n",
       "      <td>https://music.apple.com/us/album/ocean-eyes-no...</td>\n",
       "      <td>track</td>\n",
       "    </tr>\n",
       "    <tr>\n",
       "      <th>30</th>\n",
       "      <td>1065981054</td>\n",
       "      <td>Billie Eilish</td>\n",
       "      <td>https://music.apple.com/us/artist/billie-eilis...</td>\n",
       "      <td>https://is2-ssl.mzstatic.com/image/thumb/Music...</td>\n",
       "      <td>https://is2-ssl.mzstatic.com/image/thumb/Music...</td>\n",
       "      <td>https://is2-ssl.mzstatic.com/image/thumb/Music...</td>\n",
       "      <td>NaN</td>\n",
       "      <td>NaN</td>\n",
       "      <td>NaN</td>\n",
       "      <td>Ocean Eyes (The Remixes) - EP</td>\n",
       "      <td>...</td>\n",
       "      <td>Ocean Eyes (Astronomyy Remix)</td>\n",
       "      <td>4.0</td>\n",
       "      <td>notExplicit</td>\n",
       "      <td>1440894525</td>\n",
       "      <td>Ocean Eyes</td>\n",
       "      <td>1.0</td>\n",
       "      <td>1.29</td>\n",
       "      <td>296267</td>\n",
       "      <td>https://music.apple.com/us/album/ocean-eyes-as...</td>\n",
       "      <td>track</td>\n",
       "    </tr>\n",
       "    <tr>\n",
       "      <th>31</th>\n",
       "      <td>1065981054</td>\n",
       "      <td>Billie Eilish</td>\n",
       "      <td>https://music.apple.com/us/artist/billie-eilis...</td>\n",
       "      <td>https://is4-ssl.mzstatic.com/image/thumb/Music...</td>\n",
       "      <td>https://is4-ssl.mzstatic.com/image/thumb/Music...</td>\n",
       "      <td>https://is4-ssl.mzstatic.com/image/thumb/Music...</td>\n",
       "      <td>NaN</td>\n",
       "      <td>NaN</td>\n",
       "      <td>NaN</td>\n",
       "      <td>Six Feet Under - Single</td>\n",
       "      <td>...</td>\n",
       "      <td>Six Feet Under</td>\n",
       "      <td>1.0</td>\n",
       "      <td>notExplicit</td>\n",
       "      <td>1444890132</td>\n",
       "      <td>Six Feet Under</td>\n",
       "      <td>1.0</td>\n",
       "      <td>1.29</td>\n",
       "      <td>189613</td>\n",
       "      <td>https://music.apple.com/us/album/six-feet-unde...</td>\n",
       "      <td>track</td>\n",
       "    </tr>\n",
       "    <tr>\n",
       "      <th>32</th>\n",
       "      <td>1065981054</td>\n",
       "      <td>Billie Eilish &amp; Khalid</td>\n",
       "      <td>https://music.apple.com/us/artist/billie-eilis...</td>\n",
       "      <td>https://is4-ssl.mzstatic.com/image/thumb/Music...</td>\n",
       "      <td>https://is4-ssl.mzstatic.com/image/thumb/Music...</td>\n",
       "      <td>https://is4-ssl.mzstatic.com/image/thumb/Music...</td>\n",
       "      <td>2.802158e+08</td>\n",
       "      <td>Selena Gomez, OneRepublic &amp; YUNGBLUD</td>\n",
       "      <td>https://music.apple.com/us/artist/selena-gomez...</td>\n",
       "      <td>13 Reasons Why: Season 2 (Music from the Origi...</td>\n",
       "      <td>...</td>\n",
       "      <td>lovely</td>\n",
       "      <td>20.0</td>\n",
       "      <td>notExplicit</td>\n",
       "      <td>1381916691</td>\n",
       "      <td>lovely</td>\n",
       "      <td>2.0</td>\n",
       "      <td>1.29</td>\n",
       "      <td>201867</td>\n",
       "      <td>https://music.apple.com/us/album/lovely/138191...</td>\n",
       "      <td>track</td>\n",
       "    </tr>\n",
       "    <tr>\n",
       "      <th>33</th>\n",
       "      <td>1065981054</td>\n",
       "      <td>Billie Eilish</td>\n",
       "      <td>https://music.apple.com/us/artist/billie-eilis...</td>\n",
       "      <td>https://is3-ssl.mzstatic.com/image/thumb/Music...</td>\n",
       "      <td>https://is3-ssl.mzstatic.com/image/thumb/Music...</td>\n",
       "      <td>https://is3-ssl.mzstatic.com/image/thumb/Music...</td>\n",
       "      <td>NaN</td>\n",
       "      <td>NaN</td>\n",
       "      <td>NaN</td>\n",
       "      <td>Bellyache (Marian Hill Remix) - Single</td>\n",
       "      <td>...</td>\n",
       "      <td>Bellyache (Marian Hill Remix)</td>\n",
       "      <td>1.0</td>\n",
       "      <td>notExplicit</td>\n",
       "      <td>1445287022</td>\n",
       "      <td>Bellyache</td>\n",
       "      <td>1.0</td>\n",
       "      <td>1.29</td>\n",
       "      <td>220800</td>\n",
       "      <td>https://music.apple.com/us/album/bellyache-mar...</td>\n",
       "      <td>track</td>\n",
       "    </tr>\n",
       "    <tr>\n",
       "      <th>34</th>\n",
       "      <td>1065981054</td>\n",
       "      <td>Billie Eilish</td>\n",
       "      <td>https://music.apple.com/us/artist/billie-eilis...</td>\n",
       "      <td>https://is2-ssl.mzstatic.com/image/thumb/Music...</td>\n",
       "      <td>https://is2-ssl.mzstatic.com/image/thumb/Music...</td>\n",
       "      <td>https://is2-ssl.mzstatic.com/image/thumb/Music...</td>\n",
       "      <td>NaN</td>\n",
       "      <td>NaN</td>\n",
       "      <td>NaN</td>\n",
       "      <td>Ocean Eyes (The Remixes) - EP</td>\n",
       "      <td>...</td>\n",
       "      <td>Ocean Eyes (Blackbear Remix)</td>\n",
       "      <td>4.0</td>\n",
       "      <td>notExplicit</td>\n",
       "      <td>1440894698</td>\n",
       "      <td>Ocean Eyes</td>\n",
       "      <td>2.0</td>\n",
       "      <td>1.29</td>\n",
       "      <td>195307</td>\n",
       "      <td>https://music.apple.com/us/album/ocean-eyes-bl...</td>\n",
       "      <td>track</td>\n",
       "    </tr>\n",
       "    <tr>\n",
       "      <th>35</th>\n",
       "      <td>1065981054</td>\n",
       "      <td>Billie Eilish</td>\n",
       "      <td>https://music.apple.com/us/artist/billie-eilis...</td>\n",
       "      <td>https://is5-ssl.mzstatic.com/image/thumb/Music...</td>\n",
       "      <td>https://is5-ssl.mzstatic.com/image/thumb/Music...</td>\n",
       "      <td>https://is5-ssl.mzstatic.com/image/thumb/Music...</td>\n",
       "      <td>NaN</td>\n",
       "      <td>NaN</td>\n",
       "      <td>NaN</td>\n",
       "      <td>Up Next Session: Billie Eilish (Live) - Single</td>\n",
       "      <td>...</td>\n",
       "      <td>ocean eyes (Live)</td>\n",
       "      <td>3.0</td>\n",
       "      <td>notExplicit</td>\n",
       "      <td>1444871460</td>\n",
       "      <td>ocean eyes</td>\n",
       "      <td>3.0</td>\n",
       "      <td>1.29</td>\n",
       "      <td>210483</td>\n",
       "      <td>https://music.apple.com/us/album/ocean-eyes-li...</td>\n",
       "      <td>track</td>\n",
       "    </tr>\n",
       "    <tr>\n",
       "      <th>36</th>\n",
       "      <td>1065981054</td>\n",
       "      <td>Billie Eilish</td>\n",
       "      <td>https://music.apple.com/us/artist/billie-eilis...</td>\n",
       "      <td>https://is4-ssl.mzstatic.com/image/thumb/Music...</td>\n",
       "      <td>https://is4-ssl.mzstatic.com/image/thumb/Music...</td>\n",
       "      <td>https://is4-ssl.mzstatic.com/image/thumb/Music...</td>\n",
       "      <td>3.627000e+04</td>\n",
       "      <td>Various Artists</td>\n",
       "      <td>NaN</td>\n",
       "      <td>NOW That's What I Call Music!, Vol. 70</td>\n",
       "      <td>...</td>\n",
       "      <td>When the Party's Over</td>\n",
       "      <td>21.0</td>\n",
       "      <td>notExplicit</td>\n",
       "      <td>1459612682</td>\n",
       "      <td>When the Party's Over</td>\n",
       "      <td>14.0</td>\n",
       "      <td>-1.00</td>\n",
       "      <td>189947</td>\n",
       "      <td>https://music.apple.com/us/album/when-the-part...</td>\n",
       "      <td>track</td>\n",
       "    </tr>\n",
       "    <tr>\n",
       "      <th>37</th>\n",
       "      <td>1065981054</td>\n",
       "      <td>Billie Eilish</td>\n",
       "      <td>https://music.apple.com/us/artist/billie-eilis...</td>\n",
       "      <td>https://is4-ssl.mzstatic.com/image/thumb/Music...</td>\n",
       "      <td>https://is4-ssl.mzstatic.com/image/thumb/Music...</td>\n",
       "      <td>https://is4-ssl.mzstatic.com/image/thumb/Music...</td>\n",
       "      <td>NaN</td>\n",
       "      <td>NaN</td>\n",
       "      <td>NaN</td>\n",
       "      <td>WHEN I WAS OLDER (Music Inspired by the Film \"...</td>\n",
       "      <td>...</td>\n",
       "      <td>WHEN I WAS OLDER (Music Inspired by the Film \"...</td>\n",
       "      <td>1.0</td>\n",
       "      <td>notExplicit</td>\n",
       "      <td>1448440127</td>\n",
       "      <td>WHEN I WAS OLDER</td>\n",
       "      <td>1.0</td>\n",
       "      <td>1.29</td>\n",
       "      <td>270520</td>\n",
       "      <td>https://music.apple.com/us/album/when-i-was-ol...</td>\n",
       "      <td>track</td>\n",
       "    </tr>\n",
       "    <tr>\n",
       "      <th>38</th>\n",
       "      <td>1065981054</td>\n",
       "      <td>Billie Eilish &amp; Vince Staples</td>\n",
       "      <td>https://music.apple.com/us/artist/billie-eilis...</td>\n",
       "      <td>https://is5-ssl.mzstatic.com/image/thumb/Music...</td>\n",
       "      <td>https://is5-ssl.mzstatic.com/image/thumb/Music...</td>\n",
       "      <td>https://is5-ssl.mzstatic.com/image/thumb/Music...</td>\n",
       "      <td>NaN</td>\n",
       "      <td>NaN</td>\n",
       "      <td>NaN</td>\n",
       "      <td>&amp;burn - Single</td>\n",
       "      <td>...</td>\n",
       "      <td>&amp;burn</td>\n",
       "      <td>1.0</td>\n",
       "      <td>notExplicit</td>\n",
       "      <td>1444890651</td>\n",
       "      <td>&amp;burn</td>\n",
       "      <td>1.0</td>\n",
       "      <td>1.29</td>\n",
       "      <td>179016</td>\n",
       "      <td>https://music.apple.com/us/album/burn/14448906...</td>\n",
       "      <td>track</td>\n",
       "    </tr>\n",
       "    <tr>\n",
       "      <th>39</th>\n",
       "      <td>1065981054</td>\n",
       "      <td>Billie Eilish</td>\n",
       "      <td>https://music.apple.com/us/artist/billie-eilis...</td>\n",
       "      <td>https://is5-ssl.mzstatic.com/image/thumb/Music...</td>\n",
       "      <td>https://is5-ssl.mzstatic.com/image/thumb/Music...</td>\n",
       "      <td>https://is5-ssl.mzstatic.com/image/thumb/Music...</td>\n",
       "      <td>NaN</td>\n",
       "      <td>NaN</td>\n",
       "      <td>NaN</td>\n",
       "      <td>Up Next Session: Billie Eilish (Live) - Single</td>\n",
       "      <td>...</td>\n",
       "      <td>watch (Live)</td>\n",
       "      <td>3.0</td>\n",
       "      <td>notExplicit</td>\n",
       "      <td>1444871459</td>\n",
       "      <td>watch</td>\n",
       "      <td>2.0</td>\n",
       "      <td>1.29</td>\n",
       "      <td>199271</td>\n",
       "      <td>https://music.apple.com/us/album/watch-live/14...</td>\n",
       "      <td>track</td>\n",
       "    </tr>\n",
       "    <tr>\n",
       "      <th>40</th>\n",
       "      <td>1065981054</td>\n",
       "      <td>Billie Eilish</td>\n",
       "      <td>https://music.apple.com/us/artist/billie-eilis...</td>\n",
       "      <td>https://is1-ssl.mzstatic.com/image/thumb/Music...</td>\n",
       "      <td>https://is1-ssl.mzstatic.com/image/thumb/Music...</td>\n",
       "      <td>https://is1-ssl.mzstatic.com/image/thumb/Music...</td>\n",
       "      <td>1.472833e+09</td>\n",
       "      <td>NOW</td>\n",
       "      <td>https://music.apple.com/us/artist/now/14728333...</td>\n",
       "      <td>NOW That's What I Call Music, Vol. 71</td>\n",
       "      <td>...</td>\n",
       "      <td>Bad Guy</td>\n",
       "      <td>20.0</td>\n",
       "      <td>notExplicit</td>\n",
       "      <td>1472053538</td>\n",
       "      <td>Bad Guy</td>\n",
       "      <td>5.0</td>\n",
       "      <td>NaN</td>\n",
       "      <td>191227</td>\n",
       "      <td>https://music.apple.com/us/album/bad-guy/14720...</td>\n",
       "      <td>track</td>\n",
       "    </tr>\n",
       "    <tr>\n",
       "      <th>41</th>\n",
       "      <td>1065981054</td>\n",
       "      <td>Billie Eilish</td>\n",
       "      <td>https://music.apple.com/us/artist/billie-eilis...</td>\n",
       "      <td>https://is2-ssl.mzstatic.com/image/thumb/Music...</td>\n",
       "      <td>https://is2-ssl.mzstatic.com/image/thumb/Music...</td>\n",
       "      <td>https://is2-ssl.mzstatic.com/image/thumb/Music...</td>\n",
       "      <td>NaN</td>\n",
       "      <td>NaN</td>\n",
       "      <td>NaN</td>\n",
       "      <td>Ocean Eyes (The Remixes) - EP</td>\n",
       "      <td>...</td>\n",
       "      <td>Ocean Eyes (GOLDHOUSE Remix)</td>\n",
       "      <td>4.0</td>\n",
       "      <td>notExplicit</td>\n",
       "      <td>1440894838</td>\n",
       "      <td>Ocean Eyes</td>\n",
       "      <td>3.0</td>\n",
       "      <td>1.29</td>\n",
       "      <td>213600</td>\n",
       "      <td>https://music.apple.com/us/album/ocean-eyes-go...</td>\n",
       "      <td>track</td>\n",
       "    </tr>\n",
       "    <tr>\n",
       "      <th>42</th>\n",
       "      <td>1065981054</td>\n",
       "      <td>Billie Eilish</td>\n",
       "      <td>https://music.apple.com/us/artist/billie-eilis...</td>\n",
       "      <td>https://is5-ssl.mzstatic.com/image/thumb/Music...</td>\n",
       "      <td>https://is5-ssl.mzstatic.com/image/thumb/Music...</td>\n",
       "      <td>https://is5-ssl.mzstatic.com/image/thumb/Music...</td>\n",
       "      <td>NaN</td>\n",
       "      <td>NaN</td>\n",
       "      <td>NaN</td>\n",
       "      <td>MyBoi (TroyBoi Remix) - Single</td>\n",
       "      <td>...</td>\n",
       "      <td>MyBoi (TroyBoi Remix)</td>\n",
       "      <td>1.0</td>\n",
       "      <td>notExplicit</td>\n",
       "      <td>1354031025</td>\n",
       "      <td>MyBoi</td>\n",
       "      <td>1.0</td>\n",
       "      <td>1.29</td>\n",
       "      <td>211304</td>\n",
       "      <td>https://music.apple.com/us/album/myboi-troyboi...</td>\n",
       "      <td>track</td>\n",
       "    </tr>\n",
       "    <tr>\n",
       "      <th>43</th>\n",
       "      <td>1065981054</td>\n",
       "      <td>Billie Eilish</td>\n",
       "      <td>https://music.apple.com/us/artist/billie-eilis...</td>\n",
       "      <td>https://is2-ssl.mzstatic.com/image/thumb/Video...</td>\n",
       "      <td>https://is2-ssl.mzstatic.com/image/thumb/Video...</td>\n",
       "      <td>https://is2-ssl.mzstatic.com/image/thumb/Video...</td>\n",
       "      <td>NaN</td>\n",
       "      <td>NaN</td>\n",
       "      <td>NaN</td>\n",
       "      <td>NaN</td>\n",
       "      <td>...</td>\n",
       "      <td>bad guy</td>\n",
       "      <td>NaN</td>\n",
       "      <td>notExplicit</td>\n",
       "      <td>1458003118</td>\n",
       "      <td>bad guy</td>\n",
       "      <td>NaN</td>\n",
       "      <td>1.99</td>\n",
       "      <td>205928</td>\n",
       "      <td>https://music.apple.com/us/music-video/bad-guy...</td>\n",
       "      <td>track</td>\n",
       "    </tr>\n",
       "    <tr>\n",
       "      <th>44</th>\n",
       "      <td>1065981054</td>\n",
       "      <td>Billie Eilish</td>\n",
       "      <td>https://music.apple.com/us/artist/billie-eilis...</td>\n",
       "      <td>https://is2-ssl.mzstatic.com/image/thumb/Music...</td>\n",
       "      <td>https://is2-ssl.mzstatic.com/image/thumb/Music...</td>\n",
       "      <td>https://is2-ssl.mzstatic.com/image/thumb/Music...</td>\n",
       "      <td>NaN</td>\n",
       "      <td>NaN</td>\n",
       "      <td>NaN</td>\n",
       "      <td>Ocean Eyes (The Remixes) - EP</td>\n",
       "      <td>...</td>\n",
       "      <td>Ocean Eyes (Cautious Clay Remix)</td>\n",
       "      <td>4.0</td>\n",
       "      <td>notExplicit</td>\n",
       "      <td>1440894859</td>\n",
       "      <td>Ocean Eyes</td>\n",
       "      <td>4.0</td>\n",
       "      <td>1.29</td>\n",
       "      <td>191293</td>\n",
       "      <td>https://music.apple.com/us/album/ocean-eyes-ca...</td>\n",
       "      <td>track</td>\n",
       "    </tr>\n",
       "    <tr>\n",
       "      <th>45</th>\n",
       "      <td>1065981054</td>\n",
       "      <td>Billie Eilish</td>\n",
       "      <td>https://music.apple.com/us/artist/billie-eilis...</td>\n",
       "      <td>https://is5-ssl.mzstatic.com/image/thumb/Music...</td>\n",
       "      <td>https://is5-ssl.mzstatic.com/image/thumb/Music...</td>\n",
       "      <td>https://is5-ssl.mzstatic.com/image/thumb/Music...</td>\n",
       "      <td>3.627000e+04</td>\n",
       "      <td>Various Artists</td>\n",
       "      <td>NaN</td>\n",
       "      <td>The Hate U Give (Original Motion Picture Sound...</td>\n",
       "      <td>...</td>\n",
       "      <td>Ocean Eyes</td>\n",
       "      <td>14.0</td>\n",
       "      <td>notExplicit</td>\n",
       "      <td>1436889877</td>\n",
       "      <td>Ocean Eyes</td>\n",
       "      <td>13.0</td>\n",
       "      <td>1.29</td>\n",
       "      <td>200387</td>\n",
       "      <td>https://music.apple.com/us/album/ocean-eyes/14...</td>\n",
       "      <td>track</td>\n",
       "    </tr>\n",
       "    <tr>\n",
       "      <th>46</th>\n",
       "      <td>1065981054</td>\n",
       "      <td>Billie Eilish</td>\n",
       "      <td>https://music.apple.com/us/artist/billie-eilis...</td>\n",
       "      <td>https://is2-ssl.mzstatic.com/image/thumb/Video...</td>\n",
       "      <td>https://is2-ssl.mzstatic.com/image/thumb/Video...</td>\n",
       "      <td>https://is2-ssl.mzstatic.com/image/thumb/Video...</td>\n",
       "      <td>NaN</td>\n",
       "      <td>NaN</td>\n",
       "      <td>NaN</td>\n",
       "      <td>NaN</td>\n",
       "      <td>...</td>\n",
       "      <td>you should see me in a crown (By Takashi Murak...</td>\n",
       "      <td>NaN</td>\n",
       "      <td>notExplicit</td>\n",
       "      <td>1455550182</td>\n",
       "      <td>you should see me in a crown (By Takashi Murak...</td>\n",
       "      <td>NaN</td>\n",
       "      <td>1.99</td>\n",
       "      <td>192040</td>\n",
       "      <td>https://music.apple.com/us/music-video/you-sho...</td>\n",
       "      <td>track</td>\n",
       "    </tr>\n",
       "    <tr>\n",
       "      <th>47</th>\n",
       "      <td>1065981054</td>\n",
       "      <td>Billie Eilish</td>\n",
       "      <td>https://music.apple.com/us/artist/billie-eilis...</td>\n",
       "      <td>https://is3-ssl.mzstatic.com/image/thumb/Music...</td>\n",
       "      <td>https://is3-ssl.mzstatic.com/image/thumb/Music...</td>\n",
       "      <td>https://is3-ssl.mzstatic.com/image/thumb/Music...</td>\n",
       "      <td>9.073104e+08</td>\n",
       "      <td>Connor Franta</td>\n",
       "      <td>https://books.apple.com/us/author/connor-frant...</td>\n",
       "      <td>Common Culture, Vol. V</td>\n",
       "      <td>...</td>\n",
       "      <td>Ocean Eyes</td>\n",
       "      <td>13.0</td>\n",
       "      <td>notExplicit</td>\n",
       "      <td>1106024205</td>\n",
       "      <td>Ocean Eyes</td>\n",
       "      <td>3.0</td>\n",
       "      <td>-1.00</td>\n",
       "      <td>200379</td>\n",
       "      <td>https://music.apple.com/us/album/ocean-eyes/11...</td>\n",
       "      <td>track</td>\n",
       "    </tr>\n",
       "    <tr>\n",
       "      <th>48</th>\n",
       "      <td>1065981054</td>\n",
       "      <td>Billie Eilish</td>\n",
       "      <td>https://music.apple.com/us/artist/billie-eilis...</td>\n",
       "      <td>https://is3-ssl.mzstatic.com/image/thumb/Music...</td>\n",
       "      <td>https://is3-ssl.mzstatic.com/image/thumb/Music...</td>\n",
       "      <td>https://is3-ssl.mzstatic.com/image/thumb/Music...</td>\n",
       "      <td>NaN</td>\n",
       "      <td>NaN</td>\n",
       "      <td>NaN</td>\n",
       "      <td>COPYCAT (Sofi Tukker Remix) - Single</td>\n",
       "      <td>...</td>\n",
       "      <td>COPYCAT (Sofi Tukker Remix)</td>\n",
       "      <td>1.0</td>\n",
       "      <td>notExplicit</td>\n",
       "      <td>1444885109</td>\n",
       "      <td>COPYCAT</td>\n",
       "      <td>1.0</td>\n",
       "      <td>1.29</td>\n",
       "      <td>198684</td>\n",
       "      <td>https://music.apple.com/us/album/copycat-sofi-...</td>\n",
       "      <td>track</td>\n",
       "    </tr>\n",
       "    <tr>\n",
       "      <th>49</th>\n",
       "      <td>1065981054</td>\n",
       "      <td>Billie Eilish</td>\n",
       "      <td>https://music.apple.com/us/artist/billie-eilis...</td>\n",
       "      <td>https://is2-ssl.mzstatic.com/image/thumb/Video...</td>\n",
       "      <td>https://is2-ssl.mzstatic.com/image/thumb/Video...</td>\n",
       "      <td>https://is2-ssl.mzstatic.com/image/thumb/Video...</td>\n",
       "      <td>NaN</td>\n",
       "      <td>NaN</td>\n",
       "      <td>NaN</td>\n",
       "      <td>NaN</td>\n",
       "      <td>...</td>\n",
       "      <td>bury a friend</td>\n",
       "      <td>NaN</td>\n",
       "      <td>notExplicit</td>\n",
       "      <td>1450880409</td>\n",
       "      <td>bury a friend</td>\n",
       "      <td>NaN</td>\n",
       "      <td>1.99</td>\n",
       "      <td>212008</td>\n",
       "      <td>https://music.apple.com/us/music-video/bury-a-...</td>\n",
       "      <td>track</td>\n",
       "    </tr>\n",
       "  </tbody>\n",
       "</table>\n",
       "<p>50 rows × 35 columns</p>\n",
       "</div>"
      ],
      "text/plain": [
       "      artistId                     artistName  \\\n",
       "0   1065981054                  Billie Eilish   \n",
       "1   1065981054                  Billie Eilish   \n",
       "2   1065981054         Billie Eilish & Khalid   \n",
       "3   1065981054                  Billie Eilish   \n",
       "4   1065981054                  Billie Eilish   \n",
       "5   1065981054                  Billie Eilish   \n",
       "6   1065981054  Billie Eilish & Justin Bieber   \n",
       "7   1065981054                  Billie Eilish   \n",
       "8   1065981054                  Billie Eilish   \n",
       "9   1065981054                  Billie Eilish   \n",
       "10  1065981054                  Billie Eilish   \n",
       "11  1065981054                  Billie Eilish   \n",
       "12  1065981054                  Billie Eilish   \n",
       "13  1065981054                  Billie Eilish   \n",
       "14  1065981054                  Billie Eilish   \n",
       "15  1065981054                  Billie Eilish   \n",
       "16  1065981054                  Billie Eilish   \n",
       "17  1065981054                  Billie Eilish   \n",
       "18  1065981054                  Billie Eilish   \n",
       "19  1065981054                  Billie Eilish   \n",
       "20  1065981054                  Billie Eilish   \n",
       "21  1065981054  Billie Eilish & Vince Staples   \n",
       "22  1065981054                  Billie Eilish   \n",
       "23  1065981054                  Billie Eilish   \n",
       "24  1065981054                  Billie Eilish   \n",
       "25  1065981054                  Billie Eilish   \n",
       "26  1065981054                  Billie Eilish   \n",
       "27  1065981054                  Billie Eilish   \n",
       "28  1065981054                  Billie Eilish   \n",
       "29  1065981054                  Billie Eilish   \n",
       "30  1065981054                  Billie Eilish   \n",
       "31  1065981054                  Billie Eilish   \n",
       "32  1065981054         Billie Eilish & Khalid   \n",
       "33  1065981054                  Billie Eilish   \n",
       "34  1065981054                  Billie Eilish   \n",
       "35  1065981054                  Billie Eilish   \n",
       "36  1065981054                  Billie Eilish   \n",
       "37  1065981054                  Billie Eilish   \n",
       "38  1065981054  Billie Eilish & Vince Staples   \n",
       "39  1065981054                  Billie Eilish   \n",
       "40  1065981054                  Billie Eilish   \n",
       "41  1065981054                  Billie Eilish   \n",
       "42  1065981054                  Billie Eilish   \n",
       "43  1065981054                  Billie Eilish   \n",
       "44  1065981054                  Billie Eilish   \n",
       "45  1065981054                  Billie Eilish   \n",
       "46  1065981054                  Billie Eilish   \n",
       "47  1065981054                  Billie Eilish   \n",
       "48  1065981054                  Billie Eilish   \n",
       "49  1065981054                  Billie Eilish   \n",
       "\n",
       "                                        artistViewUrl  \\\n",
       "0   https://music.apple.com/us/artist/billie-eilis...   \n",
       "1   https://music.apple.com/us/artist/billie-eilis...   \n",
       "2   https://music.apple.com/us/artist/billie-eilis...   \n",
       "3   https://music.apple.com/us/artist/billie-eilis...   \n",
       "4   https://music.apple.com/us/artist/billie-eilis...   \n",
       "5   https://music.apple.com/us/artist/billie-eilis...   \n",
       "6   https://music.apple.com/us/artist/billie-eilis...   \n",
       "7   https://music.apple.com/us/artist/billie-eilis...   \n",
       "8   https://music.apple.com/us/artist/billie-eilis...   \n",
       "9   https://music.apple.com/us/artist/billie-eilis...   \n",
       "10  https://music.apple.com/us/artist/billie-eilis...   \n",
       "11  https://music.apple.com/us/artist/billie-eilis...   \n",
       "12  https://music.apple.com/us/artist/billie-eilis...   \n",
       "13  https://music.apple.com/us/artist/billie-eilis...   \n",
       "14  https://music.apple.com/us/artist/billie-eilis...   \n",
       "15  https://music.apple.com/us/artist/billie-eilis...   \n",
       "16  https://music.apple.com/us/artist/billie-eilis...   \n",
       "17  https://music.apple.com/us/artist/billie-eilis...   \n",
       "18  https://music.apple.com/us/artist/billie-eilis...   \n",
       "19  https://music.apple.com/us/artist/billie-eilis...   \n",
       "20  https://music.apple.com/us/artist/billie-eilis...   \n",
       "21  https://music.apple.com/us/artist/billie-eilis...   \n",
       "22  https://music.apple.com/us/artist/billie-eilis...   \n",
       "23  https://music.apple.com/us/artist/billie-eilis...   \n",
       "24  https://music.apple.com/us/artist/billie-eilis...   \n",
       "25  https://music.apple.com/us/artist/billie-eilis...   \n",
       "26  https://music.apple.com/us/artist/billie-eilis...   \n",
       "27  https://music.apple.com/us/artist/billie-eilis...   \n",
       "28  https://music.apple.com/us/artist/billie-eilis...   \n",
       "29  https://music.apple.com/us/artist/billie-eilis...   \n",
       "30  https://music.apple.com/us/artist/billie-eilis...   \n",
       "31  https://music.apple.com/us/artist/billie-eilis...   \n",
       "32  https://music.apple.com/us/artist/billie-eilis...   \n",
       "33  https://music.apple.com/us/artist/billie-eilis...   \n",
       "34  https://music.apple.com/us/artist/billie-eilis...   \n",
       "35  https://music.apple.com/us/artist/billie-eilis...   \n",
       "36  https://music.apple.com/us/artist/billie-eilis...   \n",
       "37  https://music.apple.com/us/artist/billie-eilis...   \n",
       "38  https://music.apple.com/us/artist/billie-eilis...   \n",
       "39  https://music.apple.com/us/artist/billie-eilis...   \n",
       "40  https://music.apple.com/us/artist/billie-eilis...   \n",
       "41  https://music.apple.com/us/artist/billie-eilis...   \n",
       "42  https://music.apple.com/us/artist/billie-eilis...   \n",
       "43  https://music.apple.com/us/artist/billie-eilis...   \n",
       "44  https://music.apple.com/us/artist/billie-eilis...   \n",
       "45  https://music.apple.com/us/artist/billie-eilis...   \n",
       "46  https://music.apple.com/us/artist/billie-eilis...   \n",
       "47  https://music.apple.com/us/artist/billie-eilis...   \n",
       "48  https://music.apple.com/us/artist/billie-eilis...   \n",
       "49  https://music.apple.com/us/artist/billie-eilis...   \n",
       "\n",
       "                                        artworkUrl100  \\\n",
       "0   https://is5-ssl.mzstatic.com/image/thumb/Music...   \n",
       "1   https://is5-ssl.mzstatic.com/image/thumb/Music...   \n",
       "2   https://is2-ssl.mzstatic.com/image/thumb/Music...   \n",
       "3   https://is5-ssl.mzstatic.com/image/thumb/Music...   \n",
       "4   https://is5-ssl.mzstatic.com/image/thumb/Music...   \n",
       "5   https://is5-ssl.mzstatic.com/image/thumb/Music...   \n",
       "6   https://is2-ssl.mzstatic.com/image/thumb/Music...   \n",
       "7   https://is5-ssl.mzstatic.com/image/thumb/Music...   \n",
       "8   https://is5-ssl.mzstatic.com/image/thumb/Music...   \n",
       "9   https://is5-ssl.mzstatic.com/image/thumb/Music...   \n",
       "10  https://is5-ssl.mzstatic.com/image/thumb/Music...   \n",
       "11  https://is5-ssl.mzstatic.com/image/thumb/Music...   \n",
       "12  https://is5-ssl.mzstatic.com/image/thumb/Music...   \n",
       "13  https://is5-ssl.mzstatic.com/image/thumb/Music...   \n",
       "14  https://is5-ssl.mzstatic.com/image/thumb/Music...   \n",
       "15  https://is5-ssl.mzstatic.com/image/thumb/Music...   \n",
       "16  https://is5-ssl.mzstatic.com/image/thumb/Music...   \n",
       "17  https://is5-ssl.mzstatic.com/image/thumb/Music...   \n",
       "18  https://is5-ssl.mzstatic.com/image/thumb/Music...   \n",
       "19  https://is2-ssl.mzstatic.com/image/thumb/Music...   \n",
       "20  https://is5-ssl.mzstatic.com/image/thumb/Music...   \n",
       "21  https://is5-ssl.mzstatic.com/image/thumb/Music...   \n",
       "22  https://is5-ssl.mzstatic.com/image/thumb/Music...   \n",
       "23  https://is5-ssl.mzstatic.com/image/thumb/Music...   \n",
       "24  https://is5-ssl.mzstatic.com/image/thumb/Music...   \n",
       "25  https://is2-ssl.mzstatic.com/image/thumb/Music...   \n",
       "26  https://is4-ssl.mzstatic.com/image/thumb/Music...   \n",
       "27  https://is5-ssl.mzstatic.com/image/thumb/Music...   \n",
       "28  https://is5-ssl.mzstatic.com/image/thumb/Music...   \n",
       "29  https://is5-ssl.mzstatic.com/image/thumb/Music...   \n",
       "30  https://is2-ssl.mzstatic.com/image/thumb/Music...   \n",
       "31  https://is4-ssl.mzstatic.com/image/thumb/Music...   \n",
       "32  https://is4-ssl.mzstatic.com/image/thumb/Music...   \n",
       "33  https://is3-ssl.mzstatic.com/image/thumb/Music...   \n",
       "34  https://is2-ssl.mzstatic.com/image/thumb/Music...   \n",
       "35  https://is5-ssl.mzstatic.com/image/thumb/Music...   \n",
       "36  https://is4-ssl.mzstatic.com/image/thumb/Music...   \n",
       "37  https://is4-ssl.mzstatic.com/image/thumb/Music...   \n",
       "38  https://is5-ssl.mzstatic.com/image/thumb/Music...   \n",
       "39  https://is5-ssl.mzstatic.com/image/thumb/Music...   \n",
       "40  https://is1-ssl.mzstatic.com/image/thumb/Music...   \n",
       "41  https://is2-ssl.mzstatic.com/image/thumb/Music...   \n",
       "42  https://is5-ssl.mzstatic.com/image/thumb/Music...   \n",
       "43  https://is2-ssl.mzstatic.com/image/thumb/Video...   \n",
       "44  https://is2-ssl.mzstatic.com/image/thumb/Music...   \n",
       "45  https://is5-ssl.mzstatic.com/image/thumb/Music...   \n",
       "46  https://is2-ssl.mzstatic.com/image/thumb/Video...   \n",
       "47  https://is3-ssl.mzstatic.com/image/thumb/Music...   \n",
       "48  https://is3-ssl.mzstatic.com/image/thumb/Music...   \n",
       "49  https://is2-ssl.mzstatic.com/image/thumb/Video...   \n",
       "\n",
       "                                         artworkUrl30  \\\n",
       "0   https://is5-ssl.mzstatic.com/image/thumb/Music...   \n",
       "1   https://is5-ssl.mzstatic.com/image/thumb/Music...   \n",
       "2   https://is2-ssl.mzstatic.com/image/thumb/Music...   \n",
       "3   https://is5-ssl.mzstatic.com/image/thumb/Music...   \n",
       "4   https://is5-ssl.mzstatic.com/image/thumb/Music...   \n",
       "5   https://is5-ssl.mzstatic.com/image/thumb/Music...   \n",
       "6   https://is2-ssl.mzstatic.com/image/thumb/Music...   \n",
       "7   https://is5-ssl.mzstatic.com/image/thumb/Music...   \n",
       "8   https://is5-ssl.mzstatic.com/image/thumb/Music...   \n",
       "9   https://is5-ssl.mzstatic.com/image/thumb/Music...   \n",
       "10  https://is5-ssl.mzstatic.com/image/thumb/Music...   \n",
       "11  https://is5-ssl.mzstatic.com/image/thumb/Music...   \n",
       "12  https://is5-ssl.mzstatic.com/image/thumb/Music...   \n",
       "13  https://is5-ssl.mzstatic.com/image/thumb/Music...   \n",
       "14  https://is5-ssl.mzstatic.com/image/thumb/Music...   \n",
       "15  https://is5-ssl.mzstatic.com/image/thumb/Music...   \n",
       "16  https://is5-ssl.mzstatic.com/image/thumb/Music...   \n",
       "17  https://is5-ssl.mzstatic.com/image/thumb/Music...   \n",
       "18  https://is5-ssl.mzstatic.com/image/thumb/Music...   \n",
       "19  https://is2-ssl.mzstatic.com/image/thumb/Music...   \n",
       "20  https://is5-ssl.mzstatic.com/image/thumb/Music...   \n",
       "21  https://is5-ssl.mzstatic.com/image/thumb/Music...   \n",
       "22  https://is5-ssl.mzstatic.com/image/thumb/Music...   \n",
       "23  https://is5-ssl.mzstatic.com/image/thumb/Music...   \n",
       "24  https://is5-ssl.mzstatic.com/image/thumb/Music...   \n",
       "25  https://is2-ssl.mzstatic.com/image/thumb/Music...   \n",
       "26  https://is4-ssl.mzstatic.com/image/thumb/Music...   \n",
       "27  https://is5-ssl.mzstatic.com/image/thumb/Music...   \n",
       "28  https://is5-ssl.mzstatic.com/image/thumb/Music...   \n",
       "29  https://is5-ssl.mzstatic.com/image/thumb/Music...   \n",
       "30  https://is2-ssl.mzstatic.com/image/thumb/Music...   \n",
       "31  https://is4-ssl.mzstatic.com/image/thumb/Music...   \n",
       "32  https://is4-ssl.mzstatic.com/image/thumb/Music...   \n",
       "33  https://is3-ssl.mzstatic.com/image/thumb/Music...   \n",
       "34  https://is2-ssl.mzstatic.com/image/thumb/Music...   \n",
       "35  https://is5-ssl.mzstatic.com/image/thumb/Music...   \n",
       "36  https://is4-ssl.mzstatic.com/image/thumb/Music...   \n",
       "37  https://is4-ssl.mzstatic.com/image/thumb/Music...   \n",
       "38  https://is5-ssl.mzstatic.com/image/thumb/Music...   \n",
       "39  https://is5-ssl.mzstatic.com/image/thumb/Music...   \n",
       "40  https://is1-ssl.mzstatic.com/image/thumb/Music...   \n",
       "41  https://is2-ssl.mzstatic.com/image/thumb/Music...   \n",
       "42  https://is5-ssl.mzstatic.com/image/thumb/Music...   \n",
       "43  https://is2-ssl.mzstatic.com/image/thumb/Video...   \n",
       "44  https://is2-ssl.mzstatic.com/image/thumb/Music...   \n",
       "45  https://is5-ssl.mzstatic.com/image/thumb/Music...   \n",
       "46  https://is2-ssl.mzstatic.com/image/thumb/Video...   \n",
       "47  https://is3-ssl.mzstatic.com/image/thumb/Music...   \n",
       "48  https://is3-ssl.mzstatic.com/image/thumb/Music...   \n",
       "49  https://is2-ssl.mzstatic.com/image/thumb/Video...   \n",
       "\n",
       "                                         artworkUrl60  collectionArtistId  \\\n",
       "0   https://is5-ssl.mzstatic.com/image/thumb/Music...                 NaN   \n",
       "1   https://is5-ssl.mzstatic.com/image/thumb/Music...                 NaN   \n",
       "2   https://is2-ssl.mzstatic.com/image/thumb/Music...                 NaN   \n",
       "3   https://is5-ssl.mzstatic.com/image/thumb/Music...                 NaN   \n",
       "4   https://is5-ssl.mzstatic.com/image/thumb/Music...                 NaN   \n",
       "5   https://is5-ssl.mzstatic.com/image/thumb/Music...                 NaN   \n",
       "6   https://is2-ssl.mzstatic.com/image/thumb/Music...                 NaN   \n",
       "7   https://is5-ssl.mzstatic.com/image/thumb/Music...                 NaN   \n",
       "8   https://is5-ssl.mzstatic.com/image/thumb/Music...                 NaN   \n",
       "9   https://is5-ssl.mzstatic.com/image/thumb/Music...                 NaN   \n",
       "10  https://is5-ssl.mzstatic.com/image/thumb/Music...                 NaN   \n",
       "11  https://is5-ssl.mzstatic.com/image/thumb/Music...                 NaN   \n",
       "12  https://is5-ssl.mzstatic.com/image/thumb/Music...                 NaN   \n",
       "13  https://is5-ssl.mzstatic.com/image/thumb/Music...                 NaN   \n",
       "14  https://is5-ssl.mzstatic.com/image/thumb/Music...                 NaN   \n",
       "15  https://is5-ssl.mzstatic.com/image/thumb/Music...                 NaN   \n",
       "16  https://is5-ssl.mzstatic.com/image/thumb/Music...                 NaN   \n",
       "17  https://is5-ssl.mzstatic.com/image/thumb/Music...                 NaN   \n",
       "18  https://is5-ssl.mzstatic.com/image/thumb/Music...                 NaN   \n",
       "19  https://is2-ssl.mzstatic.com/image/thumb/Music...                 NaN   \n",
       "20  https://is5-ssl.mzstatic.com/image/thumb/Music...                 NaN   \n",
       "21  https://is5-ssl.mzstatic.com/image/thumb/Music...                 NaN   \n",
       "22  https://is5-ssl.mzstatic.com/image/thumb/Music...                 NaN   \n",
       "23  https://is5-ssl.mzstatic.com/image/thumb/Music...                 NaN   \n",
       "24  https://is5-ssl.mzstatic.com/image/thumb/Music...                 NaN   \n",
       "25  https://is2-ssl.mzstatic.com/image/thumb/Music...                 NaN   \n",
       "26  https://is4-ssl.mzstatic.com/image/thumb/Music...        4.035426e+06   \n",
       "27  https://is5-ssl.mzstatic.com/image/thumb/Music...                 NaN   \n",
       "28  https://is5-ssl.mzstatic.com/image/thumb/Music...                 NaN   \n",
       "29  https://is5-ssl.mzstatic.com/image/thumb/Music...        3.627000e+04   \n",
       "30  https://is2-ssl.mzstatic.com/image/thumb/Music...                 NaN   \n",
       "31  https://is4-ssl.mzstatic.com/image/thumb/Music...                 NaN   \n",
       "32  https://is4-ssl.mzstatic.com/image/thumb/Music...        2.802158e+08   \n",
       "33  https://is3-ssl.mzstatic.com/image/thumb/Music...                 NaN   \n",
       "34  https://is2-ssl.mzstatic.com/image/thumb/Music...                 NaN   \n",
       "35  https://is5-ssl.mzstatic.com/image/thumb/Music...                 NaN   \n",
       "36  https://is4-ssl.mzstatic.com/image/thumb/Music...        3.627000e+04   \n",
       "37  https://is4-ssl.mzstatic.com/image/thumb/Music...                 NaN   \n",
       "38  https://is5-ssl.mzstatic.com/image/thumb/Music...                 NaN   \n",
       "39  https://is5-ssl.mzstatic.com/image/thumb/Music...                 NaN   \n",
       "40  https://is1-ssl.mzstatic.com/image/thumb/Music...        1.472833e+09   \n",
       "41  https://is2-ssl.mzstatic.com/image/thumb/Music...                 NaN   \n",
       "42  https://is5-ssl.mzstatic.com/image/thumb/Music...                 NaN   \n",
       "43  https://is2-ssl.mzstatic.com/image/thumb/Video...                 NaN   \n",
       "44  https://is2-ssl.mzstatic.com/image/thumb/Music...                 NaN   \n",
       "45  https://is5-ssl.mzstatic.com/image/thumb/Music...        3.627000e+04   \n",
       "46  https://is2-ssl.mzstatic.com/image/thumb/Video...                 NaN   \n",
       "47  https://is3-ssl.mzstatic.com/image/thumb/Music...        9.073104e+08   \n",
       "48  https://is3-ssl.mzstatic.com/image/thumb/Music...                 NaN   \n",
       "49  https://is2-ssl.mzstatic.com/image/thumb/Video...                 NaN   \n",
       "\n",
       "                    collectionArtistName  \\\n",
       "0                                    NaN   \n",
       "1                                    NaN   \n",
       "2                                    NaN   \n",
       "3                                    NaN   \n",
       "4                                    NaN   \n",
       "5                                    NaN   \n",
       "6                                    NaN   \n",
       "7                                    NaN   \n",
       "8                                    NaN   \n",
       "9                                    NaN   \n",
       "10                                   NaN   \n",
       "11                                   NaN   \n",
       "12                                   NaN   \n",
       "13                                   NaN   \n",
       "14                                   NaN   \n",
       "15                                   NaN   \n",
       "16                                   NaN   \n",
       "17                                   NaN   \n",
       "18                                   NaN   \n",
       "19                                   NaN   \n",
       "20                                   NaN   \n",
       "21                         Billie Eilish   \n",
       "22                                   NaN   \n",
       "23                                   NaN   \n",
       "24                                   NaN   \n",
       "25                                   NaN   \n",
       "26                       Various Artists   \n",
       "27                                   NaN   \n",
       "28                                   NaN   \n",
       "29                       Various Artists   \n",
       "30                                   NaN   \n",
       "31                                   NaN   \n",
       "32  Selena Gomez, OneRepublic & YUNGBLUD   \n",
       "33                                   NaN   \n",
       "34                                   NaN   \n",
       "35                                   NaN   \n",
       "36                       Various Artists   \n",
       "37                                   NaN   \n",
       "38                                   NaN   \n",
       "39                                   NaN   \n",
       "40                                   NOW   \n",
       "41                                   NaN   \n",
       "42                                   NaN   \n",
       "43                                   NaN   \n",
       "44                                   NaN   \n",
       "45                       Various Artists   \n",
       "46                                   NaN   \n",
       "47                         Connor Franta   \n",
       "48                                   NaN   \n",
       "49                                   NaN   \n",
       "\n",
       "                              collectionArtistViewUrl  \\\n",
       "0                                                 NaN   \n",
       "1                                                 NaN   \n",
       "2                                                 NaN   \n",
       "3                                                 NaN   \n",
       "4                                                 NaN   \n",
       "5                                                 NaN   \n",
       "6                                                 NaN   \n",
       "7                                                 NaN   \n",
       "8                                                 NaN   \n",
       "9                                                 NaN   \n",
       "10                                                NaN   \n",
       "11                                                NaN   \n",
       "12                                                NaN   \n",
       "13                                                NaN   \n",
       "14                                                NaN   \n",
       "15                                                NaN   \n",
       "16                                                NaN   \n",
       "17                                                NaN   \n",
       "18                                                NaN   \n",
       "19                                                NaN   \n",
       "20                                                NaN   \n",
       "21                                                NaN   \n",
       "22                                                NaN   \n",
       "23                                                NaN   \n",
       "24                                                NaN   \n",
       "25                                                NaN   \n",
       "26                                                NaN   \n",
       "27                                                NaN   \n",
       "28                                                NaN   \n",
       "29                                                NaN   \n",
       "30                                                NaN   \n",
       "31                                                NaN   \n",
       "32  https://music.apple.com/us/artist/selena-gomez...   \n",
       "33                                                NaN   \n",
       "34                                                NaN   \n",
       "35                                                NaN   \n",
       "36                                                NaN   \n",
       "37                                                NaN   \n",
       "38                                                NaN   \n",
       "39                                                NaN   \n",
       "40  https://music.apple.com/us/artist/now/14728333...   \n",
       "41                                                NaN   \n",
       "42                                                NaN   \n",
       "43                                                NaN   \n",
       "44                                                NaN   \n",
       "45                                                NaN   \n",
       "46                                                NaN   \n",
       "47  https://books.apple.com/us/author/connor-frant...   \n",
       "48                                                NaN   \n",
       "49                                                NaN   \n",
       "\n",
       "                               collectionCensoredName  ...  \\\n",
       "0            WHEN WE ALL FALL ASLEEP, WHERE DO WE GO?  ...   \n",
       "1            WHEN WE ALL FALL ASLEEP, WHERE DO WE GO?  ...   \n",
       "2                                     lovely - Single  ...   \n",
       "3            WHEN WE ALL FALL ASLEEP, WHERE DO WE GO?  ...   \n",
       "4            WHEN WE ALL FALL ASLEEP, WHERE DO WE GO?  ...   \n",
       "5                                    dont smile at me  ...   \n",
       "6                                    bad guy - Single  ...   \n",
       "7            WHEN WE ALL FALL ASLEEP, WHERE DO WE GO?  ...   \n",
       "8            WHEN WE ALL FALL ASLEEP, WHERE DO WE GO?  ...   \n",
       "9            WHEN WE ALL FALL ASLEEP, WHERE DO WE GO?  ...   \n",
       "10                                   dont smile at me  ...   \n",
       "11           WHEN WE ALL FALL ASLEEP, WHERE DO WE GO?  ...   \n",
       "12           WHEN WE ALL FALL ASLEEP, WHERE DO WE GO?  ...   \n",
       "13                                   dont smile at me  ...   \n",
       "14           WHEN WE ALL FALL ASLEEP, WHERE DO WE GO?  ...   \n",
       "15                                   dont smile at me  ...   \n",
       "16           WHEN WE ALL FALL ASLEEP, WHERE DO WE GO?  ...   \n",
       "17           WHEN WE ALL FALL ASLEEP, WHERE DO WE GO?  ...   \n",
       "18           WHEN WE ALL FALL ASLEEP, WHERE DO WE GO?  ...   \n",
       "19                     bitches broken hearts - Single  ...   \n",
       "20                                   dont smile at me  ...   \n",
       "21                                   dont smile at me  ...   \n",
       "22           WHEN WE ALL FALL ASLEEP, WHERE DO WE GO?  ...   \n",
       "23                                   dont smile at me  ...   \n",
       "24                                   dont smile at me  ...   \n",
       "25                         come out and play - Single  ...   \n",
       "26  13 Reasons Why (A Netflix Original Series Soun...  ...   \n",
       "27                                   dont smile at me  ...   \n",
       "28     Up Next Session: Billie Eilish (Live) - Single  ...   \n",
       "29              NOW That's What I Call Music, Vol. 64  ...   \n",
       "30                      Ocean Eyes (The Remixes) - EP  ...   \n",
       "31                            Six Feet Under - Single  ...   \n",
       "32  13 Reasons Why: Season 2 (Music from the Origi...  ...   \n",
       "33             Bellyache (Marian Hill Remix) - Single  ...   \n",
       "34                      Ocean Eyes (The Remixes) - EP  ...   \n",
       "35     Up Next Session: Billie Eilish (Live) - Single  ...   \n",
       "36             NOW That's What I Call Music!, Vol. 70  ...   \n",
       "37  WHEN I WAS OLDER (Music Inspired by the Film \"...  ...   \n",
       "38                                     &burn - Single  ...   \n",
       "39     Up Next Session: Billie Eilish (Live) - Single  ...   \n",
       "40              NOW That's What I Call Music, Vol. 71  ...   \n",
       "41                      Ocean Eyes (The Remixes) - EP  ...   \n",
       "42                     MyBoi (TroyBoi Remix) - Single  ...   \n",
       "43                                                NaN  ...   \n",
       "44                      Ocean Eyes (The Remixes) - EP  ...   \n",
       "45  The Hate U Give (Original Motion Picture Sound...  ...   \n",
       "46                                                NaN  ...   \n",
       "47                             Common Culture, Vol. V  ...   \n",
       "48               COPYCAT (Sofi Tukker Remix) - Single  ...   \n",
       "49                                                NaN  ...   \n",
       "\n",
       "                                    trackCensoredName  trackCount  \\\n",
       "0                                             bad guy        14.0   \n",
       "1                                       bury a friend        14.0   \n",
       "2                                              lovely         1.0   \n",
       "3                               when the party's over        14.0   \n",
       "4                        you should see me in a crown        14.0   \n",
       "5                                          ocean eyes         9.0   \n",
       "6                                             bad guy         1.0   \n",
       "7                                my strange addiction        14.0   \n",
       "8                                   wish you were gay        14.0   \n",
       "9                                          i love you        14.0   \n",
       "10                                          bellyache         9.0   \n",
       "11                                 listen before i go        14.0   \n",
       "12                                            ilomilo        14.0   \n",
       "13                             idontwannabeyouanymore         9.0   \n",
       "14                                              xanny        14.0   \n",
       "15                                            COPYCAT         9.0   \n",
       "16                      all the good girls go to hell        14.0   \n",
       "17                                            !!!!!!!        14.0   \n",
       "18                                            goodbye        14.0   \n",
       "19                              bitches broken hearts         1.0   \n",
       "20                                             my boy         9.0   \n",
       "21                                              &burn         9.0   \n",
       "22                                                  8        14.0   \n",
       "23                                              watch         9.0   \n",
       "24                                            hostage         9.0   \n",
       "25                                  come out and play         1.0   \n",
       "26                                              Bored        13.0   \n",
       "27                                        party favor         9.0   \n",
       "28                                   bellyache (Live)         3.0   \n",
       "29                      Ocean Eyes (NOW What's Next!)        22.0   \n",
       "30                      Ocean Eyes (Astronomyy Remix)         4.0   \n",
       "31                                     Six Feet Under         1.0   \n",
       "32                                             lovely        20.0   \n",
       "33                      Bellyache (Marian Hill Remix)         1.0   \n",
       "34                       Ocean Eyes (Blackbear Remix)         4.0   \n",
       "35                                  ocean eyes (Live)         3.0   \n",
       "36                              When the Party's Over        21.0   \n",
       "37  WHEN I WAS OLDER (Music Inspired by the Film \"...         1.0   \n",
       "38                                              &burn         1.0   \n",
       "39                                       watch (Live)         3.0   \n",
       "40                                            Bad Guy        20.0   \n",
       "41                       Ocean Eyes (GOLDHOUSE Remix)         4.0   \n",
       "42                              MyBoi (TroyBoi Remix)         1.0   \n",
       "43                                            bad guy         NaN   \n",
       "44                   Ocean Eyes (Cautious Clay Remix)         4.0   \n",
       "45                                         Ocean Eyes        14.0   \n",
       "46  you should see me in a crown (By Takashi Murak...         NaN   \n",
       "47                                         Ocean Eyes        13.0   \n",
       "48                        COPYCAT (Sofi Tukker Remix)         1.0   \n",
       "49                                      bury a friend         NaN   \n",
       "\n",
       "   trackExplicitness     trackId  \\\n",
       "0        notExplicit  1450695739   \n",
       "1        notExplicit  1450695881   \n",
       "2        notExplicit  1369380479   \n",
       "3        notExplicit  1450695872   \n",
       "4        notExplicit  1450695745   \n",
       "5        notExplicit  1440899467   \n",
       "6        notExplicit  1472563571   \n",
       "7        notExplicit  1450695877   \n",
       "8        notExplicit  1450695871   \n",
       "9        notExplicit  1450695895   \n",
       "10       notExplicit  1440899447   \n",
       "11       notExplicit  1450695888   \n",
       "12       notExplicit  1450695884   \n",
       "13       notExplicit  1440899127   \n",
       "14       notExplicit  1450695742   \n",
       "15       notExplicit  1440899117   \n",
       "16       notExplicit  1450695867   \n",
       "17       notExplicit  1450695729   \n",
       "18       notExplicit  1450696020   \n",
       "19          explicit  1362274278   \n",
       "20       notExplicit  1440899130   \n",
       "21       notExplicit  1440899628   \n",
       "22       notExplicit  1450695875   \n",
       "23       notExplicit  1440899134   \n",
       "24       notExplicit  1440899606   \n",
       "25       notExplicit  1442107933   \n",
       "26       notExplicit  1440881181   \n",
       "27       notExplicit  1440899140   \n",
       "28       notExplicit  1444871458   \n",
       "29       notExplicit  1429675332   \n",
       "30       notExplicit  1440894525   \n",
       "31       notExplicit  1444890132   \n",
       "32       notExplicit  1381916691   \n",
       "33       notExplicit  1445287022   \n",
       "34       notExplicit  1440894698   \n",
       "35       notExplicit  1444871460   \n",
       "36       notExplicit  1459612682   \n",
       "37       notExplicit  1448440127   \n",
       "38       notExplicit  1444890651   \n",
       "39       notExplicit  1444871459   \n",
       "40       notExplicit  1472053538   \n",
       "41       notExplicit  1440894838   \n",
       "42       notExplicit  1354031025   \n",
       "43       notExplicit  1458003118   \n",
       "44       notExplicit  1440894859   \n",
       "45       notExplicit  1436889877   \n",
       "46       notExplicit  1455550182   \n",
       "47       notExplicit  1106024205   \n",
       "48       notExplicit  1444885109   \n",
       "49       notExplicit  1450880409   \n",
       "\n",
       "                                            trackName trackNumber trackPrice  \\\n",
       "0                                             bad guy         2.0       1.29   \n",
       "1                                       bury a friend        10.0       1.29   \n",
       "2                                              lovely         1.0       1.29   \n",
       "3                               when the party's over         7.0       1.29   \n",
       "4                        you should see me in a crown         4.0       1.29   \n",
       "5                                          ocean eyes         7.0       1.29   \n",
       "6                                             bad guy         1.0       1.29   \n",
       "7                                my strange addiction         9.0       1.29   \n",
       "8                                   wish you were gay         6.0       1.29   \n",
       "9                                          i love you        13.0       1.29   \n",
       "10                                          bellyache         6.0       1.29   \n",
       "11                                 listen before i go        12.0       1.29   \n",
       "12                                            ilomilo        11.0       1.29   \n",
       "13                             idontwannabeyouanymore         2.0       1.29   \n",
       "14                                              xanny         3.0       1.29   \n",
       "15                                            COPYCAT         1.0       1.29   \n",
       "16                      all the good girls go to hell         5.0       1.29   \n",
       "17                                            !!!!!!!         1.0       1.29   \n",
       "18                                            goodbye        14.0       1.29   \n",
       "19                              bitches broken hearts         1.0       1.29   \n",
       "20                                             my boy         3.0       1.29   \n",
       "21                                              &burn         9.0       1.29   \n",
       "22                                                  8         8.0       1.29   \n",
       "23                                              watch         4.0       1.29   \n",
       "24                                            hostage         8.0       1.29   \n",
       "25                                  come out and play         1.0       1.29   \n",
       "26                                              Bored         3.0       1.29   \n",
       "27                                        party favor         5.0       1.29   \n",
       "28                                          bellyache         1.0       1.29   \n",
       "29                                         Ocean Eyes        21.0      -1.00   \n",
       "30                                         Ocean Eyes         1.0       1.29   \n",
       "31                                     Six Feet Under         1.0       1.29   \n",
       "32                                             lovely         2.0       1.29   \n",
       "33                                          Bellyache         1.0       1.29   \n",
       "34                                         Ocean Eyes         2.0       1.29   \n",
       "35                                         ocean eyes         3.0       1.29   \n",
       "36                              When the Party's Over        14.0      -1.00   \n",
       "37                                   WHEN I WAS OLDER         1.0       1.29   \n",
       "38                                              &burn         1.0       1.29   \n",
       "39                                              watch         2.0       1.29   \n",
       "40                                            Bad Guy         5.0        NaN   \n",
       "41                                         Ocean Eyes         3.0       1.29   \n",
       "42                                              MyBoi         1.0       1.29   \n",
       "43                                            bad guy         NaN       1.99   \n",
       "44                                         Ocean Eyes         4.0       1.29   \n",
       "45                                         Ocean Eyes        13.0       1.29   \n",
       "46  you should see me in a crown (By Takashi Murak...         NaN       1.99   \n",
       "47                                         Ocean Eyes         3.0      -1.00   \n",
       "48                                            COPYCAT         1.0       1.29   \n",
       "49                                      bury a friend         NaN       1.99   \n",
       "\n",
       "   trackTimeMillis                                       trackViewUrl  \\\n",
       "0           194088  https://music.apple.com/us/album/bad-guy/14506...   \n",
       "1           193149  https://music.apple.com/us/album/bury-a-friend...   \n",
       "2           200187  https://music.apple.com/us/album/lovely/136937...   \n",
       "3           196077  https://music.apple.com/us/album/when-the-part...   \n",
       "4           180953  https://music.apple.com/us/album/you-should-se...   \n",
       "5           200379  https://music.apple.com/us/album/ocean-eyes/14...   \n",
       "6           194840  https://music.apple.com/us/album/bad-guy/14725...   \n",
       "7           179884  https://music.apple.com/us/album/my-strange-ad...   \n",
       "8           221543  https://music.apple.com/us/album/wish-you-were...   \n",
       "9           291796  https://music.apple.com/us/album/i-love-you/14...   \n",
       "10          179172  https://music.apple.com/us/album/bellyache/144...   \n",
       "11          242652  https://music.apple.com/us/album/listen-before...   \n",
       "12          156371  https://music.apple.com/us/album/ilomilo/14506...   \n",
       "13          203569  https://music.apple.com/us/album/idontwannabey...   \n",
       "14          243725  https://music.apple.com/us/album/xanny/1450695...   \n",
       "15          193357  https://music.apple.com/us/album/copycat/14408...   \n",
       "16          168840  https://music.apple.com/us/album/all-the-good-...   \n",
       "17           13578  https://music.apple.com/us/album/1450695723?i=...   \n",
       "18          119422  https://music.apple.com/us/album/goodbye/14506...   \n",
       "19          176472  https://music.apple.com/us/album/bitches-broke...   \n",
       "20          170852  https://music.apple.com/us/album/my-boy/144089...   \n",
       "21          179016  https://music.apple.com/us/album/burn/14408989...   \n",
       "22          173202  https://music.apple.com/us/album/8/1450695723?...   \n",
       "23          177523  https://music.apple.com/us/album/watch/1440898...   \n",
       "24          229426  https://music.apple.com/us/album/hostage/14408...   \n",
       "25          210376  https://music.apple.com/us/album/come-out-and-...   \n",
       "26          180933  https://music.apple.com/us/album/bored/1440880...   \n",
       "27          204770  https://music.apple.com/us/album/party-favor/1...   \n",
       "28          186973  https://music.apple.com/us/album/bellyache-liv...   \n",
       "29          195600  https://music.apple.com/us/album/ocean-eyes-no...   \n",
       "30          296267  https://music.apple.com/us/album/ocean-eyes-as...   \n",
       "31          189613  https://music.apple.com/us/album/six-feet-unde...   \n",
       "32          201867  https://music.apple.com/us/album/lovely/138191...   \n",
       "33          220800  https://music.apple.com/us/album/bellyache-mar...   \n",
       "34          195307  https://music.apple.com/us/album/ocean-eyes-bl...   \n",
       "35          210483  https://music.apple.com/us/album/ocean-eyes-li...   \n",
       "36          189947  https://music.apple.com/us/album/when-the-part...   \n",
       "37          270520  https://music.apple.com/us/album/when-i-was-ol...   \n",
       "38          179016  https://music.apple.com/us/album/burn/14448906...   \n",
       "39          199271  https://music.apple.com/us/album/watch-live/14...   \n",
       "40          191227  https://music.apple.com/us/album/bad-guy/14720...   \n",
       "41          213600  https://music.apple.com/us/album/ocean-eyes-go...   \n",
       "42          211304  https://music.apple.com/us/album/myboi-troyboi...   \n",
       "43          205928  https://music.apple.com/us/music-video/bad-guy...   \n",
       "44          191293  https://music.apple.com/us/album/ocean-eyes-ca...   \n",
       "45          200387  https://music.apple.com/us/album/ocean-eyes/14...   \n",
       "46          192040  https://music.apple.com/us/music-video/you-sho...   \n",
       "47          200379  https://music.apple.com/us/album/ocean-eyes/11...   \n",
       "48          198684  https://music.apple.com/us/album/copycat-sofi-...   \n",
       "49          212008  https://music.apple.com/us/music-video/bury-a-...   \n",
       "\n",
       "    wrapperType  \n",
       "0         track  \n",
       "1         track  \n",
       "2         track  \n",
       "3         track  \n",
       "4         track  \n",
       "5         track  \n",
       "6         track  \n",
       "7         track  \n",
       "8         track  \n",
       "9         track  \n",
       "10        track  \n",
       "11        track  \n",
       "12        track  \n",
       "13        track  \n",
       "14        track  \n",
       "15        track  \n",
       "16        track  \n",
       "17        track  \n",
       "18        track  \n",
       "19        track  \n",
       "20        track  \n",
       "21        track  \n",
       "22        track  \n",
       "23        track  \n",
       "24        track  \n",
       "25        track  \n",
       "26        track  \n",
       "27        track  \n",
       "28        track  \n",
       "29        track  \n",
       "30        track  \n",
       "31        track  \n",
       "32        track  \n",
       "33        track  \n",
       "34        track  \n",
       "35        track  \n",
       "36        track  \n",
       "37        track  \n",
       "38        track  \n",
       "39        track  \n",
       "40        track  \n",
       "41        track  \n",
       "42        track  \n",
       "43        track  \n",
       "44        track  \n",
       "45        track  \n",
       "46        track  \n",
       "47        track  \n",
       "48        track  \n",
       "49        track  \n",
       "\n",
       "[50 rows x 35 columns]"
      ]
     },
     "execution_count": 5,
     "metadata": {},
     "output_type": "execute_result"
    }
   ],
   "source": [
    "search_itunes('billie eilish')"
   ]
  },
  {
   "cell_type": "markdown",
   "metadata": {
    "slideshow": {
     "slide_type": "slide"
    }
   },
   "source": [
    "# Scrape it yourself\n",
    "\n"
   ]
  },
  {
   "cell_type": "markdown",
   "metadata": {},
   "source": [
    "![](images\\gross_film_table.png)"
   ]
  },
  {
   "cell_type": "code",
   "execution_count": 6,
   "metadata": {
    "slideshow": {
     "slide_type": "slide"
    }
   },
   "outputs": [
    {
     "data": {
      "text/html": [
       "<div>\n",
       "<style scoped>\n",
       "    .dataframe tbody tr th:only-of-type {\n",
       "        vertical-align: middle;\n",
       "    }\n",
       "\n",
       "    .dataframe tbody tr th {\n",
       "        vertical-align: top;\n",
       "    }\n",
       "\n",
       "    .dataframe thead th {\n",
       "        text-align: right;\n",
       "    }\n",
       "</style>\n",
       "<table border=\"1\" class=\"dataframe\">\n",
       "  <thead>\n",
       "    <tr style=\"text-align: right;\">\n",
       "      <th></th>\n",
       "      <th>Rank</th>\n",
       "      <th>Peak</th>\n",
       "      <th>Title</th>\n",
       "      <th>Worldwide gross</th>\n",
       "      <th>Year</th>\n",
       "      <th>Reference(s)</th>\n",
       "    </tr>\n",
       "  </thead>\n",
       "  <tbody>\n",
       "    <tr>\n",
       "      <th>0</th>\n",
       "      <td>1</td>\n",
       "      <td>1</td>\n",
       "      <td>Avengers: Endgame</td>\n",
       "      <td>$2,793,274,168</td>\n",
       "      <td>2019</td>\n",
       "      <td>[# 1][# 2]</td>\n",
       "    </tr>\n",
       "    <tr>\n",
       "      <th>1</th>\n",
       "      <td>2</td>\n",
       "      <td>1</td>\n",
       "      <td>Avatar</td>\n",
       "      <td>$2,789,679,794</td>\n",
       "      <td>2009</td>\n",
       "      <td>[# 3][# 4]</td>\n",
       "    </tr>\n",
       "    <tr>\n",
       "      <th>2</th>\n",
       "      <td>3</td>\n",
       "      <td>1</td>\n",
       "      <td>Titanic</td>\n",
       "      <td>$2,187,463,944</td>\n",
       "      <td>1997</td>\n",
       "      <td>[# 5][# 6]</td>\n",
       "    </tr>\n",
       "    <tr>\n",
       "      <th>3</th>\n",
       "      <td>4</td>\n",
       "      <td>3</td>\n",
       "      <td>Star Wars: The Force Awakens</td>\n",
       "      <td>$2,068,223,624</td>\n",
       "      <td>2015</td>\n",
       "      <td>[# 7][# 8]</td>\n",
       "    </tr>\n",
       "    <tr>\n",
       "      <th>4</th>\n",
       "      <td>5</td>\n",
       "      <td>4</td>\n",
       "      <td>Avengers: Infinity War</td>\n",
       "      <td>$2,048,359,754</td>\n",
       "      <td>2018</td>\n",
       "      <td>[# 9][# 10]</td>\n",
       "    </tr>\n",
       "  </tbody>\n",
       "</table>\n",
       "</div>"
      ],
      "text/plain": [
       "   Rank Peak                         Title Worldwide gross  Year Reference(s)\n",
       "0     1    1             Avengers: Endgame  $2,793,274,168  2019   [# 1][# 2]\n",
       "1     2    1                        Avatar  $2,789,679,794  2009   [# 3][# 4]\n",
       "2     3    1                       Titanic  $2,187,463,944  1997   [# 5][# 6]\n",
       "3     4    3  Star Wars: The Force Awakens  $2,068,223,624  2015   [# 7][# 8]\n",
       "4     5    4        Avengers: Infinity War  $2,048,359,754  2018  [# 9][# 10]"
      ]
     },
     "execution_count": 6,
     "metadata": {},
     "output_type": "execute_result"
    }
   ],
   "source": [
    "url = 'https://en.wikipedia.org/wiki/List_of_highest-grossing_films'\n",
    "\n",
    "html_table_list = pd.read_html(url)\n",
    "html_table_list[0].head()"
   ]
  },
  {
   "cell_type": "markdown",
   "metadata": {
    "slideshow": {
     "slide_type": "slide"
    }
   },
   "source": [
    "## `read_html` limitations:\n",
    "    \n",
    "* Only handles basic HTML tables.\n",
    "* Only grabs displayed text -- no URLS."
   ]
  },
  {
   "cell_type": "markdown",
   "metadata": {
    "slideshow": {
     "slide_type": "slide"
    }
   },
   "source": [
    "### See if someone else has written a package for you"
   ]
  },
  {
   "cell_type": "markdown",
   "metadata": {
    "slideshow": {
     "slide_type": "slide"
    }
   },
   "source": [
    "![](https://raw.githubusercontent.com/nealcaren/KULeuvenBigData/master/notebooks/images/espn1.png)\n"
   ]
  },
  {
   "cell_type": "markdown",
   "metadata": {
    "slideshow": {
     "slide_type": "slide"
    }
   },
   "source": [
    "![](https://raw.githubusercontent.com/nealcaren/KULeuvenBigData/master/notebooks/images/espn2.png)\n"
   ]
  },
  {
   "cell_type": "markdown",
   "metadata": {
    "slideshow": {
     "slide_type": "slide"
    }
   },
   "source": [
    "![](https://raw.githubusercontent.com/nealcaren/KULeuvenBigData/master/notebooks/images/espn3.png)"
   ]
  },
  {
   "cell_type": "markdown",
   "metadata": {
    "slideshow": {
     "slide_type": "slide"
    }
   },
   "source": [
    "![](https://raw.githubusercontent.com/nealcaren/KULeuvenBigData/master/notebooks/images/bs4a.png)"
   ]
  },
  {
   "cell_type": "markdown",
   "metadata": {
    "slideshow": {
     "slide_type": "slide"
    }
   },
   "source": [
    "![](https://raw.githubusercontent.com/nealcaren/KULeuvenBigData/master/notebooks/images/bs4b.png)"
   ]
  },
  {
   "cell_type": "code",
   "execution_count": 7,
   "metadata": {
    "slideshow": {
     "slide_type": "slide"
    }
   },
   "outputs": [
    {
     "name": "stdout",
     "output_type": "stream",
     "text": [
      "Atlanta ATL Washington WSH\n",
      "Arizona ARI Miami MIA\n",
      "Pittsburgh PIT Cincinnati CIN\n",
      "Toronto TOR Kansas City KC\n",
      "Los Angeles LAD Colorado COL\n",
      "Detroit DET Los Angeles LAA\n",
      "Baltimore BAL San Diego SD\n",
      "Baltimore BAL San Diego SD\n",
      "Arizona ARI New York NYY\n",
      "Atlanta ATL Washington WSH\n",
      "San Francisco SF Philadelphia PHI\n",
      "Houston HOU Cleveland CLE\n",
      "Tampa Bay TB Boston BOS\n",
      "Minnesota MIN Miami MIA\n",
      "Pittsburgh PIT Cincinnati CIN\n",
      "Seattle SEA Texas TEX\n",
      "New York NYM Chicago CHW\n",
      "Chicago CHC St. Louis STL\n",
      "Toronto TOR Kansas City KC\n",
      "Los Angeles LAD Colorado COL\n",
      "Detroit DET Los Angeles LAA\n",
      "Milwaukee MIL Oakland OAK\n",
      "Atlanta ATL Washington WSH\n",
      "Pittsburgh PIT Cincinnati CIN\n",
      "Arizona ARI New York NYY\n",
      "Toronto TOR Kansas City KC\n",
      "Los Angeles LAD Colorado COL\n",
      "Detroit DET Los Angeles LAA\n",
      "San Francisco SF Philadelphia PHI\n",
      "Houston HOU Cleveland CLE\n",
      "Tampa Bay TB Boston BOS\n",
      "Minnesota MIN Miami MIA\n",
      "Chicago CHC St. Louis STL\n",
      "Seattle SEA Texas TEX\n",
      "New York NYM Chicago CHW\n",
      "Milwaukee MIL Oakland OAK\n"
     ]
    }
   ],
   "source": [
    "from bs4 import BeautifulSoup\n",
    "import requests\n",
    "\n",
    "league = 'mlb'\n",
    "url = f\"http://www.espn.com/{league}/schedule\"\n",
    "response = requests.get(url)\n",
    "soup = BeautifulSoup(response.content, \"html.parser\")\n",
    "\n",
    "    \n",
    "for row in soup.select(\"table.schedule tbody tr\"):\n",
    "    home_team, away_team = row.select(\".team-name\")\n",
    "\n",
    "    print(home_team.get_text(), away_team.get_text())"
   ]
  },
  {
   "cell_type": "markdown",
   "metadata": {
    "slideshow": {
     "slide_type": "slide"
    }
   },
   "source": [
    "## Sometimes you have to do it yourself"
   ]
  },
  {
   "cell_type": "markdown",
   "metadata": {
    "slideshow": {
     "slide_type": "slide"
    }
   },
   "source": [
    "![](images\\wiki_sociology.png)"
   ]
  },
  {
   "cell_type": "markdown",
   "metadata": {
    "slideshow": {
     "slide_type": "slide"
    }
   },
   "source": [
    "![](images\\wiki_sociology_view_source.png)"
   ]
  },
  {
   "cell_type": "markdown",
   "metadata": {
    "slideshow": {
     "slide_type": "slide"
    }
   },
   "source": [
    "![](images\\wiki_sociology_source.png)"
   ]
  },
  {
   "cell_type": "markdown",
   "metadata": {
    "slideshow": {
     "slide_type": "slide"
    }
   },
   "source": [
    "![](images\\wiki_sociology_title.png)"
   ]
  },
  {
   "cell_type": "code",
   "execution_count": 8,
   "metadata": {
    "slideshow": {
     "slide_type": "slide"
    }
   },
   "outputs": [
    {
     "name": "stdout",
     "output_type": "stream",
     "text": [
      "Requirement already satisfied: requests_html in /Users/nealcaren/anaconda3/lib/python3.6/site-packages (0.10.0)\n",
      "Requirement already satisfied: parse in /Users/nealcaren/anaconda3/lib/python3.6/site-packages (from requests_html) (1.11.1)\n",
      "Requirement already satisfied: bs4 in /Users/nealcaren/anaconda3/lib/python3.6/site-packages (from requests_html) (0.0.1)\n",
      "Requirement already satisfied: w3lib in /Users/nealcaren/anaconda3/lib/python3.6/site-packages (from requests_html) (1.19.0)\n",
      "Requirement already satisfied: requests in /Users/nealcaren/anaconda3/lib/python3.6/site-packages (from requests_html) (2.22.0)\n",
      "Requirement already satisfied: pyquery in /Users/nealcaren/anaconda3/lib/python3.6/site-packages (from requests_html) (1.4.0)\n",
      "Requirement already satisfied: pyppeteer>=0.0.14 in /Users/nealcaren/anaconda3/lib/python3.6/site-packages (from requests_html) (0.0.25)\n",
      "Requirement already satisfied: fake-useragent in /Users/nealcaren/anaconda3/lib/python3.6/site-packages (from requests_html) (0.1.11)\n",
      "Requirement already satisfied: beautifulsoup4 in /Users/nealcaren/anaconda3/lib/python3.6/site-packages (from bs4->requests_html) (4.7.1)\n",
      "Requirement already satisfied: six>=1.4.1 in /Users/nealcaren/anaconda3/lib/python3.6/site-packages (from w3lib->requests_html) (1.12.0)\n",
      "Requirement already satisfied: certifi>=2017.4.17 in /Users/nealcaren/anaconda3/lib/python3.6/site-packages (from requests->requests_html) (2019.6.16)\n",
      "Requirement already satisfied: idna<2.9,>=2.5 in /Users/nealcaren/anaconda3/lib/python3.6/site-packages (from requests->requests_html) (2.8)\n",
      "Requirement already satisfied: chardet<3.1.0,>=3.0.2 in /Users/nealcaren/anaconda3/lib/python3.6/site-packages (from requests->requests_html) (3.0.4)\n",
      "Requirement already satisfied: urllib3!=1.25.0,!=1.25.1,<1.26,>=1.21.1 in /Users/nealcaren/anaconda3/lib/python3.6/site-packages (from requests->requests_html) (1.24.2)\n",
      "Requirement already satisfied: cssselect>0.7.9 in /Users/nealcaren/anaconda3/lib/python3.6/site-packages (from pyquery->requests_html) (1.0.3)\n",
      "Requirement already satisfied: lxml>=2.1 in /Users/nealcaren/anaconda3/lib/python3.6/site-packages (from pyquery->requests_html) (4.3.3)\n",
      "Requirement already satisfied: appdirs in /Users/nealcaren/anaconda3/lib/python3.6/site-packages (from pyppeteer>=0.0.14->requests_html) (1.4.3)\n",
      "Requirement already satisfied: tqdm in /Users/nealcaren/anaconda3/lib/python3.6/site-packages (from pyppeteer>=0.0.14->requests_html) (4.32.1)\n",
      "Requirement already satisfied: pyee in /Users/nealcaren/anaconda3/lib/python3.6/site-packages (from pyppeteer>=0.0.14->requests_html) (5.0.0)\n",
      "Requirement already satisfied: websockets in /Users/nealcaren/anaconda3/lib/python3.6/site-packages (from pyppeteer>=0.0.14->requests_html) (7.0)\n",
      "Requirement already satisfied: soupsieve>=1.2 in /Users/nealcaren/anaconda3/lib/python3.6/site-packages (from beautifulsoup4->bs4->requests_html) (1.8)\n",
      "Note: you may need to restart the kernel to use updated packages.\n"
     ]
    }
   ],
   "source": [
    "%pip install requests_html"
   ]
  },
  {
   "cell_type": "code",
   "execution_count": 9,
   "metadata": {
    "slideshow": {
     "slide_type": "slide"
    }
   },
   "outputs": [],
   "source": [
    "from requests_html import HTMLSession"
   ]
  },
  {
   "cell_type": "code",
   "execution_count": 10,
   "metadata": {
    "slideshow": {
     "slide_type": "fragment"
    }
   },
   "outputs": [],
   "source": [
    "session = HTMLSession()"
   ]
  },
  {
   "cell_type": "code",
   "execution_count": 11,
   "metadata": {
    "slideshow": {
     "slide_type": "fragment"
    }
   },
   "outputs": [],
   "source": [
    "url = 'https://en.wikipedia.org/wiki/Sociology'\n",
    "r = session.get(url)"
   ]
  },
  {
   "cell_type": "code",
   "execution_count": 12,
   "metadata": {
    "slideshow": {
     "slide_type": "slide"
    }
   },
   "outputs": [
    {
     "data": {
      "text/plain": [
       "200"
      ]
     },
     "execution_count": 12,
     "metadata": {},
     "output_type": "execute_result"
    }
   ],
   "source": [
    "r.status_code"
   ]
  },
  {
   "cell_type": "markdown",
   "metadata": {
    "slideshow": {
     "slide_type": "slide"
    }
   },
   "source": [
    "![](https://raw.githubusercontent.com/nealcaren/KULeuvenBigData/master/notebooks/images/statuscode.png)"
   ]
  },
  {
   "cell_type": "code",
   "execution_count": 13,
   "metadata": {
    "slideshow": {
     "slide_type": "slide"
    }
   },
   "outputs": [
    {
     "data": {
      "text/plain": [
       "<HTML url='https://en.wikipedia.org/wiki/Sociology'>"
      ]
     },
     "execution_count": 13,
     "metadata": {},
     "output_type": "execute_result"
    }
   ],
   "source": [
    "r.html"
   ]
  },
  {
   "cell_type": "code",
   "execution_count": 14,
   "metadata": {
    "slideshow": {
     "slide_type": "fragment"
    }
   },
   "outputs": [
    {
     "data": {
      "text/plain": [
       "'<!DOCTYPE html>\\n<html class=\"client-nojs\" lang=\"en\" dir=\"ltr\">\\n<head>\\n<meta charset=\"UTF-8\"/>\\n<title>Sociology - Wikipedia</title>\\n<script>document.documentElement.className=document.documentElement.className.replace(/(^|\\\\s)client-nojs(\\\\s|$)/,\"$1client-js$2\");RLCONF={\"wgCanonicalNamespace\":\"\",\"wgCanonicalSpecialPageName\":!1,\"wgNamespaceNumber\":0,\"wgPageName\":\"Sociology\",\"wgTitle\":\"Sociology\",\"wgCurRevisionId\":905793147,\"wgRevisionId\":905793147,\"wgArticleId\":18717981,\"wgIsArticle\":!0,\"wgIsRedirec'"
      ]
     },
     "execution_count": 14,
     "metadata": {},
     "output_type": "execute_result"
    }
   ],
   "source": [
    "r.html.html[:500]"
   ]
  },
  {
   "cell_type": "markdown",
   "metadata": {
    "slideshow": {
     "slide_type": "slide"
    }
   },
   "source": [
    "![](images\\wiki_sociology_source.png)"
   ]
  },
  {
   "cell_type": "code",
   "execution_count": 15,
   "metadata": {
    "slideshow": {
     "slide_type": "slide"
    }
   },
   "outputs": [],
   "source": [
    "parsed_html = r.html"
   ]
  },
  {
   "cell_type": "markdown",
   "metadata": {
    "slideshow": {
     "slide_type": "slide"
    }
   },
   "source": [
    "### In HTML  parsed by `requests_html`,  `find` looks for tags"
   ]
  },
  {
   "cell_type": "code",
   "execution_count": 16,
   "metadata": {
    "slideshow": {
     "slide_type": "slide"
    }
   },
   "outputs": [
    {
     "data": {
      "text/plain": [
       "[<Element 'title' >]"
      ]
     },
     "execution_count": 16,
     "metadata": {},
     "output_type": "execute_result"
    }
   ],
   "source": [
    "parsed_html.find('title')"
   ]
  },
  {
   "cell_type": "code",
   "execution_count": 17,
   "metadata": {
    "slideshow": {
     "slide_type": "fragment"
    }
   },
   "outputs": [
    {
     "data": {
      "text/plain": [
       "<Element 'title' >"
      ]
     },
     "execution_count": 17,
     "metadata": {},
     "output_type": "execute_result"
    }
   ],
   "source": [
    "parsed_html.find('title')[0]"
   ]
  },
  {
   "cell_type": "code",
   "execution_count": 18,
   "metadata": {
    "slideshow": {
     "slide_type": "fragment"
    }
   },
   "outputs": [
    {
     "data": {
      "text/plain": [
       "'<title>Sociology - Wikipedia</title>'"
      ]
     },
     "execution_count": 18,
     "metadata": {},
     "output_type": "execute_result"
    }
   ],
   "source": [
    "parsed_html.find('title')[0].html"
   ]
  },
  {
   "cell_type": "code",
   "execution_count": 19,
   "metadata": {
    "slideshow": {
     "slide_type": "fragment"
    }
   },
   "outputs": [
    {
     "data": {
      "text/plain": [
       "'Sociology - Wikipedia'"
      ]
     },
     "execution_count": 19,
     "metadata": {},
     "output_type": "execute_result"
    }
   ],
   "source": [
    "parsed_html.find('title')[0].text"
   ]
  },
  {
   "cell_type": "markdown",
   "metadata": {
    "slideshow": {
     "slide_type": "slide"
    }
   },
   "source": [
    "![](https://raw.githubusercontent.com/nealcaren/UiOBigData/master/notebooks/images\\wiki_sociology_h1.png)"
   ]
  },
  {
   "cell_type": "code",
   "execution_count": 20,
   "metadata": {
    "slideshow": {
     "slide_type": "slide"
    }
   },
   "outputs": [
    {
     "data": {
      "text/plain": [
       "[<Element 'h1' class=('firstHeading',) id='firstHeading' lang='en'>]"
      ]
     },
     "execution_count": 20,
     "metadata": {},
     "output_type": "execute_result"
    }
   ],
   "source": [
    "parsed_html.find('h1')"
   ]
  },
  {
   "cell_type": "code",
   "execution_count": 21,
   "metadata": {
    "slideshow": {
     "slide_type": "slide"
    }
   },
   "outputs": [
    {
     "data": {
      "text/plain": [
       "'Sociology'"
      ]
     },
     "execution_count": 21,
     "metadata": {},
     "output_type": "execute_result"
    }
   ],
   "source": [
    "parsed_html.find('h1')[0].text"
   ]
  },
  {
   "cell_type": "markdown",
   "metadata": {
    "slideshow": {
     "slide_type": "slide"
    }
   },
   "source": [
    "### In HTML  parsed by `requests_html`,  `find` looks for tags. It returns a list.\n",
    "\n",
    "In the resulting list objects:\n",
    "* `.html` returns the  HTML (as a string)\n",
    "* `.text` returns the visible text (as a string)\n",
    "* `.absolute_links` returns the full path of any links (as a set)"
   ]
  },
  {
   "cell_type": "code",
   "execution_count": 22,
   "metadata": {
    "slideshow": {
     "slide_type": "slide"
    }
   },
   "outputs": [
    {
     "data": {
      "text/plain": [
       "'<h1 class=\"firstHeading\" id=\"firstHeading\" lang=\"en\">Sociology</h1>'"
      ]
     },
     "execution_count": 22,
     "metadata": {},
     "output_type": "execute_result"
    }
   ],
   "source": [
    "parsed_html.find('h1')[0].html"
   ]
  },
  {
   "cell_type": "code",
   "execution_count": 23,
   "metadata": {
    "slideshow": {
     "slide_type": "skip"
    }
   },
   "outputs": [
    {
     "data": {
      "text/plain": [
       "set()"
      ]
     },
     "execution_count": 23,
     "metadata": {},
     "output_type": "execute_result"
    }
   ],
   "source": [
    "parsed_html.find('h1')[0].absolute_links"
   ]
  },
  {
   "cell_type": "markdown",
   "metadata": {
    "slideshow": {
     "slide_type": "slide"
    }
   },
   "source": [
    "<div class=\"alert alert-info\">\n",
    "<h3> Your turn</h3>\n",
    "    <p> Explore the content tagged <code>h2</code> on the sociology wikipedia page.\n",
    "</div>\n",
    "\n"
   ]
  },
  {
   "cell_type": "code",
   "execution_count": null,
   "metadata": {
    "slideshow": {
     "slide_type": "fragment"
    }
   },
   "outputs": [],
   "source": []
  },
  {
   "cell_type": "markdown",
   "metadata": {
    "slideshow": {
     "slide_type": "slide"
    }
   },
   "source": [
    "![](https://raw.githubusercontent.com/nealcaren/UiOBigData/master/notebooks/images/wiki_sociology_h2.png)"
   ]
  },
  {
   "cell_type": "markdown",
   "metadata": {
    "slideshow": {
     "slide_type": "slide"
    }
   },
   "source": [
    "### `find` looks for classes if you a `.` before the class"
   ]
  },
  {
   "cell_type": "code",
   "execution_count": 24,
   "metadata": {
    "slideshow": {
     "slide_type": "fragment"
    }
   },
   "outputs": [
    {
     "data": {
      "text/plain": [
       "<Element 'h1' class=('firstHeading',) id='firstHeading' lang='en'>"
      ]
     },
     "execution_count": 24,
     "metadata": {},
     "output_type": "execute_result"
    }
   ],
   "source": [
    "parsed_html.find('h1')[0]\n",
    "\n",
    "### `find` looks for classes if you a `.` before the class"
   ]
  },
  {
   "cell_type": "code",
   "execution_count": 25,
   "metadata": {
    "slideshow": {
     "slide_type": "fragment"
    }
   },
   "outputs": [
    {
     "data": {
      "text/plain": [
       "[<Element 'h1' class=('firstHeading',) id='firstHeading' lang='en'>]"
      ]
     },
     "execution_count": 25,
     "metadata": {},
     "output_type": "execute_result"
    }
   ],
   "source": [
    "parsed_html.find('.firstHeading')"
   ]
  },
  {
   "cell_type": "code",
   "execution_count": 26,
   "metadata": {
    "slideshow": {
     "slide_type": "slide"
    }
   },
   "outputs": [
    {
     "data": {
      "text/plain": [
       "'Sociology'"
      ]
     },
     "execution_count": 26,
     "metadata": {},
     "output_type": "execute_result"
    }
   ],
   "source": [
    "parsed_html.find('.firstHeading')[0].text"
   ]
  },
  {
   "cell_type": "markdown",
   "metadata": {
    "slideshow": {
     "slide_type": "slide"
    }
   },
   "source": [
    "<div class=\"alert alert-info\">\n",
    "<h3> Your turn</h3>\n",
    "    <p> What is the class associated with the History headline?\n",
    "</div>\n",
    "\n",
    "\n"
   ]
  },
  {
   "cell_type": "code",
   "execution_count": null,
   "metadata": {
    "slideshow": {
     "slide_type": "fragment"
    }
   },
   "outputs": [],
   "source": []
  },
  {
   "cell_type": "markdown",
   "metadata": {
    "slideshow": {
     "slide_type": "slide"
    }
   },
   "source": [
    "![](https://raw.githubusercontent.com/nealcaren/UiOBigData/master/notebooks/images/wiki_sociology_h2.png)"
   ]
  },
  {
   "cell_type": "code",
   "execution_count": null,
   "metadata": {
    "slideshow": {
     "slide_type": "slide"
    }
   },
   "outputs": [],
   "source": []
  },
  {
   "cell_type": "markdown",
   "metadata": {
    "slideshow": {
     "slide_type": "slide"
    }
   },
   "source": [
    "<div class=\"alert alert-info\">\n",
    "<h3> Your turn</h3>\n",
    "    <p> What is the tag associated with text of the article?\n",
    "</div>\n",
    "\n"
   ]
  },
  {
   "cell_type": "code",
   "execution_count": null,
   "metadata": {
    "slideshow": {
     "slide_type": "fragment"
    }
   },
   "outputs": [],
   "source": []
  },
  {
   "cell_type": "code",
   "execution_count": 27,
   "metadata": {
    "slideshow": {
     "slide_type": "slide"
    }
   },
   "outputs": [
    {
     "name": "stdout",
     "output_type": "stream",
     "text": [
      "\n",
      "Sociology is the study of society, patterns of social relationships, social interaction and culture of everyday life using the principles of psychology neuroscience and network science.[1][2][3][4] It is a social science that uses various methods of empirical investigation[5] and critical analysis[6] to develop a body of knowledge about social order, acceptance, and change or social evolution. While some sociologists conduct research that may be applied directly to social policy and welfare, others focus primarily on refining the theoretical understanding of social processes. Subject matter ranges from the micro-sociology level of individual agency and interaction to the macro level of systems and the social structure.[7]\n",
      "The different traditional focuses of sociology include social stratification, social class, social mobility, religion, secularization, law, sexuality, gender, and deviance. As all spheres of human activity are affected by the interplay between social structure and individual agency, sociology has gradually expanded its focus to other subjects, such as health, medical, economy, military and penal institutions, the Internet, education, social capital, and the role of social activity in the development of scientific knowledge.\n",
      "The range of social scientific methods has also expanded. Social researchers draw upon a variety of qualitative and quantitative techniques. The linguistic and cultural turns of the mid-20th century led to increasingly interpretative, hermeneutic, and philosophic approaches towards the analysis of society. Conversely, the end of the 1990s and the beginning of the 2000s have seen the rise of new analytically, mathematically, and computationally rigorous techniques, such as agent-based modelling and social network analysis.[8][9]\n",
      "Social research informs politicians and policy makers, educators, planners, legislators, administrators, developers, business magnates, managers, social workers, non-governmental organizations, non-profit organizations, and people interested in resolving social issues in general. There is often a great deal of crossover between social research, market research, and other statistical fields.[10]\n",
      "Sociological reasoning predates the foundation of the discipline. Social analysis has origins in the common stock of Western knowledge and philosophy, and has been carried out from as far back as the time of ancient Greek philosopher Plato, if not before.[citation needed] The origin of the survey (the collection of information from a sample of individuals) can be traced back to at least the Domesday Book in 1086,[11][12] while ancient philosophers such as Confucius wrote about the importance of social roles. There is evidence of early sociology in medieval Arab writings. Some sources consider Ibn Khaldun, a 14th-century Arab Islamic scholar from North Africa (Tunisia), to have been the first sociologist and the father of sociology[13][14][15][16] (see Branches of the early Islamic philosophy); his Muqaddimah was perhaps the first work to advance social-scientific reasoning on social cohesion and social conflict.[17][18][19][20][21][22]\n",
      "The word sociology (or \"sociologie\") is derived from both Latin and Greek origins. The Latin word: socius, \"companion\"; the suffix -logy, \"the study of\" from Greek -λογία from λόγος, lógos, \"word\", \"knowledge\". It was first coined in 1780 by the French essayist Emmanuel-Joseph Sieyès (1748–1836) in an unpublished manuscript.[23] Sociology was later defined independently by the French philosopher of science, Auguste Comte (1798–1857) in 1838[24] as a new way of looking at society.[25] Comte had earlier used the term social physics, but that had subsequently been appropriated by others, most notably the Belgian statistician Adolphe Quetelet. Comte endeavoured to unify history, psychology, and economics through the scientific understanding of the social realm. Writing shortly after the malaise of the French Revolution, he proposed that social ills could be remedied through sociological positivism, an epistemological approach outlined in The Course in Positive Philosophy (1830–1842) and A General View of Positivism (1848). Comte believed a positivist stage would mark the final era, after conjectural theological and metaphysical phases, in the progression of human understanding.[26] In observing the circular dependence of theory and observation in science, and having classified the sciences, Comte may be regarded as the first philosopher of science in the modern sense of the term.[27]\n",
      "Comte gave a powerful impetus to the development of sociology, an impetus which bore fruit in the later decades of the nineteenth century. To say this is certainly not to claim that French sociologists such as Durkheim were devoted disciples of the high priest of positivism. But by insisting on the irreducibility of each of his basic sciences to the particular science of sciences which it presupposed in the hierarchy and by emphasizing the nature of sociology as the scientific study of social phenomena Comte put sociology on the map. To be sure, [its] beginnings can be traced back well beyond Montesquieu, for example, and to Condorcet, not to speak of Saint-Simon, Comte's immediate predecessor. But Comte's clear recognition of sociology as a particular science, with a character of its own, justified Durkheim in regarding him as the father or founder of this science, in spite of the fact that Durkheim did not accept the idea of the three states and criticized Comte's approach to sociology.[28]\n",
      "Both Auguste Comte and Karl Marx (1818–1883) set out to develop scientifically justified systems in the wake of European industrialization and secularization, informed by various key movements in the philosophies of history and science. Marx rejected Comtean positivism[29] but in attempting to develop a science of society nevertheless came to be recognized as a founder of sociology as the word gained wider meaning. For Isaiah Berlin, Marx may be regarded as the \"true father\" of modern sociology, \"in so far as anyone can claim the title.\"[30]\n",
      "To have given clear and unified answers in familiar empirical terms to those theoretical questions which most occupied men's minds at the time, and to have deduced from them clear practical directives without creating obviously artificial links between the two, was the principal achievement of Marx's theory. The sociological treatment of historical and moral problems, which Comte and after him, Spencer and Taine, had discussed and mapped, became a precise and concrete study only when the attack of militant Marxism made its conclusions a burning issue, and so made the search for evidence more zealous and the attention to method more intense.[31]\n",
      "Herbert Spencer (27 April 1820 – 8 December 1903) was one of the most popular and influential 19th-century sociologists. It is estimated that he sold one million books in his lifetime, far more than any other sociologist at the time. So strong was his influence that many other 19th-century thinkers, including Émile Durkheim, defined their ideas in relation to his. Durkheim's Division of Labour in Society is to a large extent an extended debate with Spencer from whose sociology, many commentators now agree, Durkheim borrowed extensively.[32] Also a notable biologist, Spencer coined the term survival of the fittest. While Marxian ideas defined one strand of sociology, Spencer was a critic of socialism as well as strong advocate for a laissez-faire style of government. His ideas were closely observed by conservative political circles, especially in the United States and England.[33]\n",
      "The first formal Department of Sociology in the world was established by Albion Small – at the invitation of William Rainey Harper – at the University of Chicago in 1892, and the American Journal of Sociology was founded shortly thereafter in 1895 by Small as well.[34] However, the institutionalization of sociology as an academic discipline was chiefly led by Émile Durkheim (1858–1917), who developed positivism as a foundation for practical social research. While Durkheim rejected much of the detail of Comte's philosophy, he retained and refined its method, maintaining that the social sciences are a logical continuation of the natural ones into the realm of human activity, and insisting that they may retain the same objectivity, rationalism, and approach to causality.[35] Durkheim set up the first European department of sociology at the University of Bordeaux in 1895, publishing his Rules of the Sociological Method (1895).[36] For Durkheim, sociology could be described as the \"science of institutions, their genesis and their functioning\".[37]\n",
      "Durkheim's monograph Suicide (1897) is considered a seminal work in statistical analysis by contemporary sociologists. Suicide is a case study of variations in suicide rates among Catholic and Protestant populations, and served to distinguish sociological analysis from psychology or philosophy. It also marked a major contribution to the theoretical concept of structural functionalism. By carefully examining suicide statistics in different police districts, he attempted to demonstrate that Catholic communities have a lower suicide rate than that of Protestants, something he attributed to social (as opposed to individual or psychological) causes. He developed the notion of objective sui generis \"social facts\" to delineate a unique empirical object for the science of sociology to study.[35] Through such studies he posited that sociology would be able to determine whether any given society is 'healthy' or 'pathological', and seek social reform to negate organic breakdown or \"social anomie\".\n",
      "Sociology quickly evolved as an academic response to the perceived challenges of modernity, such as industrialization, urbanization, secularization, and the process of \"rationalization\".[38] The field predominated in continental Europe, with British anthropology and statistics generally following on a separate trajectory. By the turn of the 20th century, however, many theorists were active in the English-speaking world. Few early sociologists were confined strictly to the subject, interacting also with economics, jurisprudence, psychology and philosophy, with theories being appropriated in a variety of different fields. Since its inception, sociological epistemology, methods, and frames of inquiry, have significantly expanded and diverged.[7]\n",
      "Durkheim, Marx, and the German theorist Max Weber (1864–1920) are typically cited as the three principal architects of sociology.[39] Herbert Spencer, William Graham Sumner, Lester F. Ward, W.E.B. Du Bois, Vilfredo Pareto, Alexis de Tocqueville, Werner Sombart, Thorstein Veblen, Ferdinand Tönnies, Georg Simmel, Jane Addams and Karl Mannheim are often included on academic curricula as founding theorists. Curricula also may include Charlotte Perkins Gilman, Marianne Weber and Friedrich Engels as founders of the feminist tradition in sociology. Each key figure is associated with a particular theoretical perspective and orientation.[40]\n",
      "Marx and Engels associated the emergence of modern society above all with the development of capitalism; for Durkheim it was connected in particular with industrialization and the new social division of labor which this brought about; for Weber it had to do with the emergence of a distinctive way of thinking, the rational calculation which he associated with the Protestant Ethic (more or less what Marx and Engels speak of in terms of those 'icy waves of egotistical calculation'). Together the works of these great classical sociologists suggest what Giddens has recently described as 'a multidimensional view of institutions of modernity' and which emphasises not only capitalism and industrialism as key institutions of modernity, but also 'surveillance' (meaning 'control of information and social supervision') and 'military power' (control of the means of violence in the context of the industrialisation of war).[40]\n",
      "The overarching methodological principle of positivism is to conduct sociology in broadly the same manner as natural science. An emphasis on empiricism and the scientific method is sought to provide a tested foundation for sociological research based on the assumption that the only authentic knowledge is scientific knowledge, and that such knowledge can only arrive by positive affirmation through scientific methodology.\n",
      "Our main goal is to extend scientific rationalism to human conduct.... What has been called our positivism is but a consequence of this rationalism.[41]\n",
      "The term has long since ceased to carry this meaning; there are no fewer than twelve distinct epistemologies that are referred to as positivism.[35][42] Many of these approaches do not self-identify as \"positivist\", some because they themselves arose in opposition to older forms of positivism, and some because the label has over time become a pejorative term[35] by being mistakenly linked with a theoretical empiricism. The extent of antipositivist criticism has also diverged, with many rejecting the scientific method and others only seeking to amend it to reflect 20th-century developments in the philosophy of science. However, positivism (broadly understood as a scientific approach to the study of society) remains dominant in contemporary sociology, especially in the United States.[35]\n",
      "Loïc Wacquant distinguishes three major strains of positivism: Durkheimian, Logical, and Instrumental.[35] None of these are the same as that set forth by Comte, who was unique in advocating such a rigid (and perhaps optimistic) version.[43][44] While Émile Durkheim rejected much of the detail of Comte's philosophy, he retained and refined its method. Durkheim maintained that the social sciences are a logical continuation of the natural ones into the realm of human activity, and insisted that they should retain the same objectivity, rationalism, and approach to causality.[35] He developed the notion of objective sui generis \"social facts\" to serve as unique empirical objects for the science of sociology to study.[35]\n",
      "The variety of positivism that remains dominant today is termed instrumental positivism. This approach eschews epistemological and metaphysical concerns (such as the nature of social facts) in favour of methodological clarity, replicability, reliability and validity.[45] This positivism is more or less synonymous with quantitative research, and so only resembles older positivism in practice. Since it carries no explicit philosophical commitment, its practitioners may not belong to any particular school of thought. Modern sociology of this type is often credited to Paul Lazarsfeld,[35] who pioneered large-scale survey studies and developed statistical techniques for analysing them. This approach lends itself to what Robert K. Merton called middle-range theory: abstract statements that generalize from segregated hypotheses and empirical regularities rather than starting with an abstract idea of a social whole.[46]\n",
      "Reactions against social empiricism began when German philosopher Hegel voiced opposition to both empiricism, which he rejected as uncritical, and determinism, which he viewed as overly mechanistic.[47] Karl Marx's methodology borrowed from Hegelian dialecticism but also a rejection of positivism in favour of critical analysis, seeking to supplement the empirical acquisition of \"facts\" with the elimination of illusions.[48] He maintained that appearances need to be critiqued rather than simply documented. Early hermeneuticians such as Wilhelm Dilthey pioneered the distinction between natural and social science ('Geisteswissenschaft'). Various neo-Kantian philosophers, phenomenologists and human scientists further theorized how the analysis of the social world differs to that of the natural world due to the irreducibly complex aspects of human society, culture, and being.[49][50]\n",
      "In the Italian context of development of social sciences and of sociology in particular, there are oppositions to the first foundation of the discipline, sustained by speculative philosophy in accordance with the antiscientific tendencies matured by critique of positivism and evolutionism, so a tradition Progressist struggles to establish itself.[51]\n",
      "At the turn of the 20th century the first generation of German sociologists formally introduced methodological anti-positivism, proposing that research should concentrate on human cultural norms, values, symbols, and social processes viewed from a resolutely subjective perspective. Max Weber argued that sociology may be loosely described as a science as it is able to identify causal relationships of human \"social action\"—especially among \"ideal types\", or hypothetical simplifications of complex social phenomena.[52] As a non-positivist, however, Weber sought relationships that are not as \"historical, invariant, or generalisable\"[53] as those pursued by natural scientists. Fellow German sociologist, Ferdinand Tönnies, theorised on two crucial abstract concepts with his work on \"Gemeinschaft and Gesellschaft\" (lit. community and society). Tönnies marked a sharp line between the realm of concepts and the reality of social action: the first must be treated axiomatically and in a deductive way (\"pure sociology\"), whereas the second empirically and inductively (\"applied sociology\").[54]\n",
      "[Sociology is] ... the science whose object is to interpret the meaning of social action and thereby give a causal explanation of the way in which the action proceeds and the effects which it produces. By 'action' in this definition is meant the human behaviour when and to the extent that the agent or agents see it as subjectively meaningful ... the meaning to which we refer may be either (a) the meaning actually intended either by an individual agent on a particular historical occasion or by a number of agents on an approximate average in a given set of cases, or (b) the meaning attributed to the agent or agents, as types, in a pure type constructed in the abstract. In neither case is the 'meaning' to be thought of as somehow objectively 'correct' or 'true' by some metaphysical criterion. This is the difference between the empirical sciences of action, such as sociology and history, and any kind of prior discipline, such as jurisprudence, logic, ethics, or aesthetics whose aim is to extract from their subject-matter 'correct' or 'valid' meaning.[55]\n",
      "Both Weber and Georg Simmel pioneered the \"Verstehen\" (or 'interpretative') method in social science; a systematic process by which an outside observer attempts to relate to a particular cultural group, or indigenous people, on their own terms and from their own point of view.[56] Through the work of Simmel, in particular, sociology acquired a possible character beyond positivist data-collection or grand, deterministic systems of structural law. Relatively isolated from the sociological academy throughout his lifetime, Simmel presented idiosyncratic analyses of modernity more reminiscent of the phenomenological and existential writers than of Comte or Durkheim, paying particular concern to the forms of, and possibilities for, social individuality.[57] His sociology engaged in a neo-Kantian inquiry into the limits of perception, asking 'What is society?' in a direct allusion to Kant's question 'What is nature?'[58]\n",
      "The deepest problems of modern life flow from the attempt of the individual to maintain the independence and individuality of his existence against the sovereign powers of society, against the weight of the historical heritage and the external culture and technique of life. The antagonism represents the most modern form of the conflict which primitive man must carry on with nature for his own bodily existence. The eighteenth century may have called for liberation from all the ties which grew up historically in politics, in religion, in morality and in economics in order to permit the original natural virtue of man, which is equal in everyone, to develop without inhibition; the nineteenth century may have sought to promote, in addition to man's freedom, his individuality (which is connected with the division of labor) and his achievements which make him unique and indispensable but which at the same time make him so much the more dependent on the complementary activity of others; Nietssche may have seen the relentless struggle of the individual as the prerequisite for his full development, while socialism found the same thing in the suppression of all competition – but in each of these the same fundamental motive was at work, namely the resistance of the individual to being leveled, swallowed up in the social-technological mechanism.[59]\n",
      "The first college course entitled \"Sociology\" was taught in the United States at Yale in 1875 by William Graham Sumner.[60] In 1883 Lester F. Ward, the first president of the American Sociological Association, published Dynamic Sociology—Or Applied social science as based upon statical sociology and the less complex sciences and attacked the laissez-faire sociology of Herbert Spencer and Sumner.[33] Ward's 1200 page book was used as core material in many early American sociology courses. In 1890, the oldest continuing American course in the modern tradition began at the University of Kansas, lectured by Frank W. Blackmar.[61] The Department of Sociology at the University of Chicago was established in 1892 by Albion Small, who also published the first sociology textbook: An introduction to the study of society 1894.[62] George Herbert Mead and Charles Cooley, who had met at the University of Michigan in 1891 (along with John Dewey), would move to Chicago in 1894.[63] Their influence gave rise to social psychology and the symbolic interactionism of the modern Chicago School.[64] The American Journal of Sociology was founded in 1895, followed by the American Sociological Association (ASA) in 1905.[62] The sociological \"canon of classics\" with Durkheim and Max Weber at the top owes in part to Talcott Parsons, who is largely credited with introducing both to American audiences.[65] Parsons consolidated the sociological tradition and set the agenda for American sociology at the point of its fastest disciplinary growth. Sociology in the United States was less historically influenced by Marxism than its European counterpart, and to this day broadly remains more statistical in its approach.[66]\n",
      "The first sociology department to be established in the United Kingdom was at the London School of Economics and Political Science (home of the British Journal of Sociology) in 1904.[67] Leonard Trelawny Hobhouse and Edvard Westermarck became the lecturers in the discipline at the University of London in 1907.[68][69] Harriet Martineau, an English translator of Comte, has been cited as the first female sociologist.[70] In 1909 the Deutsche Gesellschaft für Soziologie (German Sociological Association) was founded by Ferdinand Tönnies and Max Weber, among others. Weber established the first department in Germany at the Ludwig Maximilian University of Munich in 1919, having presented an influential new antipositivist sociology.[71] In 1920, Florian Znaniecki set up the first department in Poland. The Institute for Social Research at the University of Frankfurt (later to become the Frankfurt School of critical theory) was founded in 1923.[72] International co-operation in sociology began in 1893, when René Worms founded the Institut International de Sociologie, an institution later eclipsed by the much larger International Sociological Association (ISA), founded in 1949.[73]\n",
      "The contemporary discipline of sociology is theoretically multi-paradigmatic[74] in line with the contentions of classical social theory. In Randall Collins' well-cited survey of sociological theory[75] he retroactively labels various theorists as belonging to four theoretical traditions: Functionalism, Conflict, Symbolic Interactionism, and Utilitarianism.[76] Modern sociological theory descends predominately from functionalist (Durkheim) and conflict-centred (Marx and Weber) accounts of social structure, as well as the symbolic interactionist tradition consisting of micro-scale structural (Simmel) and pragmatist (Mead, Cooley) theories of social interaction. Utilitarianism, also known as Rational Choice or Social Exchange, although often associated with economics, is an established tradition within sociological theory.[77][78] Lastly, as argued by Raewyn Connell, a tradition that is often forgotten is that of Social Darwinism, which brings the logic of Darwinian biological evolution and applies it to people and societies.[79] This tradition often aligns with classical functionalism. It was the dominant theoretical stance in American sociology from around 1881 to 1915[80] and is associated with several founders of sociology, primarily Herbert Spencer, Lester F. Ward and William Graham Sumner. Contemporary sociological theory retains traces of each of these traditions and they are by no means mutually exclusive.\n",
      "A broad historical paradigm in both sociology and anthropology, functionalism addresses the social structure, referred to as social organization by the classical theorists, as a whole and with respect to the necessary function of its constituent elements. A common analogy (popularized by Herbert Spencer) is to regard norms and institutions as 'organs' that work towards the proper-functioning of the entire 'body' of society.[81] The perspective was implicit in the original sociological positivism of Comte but was theorized in full by Durkheim, again with respect to observable, structural laws. Functionalism also has an anthropological basis in the work of theorists such as Marcel Mauss, Bronisław Malinowski and Radcliffe-Brown. It is in Radcliffe-Brown's specific usage that the prefix 'structural' emerged.[82] Classical functionalist theory is generally united by its tendency towards biological analogy and notions of social evolutionism, in that the basic form of society would increase in complexity and those forms of social organization that promoted solidarity would eventually overcome social disorganization. As Giddens states: \"Functionalist thought, from Comte onwards, has looked particularly towards biology as the science providing the closest and most compatible model for social science. Biology has been taken to provide a guide to conceptualizing the structure and the function of social systems and to analysing processes of evolution via mechanisms of adaptation. functionalism strongly emphasizes the pre-eminence of the social world over its individual parts (i.e. its constituent actors, human subjects).\"[83]\n",
      "Functionalist theories emphasize \"cohesive systems\" and are often contrasted with \"conflict theories\", which critique the overarching socio-political system or emphasize the inequality between particular groups. The following quotes from Durkheim and Marx epitomize the political, as well as theoretical, disparities, between functionalist and conflict thought respectively:\n",
      "To aim for a civilisation beyond that made possible by the nexus of the surrounding environment will result in unloosing sickness into the very society we live in. Collective activity cannot be encouraged beyond the point set by the condition of the social organism without undermining health.[84]\n",
      "The history of all hitherto existing society is the history of class struggles. Freeman and slave, patrician and plebeian, lord and serf, guild-master and journeyman, in a word, oppressor and oppressed, stood in constant opposition to one another, carried on an uninterrupted, now hidden, now open fight, a fight that each time ended, either in a revolutionary re-constitution of society at large, or in the common ruin of the contending classes.[85]\n",
      "Symbolic interaction; often associated with Interactionism, Phenomenological sociology, Dramaturgy, Interpretivism, is a sociological tradition that places emphasis on subjective meanings and the empirical unfolding of social processes, generally accessed through micro-analysis.[86] This tradition emerged in the Chicago School of the 1920s and 1930s, which prior to World War II \"had been the center of sociological research and graduate study\".[87] The approach focuses on creating a framework for building a theory that sees society as the product of the everyday interactions of individuals. Society is nothing more than the shared reality that people construct as they interact with one another. This approach sees people interacting in countless settings using symbolic communications to accomplish the tasks at hand. Therefore, society is a complex, ever-changing mosaic of subjective meanings.[88] Some critics of this approach argue that it only looks at what is happening in a particular social situation, and disregards the effects that culture, race or gender (i.e. social-historical structures) may have in that situation.[89] Some important sociologists associated with this approach include Max Weber, George Herbert Mead, Erving Goffman, George Homans and Peter Blau. It is also in this tradition that the radical-empirical approach of Ethnomethodology emerges from the work of Harold Garfinkel.\n",
      "Utilitarianism is often referred to as exchange theory or rational choice theory in the context of sociology. This tradition tends to privilege the agency of individual rational actors and assumes that within interactions individuals always seek to maximize their own self-interest. As argued by Josh Whitford, rational actors are assumed to have four basic elements, the individual has (1) \"a knowledge of alternatives,\" (2) \"a knowledge of, or beliefs about the consequences of the various alternatives,\" (3) \"an ordering of preferences over outcomes,\" (4) \"A decision rule, to select among the possible alternatives\"[90] Exchange theory is specifically attributed to the work of George C. Homans, Peter Blau and Richard Emerson.[91] Organizational sociologists James G. March and Herbert A. Simon noted that an individual's rationality is bounded by the context or organizational setting. The utilitarian perspective in sociology was, most notably, revitalized in the late 20th century by the work of former ASA president James Coleman.\n",
      "Following the decline of theories of sociocultural evolution, in the United States, the interactionism of the Chicago School dominated American sociology. As Anselm Strauss describes, \"We didn't think symbolic interaction was a perspective in sociology; we thought it was sociology.\"[87] After World War II, mainstream sociology shifted to the survey-research of Paul Lazarsfeld at Columbia University and the general theorizing of Pitirim Sorokin, followed by Talcott Parsons at Harvard University. Ultimately, \"the failure of the Chicago, Columbia, and Wisconsin [sociology] departments to produce a significant number of graduate students interested in and committed to general theory in the years 1936–45 was to the advantage of the Harvard department.\"[92] As Parsons began to dominate general theory, his work predominately referenced European sociology—almost entirely omitting citations of both the American tradition of sociocultural-evolution as well as pragmatism. In addition to Parsons' revision of the sociological canon (which included Marshall, Pareto, Weber and Durkheim), the lack of theoretical challenges from other departments nurtured the rise of the Parsonian structural-functionalist movement, which reached its crescendo in the 1950s, but by the 1960s was in rapid decline.[93]\n",
      "By the 1980s, most functionalisms in Europe had broadly been replaced by conflict-oriented approaches[94] and to many in the discipline, functionalism was considered \"as dead as a dodo.\"[95] \"According to Giddens, the orthodox consensus terminated in the late 1960s and 1970s as the middle ground shared by otherwise competing perspectives gave way and was replaced by a baffling variety of competing perspectives. This third 'generation' of social theory includes phenomenologically inspired approaches, critical theory, ethnomethodology, symbolic interactionism, structuralism, post-structuralism, and theories written in the tradition of hermeneutics and ordinary language philosophy.\"[96]\n",
      "While some conflict approaches also gained popularity in the United States, the mainstream of the discipline instead shifted to a variety of empirically oriented middle-range theories with no single overarching, or \"grand\", theoretical orientation. John Levi Martin refers to this \"golden age of methodological unity and theoretical calm\" as the Pax Wisconsana,[97] as it reflected the composition of the sociology department at the University of Wisconsin–Madison: numerous scholars working on separate projects with little contention.[98] Omar Lizardo describes the Pax Wisconsana as: \"a Midwestern flavored, Mertonian resolution of the theory/method wars in which [sociologists] all agreed on at least two working hypotheses: (1) grand theory is a waste of time; (2) [and] good theory has to be good to think with or goes in the trash bin.\"[99] Despite the aversion to grand theory in the latter half of the 20th century, several new traditions have emerged that propose various syntheses: structuralism, post-structuralism, cultural sociology and systems theory.\n",
      "The structuralist movement originated primarily from the work of Durkheim as interpreted by two European anthropologists. Anthony Giddens' theory of structuration draws on the linguistic theory of Ferdinand de Saussure and the French anthropologist Claude Lévi-Strauss. In this context, 'structure' refers not to 'social structure' but to the semiotic understanding of human culture as a system of signs. One may delineate four central tenets of structuralism: First, structure is what determines the structure of a whole. Second, structuralists believe that every system has a structure. Third, structuralists are interested in 'structural' laws that deal with coexistence rather than changes. Finally, structures are the 'real things' beneath the surface or the appearance of meaning.[100]\n",
      "The second tradition of structuralist thought, contemporaneous with Giddens, emerges from the American school of social network analysis,[101] spearheaded by the Harvard Department of Social Relations led by Harrison White and his students in the 1970s and 1980s. This tradition of structuralist thought argues that, rather than semiotics, social structure is networks of patterned social relations. And, rather than Levi-Strauss, this school of thought draws on the notions of structure as theorized by Levi-Strauss' contemporary anthropologist, Radcliffe-Brown.[102] Some[103] refer to this as \"network structuralism,\" and equate it to \"British structuralism\" as opposed to the \"French structuralism\" of Levi-Strauss.\n",
      "Post-structuralist thought has tended to reject 'humanist' assumptions in the construction of social theory.[104] Michel Foucault provides an important critique in his Archaeology of the Human Sciences, though Habermas and Rorty have both argued that Foucault merely replaces one such system of thought with another.[105][106] The dialogue between these intellectuals highlights a trend in recent years for certain schools of sociology and philosophy to intersect. The anti-humanist position has been associated with \"postmodernism\", a term used in specific contexts to describe an era or phenomena, but occasionally construed as a method.\n",
      "Overall, there is a strong consensus regarding the central problems of sociological theory, which are largely inherited from the classical theoretical traditions. This consensus is: how to link, transcend or cope with the following \"big three\" dichotomies:[107] subjectivity and objectivity, structure and agency, and synchrony and diachrony. The first deals with knowledge, the second with action, and the last with time. Lastly, sociological theory often grapples with the problem of integrating or transcending the divide between micro, meso and macro-scale social phenomena, which is a subset of all three central problems.\n",
      "The problem of subjectivity and objectivity can be divided into two parts: a concern over the general possibilities of social actions, and the specific problem of social scientific knowledge. In the former, the subjective is often equated (though not necessarily) with the individual, and the individual's intentions and interpretations of the objective. The objective is often considered any public or external action or outcome, on up to society writ large. A primary question for social theorists is how knowledge reproduces along the chain of subjective-objective-subjective, that is to say: how is intersubjectivity achieved? While, historically, qualitative methods have attempted to tease out subjective interpretations, quantitative survey methods also attempt to capture individual subjectivities. Also, some qualitative methods take a radical approach to objective description in situ.\n",
      "The latter concern with scientific knowledge results from the fact that a sociologist is part of the very object they seek to explain. Bourdieu puts this problem rather succinctly:[peacock term]\n",
      "How can the sociologist effect in practice this radical doubting which is indispensable for bracketing all the presuppositions inherent in the fact that she is a social being, that she is therefore socialised and led to feel \"like a fish in water\" within that social world whose structures she has internalised? How can she prevent the social world itself from carrying out the construction of the object, in a sense, through her, through these unself-conscious operations or operations unaware of themselves of which she is the apparent subject\n",
      "Structure and agency, sometimes referred to as determinism versus voluntarism,[108] form an enduring ontological debate in social theory: \"Do social structures determine an individual's behaviour or does human agency?\" In this context 'agency' refers to the capacity of individuals to act independently and make free choices, whereas 'structure' relates to factors that limit or affect the choices and actions of individuals (such as social class, religion, gender, ethnicity, and so on). Discussions over the primacy of either structure or agency relate to the core of sociological epistemology (\"What is the social world made of?\", \"What is a cause in the social world, and what is an effect?\").[109] A perennial question within this debate is that of \"social reproduction\": how are structures (specifically, structures producing inequality) reproduced through the choices of individuals?\n",
      "Synchrony and diachrony, or statics and dynamics, within social theory are terms that refer to a distinction emerging out of the work of Levi-Strauss who inherited it from the linguistics of Ferdinand de Saussure.[102] The former slices moments of time for analysis, thus it is an analysis of static social reality. Diachrony, on the other hand, attempts to analyse dynamic sequences. Following Saussure, synchrony would refer to social phenomena as a static concept like a language, while diachrony would refer to unfolding processes like actual speech. In Anthony Giddens' introduction to Central Problems in Social Theory, he states that, \"in order to show the interdependence of action and structure ... we must grasp the time space relations inherent in the constitution of all social interaction.\" And like structure and agency, time is integral to discussion of social reproduction. In terms of sociology, historical sociology is often better positioned to analyse social life as diachronic, while survey research takes a snapshot of social life and is thus better equipped to understand social life as synchronized. Some argue that the synchrony of social structure is a methodological perspective rather than an ontological claim.[102] Nonetheless, the problem for theory is how to integrate the two manners of recording and thinking about social data.\n",
      "Many people divide sociological research methods into two broad categories, although many others see research methods as a continuum:[110]\n",
      "Sociologists are often divided into camps of support for particular research techniques. These disputes relate to the epistemological debates at the historical core of social theory. While very different in many aspects, both qualitative and quantitative approaches involve a systematic interaction between theory and data.[111] Quantitative methodologies hold the dominant position in sociology, especially in the United States.[35] In the discipline's two most cited journals, quantitative articles have historically outnumbered qualitative ones by a factor of two.[112] (Most articles published in the largest British journal, on the other hand, are qualitative.) Most textbooks on the methodology of social research are written from the quantitative perspective,[113] and the very term \"methodology\" is often used synonymously with \"statistics.\" Practically all sociology PhD programmes in the United States require training in statistical methods. The work produced by quantitative researchers is also deemed more 'trustworthy' and 'unbiased' by the general public,[114] though this judgment continues to be challenged by antipositivists.[114]\n",
      "The choice of method often depends largely on what the researcher intends to investigate. For example, a researcher concerned with drawing a statistical generalization across an entire population may administer a survey questionnaire to a representative sample population. By contrast, a researcher who seeks full contextual understanding of an individual's social actions may choose ethnographic participant observation or open-ended interviews. Studies will commonly combine, or 'triangulate', quantitative and qualitative methods as part of a 'multi-strategy' design. For instance, a quantitative study may be performed to obtain statistical patterns on a target sample, and then combined with a qualitative interview to determine the play of agency.[111]\n",
      "Quantitative methods are often used to ask questions about a population that is very large, making a census or a complete enumeration of all the members in that population infeasible. A 'sample' then forms a manageable subset of a population. In quantitative research, statistics are used to draw inferences from this sample regarding the population as a whole. The process of selecting a sample is referred to as 'sampling'. While it is usually best to sample randomly, concern with differences between specific subpopulations sometimes calls for stratified sampling. Conversely, the impossibility of random sampling sometimes necessitates nonprobability sampling, such as convenience sampling or snowball sampling.[111]\n",
      "The following list of research methods is neither exclusive nor exhaustive:\n",
      "Sociologists increasingly draw upon computationally intensive methods to analyse and model social phenomena.[121] Using computer simulations, artificial intelligence, text mining, complex statistical methods, and new analytic approaches like social network analysis and social sequence analysis, computational sociology develops and tests theories of complex social processes through bottom-up modelling of social interactions.[8]\n",
      "Although the subject matter and methodologies in social science differ from those in natural science or computer science, several of the approaches used in contemporary social simulation originated from fields such as physics and artificial intelligence.[122][123] By the same token, some of the approaches that originated in computational sociology have been imported into the natural sciences, such as measures of network centrality from the fields of social network analysis and network science. In relevant literature, computational sociology is often related to the study of social complexity.[124] Social complexity concepts such as complex systems, non-linear interconnection among macro and micro process, and emergence, have entered the vocabulary of computational sociology.[125] A practical and well-known example is the construction of a computational model in the form of an \"artificial society\", by which researchers can analyse the structure of a social system.[126][127]\n",
      "Sociologists' approach to culture can be divided into \"sociology of culture\" and \"cultural sociology\"—the terms are similar, though not entirely interchangeable.[128] Sociology of culture is an older term, and considers some topics and objects as more or less \"cultural\" than others. Conversely, cultural sociology sees all social phenomena as inherently cultural.[129] Sociology of culture often attempts to explain certain cultural phenomena as a product of social processes, while cultural sociology sees culture as a potential explanation of social phenomena.[130]\n",
      "For Simmel, culture referred to \"the cultivation of individuals through the agency of external forms which have been objectified in the course of history\".[57] While early theorists such as Durkheim and Mauss were influential in cultural anthropology, sociologists of culture are generally distinguished by their concern for modern (rather than primitive or ancient) society. Cultural sociology often involves the hermeneutic analysis of words, artefacts and symbols, or ethnographic interviews. However, some sociologists employ historical-comparative or quantitative techniques in the analysis of culture, Weber and Bourdieu for instance. The subfield is sometimes allied with critical theory in the vein of Theodor W. Adorno, Walter Benjamin, and other members of the Frankfurt School. Loosely distinct from the sociology of culture is the field of cultural studies. Birmingham School theorists such as Richard Hoggart and Stuart Hall questioned the division between \"producers\" and \"consumers\" evident in earlier theory, emphasizing the reciprocity in the production of texts. Cultural Studies aims to examine its subject matter in terms of cultural practices and their relation to power. For example, a study of a subculture (such as white working class youth in London) would consider the social practices of the group as they relate to the dominant class. The \"cultural turn\" of the 1960s ultimately placed culture much higher on the sociological agenda.\n",
      "Sociology of literature, film, and art is a subset of the sociology of culture. This field studies the social production of artistic objects and its social implications. A notable example is Pierre Bourdieu's 1992 Les Règles de L'Art: Genèse et Structure du Champ Littéraire, translated by Susan Emanuel as Rules of Art: Genesis and Structure of the Literary Field (1996). None of the founding fathers of sociology produced a detailed study of art, but they did develop ideas that were subsequently applied to literature by others. Marx's theory of ideology was directed at literature by Pierre Macherey, Terry Eagleton and Fredric Jameson. Weber's theory of modernity as cultural rationalization, which he applied to music, was later applied to all the arts, literature included, by Frankfurt School writers such as Adorno and Jürgen Habermas. Durkheim's view of sociology as the study of externally defined social facts was redirected towards literature by Robert Escarpit. Bourdieu's own work is clearly indebted to Marx, Weber and Durkheim.\n",
      "Criminologists analyse the nature, causes, and control of criminal activity, drawing upon methods across sociology, psychology, and the behavioural sciences. The sociology of deviance focuses on actions or behaviours that violate norms, including both infringements of formally enacted rules (e.g., crime) and informal violations of cultural norms. It is the remit of sociologists to study why these norms exist; how they change over time; and how they are enforced. The concept of social disorganization is when the broader social systems leads to violations of norms. For instance, Robert K. Merton produced a typology of deviance, which includes both individual and system level causal explanations of deviance.[131]\n",
      "The study of law played a significant role in the formation of classical sociology. Durkheim famously described law as the \"visible symbol\" of social solidarity.[132] The sociology of law refers to both a sub-discipline of sociology and an approach within the field of legal studies. Sociology of law is a diverse field of study that examines the interaction of law with other aspects of society, such as the development of legal institutions and the effect of laws on social change and vice versa. For example, an influential recent work in the field relies on statistical analyses to argue that the increase in incarceration in the US over the last 30 years is due to changes in law and policing and not to an increase in crime; and that this increase has significantly contributed to the persistence of racial stratification.[133]\n",
      "The sociology of communications and information technologies includes \"the social aspects of computing, the Internet, new media, computer networks, and other communication and information technologies\".[134]\n",
      "The Internet is of interest to sociologists in various ways; most practically as a tool for research and as a discussion platform.[135] The sociology of the Internet in the broad sense concerns the analysis of online communities (e.g. newsgroups, social networking sites) and virtual worlds, meaning that there is often overlap with community sociology. Online communities may be studied statistically through network analysis or interpreted qualitatively through virtual ethnography. Moreover, organizational change is catalysed through new media, thereby influencing social change at-large, perhaps forming the framework for a transformation from an industrial to an informational society. One notable text is Manuel Castells' The Internet Galaxy—the title of which forms an inter-textual reference to Marshall McLuhan's The Gutenberg Galaxy.[136] Closely related to the sociology of the Internet is digital sociology, which expands the scope of study to address not only the internet but also the impact of the other digital media and devices that have emerged since the first decade of the twenty-first century.\n",
      "As with cultural studies, media study is a distinct discipline that owes to the convergence of sociology and other social sciences and humanities, in particular, literary criticism and critical theory. Though neither the production process nor the critique of aesthetic forms is in the remit of sociologists, analyses of socializing factors, such as ideological effects and audience reception, stem from sociological theory and method. Thus the 'sociology of the media' is not a subdiscipline per se, but the media is a common and often indispensable topic.\n",
      "The term \"economic sociology\" was first used by William Stanley Jevons in 1879, later to be coined in the works of Durkheim, Weber and Simmel between 1890 and 1920.[137] Economic sociology arose as a new approach to the analysis of economic phenomena, emphasizing class relations and modernity as a philosophical concept. The relationship between capitalism and modernity is a salient issue, perhaps best demonstrated in Weber's The Protestant Ethic and the Spirit of Capitalism (1905) and Simmel's The Philosophy of Money (1900). The contemporary period of economic sociology, also known as new economic sociology, was consolidated by the 1985 work of Mark Granovetter titled \"Economic Action and Social Structure: The Problem of Embeddedness\". This work elaborated the concept of embeddedness, which states that economic relations between individuals or firms take place within existing social relations (and are thus structured by these relations as well as the greater social structures of which those relations are a part). Social network analysis has been the primary methodology for studying this phenomenon. Granovetter's theory of the strength of weak ties and Ronald Burt's concept of structural holes are two of the best known theoretical contributions of this field.\n",
      "The sociology of work, or industrial sociology, examines \"the direction and implications of trends in technological change, globalization, labour markets, work organization, managerial practices and employment relations to the extent to which these trends are intimately related to changing patterns of inequality in modern societies and to the changing experiences of individuals and families the ways in which workers challenge, resist and make their own contributions to the patterning of work and shaping of work institutions.\"[138]\n",
      "The sociology of education is the study of how educational institutions determine social structures, experiences, and other outcomes. It is particularly concerned with the schooling systems of modern industrial societies.[139] A classic 1966 study in this field by James Coleman, known as the \"Coleman Report\", analysed the performance of over 150,000 students and found that student background and socioeconomic status are much more important in determining educational outcomes than are measured differences in school resources (i.e. per pupil spending).[140] The controversy over \"school effects\" ignited by that study has continued to this day. The study also found that socially disadvantaged black students profited from schooling in racially mixed classrooms, and thus served as a catalyst for desegregation busing in American public schools.\n",
      "Environmental sociology is the study of human interactions with the natural environment, typically emphasizing human dimensions of environmental problems, social impacts of those problems, and efforts to resolve them. As with other sub-fields of sociology, scholarship in environmental sociology may be at one or multiple levels of analysis, from global (e.g. world-systems) to local, societal to individual. Attention is paid also to the processes by which environmental problems become defined and known to humans. As argued by notable environmental sociologist John Bellamy Foster, the predecessor to modern environmental sociology is Marx's analysis of the metabolic rift, which influenced contemporary thought on sustainability. Environmental sociology is often interdisciplinary and overlaps with the sociology of risk, rural sociology and the sociology of disaster.\n",
      "Human ecology deals with interdisciplinary study of the relationship between humans and their natural, social, and built environments. In addition to Environmental sociology, this field overlaps with architectural sociology, urban sociology, and to some extent visual sociology. In turn, visual sociology—which is concerned with all visual dimensions of social life—overlaps with media studies in that it uses photography, film and other technologies of media.\n",
      "Social pre-wiring deals with the study of fetal social behavior and social interactions in a multi-fetal environment. Specifically, social pre-wiring refers to the ontogeny of social interaction. Also informally referred to as, \"wired to be social.\" The theory questions whether there is a propensity to socially oriented action already present before birth. Research in the theory concludes that newborns are born into the world with a unique genetic wiring to be social.[141]\n",
      "Circumstantial evidence supporting the social pre-wiring hypothesis can be revealed when examining newborns' behavior. Newborns, not even hours after birth, have been found to display a preparedness for social interaction. This preparedness is expressed in ways such as their imitation of facial gestures. This observed behavior cannot be contributed to any current form of socialization or social construction. Rather, newborns most likely inherit to some extent social behavior and identity through genetics.[141]\n",
      "Principal evidence of this theory is uncovered by examining Twin pregnancies. The main argument is, if there are social behaviors that are inherited and developed before birth, then one should expect twin foetuses to engage in some form of social interaction before they are born. Thus, ten foetuses were analyzed over a period of time using ultrasound techniques. Using kinematic analysis, the results of the experiment were that the twin foetuses would interact with each other for longer periods and more often as the pregnancies went on. Researchers were able to conclude that the performance of movements between the co-twins were not accidental but specifically aimed.[141]\n",
      "The social pre-wiring hypothesis was proved correct, \"The central advance of this study is the demonstration that 'social actions' are already performed in the second trimester of gestation. Starting from the 14th week of gestation twin foetuses plan and execute movements specifically aimed at the co-twin. These findings force us to predate the emergence of social behavior: when the context enables it, as in the case of twin foetuses, other-directed actions are not only possible but predominant over self-directed actions.\".[141]\n",
      "Family, gender and sexuality form a broad area of inquiry studied in many sub-fields of sociology. A family is a group of people who are related by kinship ties :- Relations of blood / marriage / civil partnership or adoption. The family unit is one of the most important social institutions found in some form in nearly all known societies. It is the basic unit of social organization and plays a key role in socializing children into the culture of their society. The sociology of the family examines the family, as an institution and unit of socialization, with special concern for the comparatively modern historical emergence of the nuclear family and its distinct gender roles. The notion of \"childhood\" is also significant. As one of the more basic institutions to which one may apply sociological perspectives, the sociology of the family is a common component on introductory academic curricula. Feminist sociology, on the other hand, is a normative sub-field that observes and critiques the cultural categories of gender and sexuality, particularly with respect to power and inequality. The primary concern of feminist theory is the patriarchy and the systematic oppression of women apparent in many societies, both at the level of small-scale interaction and in terms of the broader social structure. Feminist sociology also analyses how gender interlocks with race and class to produce and perpetuate social inequalities.[142] \"How to account for the differences in definitions of femininity and masculinity and in sex role across different societies and historical periods\" is also a concern.[143] Social psychology of gender, on the other hand, uses experimental methods to uncover the microprocesses of gender stratification. For example, one recent study has shown that resume evaluators penalize women for motherhood while giving a boost to men for fatherhood.[144]\n",
      "The sociology of health and illness focuses on the social effects of, and public attitudes toward, illnesses, diseases, mental health and disabilities. This sub-field also overlaps with gerontology and the study of the ageing process. Medical sociology, by contrast, focuses on the inner-workings of medical organizations and clinical institutions. In Britain, sociology was introduced into the medical curriculum following the Goodenough Report (1944).[145]\n",
      "The sociology of the body and embodiment[146] takes a broad perspective on the idea of \"the body\" and includes \"a wide range of embodied dynamics including human and non-human bodies, morphology, human reproduction, anatomy, body fluids, biotechnology, genetics. This often intersects with health and illness, but also theories of bodies as political, social, cultural, economic and ideological productions.[147] The ISA maintains a Research Committee devoted to \"The Body in the Social Sciences\".[148]\n",
      "A subfield of the sociology of health and illness that overlaps with cultural sociology is the study of death, dying and bereavement,[149] sometimes referred to broadly as the sociology of death. This topic is exemplifed by the work of Douglas Davies and Michael C. Kearl.\n",
      "The sociology of knowledge is the study of the relationship between human thought and the social context within which it arises, and of the effects prevailing ideas have on societies. The term first came into widespread use in the 1920s, when a number of German-speaking theorists, most notably Max Scheler, and Karl Mannheim, wrote extensively on it. With the dominance of functionalism through the middle years of the 20th century, the sociology of knowledge tended to remain on the periphery of mainstream sociological thought. It was largely reinvented and applied much more closely to everyday life in the 1960s, particularly by Peter L. Berger and Thomas Luckmann in The Social Construction of Reality (1966) and is still central for methods dealing with qualitative understanding of human society (compare socially constructed reality). The \"archaeological\" and \"genealogical\" studies of Michel Foucault are of considerable contemporary influence.\n",
      "The sociology of science involves the study of science as a social activity, especially dealing \"with the social conditions and effects of science, and with the social structures and processes of scientific activity.\"[150] Important theorists in the sociology of science include Robert K. Merton and Bruno Latour. These branches of sociology have contributed to the formation of science and technology studies. Both the ASA and the BSA have sections devoted to the subfield of Science, Knowledge and Technology.[151][152] The ISA maintains a Research Committee on Science and Technology[153]\n",
      "Sociology of leisure is the study of how humans organize their free time. Leisure includes a broad array of activities, such as sport, tourism, and the playing of games. The sociology of leisure is closely tied to the sociology of work, as each explores a different side of the work–leisure relationship. More recent studies in the field move away from the work–leisure relationship and focus on the relation between leisure and culture. This area of sociology began with Thorstein Veblen's Theory of the Leisure Class.[154]\n",
      "This subfield of sociology studies, broadly, the dynamics of war, conflict resolution, peace movements, war refugees, conflict resolution and military institutions.[155] As a subset of this subfield, military sociology aims towards the systematic study of the military as a social group rather than as an organization. It is a highly specialized sub-field which examines issues related to service personnel as a distinct group with coerced collective action based on shared interests linked to survival in vocation and combat, with purposes and values that are more defined and narrow than within civil society. Military sociology also concerns civilian-military relations and interactions between other groups or governmental agencies. Topics include the dominant assumptions held by those in the military, changes in military members' willingness to fight, military unionization, military professionalism, the increased utilization of women, the military industrial-academic complex, the military's dependence on research, and the institutional and organizational structure of military.[156]\n",
      "Historically, political sociology concerned the relations between political organization and society. A typical research question in this area might be: \"Why do so few American citizens choose to vote?\"[157] In this respect questions of political opinion formation brought about some of the pioneering uses of statistical survey research by Paul Lazarsfeld. A major subfield of political sociology developed in relation to such questions, which draws on comparative history to analyse socio-political trends. The field developed from the work of Max Weber and Moisey Ostrogorsky.[158]\n",
      "Contemporary political sociology includes these areas of research, but it has been opened up to wider questions of power and politics.[159] Today political sociologists are as likely to be concerned with how identities are formed that contribute to structural domination by one group over another; the politics of who knows how and with what authority; and questions of how power is contested in social interactions in such a way as to bring about widespread cultural and social change. Such questions are more likely to be studied qualitatively. The study of social movements and their effects has been especially important in relation to these wider definitions of politics and power.[160]\n",
      "Political sociology has also moved beyond methodological nationalism and analysed the role of non-governmental organizations, the diffusion of the nation-state throughout the Earth as a social construct, and the role of stateless entities in the modern world society. Contemporary political sociologists also study inter-state interactions and human rights.\n",
      "Demographers or sociologists of population study the size, composition and change over time of a given population. Demographers study how these characteristics impact, or are impacted by, various social, economic or political systems. The study of population is also closely related to human ecology and environmental sociology, which studies a populations relationship with the surrounding environment and often overlaps with urban or rural sociology. Researchers in this field may study the movement of populations: transportation, migrations, diaspora, etc., which falls into the subfield known as Mobilities studies and is closely related to human geography. Demographers may also study spread of disease within a given population or epidemiology.\n",
      "Public sociology refers to an approach to the discipline which seeks to transcend the academy in order to engage with wider audiences. It is perhaps best understood as a style of sociology rather than a particular method, theory, or set of political values. This approach is primarily associated with Michael Burawoy who contrasted it with professional sociology, a form of academic sociology that is concerned primarily with addressing other professional sociologists. Public sociology is also part of the broader field of science communication or science journalism.\n",
      "The sociology of race and of ethnic relations is the area of the discipline that studies the social, political, and economic relations between races and ethnicities at all levels of society. This area encompasses the study of racism, residential segregation, and other complex social processes between different racial and ethnic groups. This research frequently interacts with other areas of sociology such as stratification and social psychology, as well as with postcolonial theory. At the level of political policy, ethnic relations are discussed in terms of either assimilationism or multiculturalism.[161] Anti-racism forms another style of policy, particularly popular in the 1960s and 1970s.\n",
      "The sociology of religion concerns the practices, historical backgrounds, developments, universal themes and roles of religion in society.[162] There is particular emphasis on the recurring role of religion in all societies and throughout recorded history. The sociology of religion is distinguished from the philosophy of religion in that sociologists do not set out to assess the validity of religious truth-claims, instead assuming what Peter L. Berger has described as a position of \"methodological atheism\".[163] It may be said that the modern formal discipline of sociology began with the analysis of religion in Durkheim's 1897 study of suicide rates among Roman Catholic and Protestant populations. Max Weber published four major texts on religion in a context of economic sociology and social stratification: The Protestant Ethic and the Spirit of Capitalism (1905), The Religion of China: Confucianism and Taoism (1915), The Religion of India: The Sociology of Hinduism and Buddhism (1915), and Ancient Judaism (1920). Contemporary debates often centre on topics such as secularization, civil religion, the intersection of religion and economics and the role of religion in a context of globalization and multiculturalism.\n",
      "The sociology of change and development attempts to understand how societies develop and how they can be changed. This includes studying many different aspects of society, for example demographic trends,[164] political or technological trends,[165] or changes in culture. Within this field, sociologists often use macrosociological methods or historical-comparative methods. In contemporary studies of social change, there are overlaps with international development or community development. However, most of the founders of sociology had theories of social change based on their study of history. For instance, Marx contended that the material circumstances of society ultimately caused the ideal or cultural aspects of society, while Weber argued that it was in fact the cultural mores of Protestantism that ushered in a transformation of material circumstances. In contrast to both, Durkheim argued that societies moved from simple to complex through a process of sociocultural evolution. Sociologists in this field also study processes of globalization and imperialism. Most notably, Immanuel Wallerstein extends Marx's theoretical frame to include large spans of time and the entire globe in what is known as world systems theory. Development sociology is also heavily influenced by post-colonialism. In recent years, Raewyn Connell issued a critique of the bias in sociological research towards countries in the Global North. She argues that this bias blinds sociologists to the lived experiences of the Global South, specifically, so-called, \"Northern Theory\" lacks an adequate theory of imperialism and colonialism.\n",
      "There are many organizations studying social change, including the Fernand Braudel Center for the Study of Economies, Historical Systems, and Civilizations, and the Global Social Change Research Project.\n",
      "A social network is a social structure composed of individuals (or organizations) called \"nodes\", which are tied (connected) by one or more specific types of interdependency, such as friendship, kinship, financial exchange, dislike, sexual relationships, or relationships of beliefs, knowledge or prestige. Social networks operate on many levels, from families up to the level of nations, and play a critical role in determining the way problems are solved, organizations are run, and the degree to which individuals succeed in achieving their goals. An underlying theoretical assumption of social network analysis is that groups are not necessarily the building blocks of society: the approach is open to studying less-bounded social systems, from non-local communities to networks of exchange. Drawing theoretically from relational sociology, social network analysis avoids treating individuals (persons, organizations, states) as discrete units of analysis, it focuses instead on how the structure of ties affects and constitutes individuals and their relationships. In contrast to analyses that assume that socialization into norms determines behaviour, network analysis looks to see the extent to which the structure and composition of ties affect norms. On the other hand, recent research by Omar Lizardo also demonstrates that network ties are shaped and created by previously existing cultural tastes.[166] Social network theory is usually defined in formal mathematics and may include integration of geographical data into Sociomapping.\n",
      "Sociological social psychology focuses on micro-scale social actions. This area may be described as adhering to \"sociological miniaturism\", examining whole societies through the study of individual thoughts and emotions as well as behaviour of small groups.[167] Of special concern to psychological sociologists is how to explain a variety of demographic, social, and cultural facts in terms of human social interaction. Some of the major topics in this field are social inequality, group dynamics, prejudice, aggression, social perception, group behaviour, social change, non-verbal behaviour, socialization, conformity, leadership, and social identity. Social psychology may be taught with psychological emphasis.[168] In sociology, researchers in this field are the most prominent users of the experimental method (however, unlike their psychological counterparts, they also frequently employ other methodologies). Social psychology looks at social influences, as well as social perception and social interaction.[168]\n",
      "Social stratification is the hierarchical arrangement of individuals into social classes, castes, and divisions within a society.[169] Modern Western societies stratification traditionally relates to cultural and economic classes arranged in three main layers: upper class, middle class, and lower class, but each class may be further subdivided into smaller classes (e.g. occupational).[170] Social stratification is interpreted in radically different ways within sociology. Proponents of structural functionalism suggest that, since the stratification of classes and castes is evident in all societies, hierarchy must be beneficial in stabilizing their existence. Conflict theorists, by contrast, critique the inaccessibility of resources and lack of social mobility in stratified societies.\n",
      "Karl Marx distinguished social classes by their connection to the means of production in the capitalist system: the bourgeoisie own the means, but this effectively includes the proletariat itself as the workers can only sell their own labour power (forming the material base of the cultural superstructure). Max Weber critiqued Marxist economic determinism, arguing that social stratification is not based purely on economic inequalities, but on other status and power differentials (e.g. patriarchy). According to Weber, stratification may occur among at least three complex variables: (1) Property (class): A person's economic position in a society, based on birth and individual achievement.[171] Weber differs from Marx in that he does not see this as the supreme factor in stratification. Weber noted how managers of corporations or industries control firms they do not own; Marx would have placed such a person in the proletariat. (2) Prestige (status): A person's prestige, or popularity in a society. This could be determined by the kind of job this person does or wealth. and (3) Power (political party): A person's ability to get their way despite the resistance of others. For example, individuals in state jobs, such as an employee of the Federal Bureau of Investigation, or a member of the United States Congress, may hold little property or status but they still hold immense power[172] Pierre Bourdieu provides a modern example in the concepts of cultural and symbolic capital. Theorists such as Ralf Dahrendorf have noted the tendency towards an enlarged middle-class in modern Western societies, particularly in relation to the necessity of an educated work force in technological or service-based economies.[173] Perspectives concerning globalization, such as dependency theory, suggest this effect owes to the shift of workers to the developing countries.[174]\n",
      "Urban sociology involves the analysis of social life and human interaction in metropolitan areas. It is a discipline seeking to provide advice for planning and policy making. After the industrial revolution, works such as Georg Simmel's The Metropolis and Mental Life (1903) focused on urbanization and the effect it had on alienation and anonymity. In the 1920s and 1930s The Chicago School produced a major body of theory on the nature of the city, important to both urban sociology and criminology, utilizing symbolic interactionism as a method of field research. Contemporary research is commonly placed in a context of globalization, for instance, in Saskia Sassen's study of the \"Global city\".[175] Rural sociology, by contrast, is the analysis of non-metropolitan areas. As agriculture and wilderness tend to be a more prominent social fact in rural regions, rural sociologists often overlap with environmental sociologists.\n",
      "Often grouped with urban and rural sociology is that of community sociology or the sociology of community.[176] Taking various communities—including online communities—as the unit of analysis, community sociologists study the origin and effects of different associations of people. For instance, German sociologist Ferdinand Tönnies distinguished between two types of human association: Gemeinschaft (usually translated as \"community\") and Gesellschaft (\"society\" or \"association\"). In his 1887 work, Gemeinschaft und Gesellschaft, Tönnies argued that Gemeinschaft is perceived to be a tighter and more cohesive social entity, due to the presence of a \"unity of will\".[177] The 'development' or 'health' of a community is also a central concern of community sociologists also engage in development sociology, exemplified by the literature surrounding the concept of social capital.\n",
      "Sociology overlaps with a variety of disciplines that study society, in particular anthropology, political science, economics, social work and social philosophy. Many comparatively new fields such as communication studies, cultural studies, demography and literary theory, draw upon methods that originated in sociology. The terms \"social science\" and \"social research\" have both gained a degree of autonomy since their origination in classical sociology. The distinct field of social anthropology or anthroposociology is the dominant constituent of anthropology throughout the United Kingdom and Commonwealth and much of Europe (France in particular[178]), where it is distinguished from cultural anthropology.[179] In the United States, social anthropology is commonly subsumed within cultural anthropology (or under the relatively new designation of sociocultural anthropology).[citation needed]\n",
      "Sociology and applied sociology are connected to the professional and academic discipline of social work.[180] Both disciplines study social interactions, community and the effect of various systems (i.e. family, school, community, laws, political sphere) on the individual.[181] However, social work is generally more focused on practical strategies to alleviate social dysfunctions; sociology in general provides a thorough examination of the root causes of these problems.[182] For example, a sociologist might study why a community is plagued with poverty. The applied sociologist would be more focused on practical strategies on what needs to be done to alleviate this burden. The social worker would be focused on action; implementing theses strategies \"directly\" or \"indirectly\" by means of mental health therapy, counselling, advocacy, community organization or community mobilization.[181]\n",
      "Social anthropology is the branch of anthropology that studies how contemporary living human beings behave in social groups. Practitioners of social anthropology, like sociologists, investigate various facets of social organization. Traditionally, social anthropologists analysed non-industrial and non-Western societies, whereas sociologists focused on industrialized societies in the Western world. In recent years, however, social anthropology has expanded its focus to modern Western societies, meaning that the two disciplines increasingly converge.[183][180]\n",
      "Sociocultural anthropology, which include linguistic anthropology, is concerned with the problem of difference and similarity within and between human populations. The discipline arose concomitantly with the expansion of European colonial empires, and its practices and theories have been questioned and reformulated along with processes of decolonization. Such issues have re-emerged as transnational processes have challenged the centrality of the nation-state to theorizations about culture and power. New challenges have emerged as public debates about multiculturalism, and the increasing use of the culture concept outside of the academy and among peoples studied by anthropology. These times are not \"business-as-usual\" in the academy, in anthropology, or in the world, if ever there were such times.\n",
      "Irving Louis Horowitz, in his The Decomposition of Sociology (1994), has argued that the discipline, while arriving from a \"distinguished lineage and tradition\", is in decline due to deeply ideological theory and a lack of relevance to policy making: \"The decomposition of sociology began when this great tradition became subject to ideological thinking, and an inferior tradition surfaced in the wake of totalitarian triumphs.\"[184] Furthermore: \"A problem yet unmentioned is that sociology's malaise has left all the social sciences vulnerable to pure positivism—to an empiricism lacking any theoretical basis. Talented individuals who might, in an earlier time, have gone into sociology are seeking intellectual stimulation in business, law, the natural sciences, and even creative writing; this drains sociology of much needed potential.\"[184] Horowitz cites the lack of a 'core discipline' as exacerbating the problem. Randall Collins, the Dorothy Swaine Thomas Professor in Sociology at the University of Pennsylvania and a member of the Advisory Editors Council of the Social Evolution & History journal, has voiced similar sentiments: \"we have lost all coherence as a discipline, we are breaking up into a conglomerate of specialities, each going on its own way and with none too high regard for each other.\"[185]\n",
      "In 2007, The Times Higher Education Guide published a list of 'The most cited authors of books in the Humanities' (including philosophy and psychology). Seven of the top ten are listed as sociologists: Michel Foucault (1), Pierre Bourdieu (2), Anthony Giddens (5), Erving Goffman (6), Jürgen Habermas (7), Max Weber (8), and Bruno Latour (10).[186]\n",
      "The most highly ranked general journals which publish original research in the field of sociology are the American Journal of Sociology and the American Sociological Review.[187] The Annual Review of Sociology, which publishes original review essays, is also highly ranked.[187] Many other generalist and specialized journals exist.\n",
      "\n"
     ]
    }
   ],
   "source": [
    "for item in parsed_html.find('p'):\n",
    "    print(item.text)"
   ]
  },
  {
   "cell_type": "markdown",
   "metadata": {
    "slideshow": {
     "slide_type": "slide"
    }
   },
   "source": [
    "### `find` looks for more things when you put them in brackets."
   ]
  },
  {
   "cell_type": "markdown",
   "metadata": {
    "slideshow": {
     "slide_type": "fragment"
    }
   },
   "source": [
    "![](https://raw.githubusercontent.com/nealcaren/KULeuvenBigData/master/notebooks/images/socnote.png)"
   ]
  },
  {
   "cell_type": "code",
   "execution_count": 28,
   "metadata": {
    "slideshow": {
     "slide_type": "slide"
    }
   },
   "outputs": [
    {
     "data": {
      "text/plain": [
       "[<Element 'div' class=('hatnote', 'navigation-not-searchable') role='note'>,\n",
       " <Element 'div' class=('hatnote', 'navigation-not-searchable') role='note'>,\n",
       " <Element 'div' class=('hatnote', 'navigation-not-searchable') role='note'>,\n",
       " <Element 'div' class=('hatnote', 'navigation-not-searchable') role='note'>,\n",
       " <Element 'div' class=('hatnote', 'navigation-not-searchable') role='note'>,\n",
       " <Element 'div' class=('hatnote', 'navigation-not-searchable') role='note'>,\n",
       " <Element 'div' class=('hatnote', 'navigation-not-searchable') role='note'>,\n",
       " <Element 'div' class=('hatnote', 'navigation-not-searchable') role='note'>,\n",
       " <Element 'div' class=('hatnote', 'navigation-not-searchable') role='note'>,\n",
       " <Element 'div' class=('hatnote', 'navigation-not-searchable') role='note'>,\n",
       " <Element 'div' class=('hatnote', 'navigation-not-searchable') role='note'>,\n",
       " <Element 'div' class=('hatnote', 'navigation-not-searchable') role='note'>,\n",
       " <Element 'div' class=('hatnote', 'navigation-not-searchable') role='note'>,\n",
       " <Element 'div' class=('hatnote', 'navigation-not-searchable') role='note'>,\n",
       " <Element 'div' class=('hatnote', 'navigation-not-searchable') role='note'>,\n",
       " <Element 'div' class=('hatnote', 'navigation-not-searchable') role='note'>,\n",
       " <Element 'div' class=('hatnote', 'navigation-not-searchable') role='note'>,\n",
       " <Element 'div' class=('hatnote', 'navigation-not-searchable') role='note'>,\n",
       " <Element 'div' class=('hatnote', 'navigation-not-searchable') role='note'>,\n",
       " <Element 'div' class=('hatnote', 'navigation-not-searchable') role='note'>,\n",
       " <Element 'div' class=('hatnote', 'navigation-not-searchable') role='note'>,\n",
       " <Element 'div' class=('hatnote', 'navigation-not-searchable') role='note'>,\n",
       " <Element 'div' class=('hatnote', 'navigation-not-searchable') role='note'>,\n",
       " <Element 'div' class=('hatnote', 'navigation-not-searchable') role='note'>,\n",
       " <Element 'div' class=('hatnote', 'navigation-not-searchable') role='note'>,\n",
       " <Element 'div' class=('hatnote', 'navigation-not-searchable') role='note'>,\n",
       " <Element 'div' class=('hatnote', 'navigation-not-searchable') role='note'>,\n",
       " <Element 'div' class=('hatnote', 'navigation-not-searchable') role='note'>,\n",
       " <Element 'div' class=('hatnote', 'navigation-not-searchable') role='note'>,\n",
       " <Element 'div' class=('hatnote', 'navigation-not-searchable') role='note'>,\n",
       " <Element 'div' class=('hatnote', 'navigation-not-searchable') role='note'>,\n",
       " <Element 'div' class=('hatnote', 'navigation-not-searchable') role='note'>,\n",
       " <Element 'div' class=('hatnote', 'navigation-not-searchable') role='note'>,\n",
       " <Element 'div' class=('hatnote', 'navigation-not-searchable') role='note'>,\n",
       " <Element 'div' class=('hatnote', 'navigation-not-searchable') role='note'>,\n",
       " <Element 'div' class=('hatnote', 'navigation-not-searchable') role='note'>,\n",
       " <Element 'div' class=('hatnote', 'navigation-not-searchable') role='note'>,\n",
       " <Element 'div' class=('hatnote', 'navigation-not-searchable') role='note'>,\n",
       " <Element 'div' class=('hatnote', 'navigation-not-searchable') role='note'>,\n",
       " <Element 'div' class=('hatnote', 'navigation-not-searchable') role='note'>,\n",
       " <Element 'div' class=('hatnote', 'navigation-not-searchable') role='note'>]"
      ]
     },
     "execution_count": 28,
     "metadata": {},
     "output_type": "execute_result"
    }
   ],
   "source": [
    "parsed_html.find('[role=note]')"
   ]
  },
  {
   "cell_type": "code",
   "execution_count": 29,
   "metadata": {
    "slideshow": {
     "slide_type": "slide"
    }
   },
   "outputs": [
    {
     "name": "stdout",
     "output_type": "stream",
     "text": [
      "This article is about the discipline. For the journal, see Sociology (journal).\n",
      "Main articles: History of sociology, List of sociologists, and Timeline of sociology\n",
      "Main articles: Émile Durkheim and Social facts\n",
      "Main article: Positivism\n",
      "Main article: Anti-positivism\n",
      "Main article: Sociological theory\n",
      "Main article: Structural functionalism\n",
      "Main article: Conflict theory\n",
      "Main articles: Symbolic interactionism, Dramaturgy (sociology), Interpretive sociology, and Phenomenological sociology\n",
      "Main articles: Utilitarianism, Rational choice theory, and Exchange theory\n",
      "Main articles: Objectivity (science), Objectivity (philosophy), and Subjectivity\n",
      "Main article: Structure and agency\n",
      "Main article: Social research\n",
      "Main article: Computational sociology\n",
      "Main article: Outline of sociology\n",
      "Main articles: Sociology of culture and Cultural studies\n",
      "Main articles: Sociology of literature, Sociology of art, Sociology of film, and Sociology of music\n",
      "Main articles: Criminology, Sociology of law, Sociology of punishment, Deviance (sociology), and Social disorganization theory\n",
      "Main articles: Sociology of the Internet and Digital sociology\n",
      "Main article: Media studies\n",
      "Main article: Economic sociology\n",
      "Main articles: Industrial sociology, sociology of work, and Industrial relations\n",
      "Main article: Sociology of education\n",
      "Main articles: Environmental sociology and Sociology of disaster\n",
      "Main articles: Human ecology, Architectural sociology, Visual sociology, and Sociology of space\n",
      "Main articles: Sociology of the family, Sociology of childhood, Sociology of gender, Feminist sociology, Feminist theory, and Queer theory\n",
      "Main articles: Sociology of health and illness and Medical sociology\n",
      "Main articles: Sociology of knowledge, Sociology of scientific knowledge, Sociology of the history of science, and Sociology of science\n",
      "Main articles: Sociology of leisure and Sociology of sport\n",
      "Main articles: Peace and conflict studies, Military sociology, and Sociology of terrorism\n",
      "Main article: Political sociology\n",
      "Main articles: Demography, Human ecology, and Mobilities\n",
      "Main article: Public sociology\n",
      "Main articles: Sociology of race and ethnic relations and Sociology of immigration\n",
      "Main article: Sociology of religion\n",
      "Main articles: Social change, Development studies, Community development, and International development\n",
      "Main articles: Social network, Social network analysis, Figurational Sociology, Relational sociology, and Sociomapping\n",
      "Main articles: Social psychology (sociology) and Psychoanalytic sociology\n",
      "Main articles: Social stratification, Social inequality, Social mobility, and Social class\n",
      "Main articles: Urban sociology and Rural sociology\n",
      "See also: List of sociology journals\n"
     ]
    }
   ],
   "source": [
    "for item in parsed_html.find('[role=note]'):\n",
    "    print(item.text)"
   ]
  },
  {
   "cell_type": "code",
   "execution_count": 30,
   "metadata": {
    "slideshow": {
     "slide_type": "slide"
    }
   },
   "outputs": [
    {
     "name": "stdout",
     "output_type": "stream",
     "text": [
      "http://www.orgnet.com/sna.html\n",
      "sociology. (n.d.). The American Heritage Science Dictionary. Retrieved 13 July 2013, from Dictionary.com website: http://dictionary.reference.com/browse/sociology\n",
      "\"Sociology: A 21st Century Major\" (PDF). American Sociological Association. Retrieved 19 July 2017 – via Colgate.edu.\n",
      ".mw-parser-output cite.citation{font-style:inherit}.mw-parser-output .citation q{quotes:\"\\\"\"\"\\\"\"\"'\"\"'\"}.mw-parser-output .citation .cs1-lock-free a{background:url(\"//upload.wikimedia.org/wikipedia/commons/thumb/6/65/Lock-green.svg/9px-Lock-green.svg.png\")no-repeat;background-position:right .1em center}.mw-parser-output .citation .cs1-lock-limited a,.mw-parser-output .citation .cs1-lock-registration a{background:url(\"//upload.wikimedia.org/wikipedia/commons/thumb/d/d6/Lock-gray-alt-2.svg/9px-Lock-gray-alt-2.svg.png\")no-repeat;background-position:right .1em center}.mw-parser-output .citation .cs1-lock-subscription a{background:url(\"//upload.wikimedia.org/wikipedia/commons/thumb/a/aa/Lock-red-alt-2.svg/9px-Lock-red-alt-2.svg.png\")no-repeat;background-position:right .1em center}.mw-parser-output .cs1-subscription,.mw-parser-output .cs1-registration{color:#555}.mw-parser-output .cs1-subscription span,.mw-parser-output .cs1-registration span{border-bottom:1px dotted;cursor:help}.mw-parser-output .cs1-ws-icon a{background:url(\"//upload.wikimedia.org/wikipedia/commons/thumb/4/4c/Wikisource-logo.svg/12px-Wikisource-logo.svg.png\")no-repeat;background-position:right .1em center}.mw-parser-output code.cs1-code{color:inherit;background:inherit;border:inherit;padding:inherit}.mw-parser-output .cs1-hidden-error{display:none;font-size:100%}.mw-parser-output .cs1-visible-error{font-size:100%}.mw-parser-output .cs1-maint{display:none;color:#33aa33;margin-left:0.3em}.mw-parser-output .cs1-subscription,.mw-parser-output .cs1-registration,.mw-parser-output .cs1-format{font-size:95%}.mw-parser-output .cs1-kern-left,.mw-parser-output .cs1-kern-wl-left{padding-left:0.2em}.mw-parser-output .cs1-kern-right,.mw-parser-output .cs1-kern-wl-right{padding-right:0.2em}\n",
      "\"An Introduction to Sociology\". asanet.org.\n",
      "Ashley D, Orenstein DM (2005). Sociological theory: Classical statements (6th ed.). Boston: Pearson Education. pp. 3–5, 32–36.\n",
      "Ashley D, Orenstein DM (2005). Sociological theory: Classical statements (6th ed.). Boston: Pearson Education. pp. 3–5, 38–40.\n",
      "Giddens, Anthony, Duneier, Mitchell, Applebaum, Richard. 2007. Introduction to Sociology. Sixth Edition. New York: W.W. Norton and Company. Chapter 1.\n",
      "Macy, Michael W.; Willer, Robert (2002). \"From Factors to Actors: Computational Sociology and Agent-Based Modeling\". Annual Review of Sociology. 28: 143–66. doi:10.1146/annurev.soc.28.110601.141117. JSTOR 3069238.\n",
      "Lazer, David; Pentland, Alex; Adamic, L; Aral, S; Barabasi, AL; Brewer, D; Christakis, N; Contractor, N; et al. (6 February 2009). \"Computational Social Science\". Science. 323 (5915): 721–23. doi:10.1126/science.1167742. PMC 2745217. PMID 19197046.\n",
      "Lynn R. Kahle; Pierre Valette-Florence (2012). Marketplace Lifestyles in an Age of Social Media. New York: M.E. Sharpe, Inc. ISBN\n",
      "978-0-7656-2561-8\n",
      ".\n",
      "A.H. Halsey (2004), A history of sociology in Britain: science, literature, and society, p. 34.\n",
      "Geoffrey Duncan Mitchell (1970), A new dictionary of sociology, p. 201.\n",
      "Wardī, ʻalī (June 1950). \"A sociological analysis of Ibn Khaldun's theory : a study in the sociology of knowledge\".\n",
      "Dhaouadi, Mahmoud (1 September 1990). \"Ibn Khaldun: The founding father of eastern sociology\". International Sociology. 5 (3): 319–35. doi:10.1177/026858090005003007.\n",
      "Hassan, Faridah Hj. \"Ibn Khaldun and Jane Addams: The Real Father of Sociology and the Mother of Social Works\". Faculty of Business Management Universiti Teknologi Mara, Malaysia. CiteSeerX 10.1.1.510.3556.\n",
      "Mehmet M. & Gilbert P. (January 2012). \"Debating the Origins of Sociology Ibn Khaldun as a Founding Father of Sociology\". Research Gate.\n",
      "Dr; Akhtar, S.W. (1997). \"The Islamic Concept of Knowledge\". Al-Tawhid: A Quarterly Journal of Islamic Thought & Culture. 12: 3.\n",
      "Haque, Amber (2004). \"Psychology from Islamic Perspective: Contributions of Early Muslim Scholars and Challenges to Contemporary Muslim Psychologists\". Journal of Religion and Health. 43 (4): 357–77 [375]. doi:10.1007/s10943-004-4302-z.\n",
      "Enan, Muhammed Abdullah (2007). Ibn Khaldun: His Life and Works. The Other Press. p. v. ISBN\n",
      "978-983-9541-53-3\n",
      ".\n",
      "Alatas, S. H. (2006). \"The Autonomous, the Universal and the Future of Sociology\". Current Sociology. 54: 7–23 [15]. doi:10.1177/0011392106058831.\n",
      "Warren E. Gates (July – September 1967). \"The Spread of Ibn Khaldun's Ideas on Climate and Culture\". Journal of the History of Ideas. 28 (3): 415–22 [415]. doi:10.2307/2708627. JSTOR 2708627.\n",
      "H. Mowlana (2001). \"Information in the Arab World\", Cooperation South Journal 1.\n",
      "Des Manuscrits de Sieyès. 1773–1799, Volumes I and II, published by Christine Fauré, Jacques Guilhaumou, Jacques Vallier and Françoise Weil, Paris, Champion, 1999 and 2007. See also Christine Fauré and Jacques Guilhaumou, Sieyès et le non-dit de la sociologie: du mot à la chose, in Revue d'histoire des sciences humaines, Numéro 15, novembre 2006: Naissances de la science sociale. See also the article 'sociologie' in the French-language Wikipedia.\n",
      "A Dictionary of Sociology, Article: Comte, Auguste\n",
      "Macionis, John; Gerber, Linda (2010). Sociology (7th Canadian ed.). Toronto: Pearson Canada. p. 10. ISBN\n",
      "978-0-13-700161-3\n",
      ".\n",
      "Dictionary of the Social Sciences, Article: Comte, Auguste\n",
      "\"Stanford Encyclopaedia: Auguste Comte\". Plato.Stanford.edu. Retrieved 4 November 2011.\n",
      "Copleson, Frederick S.J. [1974] A History of Philosophy: IX Modern Philosophy (1994). Image Books, New York. p. 118\n",
      "Calhoun, Craig J. (2002). Classical Sociological Theory. Oxford: Wiley-Blackwell. p. 19. ISBN\n",
      "978-0-631-21348-2\n",
      ".\n",
      "Berlin, Isaiah. 1967. Karl Marx: His Life and Environment. Time Inc Book Division, New York. p. 130\n",
      "Berlin, Isaiah. [1937] Karl Marx: His Life and Environment. 3rd edition (1967). Time Inc Book Division, New York. pp. 13–14\n",
      "Perrin, Robert G. (1995). \"Émile Durkheim's Division of Labor and the Shadow of Herbert Spencer\". Sociological Quarterly. 36 (4): 791–808. doi:10.1111/j.1533-8525.1995.tb00465.x.\n",
      "Commager, Henry Steele (1959). The American mind: an interpretation of American thought and character since 1880s. ISBN\n",
      "978-0-300-00046-7\n",
      ".\n",
      "Dibble, Vernonk. 1975. \"The Legacy of Albion Small.\" Chicago: University of Chicago Press.\n",
      "Wacquant, Loic. 1992. \"Positivism.\" In Bottomore, Tom and William Outhwaite, ed., The Blackwell Dictionary of Twentieth-Century Social Thought\n",
      "Gianfranco Poggi (2000). Durkheim. Oxford: Oxford University Press.\n",
      "Durkheim, Émile [1895] \"The Rules of Sociological Method\" 8th edition, trans. Sarah A. Solovay and John M. Mueller, ed. George E.G. Catlin (1938, 1964 edition), p. 45\n",
      "Habermas, Jürgen, The Philosophical Discourse of Modernity: Modernity's Consciousness of Time, Polity Press (1990), paperback,\n",
      "ISBN 0-7456-0830-2, p. 2.\n",
      "\"Max Weber – Stanford Encyclopaedia of Philosophy\". Plato.stanford.edu. 24 August 2007. Retrieved 5 January 2010.\n",
      "Harriss, John. The Second Great Transformation? Capitalism at the End of the Twentieth Century in Allen, T. and Thomas, Alan (eds) Poverty and Development in the 21st Century', Oxford University Press, Oxford. p. 325.\n",
      "Durkheim, Émile. 1895. The Rules of the Sociological Method. Cited in Wacquant (1992).\n",
      "Halfpenny, Peter. Positivism and Sociology: Explaining Social Science. London:Allen and Unwin, 1982.\n",
      "Ashley D, Orenstein DM (2005). Sociological theory: Classical statements (6th ed.). Boston: Pearson Education. pp. 94–98, 100–04.\n",
      "Fish, Jonathan S. 2005. 'Defending the Durkheimian Tradition. Religion, Emotion and Morality' Aldershot: Ashgate Publishing.\n",
      "Gartell, David; Gartell, John (1996). \"Positivism in sociological practice: 1967–1990\". Canadian Review of Sociology. 33: 2.\n",
      "Boudon, Raymond. 1991. \"Review: What Middle-Range Theories are\". Contemporary Sociology, Vol. 20 Num. 4 pp. 519–22.\n",
      "Ashley D, Orenstein DM (2005). Sociological theory: Classical statements (6th ed.). Boston: Pearson Education. p. 169.\n",
      "Ashley D, Orenstein DM (2005). Sociological theory: Classical statements (6th ed.). Boston: Pearson Education. pp. 202–03.\n",
      "Rickman, H.P. (1960) The Reaction against Positivism and Dilthey's Concept of Understanding, The London School of Economics and Political Science. p. 307\n",
      "Weber, Max (1946). From Max Weber: essays in sociology. New York: Oxford University Press.\n",
      "Guglielmo., Rinzivillo (2010). La scienza e l'oggetto : autocritica del sapere strategico. Milano: Angeli. pp. 52+. ISBN\n",
      "9788856824872\n",
      ". OCLC 894975209.\n",
      "Ashley D, Orenstein DM (2005). Sociological theory: Classical statements (6th ed.). Boston: Pearson Education. pp. 239–40.\n",
      "Ashley D, Orenstein DM (2005). Sociological theory: Classical statements (6th ed.). Boston: Pearson Education. p. 241.\n",
      "*Ferdinand Tönnies (ed. Jose Harris), Community and Civil Society, Cambridge University Press (2001), hardcover, 266 pages,\n",
      "ISBN 0-521-56119-1; trade paperback, Cambridge University Press (2001), 266 pages,\n",
      "ISBN 0-521-56782-3[page needed]\n",
      "Weber, Max The Nature of Social Action in Runciman, W.G. 'Weber: Selections in Translation' Cambridge University Press, 1991. p. 7.\n",
      "Kaern, Phillips & Cohen. (1990) Georg Simmel and Contemporary Sociology. Springer Publishing.\n",
      "ISBN 978-0-7923-0407-4. p. 15.\n",
      "Levine, Donald (ed) 'Simmel: On individuality and social forms' Chicago University Press, 1971. pxix.\n",
      "Levine, Donald (ed) Simmel: On individuality and social forms Chicago University Press, 1971. p. 6.\n",
      "Simmel, Georg The Metropolis and Mental Life in Levine, Donald (ed) 'Simmel: On individuality and social forms' Chicago University Press, 1971. p. 324.\n",
      "\"Sociology – History of Sociology | Encyclopedia.com: Oxford Companion to United States History\". Encyclopedia.com. Archived from the original on 5 July 2010. Retrieved 5 January 2010.\n",
      "\"University of Kansas Sociology Department Webpage\". Ku.edu. Archived from the original on 27 June 2006. Retrieved 20 April 2009.\n",
      "\"American Journal of Sociology Website\". Journals.uchicago.edu. 1 January 1970. Retrieved 20 April 2009.\n",
      "Miller, David (2009). George Herbert Mead: Self, Language, and the World. University of Texas Press.\n",
      "ISBN 0-292-72700-3.\n",
      "1930: The Development of Sociology at Michigan. pp. 3–14 in Sociological Theory and Research, being Selected papers of Charles Horton Cooley, edited by Robert Cooley Angell, New York: Henry Holt\n",
      "Camic, Charles. 1992. \"Reputation and Predecessor Selection: Parsons and the Institutionalists\", American Sociological Review, Vol. 57, No. 4 (August 1992), pp. 421–45\n",
      "Morrison, Ken. 2006 (2nd ed.) \"Marx, Durkheim, Weber\", Sage, pp. 1–7\n",
      "\"British Journal of Sociology Website\". Lse.ac.uk. 2 April 2009. Archived from the original on 23 October 2007. Retrieved 20 April 2009.\n",
      "Leonard Trelawny Hobhouse. Bookrags. Retrieved 4 November 2011.\n",
      "\"Pioneers of the social sciences\". The London School of Economics and Political Science. 11 February 2013. Retrieved 18 December 2014.\n",
      "Hill, Michael R. (2002) \"Harriet Martineau: theoretical and methodological perspectives\" Routledge.\n",
      "ISBN 0-415-94528-3\n",
      "Bendix, Reinhard (1977). Max Weber: An Intellectual Portrait. University of California Press. ISBN\n",
      "978-0-520-03194-4\n",
      ".\n",
      "\"Frankfurt School\". (2009). from Encyclopædia Britannica Online. Retrieved 12 September 2009.\n",
      "\"International Sociological Association Website\". Isa-sociology.org. Retrieved 4 November 2011.\n",
      "Abend, Gabriel (June 2008). \"The Meaning of 'Theory'\" (PDF). Sociological Theory. 26 (2).\n",
      "Collins, R. (1994). library.wur.nl. New York: Oxford University Press. ISBN\n",
      "978-0-19-508702-4\n",
      ".\n",
      "Steven E. Barkan. \"Theoretical Perspectives in Sociology\". Sociology: Understanding and Changing the Social World, Brief Edition. Retrieved 18 December 2014.\n",
      "Michael Hechter; Satoshi Kanazawa (1997). \"Sociological Rational Choice Theory\". Annu. Rev. Sociol. 23: 191–214. doi:10.1146/annurev.soc.23.1.191. JSTOR 2952549.\n",
      "Coleman, James S., and Thomas J. Fararo. Rational choice theory. New York: Sage (1992)\n",
      "Raewyn Connell (2007). Southern theory: the global dynamics of knowledge in social science. Polity. ISBN\n",
      "978-0-7456-4248-2\n",
      ".\n",
      "[page needed]\n",
      "Roscoe C. Hinkle (1982). \"Reconstructing the History of Sociological Theory\" (PDF). Mid-American Review of Sociology. VII (1): 37–53. Retrieved 18 December 2014.\n",
      "Urry, John (2000). \"Metaphors\". Sociology beyond societies: mobilities for the twenty-first century. Routledge. p. 23. ISBN\n",
      "978-0-415-19089-3\n",
      ".\n",
      "Eric Porth; Kimberley Neutzling; Jessica Edwards. \"Anthropological Theories: A Guide Prepared by Students for Students: Anthropological theories: Functionalism\". Department of Anthropology College of Arts and Sciences The University of Alabama. Retrieved 4 November 2011.\n",
      "Giddens, Anthony. \"The Constitution of Society\". In Philip Cassell (ed.). The Giddens Reader. MacMillan Press. p. 88.\n",
      "Durkheim, Émile The Division of Labor in Society [1893] LA Coser: New York: The Free Press, 1984\n",
      "Marx and Engels, The Communist Manifesto, introduction by Martin Malia (New York: Penguin group, 1998), p. 35\n",
      "ISBN 0-451-52710-0\n",
      "Macionis, John J. (2012). Sociology 14th Edition. Boston: Pearson. p. 16.\n",
      "ISBN 978-0-205-11671-3\n",
      "Gary Alan Fine, ed. (1995). A Second Chicago School?: The Development of a Postwar American Sociology. University of Chicago Press. ISBN\n",
      "978-0-226-24938-4\n",
      ".\n",
      "[page needed]\n",
      "Macionis, John; Gerber, Linda (2010). Sociology (7th Canadian ed.). Toronto: Pearson Canada. p. 19. ISBN\n",
      "978-0-13-700161-3\n",
      ".\n",
      "Macionis, John; Gerber, Linda (2010). Sociology (7th Canadian ed.). Toronto: Pearson Canada. ISBN\n",
      "978-0-13-700161-3\n",
      ".\n",
      "[page needed]\n",
      "\"Pragmatism and the untenable dualism of means and ends: Why rational choice theory does not deserve paradigmatic privilege\" Theory and Society 31 (2002): 325–63.\n",
      "Emerson, R.M. \"Social Exchange Theory.\" Annual Review of Sociology 2.1 (1976): 335–62.\n",
      "Roscoe C. Hinkle. Developments in American Sociological Theory, 1915–1950. SUNY Press. p. 335. ISBN\n",
      "978-1-4384-0677-0\n",
      ". Retrieved 18 December 2014.\n",
      "Coakley, Jay J.; Dunning, Eric (2000). Handbook of Sports Studies. SAGE. ISBN\n",
      "978-1-4462-6505-5\n",
      ".\n",
      "Slattery, Martin. 1993. Key Ideas in Sociology. Cheltenham: Nelson Thornes, Ltd.\n",
      "Barnes, B. 1995. The Elements of Social Theory. London: UCL Press. Quoted in Jay J. Coakley, Eric Dunning, Handbook of sports studies\n",
      "Cassell, Philip The Giddens Reader (1993) The Macmillan Press Ltd, p. 6\n",
      "Martin, John Levi (2011). The Explanation of Social Action. Oxford University Press.\n",
      "Christian Smith (2014). The Sacred Project of American Sociology. Oxford University Press. p. 142. ISBN\n",
      "978-0-19-937714-5\n",
      ". Retrieved 18 December 2014.\n",
      "http://www3.nd.edu/~olizardo/syllabi/SOC63922-syllabus-spring11.pdf[dead link]\n",
      "Assiter, A 1984, \"Althusser and structuralism\", The British journal of sociology, vol. 35, no. 2, Blackwell Publishing, pp. 272–96.\n",
      "Jonathan H. Turner. The Structure of Sociological Theory (PDF) (Fifth ed.). Belmont, CA: Wadsworth Publishing Company. Retrieved 18 December 2014.\n",
      "[page needed]\n",
      "Lizardo, Omar. \"Beyond the antinomies of structure: Levi-Strauss, Giddens, Bourdieu, and Sewell.\" Theory and society 39.6 (2010): 651–88.\n",
      "Fararo, Thomas J., and Carter T. Butts. \"Advances in generative structuralism: structured agency and multilevel dynamics.\" Journal of Mathematical Sociology 24.1 (1999): 1–65.\n",
      "Giddens, Anthony \"The Constitution of Society\" in The Giddens Reader Philip Cassell (eds.) MacMillan Press p. 89\n",
      "Jürgen Habermas. Taking Aim at the Heart of the Present in Hoy, D (eds) Foucault: A critical reader Basil Blackwell. Oxford, 1986.\n",
      "Richard Rorty. Foucault and Epistemology in Hoy, D (eds) Foucault: A critical reader Basil Blackwell. Oxford, 1986.\n",
      "Margaret S. Archer; Jonathan Q. Tritt (2013). Jonathan Q. Tritter (ed.). Rational Choice Theory: Resisting Colonisation. Routledge. ISBN\n",
      "978-0-415-24271-4\n",
      ".\n",
      "[page needed]\n",
      "Archer, Margaret Scotford (1995). Realist Social Theory: The Morphogenetic Approach. Cambridge University Press. p. 65. ISBN\n",
      "978-0-521-48442-8\n",
      ".\n",
      "Giddens, A (1996). The Constitution of Society. California: University of California Press. pp. 14–19. ISBN\n",
      "978-0-520-05728-9\n",
      ".\n",
      "Bamberger, Michael. \"Opportunities and Challenges for Integrating Quantitative and Qualitative Research\". World Bank.\n",
      "Haralambos & Holborn. Sociology: Themes and perspectives (2004) 6th ed, Collins Educational.\n",
      "ISBN 978-0-00-715447-0. Chapter 14: Methods\n",
      "Hunter, Laura; Leahey, Erin (2008). \"Collaborative Research in Sociology: Trends and Contributing Factors\". American Sociologist. 39 (4): 290–306. doi:10.1007/s12108-008-9042-1.\n",
      "Hanson, Barbara (2008). \"Whither Qualitative/Quantitative?: Grounds for Methodological Convergence\". Quality and Quantity. 42: 97–111. doi:10.1007/s11135-006-9041-7.\n",
      "Grant, Linda; Ward, Kathryn B.; Rong, Xue Lan (1 January 1987). \"Is There An Association between Gender and Methods in Sociological Research?\". American Sociological Review. 52 (6): 856–62. doi:10.2307/2095839. JSTOR 2095839.\n",
      "Martin, Patricia Yancey, Turner, Barry A.. (1986). \"Grounded Theory and Organisational Research\". The Journal of Applied Behavioural Science, 22(2), 141. Retrieved 21 June 2009, from ABI/INFORM Global database. (Document ID: 1155984).\n",
      "Jost, JT; Kay, AC (2005). \"Exposure to benevolent sexism and complementary gender stereotypes: Consequences for specific and diffuse forms of system justification\" (PDF). Journal of Personality and Social Psychology. 88 (3): 498–509. CiteSeerX 10.1.1.333.6801. doi:10.1037/0022-3514.88.3.498. PMID 15740442. Archived from the original (PDF) on 4 September 2013. Retrieved 8 September 2010.\n",
      "Macionis, John; Gerber, Linda (2010). Sociology (7th Canadian ed.). Toronto: Pearson Canada. p. 42. ISBN\n",
      "978-0-13-700161-3\n",
      ".\n",
      "Macionis, John; Gerber, Linda (2010). Sociology (7th Canadian ed.). Toronto: Pearson Canada. p. 40. ISBN\n",
      "978-0-13-700161-3\n",
      ".\n",
      "Administration for Children and Families (2010) The Program Manager's Guide to Evaluation. Chapter 2: What is program evaluation?.\n",
      "Shackman, Gene. \"What Is Program Evaluation: A Beginner's Guide\". The Global Social Change Research Project. SSRN 3060080.\n",
      "Bainbridge, William Sims (2007). \"Computational Sociology\". In Ritzer, George (ed.). Blackwell Encyclopedia of Sociology. Blackwell Reference Online. doi:10.1111/b.9781405124331.2007.x. ISBN\n",
      "978-1-4051-2433-1\n",
      ".\n",
      "Epstein, JM; Axell, R (1996). Growing Artificial Societies: Social Science from the Bottom Up. Washington, DC: Brookings Institution Press. ISBN\n",
      "978-0-262-05053-1\n",
      ".\n",
      "Axelrod, Robert (1997). The Complexity of Cooperation: Agent-Based Models of Competition and Collaboration. Princeton, NJ: Princeton University Press. ISBN\n",
      "978-0-691-01568-2\n",
      ".\n",
      "Casti, J (1999). \"The Computer as Laboratory: Toward a Theory of Complex Adaptive Systems\". Complexity. 4 (5): 12–14. doi:10.1002/(SICI)1099-0526(199905/06)4:5<12::AID-CPLX3>3.0.CO;2-4.\n",
      "Goldspink, C (2002). \"Methodological Implications of Complex Systems Approaches to Sociality: Simulation as a Foundation for Knowledge\". 5 (1). Journal of Artificial Societies and Social Simulation.\n",
      "Gilbert, Nigel; Troitzsch, Klaus (2005). \"Simulation and social science\". Simulation for Social Scientists (2 ed.). Open University Press.\n",
      "Epstein, Joshua (2007). Generative Social Science: Studies in Agent-Based Computational Modeling. Princeton, NJ: Princeton University Press. ISBN\n",
      "978-0-691-12547-3\n",
      ".\n",
      "\"the sociology of culture versus cultural sociology\". orgtheory.net. 27 August 2006.\n",
      "\"Sociology of Culture and Cultural Sociology\". blog.lib.umn.edu. Archived from the original on 5 May 2015. Retrieved 4 April 2015.\n",
      "Griswold, Wendy (2012). Cultures and Societies in a Changing World. ISBN\n",
      "978-1-4129-9054-7\n",
      ".\n",
      "\"Robert K. Merton Remembered\". Retrieved 2 December 2009.\n",
      "Banakar, Reza (2009) \"Law Through Sociology's Looking Glass: Conflict and Competition in Sociological Studies of Law\" in \"The new ISA handbook in contemporary international sociology: Conflict, Competition, and Cooperation\", Ann Denis, Devorah Kalekin-Fishman, eds., (London: Sage). An e-copy available at papers.ssrn.com\n",
      "Western, Bruce. 2006. Punishment and Inequality in America. New York: Russel Sage.\n",
      "\"American Sociological Association: Communication and Information Technology Section\". asanet.org. Archived from the original on 2 April 2015. Retrieved 4 April 2015.\n",
      "D. R. Wilson, Researching Sociology on the Internet, Thomson/Wadsworth, 2004,\n",
      "ISBN 0-534-62437-5\n",
      "The Internet Galaxy, Reflections on the Internet, Business and Society. Oxford, Oxford University Press (2001)\n",
      "\"Principles of Economic Sociology by Richard Swedberg – An extract\". Retrieved 2 December 2009.\n",
      "Watson, Tony J. 2008 Sociology, Work, and Industry. Routledge.\n",
      "ISBN 0-415-43555-2. p. 392\n",
      "Gordon Marshall (ed) A Dictionary of Sociology (Article: Sociology of Education), Oxford University Press, 1998\n",
      "Hanushek, Eric A. (1998) \"Conclusions and Controversies about the Effectiveness of School Resources\" Economic Policy Review Federal Reserve Bank of New York, 4(1): pp. 11–27, accessed 30 December 2008.\n",
      "Castiello, U.; Becchio, C.; Zoia, S.; Nelini, C.; Sartori, L.; Blason, L.; d'Ottavio, G.; Bulgheroni, M.; Gallese, V. (2010). \"Wired to be Social: The Ontogeny of Human Interaction\". PLOS ONE. 5 (10): e13199. doi:10.1371/journal.pone.0013199. PMC 2951360. PMID 20949058.\n",
      "Bose, Christine. 2012. \"Intersectionality and Global Gender Inequality\" Gender & Society 26(1): 67–72\n",
      "Seybold, Kevin S.; Peter C. Hill (February 2001). \"The Role of Religion and Spirituality in Mental and Physical Health\". Current Directions in Psychological Science. 10 (1): 21–24. doi:10.1111/1467-8721.00106.\n",
      "Correll, Shelley, Stephen Benard, In Paik. 2007. \"Getting a job: Is there a motherhood penalty?\" American Journal of Sociology 112: 1297–338.\n",
      "\"British Sociological Association: Medical Sociology\". BSA. Archived from the original on 17 June 2008. Retrieved 23 October 2009.\n",
      "\"American Sociological Association\". asanet.org. Archived from the original on 18 April 2015. Retrieved 4 April 2015.\n",
      "\"The British Sociological Association\". Archived from the original on 14 July 2014.\n",
      "\"Research Committee on the Body in the Social Sciences RC54\". ISA.\n",
      "\"The British Sociological Association\". Archived from the original on 14 July 2014.\n",
      "Ben-David, Joseph; Teresa A. Sullivan (1975). \"Sociology of Science\". Annual Review of Sociology. 1: 203–22. doi:10.1146/annurev.so.01.080175.001223. Archived from the original on 26 August 2003. Retrieved 29 November 2006.\n",
      "\"American Sociological Association: Section on Science, Knowledge and Technology\". asanet.org. Archived from the original on 21 March 2015. Retrieved 4 April 2015.\n",
      "\"The British Sociological Association\". Archived from the original on 14 July 2014.\n",
      "\"Research Committee on Sociology of Science and Technology RC23\". ISA.\n",
      "Lueschen, G. 1980. Sociology of Sport: Development, Present State, and Prospects. Annual Review of Sociology, 6: 315–47.\n",
      "\"American Sociological Association: Section Information\". asanet.org. 12 December 2013. Retrieved 4 April 2015.\n",
      "Siebold, Guy (2001). \"Core Issues and Theory in Military Sociology\". Journal of Political and Military Sociology. Archived from the original on 31 May 2005. Retrieved 14 July 2008.\n",
      "Piven, F. (1988) Why Americans Don't Vote: And Why Politicians Want it That Way Pantheon.\n",
      "ISBN 0-679-72318-8\n",
      "Lipset, S.M. Introduction: Ostrogorski and the Analytical Approach to the Comparative Study of Political Parties in M. Ostrogorski, Democracy and the Organisation of Political (2 vol, 1964; 1982 ed.)\n",
      "Kate Nash (2009). Contemporary Political Sociology: Globalization, Politics and Power. John Wiley & Sons. ISBN\n",
      "978-1-4443-2077-0\n",
      ". Retrieved 4 November 2011.\n",
      "[page needed]\n",
      "Porta, Donatella Della; Diani, Mario (2009). Social movements: an introduction – Donatella Della Porta, Mario Diani. ISBN\n",
      "978-1-4051-4821-4\n",
      ". Retrieved 4 November 2011.\n"
     ]
    },
    {
     "name": "stdout",
     "output_type": "stream",
     "text": [
      "\"Milton Louw – Making A Better World.\" : Oldest Coloured Owned Business in Namibia. Web. 22 February 2012. <http://milton-louw.blogspot.com/2011/03/oldest-coloured-owned-business-in.html>.\n",
      "Kevin J. Christiano, et al., (2nd ed., 2008), Sociology of Religion: Contemporary Developments, Lanham, Maryland: Rowman & Littlefield Publishers.\n",
      "ISBN 978-0-7425-6111-3\n",
      "Berger, Peter L. The Sacred Canopy: Elements of a Sociological Theory of Religion (1967). Anchor Books 1990 paperback:\n",
      "ISBN 0-385-07305-4\n",
      "Shackman, Gene; Wang, Xun; Liu, Yalin. \"Brief Review of World Demographic Trends Summary\". SSRN. Retrieved 13 June 2017.\n",
      "Silberglitt, Richard; Anton, Philip; Howell, David. \"The Global Technology Revolution 2020, In-Depth Analyses Bio/Nano/Materials/Information Trends, Drivers, Barriers, and Social Implications\". Rand. Retrieved 13 June 2017.\n",
      "Lizardo, Omar (October 2006). \"How cultural tastes shape personal networks\". American Sociological Review. 71 (5): 778–807. doi:10.1177/000312240607100504. JSTOR 25472427.\n",
      "Stolte, John F; Fine, Gary Alan; Cook, Karen S. (2001). \"Sociological miniaturism: seeing the big through the small in social psychology\". Annual Review of Sociology. 27: 387–413. doi:10.1146/annurev.soc.27.1.387.\n",
      "\"What Is Social Psychology – An Introduction to Social Psychology\". Psychology.about.com. Retrieved 1 June 2010.\n",
      "Macionis, John; Gerber, Linda (2010). Sociology (7th Canadian ed.). Toronto: Pearson Canada. p. 225. ISBN\n",
      "978-0-13-700161-3\n",
      ".\n",
      "Saunders, Peter (1990). Social Class and Stratification. Routledge. ISBN\n",
      "978-0-415-04125-6\n",
      ".\n",
      "Macionis, John; Gerber, Linda (2010). Sociology (7th Canadian ed.). Toronto: Pearson Canada. p. 243. ISBN\n",
      "978-0-13-700161-3\n",
      ".\n",
      "Stark, Rodney (2006). Sociology. Wadsworth Publishing. ISBN\n",
      "978-0-495-09344-2\n",
      ".\n",
      "Dahrendorf, Ralf. (1959) Class and Class Conflict in Industrial Society. Stanford: Stanford University Press.\n",
      "Bornschier V. (1996), 'Western society in transition' New Brunswick, N.J.: Transaction Publishers.\n",
      "Sassen, Saskia (2001) [1991]. The global city: New York, London, Tokyo (2nd ed.). Princeton, NJ: Princeton University Press. ISBN\n",
      "978-0-691-07063-6\n",
      ".\n",
      "\"American Sociological Association: Section on Community and Urban Sociology\". asanet.org. Archived from the original on 15 March 2015. Retrieved 4 April 2015.\n",
      "Tönnies, F. 1887. Gemeinschaft und Gesellschaft, p. 22.\n",
      "Dianteill, Erwan, \"Cultural Anthropology or Social Anthropology? A Transatlantic Argument\", L’Année sociologique 1/2012 (Vol. 62), p. 93-122.\n",
      "\"Benchmark Statement Anthropology (UK)\" (PDF). QAA (UK). Archived from the original (PDF) on 21 September 2013. Retrieved 9 January 2012.\n",
      "\"Sociology and Its Relationships to Other Social Sciences\" (PDF). National Organisation of Sociology. Archived from the original (PDF) on 26 June 2011.\n",
      "Kirst-Ashman, K.K.; Hull, G H. (2009). Generalist Practice with Organisations and Communities (4th ed.). Belmont, CA: Brooks/Cole Cengage Learning. ISBN\n",
      "978-0-495-50715-4\n",
      ".\n",
      "Hepworth, D.H, Rooney, R.H., Rooney, G.D, Strom-Gottfried, K., Larsen, J.A. (2006). \"1\". Direct Social Work Practice. Belmont, CA: Thomson Brooks/Cole. ISBN\n",
      "978-0-534-64458-1\n",
      ".CS1 maint: Multiple names: authors list (link)\n",
      "Janes, Craig Robert; Stall, Ron; Gifford, Sandra M (1986). James Trostle. Springer. ISBN\n",
      "978-90-277-2248-5\n",
      ". Retrieved 8 September 2009.\n",
      "Horowitz, Irving (1994) The Decomposition of Sociology Oxford University Press. pp. 3–9\n",
      "Randall Collins, Cited in Horowitz, Irving (1994) The Decomposition of Sociology Oxford University Press. pp. 3–9\n",
      "\"The most cited authors of books in the humanities\". timeshighereducation.co.uk. 26 March 2009. Retrieved 16 November 2009.\n",
      "\"2011 Journal Citation Reports\". Web of Science (Social Sciences ed.). Thomson Reuters. 2011. Missing or empty |url= (help)\n"
     ]
    }
   ],
   "source": [
    "for item in parsed_html.find('.reference-text'):\n",
    "    print(item.text)"
   ]
  },
  {
   "cell_type": "markdown",
   "metadata": {
    "slideshow": {
     "slide_type": "slide"
    }
   },
   "source": [
    "<div class=\"alert alert-info\">\n",
    "<h3> Your turn</h3>\n",
    "    <p> Find the links for all the refences.</p>\n",
    "    <p> Hint: sets can be converted to a list:\n",
    "    <p> <code>link_list = list(links_in_a_set)</code>\n",
    "    \n",
    "</div>\n",
    "\n",
    "\n"
   ]
  },
  {
   "cell_type": "code",
   "execution_count": null,
   "metadata": {
    "slideshow": {
     "slide_type": "fragment"
    }
   },
   "outputs": [],
   "source": []
  },
  {
   "cell_type": "markdown",
   "metadata": {
    "slideshow": {
     "slide_type": "slide"
    }
   },
   "source": [
    "![](https://raw.githubusercontent.com/nealcaren/KULeuvenBigData/master/notebooks/images/function.png)"
   ]
  },
  {
   "cell_type": "markdown",
   "metadata": {
    "slideshow": {
     "slide_type": "slide"
    }
   },
   "source": [
    "<div class=\"alert alert-info\">\n",
    "<h3> Your turn</h3>\n",
    "    <p> Make a function that returns the text (ignoring headers and notes and other stuff) of a wikipedia article. \n",
    "</div>\n",
    "\n",
    "\n"
   ]
  },
  {
   "cell_type": "code",
   "execution_count": null,
   "metadata": {
    "slideshow": {
     "slide_type": "fragment"
    }
   },
   "outputs": [],
   "source": []
  },
  {
   "cell_type": "markdown",
   "metadata": {
    "slideshow": {
     "slide_type": "slide"
    }
   },
   "source": [
    "<div class=\"alert alert-info\">\n",
    "<h3> The big project</h3>\n",
    "    <p> I will divide you into groups of four. Work together.</p>\n",
    "    <p> Open up a new notebook. Create a csv file that contains the titles and URLs for the 500 most recent articles from the Sun newspaper (https://www.thesun.co.uk) on Brexit.</p>\n",
    "    <p>When you are done, email me (neal.caren@gmail.com) your notebook.</p>\n",
    "    <p><b>Bonus Challenge:</b> See whether newspaper3k works on The Sun. If not, build a scraper function to extrac the text of each article. </p>\n",
    "</div>\n",
    "\n",
    "\n",
    "\n"
   ]
  },
  {
   "cell_type": "markdown",
   "metadata": {
    "slideshow": {
     "slide_type": "slide"
    }
   },
   "source": [
    "Spoofing a browser\n",
    "\n",
    "~~~~\n",
    "headers = {'user-agent': 'Mozilla/5.0 (Macintosh; Intel Mac OS X 10_12_5) AppleWebKit/537.36 (KHTML, like Gecko) Chrome/59.0.3071.115 Safari/537.36'}\n",
    "\n",
    "r = requests.get(url, headers=headers)\n",
    "~~~~\n"
   ]
  },
  {
   "cell_type": "code",
   "execution_count": null,
   "metadata": {},
   "outputs": [],
   "source": []
  }
 ],
 "metadata": {
  "kernelspec": {
   "display_name": "Python 3",
   "language": "python",
   "name": "python3"
  },
  "language_info": {
   "codemirror_mode": {
    "name": "ipython",
    "version": 3
   },
   "file_extension": ".py",
   "mimetype": "text/x-python",
   "name": "python",
   "nbconvert_exporter": "python",
   "pygments_lexer": "ipython3",
   "version": "3.6.7"
  }
 },
 "nbformat": 4,
 "nbformat_minor": 2
}

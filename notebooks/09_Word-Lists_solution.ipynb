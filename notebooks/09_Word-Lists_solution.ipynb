{
 "cells": [
  {
   "cell_type": "markdown",
   "metadata": {},
   "source": [
    "## Word Lists and Sentiment Analysis\n"
   ]
  },
  {
   "cell_type": "markdown",
   "metadata": {
    "slideshow": {
     "slide_type": "skip"
    }
   },
   "source": [
    "\n",
    "A traditional method of analyzing texts is to compute the proportion of the words have positive connotations, negative connotations or are neutral. This method is commonly referred to as sentiment analysis. The typical approach to sentiment analysis is to see how many words in a text are also in a predefined list of words associated with a sentiment. So \"I am having a bad day.\" might score a \"1\" on a negative sentiment scale for the presence of \"bad\" or a .17 because one of six of the words is negative. Some sentiment systems rank words on a scale, so that \"terrific\" might be a 5 while \"fine\" scores a 1. \n",
    "\n",
    "Some systems go beyond positive and negative. The proprietary LIWC program, for example, extends this to measure dozens of other word attributes, such as \"tone\", \"analytic thinking\", and \"clout\". More generally, these methods can be used whenever you have a list of words, and you want to count their occurrences in a set of texts. They are commonly referred to as \"dictionary methods.\"\n",
    "\n",
    "This lesson introduces two different dictionaries that are available in Python, AFINN, and Vader. It concludes by showing how to analyze a text corpus for occurrences on any arbitrary word list."
   ]
  },
  {
   "cell_type": "markdown",
   "metadata": {
    "slideshow": {
     "slide_type": "skip"
    }
   },
   "source": [
    "This lesson assumes your computer has an Anaconda Python 3.7 distribution installed."
   ]
  },
  {
   "cell_type": "markdown",
   "metadata": {
    "slideshow": {
     "slide_type": "slide"
    }
   },
   "source": [
    "#### AFINN\n",
    "\n",
    "[AFINN](http://www2.imm.dtu.dk/pubdb/views/publication_details.php?id=6010) is an English word listed developed by Finn Årup Nielsen. Words scores range from minus five (negative) to plus five (positive). The English language dictionary consists of 2,477 coded words.\n",
    "\n",
    "If this is your first time running this notebook, you may need to install it:\n",
    "\n",
    "```\n",
    "%pip install afinn\n",
    "```"
   ]
  },
  {
   "cell_type": "code",
   "execution_count": 1,
   "metadata": {},
   "outputs": [
    {
     "name": "stdout",
     "output_type": "stream",
     "text": [
      "Requirement already satisfied: afinn in /Users/nealcaren/anaconda3/lib/python3.6/site-packages (0.1)\n",
      "Note: you may need to restart the kernel to use updated packages.\n",
      "Collecting git+https://github.com/olavski/afinn\n",
      "  Cloning https://github.com/olavski/afinn to /private/var/folders/db/9wfhxd0n6mvf150g7mv79r3c0000gn/T/pip-req-build-li0zx47f\n",
      "  Running command git clone -q https://github.com/olavski/afinn /private/var/folders/db/9wfhxd0n6mvf150g7mv79r3c0000gn/T/pip-req-build-li0zx47f\n",
      "Building wheels for collected packages: afinn\n",
      "  Building wheel for afinn (setup.py) ... \u001b[?25ldone\n",
      "\u001b[?25h  Stored in directory: /private/var/folders/db/9wfhxd0n6mvf150g7mv79r3c0000gn/T/pip-ephem-wheel-cache-eh62eq8o/wheels/67/d2/f7/5697f49e8f94e91058bf639782d135a3a3ec778ae7051f3888\n",
      "Successfully built afinn\n",
      "Installing collected packages: afinn\n",
      "  Found existing installation: afinn 0.1\n",
      "    Uninstalling afinn-0.1:\n",
      "      Successfully uninstalled afinn-0.1\n",
      "Successfully installed afinn-0.2.dev0\n",
      "Note: you may need to restart the kernel to use updated packages.\n"
     ]
    }
   ],
   "source": [
    "%pip install afinn\n",
    "%pip install git+https://github.com/olavski/afinn"
   ]
  },
  {
   "cell_type": "code",
   "execution_count": 2,
   "metadata": {
    "slideshow": {
     "slide_type": "slide"
    }
   },
   "outputs": [],
   "source": [
    "%matplotlib inline\n",
    "\n",
    "from afinn import Afinn\n",
    "\n",
    "import pandas as pd\n",
    "pd.set_option('max_colwidth', 100)"
   ]
  },
  {
   "cell_type": "markdown",
   "metadata": {
    "slideshow": {
     "slide_type": "slide"
    }
   },
   "source": [
    "After importing `Afinn`, you need to set the language, English (`en`), Danish (`da`), Swedish (`sv`),  Norwegian (`no`), french (`fr`), or emoticon (`emoticons`). "
   ]
  },
  {
   "cell_type": "code",
   "execution_count": 3,
   "metadata": {
    "slideshow": {
     "slide_type": "fragment"
    }
   },
   "outputs": [],
   "source": [
    "afinn = Afinn(language='en')"
   ]
  },
  {
   "cell_type": "markdown",
   "metadata": {
    "slideshow": {
     "slide_type": "slide"
    }
   },
   "source": [
    "The `score` method returns the sum of word valence scores for a text string."
   ]
  },
  {
   "cell_type": "code",
   "execution_count": 4,
   "metadata": {
    "slideshow": {
     "slide_type": "fragment"
    }
   },
   "outputs": [
    {
     "data": {
      "text/plain": [
       "-3.0"
      ]
     },
     "execution_count": 4,
     "metadata": {},
     "output_type": "execute_result"
    }
   ],
   "source": [
    "afinn.score('Bad day.')"
   ]
  },
  {
   "cell_type": "code",
   "execution_count": 5,
   "metadata": {
    "slideshow": {
     "slide_type": "slide"
    }
   },
   "outputs": [
    {
     "data": {
      "text/plain": [
       "3.0"
      ]
     },
     "execution_count": 5,
     "metadata": {},
     "output_type": "execute_result"
    }
   ],
   "source": [
    "afinn.score('Good day.')"
   ]
  },
  {
   "cell_type": "code",
   "execution_count": 6,
   "metadata": {
    "slideshow": {
     "slide_type": "slide"
    }
   },
   "outputs": [
    {
     "data": {
      "text/plain": [
       "-6.0"
      ]
     },
     "execution_count": 6,
     "metadata": {},
     "output_type": "execute_result"
    }
   ],
   "source": [
    "afinn.score('Horrible, bad day.')"
   ]
  },
  {
   "cell_type": "code",
   "execution_count": 7,
   "metadata": {},
   "outputs": [],
   "source": [
    "afinn_no = Afinn(language='no')\n"
   ]
  },
  {
   "cell_type": "code",
   "execution_count": 8,
   "metadata": {},
   "outputs": [
    {
     "data": {
      "text/plain": [
       "4.0"
      ]
     },
     "execution_count": 8,
     "metadata": {},
     "output_type": "execute_result"
    }
   ],
   "source": [
    "afinn_no.score('Google translate er min beste venn!')"
   ]
  },
  {
   "cell_type": "markdown",
   "metadata": {
    "slideshow": {
     "slide_type": "skip"
    }
   },
   "source": [
    "In all these cases, `afinn` has preprocessed the text by removing the punctuation, converting all the words to lower-case, and before analyzing it. "
   ]
  },
  {
   "cell_type": "markdown",
   "metadata": {},
   "source": [
    "<div class=\"alert alert-info\">\n",
    "<h3>Your turn</h3>\n",
    "<p>Create a sentence with a score of +10 or greater and one of -10 or lower.</div>\n",
    "\n",
    "\n"
   ]
  },
  {
   "cell_type": "code",
   "execution_count": 9,
   "metadata": {},
   "outputs": [
    {
     "data": {
      "text/plain": [
       "11.0"
      ]
     },
     "execution_count": 9,
     "metadata": {},
     "output_type": "execute_result"
    }
   ],
   "source": [
    "afinn.score(\"We want yummy, delicious, awesome dessert.\")"
   ]
  },
  {
   "cell_type": "code",
   "execution_count": 10,
   "metadata": {},
   "outputs": [
    {
     "data": {
      "text/plain": [
       "0.0"
      ]
     },
     "execution_count": 10,
     "metadata": {},
     "output_type": "execute_result"
    }
   ],
   "source": [
    "afinn.score(\"Down the rabbit hole.\")"
   ]
  },
  {
   "cell_type": "markdown",
   "metadata": {},
   "source": [
    "### Behind the scenes"
   ]
  },
  {
   "cell_type": "markdown",
   "metadata": {
    "slideshow": {
     "slide_type": "skip"
    }
   },
   "source": [
    " Before using a sentiment dictionary, it is useful to see whether it has any face validity.  To do that, we can look at a sample of the words from the list.\n",
    "\n",
    "After importing the pandas library, the cell below will load word list as a pandas dataframe from the tab-delimited version on Afinn's GitHub page and display a sample of 10 words."
   ]
  },
  {
   "cell_type": "code",
   "execution_count": 11,
   "metadata": {
    "slideshow": {
     "slide_type": "skip"
    }
   },
   "outputs": [
    {
     "data": {
      "text/html": [
       "<div>\n",
       "<style scoped>\n",
       "    .dataframe tbody tr th:only-of-type {\n",
       "        vertical-align: middle;\n",
       "    }\n",
       "\n",
       "    .dataframe tbody tr th {\n",
       "        vertical-align: top;\n",
       "    }\n",
       "\n",
       "    .dataframe thead th {\n",
       "        text-align: right;\n",
       "    }\n",
       "</style>\n",
       "<table border=\"1\" class=\"dataframe\">\n",
       "  <thead>\n",
       "    <tr style=\"text-align: right;\">\n",
       "      <th></th>\n",
       "      <th>term</th>\n",
       "      <th>value</th>\n",
       "    </tr>\n",
       "  </thead>\n",
       "  <tbody>\n",
       "    <tr>\n",
       "      <th>1787</th>\n",
       "      <td>prosecutes</td>\n",
       "      <td>-1</td>\n",
       "    </tr>\n",
       "    <tr>\n",
       "      <th>1154</th>\n",
       "      <td>harshest</td>\n",
       "      <td>-2</td>\n",
       "    </tr>\n",
       "    <tr>\n",
       "      <th>2169</th>\n",
       "      <td>suffering</td>\n",
       "      <td>-2</td>\n",
       "    </tr>\n",
       "    <tr>\n",
       "      <th>2294</th>\n",
       "      <td>uncomfortable</td>\n",
       "      <td>-2</td>\n",
       "    </tr>\n",
       "    <tr>\n",
       "      <th>2463</th>\n",
       "      <td>wreck</td>\n",
       "      <td>-2</td>\n",
       "    </tr>\n",
       "    <tr>\n",
       "      <th>2016</th>\n",
       "      <td>shortage</td>\n",
       "      <td>-2</td>\n",
       "    </tr>\n",
       "    <tr>\n",
       "      <th>2219</th>\n",
       "      <td>terrorize</td>\n",
       "      <td>-3</td>\n",
       "    </tr>\n",
       "    <tr>\n",
       "      <th>1715</th>\n",
       "      <td>piteous</td>\n",
       "      <td>-2</td>\n",
       "    </tr>\n",
       "    <tr>\n",
       "      <th>410</th>\n",
       "      <td>cleaner</td>\n",
       "      <td>2</td>\n",
       "    </tr>\n",
       "    <tr>\n",
       "      <th>323</th>\n",
       "      <td>broken</td>\n",
       "      <td>-1</td>\n",
       "    </tr>\n",
       "  </tbody>\n",
       "</table>\n",
       "</div>"
      ],
      "text/plain": [
       "               term  value\n",
       "1787     prosecutes     -1\n",
       "1154       harshest     -2\n",
       "2169      suffering     -2\n",
       "2294  uncomfortable     -2\n",
       "2463          wreck     -2\n",
       "2016       shortage     -2\n",
       "2219      terrorize     -3\n",
       "1715        piteous     -2\n",
       "410         cleaner      2\n",
       "323          broken     -1"
      ]
     },
     "execution_count": 11,
     "metadata": {},
     "output_type": "execute_result"
    }
   ],
   "source": [
    "afinn_wl_url = ('https://raw.githubusercontent.com'\n",
    "                '/fnielsen/afinn/master/afinn/data/AFINN-111.txt')\n",
    "\n",
    "afinn_wl_df = pd.read_csv(afinn_wl_url, \n",
    "                          header=None, # no column names\n",
    "                          sep='\\t',  # tab sepeated\n",
    "                          names=['term', 'value']) #new column names\n",
    "\n",
    "seed = 808 # seed for sample so results are stable\n",
    "afinn_wl_df.sample(10)"
   ]
  },
  {
   "cell_type": "markdown",
   "metadata": {
    "slideshow": {
     "slide_type": "skip"
    }
   },
   "source": [
    "We can get a sense of the distribution of word values by plotting them:"
   ]
  },
  {
   "cell_type": "code",
   "execution_count": 12,
   "metadata": {},
   "outputs": [
    {
     "data": {
      "text/html": [
       "<div>\n",
       "<style scoped>\n",
       "    .dataframe tbody tr th:only-of-type {\n",
       "        vertical-align: middle;\n",
       "    }\n",
       "\n",
       "    .dataframe tbody tr th {\n",
       "        vertical-align: top;\n",
       "    }\n",
       "\n",
       "    .dataframe thead th {\n",
       "        text-align: right;\n",
       "    }\n",
       "</style>\n",
       "<table border=\"1\" class=\"dataframe\">\n",
       "  <thead>\n",
       "    <tr style=\"text-align: right;\">\n",
       "      <th></th>\n",
       "      <th>term</th>\n",
       "      <th>value</th>\n",
       "    </tr>\n",
       "  </thead>\n",
       "  <tbody>\n",
       "    <tr>\n",
       "      <th>2179</th>\n",
       "      <td>superb</td>\n",
       "      <td>5</td>\n",
       "    </tr>\n",
       "    <tr>\n",
       "      <th>2234</th>\n",
       "      <td>thrilled</td>\n",
       "      <td>5</td>\n",
       "    </tr>\n",
       "    <tr>\n",
       "      <th>1648</th>\n",
       "      <td>outstanding</td>\n",
       "      <td>5</td>\n",
       "    </tr>\n",
       "    <tr>\n",
       "      <th>1226</th>\n",
       "      <td>hurrah</td>\n",
       "      <td>5</td>\n",
       "    </tr>\n",
       "    <tr>\n",
       "      <th>315</th>\n",
       "      <td>breathtaking</td>\n",
       "      <td>5</td>\n",
       "    </tr>\n",
       "    <tr>\n",
       "      <th>2429</th>\n",
       "      <td>winner</td>\n",
       "      <td>4</td>\n",
       "    </tr>\n",
       "    <tr>\n",
       "      <th>1500</th>\n",
       "      <td>masterpieces</td>\n",
       "      <td>4</td>\n",
       "    </tr>\n",
       "    <tr>\n",
       "      <th>1089</th>\n",
       "      <td>godsend</td>\n",
       "      <td>4</td>\n",
       "    </tr>\n",
       "    <tr>\n",
       "      <th>2428</th>\n",
       "      <td>win</td>\n",
       "      <td>4</td>\n",
       "    </tr>\n",
       "    <tr>\n",
       "      <th>320</th>\n",
       "      <td>brilliant</td>\n",
       "      <td>4</td>\n",
       "    </tr>\n",
       "    <tr>\n",
       "      <th>808</th>\n",
       "      <td>ecstatic</td>\n",
       "      <td>4</td>\n",
       "    </tr>\n",
       "    <tr>\n",
       "      <th>2430</th>\n",
       "      <td>winning</td>\n",
       "      <td>4</td>\n",
       "    </tr>\n",
       "    <tr>\n",
       "      <th>1519</th>\n",
       "      <td>miracle</td>\n",
       "      <td>4</td>\n",
       "    </tr>\n",
       "    <tr>\n",
       "      <th>1864</th>\n",
       "      <td>rejoicing</td>\n",
       "      <td>4</td>\n",
       "    </tr>\n",
       "    <tr>\n",
       "      <th>1863</th>\n",
       "      <td>rejoices</td>\n",
       "      <td>4</td>\n",
       "    </tr>\n",
       "    <tr>\n",
       "      <th>1862</th>\n",
       "      <td>rejoiced</td>\n",
       "      <td>4</td>\n",
       "    </tr>\n",
       "    <tr>\n",
       "      <th>1861</th>\n",
       "      <td>rejoice</td>\n",
       "      <td>4</td>\n",
       "    </tr>\n",
       "    <tr>\n",
       "      <th>2431</th>\n",
       "      <td>wins</td>\n",
       "      <td>4</td>\n",
       "    </tr>\n",
       "    <tr>\n",
       "      <th>1649</th>\n",
       "      <td>overjoyed</td>\n",
       "      <td>4</td>\n",
       "    </tr>\n",
       "    <tr>\n",
       "      <th>953</th>\n",
       "      <td>fantastic</td>\n",
       "      <td>4</td>\n",
       "    </tr>\n",
       "    <tr>\n",
       "      <th>215</th>\n",
       "      <td>awesome</td>\n",
       "      <td>4</td>\n",
       "    </tr>\n",
       "    <tr>\n",
       "      <th>2216</th>\n",
       "      <td>terrific</td>\n",
       "      <td>4</td>\n",
       "    </tr>\n",
       "    <tr>\n",
       "      <th>1170</th>\n",
       "      <td>heavenly</td>\n",
       "      <td>4</td>\n",
       "    </tr>\n",
       "    <tr>\n",
       "      <th>1831</th>\n",
       "      <td>rapturous</td>\n",
       "      <td>4</td>\n",
       "    </tr>\n",
       "    <tr>\n",
       "      <th>114</th>\n",
       "      <td>amazing</td>\n",
       "      <td>4</td>\n",
       "    </tr>\n",
       "    <tr>\n",
       "      <th>929</th>\n",
       "      <td>fabulous</td>\n",
       "      <td>4</td>\n",
       "    </tr>\n",
       "    <tr>\n",
       "      <th>926</th>\n",
       "      <td>exuberant</td>\n",
       "      <td>4</td>\n",
       "    </tr>\n",
       "    <tr>\n",
       "      <th>1934</th>\n",
       "      <td>rofl</td>\n",
       "      <td>4</td>\n",
       "    </tr>\n",
       "    <tr>\n",
       "      <th>1935</th>\n",
       "      <td>roflcopter</td>\n",
       "      <td>4</td>\n",
       "    </tr>\n",
       "    <tr>\n",
       "      <th>880</th>\n",
       "      <td>euphoric</td>\n",
       "      <td>4</td>\n",
       "    </tr>\n",
       "    <tr>\n",
       "      <th>...</th>\n",
       "      <td>...</td>\n",
       "      <td>...</td>\n",
       "    </tr>\n",
       "    <tr>\n",
       "      <th>2007</th>\n",
       "      <td>shithead</td>\n",
       "      <td>-4</td>\n",
       "    </tr>\n",
       "    <tr>\n",
       "      <th>2018</th>\n",
       "      <td>shrew</td>\n",
       "      <td>-4</td>\n",
       "    </tr>\n",
       "    <tr>\n",
       "      <th>356</th>\n",
       "      <td>catastrophic</td>\n",
       "      <td>-4</td>\n",
       "    </tr>\n",
       "    <tr>\n",
       "      <th>326</th>\n",
       "      <td>bullshit</td>\n",
       "      <td>-4</td>\n",
       "    </tr>\n",
       "    <tr>\n",
       "      <th>2424</th>\n",
       "      <td>whore</td>\n",
       "      <td>-4</td>\n",
       "    </tr>\n",
       "    <tr>\n",
       "      <th>1172</th>\n",
       "      <td>hell</td>\n",
       "      <td>-4</td>\n",
       "    </tr>\n",
       "    <tr>\n",
       "      <th>656</th>\n",
       "      <td>dick</td>\n",
       "      <td>-4</td>\n",
       "    </tr>\n",
       "    <tr>\n",
       "      <th>1713</th>\n",
       "      <td>pissed</td>\n",
       "      <td>-4</td>\n",
       "    </tr>\n",
       "    <tr>\n",
       "      <th>1712</th>\n",
       "      <td>piss</td>\n",
       "      <td>-4</td>\n",
       "    </tr>\n",
       "    <tr>\n",
       "      <th>2251</th>\n",
       "      <td>torturing</td>\n",
       "      <td>-4</td>\n",
       "    </tr>\n",
       "    <tr>\n",
       "      <th>2250</th>\n",
       "      <td>tortures</td>\n",
       "      <td>-4</td>\n",
       "    </tr>\n",
       "    <tr>\n",
       "      <th>2249</th>\n",
       "      <td>tortured</td>\n",
       "      <td>-4</td>\n",
       "    </tr>\n",
       "    <tr>\n",
       "      <th>2248</th>\n",
       "      <td>torture</td>\n",
       "      <td>-4</td>\n",
       "    </tr>\n",
       "    <tr>\n",
       "      <th>554</th>\n",
       "      <td>damned</td>\n",
       "      <td>-4</td>\n",
       "    </tr>\n",
       "    <tr>\n",
       "      <th>1603</th>\n",
       "      <td>nigger</td>\n",
       "      <td>-5</td>\n",
       "    </tr>\n",
       "    <tr>\n",
       "      <th>1602</th>\n",
       "      <td>niggas</td>\n",
       "      <td>-5</td>\n",
       "    </tr>\n",
       "    <tr>\n",
       "      <th>1766</th>\n",
       "      <td>prick</td>\n",
       "      <td>-5</td>\n",
       "    </tr>\n",
       "    <tr>\n",
       "      <th>270</th>\n",
       "      <td>bitches</td>\n",
       "      <td>-5</td>\n",
       "    </tr>\n",
       "    <tr>\n",
       "      <th>1568</th>\n",
       "      <td>motherfucking</td>\n",
       "      <td>-5</td>\n",
       "    </tr>\n",
       "    <tr>\n",
       "      <th>1567</th>\n",
       "      <td>motherfucker</td>\n",
       "      <td>-5</td>\n",
       "    </tr>\n",
       "    <tr>\n",
       "      <th>541</th>\n",
       "      <td>cunt</td>\n",
       "      <td>-5</td>\n",
       "    </tr>\n",
       "    <tr>\n",
       "      <th>420</th>\n",
       "      <td>cocksuckers</td>\n",
       "      <td>-5</td>\n",
       "    </tr>\n",
       "    <tr>\n",
       "      <th>419</th>\n",
       "      <td>cocksucker</td>\n",
       "      <td>-5</td>\n",
       "    </tr>\n",
       "    <tr>\n",
       "      <th>269</th>\n",
       "      <td>bitch</td>\n",
       "      <td>-5</td>\n",
       "    </tr>\n",
       "    <tr>\n",
       "      <th>2283</th>\n",
       "      <td>twat</td>\n",
       "      <td>-5</td>\n",
       "    </tr>\n",
       "    <tr>\n",
       "      <th>2047</th>\n",
       "      <td>slut</td>\n",
       "      <td>-5</td>\n",
       "    </tr>\n",
       "    <tr>\n",
       "      <th>237</th>\n",
       "      <td>bastard</td>\n",
       "      <td>-5</td>\n",
       "    </tr>\n",
       "    <tr>\n",
       "      <th>238</th>\n",
       "      <td>bastards</td>\n",
       "      <td>-5</td>\n",
       "    </tr>\n",
       "    <tr>\n",
       "      <th>2074</th>\n",
       "      <td>son-of-a-bitch</td>\n",
       "      <td>-5</td>\n",
       "    </tr>\n",
       "    <tr>\n",
       "      <th>418</th>\n",
       "      <td>cock</td>\n",
       "      <td>-5</td>\n",
       "    </tr>\n",
       "  </tbody>\n",
       "</table>\n",
       "<p>2477 rows × 2 columns</p>\n",
       "</div>"
      ],
      "text/plain": [
       "                term  value\n",
       "2179          superb      5\n",
       "2234        thrilled      5\n",
       "1648     outstanding      5\n",
       "1226          hurrah      5\n",
       "315     breathtaking      5\n",
       "2429          winner      4\n",
       "1500    masterpieces      4\n",
       "1089         godsend      4\n",
       "2428             win      4\n",
       "320        brilliant      4\n",
       "808         ecstatic      4\n",
       "2430         winning      4\n",
       "1519         miracle      4\n",
       "1864       rejoicing      4\n",
       "1863        rejoices      4\n",
       "1862        rejoiced      4\n",
       "1861         rejoice      4\n",
       "2431            wins      4\n",
       "1649       overjoyed      4\n",
       "953        fantastic      4\n",
       "215          awesome      4\n",
       "2216        terrific      4\n",
       "1170        heavenly      4\n",
       "1831       rapturous      4\n",
       "114          amazing      4\n",
       "929         fabulous      4\n",
       "926        exuberant      4\n",
       "1934            rofl      4\n",
       "1935      roflcopter      4\n",
       "880         euphoric      4\n",
       "...              ...    ...\n",
       "2007        shithead     -4\n",
       "2018           shrew     -4\n",
       "356     catastrophic     -4\n",
       "326         bullshit     -4\n",
       "2424           whore     -4\n",
       "1172            hell     -4\n",
       "656             dick     -4\n",
       "1713          pissed     -4\n",
       "1712            piss     -4\n",
       "2251       torturing     -4\n",
       "2250        tortures     -4\n",
       "2249        tortured     -4\n",
       "2248         torture     -4\n",
       "554           damned     -4\n",
       "1603          nigger     -5\n",
       "1602          niggas     -5\n",
       "1766           prick     -5\n",
       "270          bitches     -5\n",
       "1568   motherfucking     -5\n",
       "1567    motherfucker     -5\n",
       "541             cunt     -5\n",
       "420      cocksuckers     -5\n",
       "419       cocksucker     -5\n",
       "269            bitch     -5\n",
       "2283            twat     -5\n",
       "2047            slut     -5\n",
       "237          bastard     -5\n",
       "238         bastards     -5\n",
       "2074  son-of-a-bitch     -5\n",
       "418             cock     -5\n",
       "\n",
       "[2477 rows x 2 columns]"
      ]
     },
     "execution_count": 12,
     "metadata": {},
     "output_type": "execute_result"
    }
   ],
   "source": [
    "afinn_wl_df.sort_values(by='value', ascending=False)"
   ]
  },
  {
   "cell_type": "code",
   "execution_count": 13,
   "metadata": {
    "slideshow": {
     "slide_type": "slide"
    }
   },
   "outputs": [
    {
     "data": {
      "text/plain": [
       "<matplotlib.axes._subplots.AxesSubplot at 0x11a8f33c8>"
      ]
     },
     "execution_count": 13,
     "metadata": {},
     "output_type": "execute_result"
    },
    {
     "data": {
      "image/png": "[encoded data removed]",
      "text/plain": [
       "<Figure size 432x288 with 1 Axes>"
      ]
     },
     "metadata": {
      "needs_background": "light"
     },
     "output_type": "display_data"
    }
   ],
   "source": [
    "%matplotlib inline\n",
    "\n",
    "afinn_wl_df['value'].hist(bins=20)"
   ]
  },
  {
   "cell_type": "markdown",
   "metadata": {
    "slideshow": {
     "slide_type": "skip"
    }
   },
   "source": [
    "Overall, the dictionary appears to have more negative words than positive words, but the values for both positive and negative words are rarely extreme, with both two and negative two as the most common values."
   ]
  },
  {
   "cell_type": "markdown",
   "metadata": {
    "slideshow": {
     "slide_type": "skip"
    }
   },
   "source": [
    "## Applying the dictionary\n",
    "\n",
    "We can use Afinn to analyze a more extensive text database.  Aashita Kesarwani put together a [corpus](https://www.kaggle.com/aashita/nyt-comments/home) of comments made to New York Times articles. I sampled 10,000 of these from April 2017 and stored them as a JSON file.\n"
   ]
  },
  {
   "cell_type": "code",
   "execution_count": 14,
   "metadata": {
    "slideshow": {
     "slide_type": "slide"
    }
   },
   "outputs": [],
   "source": [
    "wine_df_full = pd.read_csv('data/wine_reviews.csv')"
   ]
  },
  {
   "cell_type": "code",
   "execution_count": 15,
   "metadata": {
    "slideshow": {
     "slide_type": "slide"
    }
   },
   "outputs": [],
   "source": [
    "wine_df = wine_df_full.sample(10000).reset_index()"
   ]
  },
  {
   "cell_type": "markdown",
   "metadata": {
    "slideshow": {
     "slide_type": "skip"
    }
   },
   "source": [
    "The `head` method provides an overview of the dataframe."
   ]
  },
  {
   "cell_type": "code",
   "execution_count": 16,
   "metadata": {
    "slideshow": {
     "slide_type": "slide"
    }
   },
   "outputs": [
    {
     "data": {
      "text/html": [
       "<div>\n",
       "<style scoped>\n",
       "    .dataframe tbody tr th:only-of-type {\n",
       "        vertical-align: middle;\n",
       "    }\n",
       "\n",
       "    .dataframe tbody tr th {\n",
       "        vertical-align: top;\n",
       "    }\n",
       "\n",
       "    .dataframe thead th {\n",
       "        text-align: right;\n",
       "    }\n",
       "</style>\n",
       "<table border=\"1\" class=\"dataframe\">\n",
       "  <thead>\n",
       "    <tr style=\"text-align: right;\">\n",
       "      <th></th>\n",
       "      <th>index</th>\n",
       "      <th>country</th>\n",
       "      <th>description</th>\n",
       "      <th>designation</th>\n",
       "      <th>points</th>\n",
       "      <th>price</th>\n",
       "      <th>province</th>\n",
       "      <th>region_1</th>\n",
       "      <th>region_2</th>\n",
       "      <th>taster_name</th>\n",
       "      <th>taster_twitter_handle</th>\n",
       "      <th>title</th>\n",
       "      <th>variety</th>\n",
       "      <th>winery</th>\n",
       "      <th>rating</th>\n",
       "    </tr>\n",
       "  </thead>\n",
       "  <tbody>\n",
       "    <tr>\n",
       "      <th>0</th>\n",
       "      <td>77490</td>\n",
       "      <td>US</td>\n",
       "      <td>A splendid Chardonnay, rich, vital and elegant, with so many layers of interest. Framed by a cut...</td>\n",
       "      <td>Susanna's Vineyard</td>\n",
       "      <td>96</td>\n",
       "      <td>50.0</td>\n",
       "      <td>California</td>\n",
       "      <td>Russian River Valley</td>\n",
       "      <td>Sonoma</td>\n",
       "      <td>NaN</td>\n",
       "      <td>NaN</td>\n",
       "      <td>Lynmar 2010 Susanna's Vineyard Chardonnay (Russian River Valley)</td>\n",
       "      <td>Chardonnay</td>\n",
       "      <td>Lynmar</td>\n",
       "      <td>High</td>\n",
       "    </tr>\n",
       "    <tr>\n",
       "      <th>1</th>\n",
       "      <td>39530</td>\n",
       "      <td>Portugal</td>\n",
       "      <td>A rich opening is followed by firm tannins. The wine has ample weight and a solid structure arou...</td>\n",
       "      <td>Vintage</td>\n",
       "      <td>94</td>\n",
       "      <td>NaN</td>\n",
       "      <td>Port</td>\n",
       "      <td>NaN</td>\n",
       "      <td>NaN</td>\n",
       "      <td>Roger Voss</td>\n",
       "      <td>@vossroger</td>\n",
       "      <td>Maynard's 2011 Vintage  (Port)</td>\n",
       "      <td>Port</td>\n",
       "      <td>Maynard's</td>\n",
       "      <td>High</td>\n",
       "    </tr>\n",
       "    <tr>\n",
       "      <th>2</th>\n",
       "      <td>3178</td>\n",
       "      <td>Greece</td>\n",
       "      <td>This is a great example of a variety Americans are still learning to embrace. Plum and cherry ar...</td>\n",
       "      <td>Single Vineyard Selection</td>\n",
       "      <td>87</td>\n",
       "      <td>25.0</td>\n",
       "      <td>Nemea</td>\n",
       "      <td>NaN</td>\n",
       "      <td>NaN</td>\n",
       "      <td>Susan Kostrzewa</td>\n",
       "      <td>@suskostrzewa</td>\n",
       "      <td>Palivou 2012 Single Vineyard Selection Agiorgitiko (Nemea)</td>\n",
       "      <td>Agiorgitiko</td>\n",
       "      <td>Palivou</td>\n",
       "      <td>Low</td>\n",
       "    </tr>\n",
       "    <tr>\n",
       "      <th>3</th>\n",
       "      <td>46461</td>\n",
       "      <td>US</td>\n",
       "      <td>A Bordeaux blend with a Right Bank inclination, this offers forward fruit aromas and flavors of ...</td>\n",
       "      <td>domenica</td>\n",
       "      <td>86</td>\n",
       "      <td>20.0</td>\n",
       "      <td>Washington</td>\n",
       "      <td>Columbia Valley (WA)</td>\n",
       "      <td>Columbia Valley</td>\n",
       "      <td>Paul Gregutt</td>\n",
       "      <td>@paulgwine</td>\n",
       "      <td>DiStefano 2007 domenica Red (Columbia Valley (WA))</td>\n",
       "      <td>Bordeaux-style Red Blend</td>\n",
       "      <td>DiStefano</td>\n",
       "      <td>Low</td>\n",
       "    </tr>\n",
       "    <tr>\n",
       "      <th>4</th>\n",
       "      <td>25631</td>\n",
       "      <td>US</td>\n",
       "      <td>You'll find plenty of blackberry, cherry, currant and oak flavors in this 100% Cabernet. Aging i...</td>\n",
       "      <td>Blackjack Pasture Estate Bottled</td>\n",
       "      <td>85</td>\n",
       "      <td>50.0</td>\n",
       "      <td>California</td>\n",
       "      <td>Carmel Valley</td>\n",
       "      <td>Central Coast</td>\n",
       "      <td>NaN</td>\n",
       "      <td>NaN</td>\n",
       "      <td>Galante 2007 Blackjack Pasture Estate Bottled Cabernet Sauvignon (Carmel Valley)</td>\n",
       "      <td>Cabernet Sauvignon</td>\n",
       "      <td>Galante</td>\n",
       "      <td>Low</td>\n",
       "    </tr>\n",
       "  </tbody>\n",
       "</table>\n",
       "</div>"
      ],
      "text/plain": [
       "   index   country  \\\n",
       "0  77490        US   \n",
       "1  39530  Portugal   \n",
       "2   3178    Greece   \n",
       "3  46461        US   \n",
       "4  25631        US   \n",
       "\n",
       "                                                                                           description  \\\n",
       "0  A splendid Chardonnay, rich, vital and elegant, with so many layers of interest. Framed by a cut...   \n",
       "1  A rich opening is followed by firm tannins. The wine has ample weight and a solid structure arou...   \n",
       "2  This is a great example of a variety Americans are still learning to embrace. Plum and cherry ar...   \n",
       "3  A Bordeaux blend with a Right Bank inclination, this offers forward fruit aromas and flavors of ...   \n",
       "4  You'll find plenty of blackberry, cherry, currant and oak flavors in this 100% Cabernet. Aging i...   \n",
       "\n",
       "                        designation  points  price    province  \\\n",
       "0                Susanna's Vineyard      96   50.0  California   \n",
       "1                           Vintage      94    NaN        Port   \n",
       "2         Single Vineyard Selection      87   25.0       Nemea   \n",
       "3                          domenica      86   20.0  Washington   \n",
       "4  Blackjack Pasture Estate Bottled      85   50.0  California   \n",
       "\n",
       "               region_1         region_2      taster_name  \\\n",
       "0  Russian River Valley           Sonoma              NaN   \n",
       "1                   NaN              NaN       Roger Voss   \n",
       "2                   NaN              NaN  Susan Kostrzewa   \n",
       "3  Columbia Valley (WA)  Columbia Valley     Paul Gregutt   \n",
       "4         Carmel Valley    Central Coast              NaN   \n",
       "\n",
       "  taster_twitter_handle  \\\n",
       "0                   NaN   \n",
       "1            @vossroger   \n",
       "2         @suskostrzewa   \n",
       "3           @paulgwine    \n",
       "4                   NaN   \n",
       "\n",
       "                                                                              title  \\\n",
       "0                  Lynmar 2010 Susanna's Vineyard Chardonnay (Russian River Valley)   \n",
       "1                                                    Maynard's 2011 Vintage  (Port)   \n",
       "2                        Palivou 2012 Single Vineyard Selection Agiorgitiko (Nemea)   \n",
       "3                                DiStefano 2007 domenica Red (Columbia Valley (WA))   \n",
       "4  Galante 2007 Blackjack Pasture Estate Bottled Cabernet Sauvignon (Carmel Valley)   \n",
       "\n",
       "                    variety     winery rating  \n",
       "0                Chardonnay     Lynmar   High  \n",
       "1                      Port  Maynard's   High  \n",
       "2               Agiorgitiko    Palivou    Low  \n",
       "3  Bordeaux-style Red Blend  DiStefano    Low  \n",
       "4        Cabernet Sauvignon    Galante    Low  "
      ]
     },
     "execution_count": 16,
     "metadata": {},
     "output_type": "execute_result"
    }
   ],
   "source": [
    "wine_df.head()"
   ]
  },
  {
   "cell_type": "markdown",
   "metadata": {
    "slideshow": {
     "slide_type": "slide"
    }
   },
   "source": [
    "The column of interest is *commentBody.* \n",
    "\n",
    "To estimate the Afinn sentiment score for all of the responses in the dataframe, we can `apply` the scorer to the commentBody column to create a new column. Applying this function takes a couple of seconds."
   ]
  },
  {
   "cell_type": "code",
   "execution_count": 18,
   "metadata": {
    "slideshow": {
     "slide_type": "fragment"
    }
   },
   "outputs": [],
   "source": [
    "wine_df['afinn_score'] = wine_df['description'].apply(afinn.score)"
   ]
  },
  {
   "cell_type": "markdown",
   "metadata": {
    "slideshow": {
     "slide_type": "slide"
    }
   },
   "source": [
    "`describe` gives a sense of the distribution. "
   ]
  },
  {
   "cell_type": "code",
   "execution_count": 19,
   "metadata": {
    "slideshow": {
     "slide_type": "fragment"
    }
   },
   "outputs": [
    {
     "data": {
      "text/plain": [
       "count    10000.000000\n",
       "mean         3.466500\n",
       "std          3.540979\n",
       "min         -8.000000\n",
       "25%          1.000000\n",
       "50%          3.000000\n",
       "75%          5.000000\n",
       "max         29.000000\n",
       "Name: afinn_score, dtype: float64"
      ]
     },
     "execution_count": 19,
     "metadata": {},
     "output_type": "execute_result"
    }
   ],
   "source": [
    "wine_df['afinn_score'].describe()"
   ]
  },
  {
   "cell_type": "markdown",
   "metadata": {
    "slideshow": {
     "slide_type": "skip"
    }
   },
   "source": [
    "It is also useful to sort by `afinn_score` to get a sense of what is in the extreme scoring comments. In this case, I subset the dataframe to display just the two relevant columns. "
   ]
  },
  {
   "cell_type": "code",
   "execution_count": 20,
   "metadata": {
    "scrolled": true,
    "slideshow": {
     "slide_type": "slide"
    }
   },
   "outputs": [
    {
     "data": {
      "text/html": [
       "<div>\n",
       "<style scoped>\n",
       "    .dataframe tbody tr th:only-of-type {\n",
       "        vertical-align: middle;\n",
       "    }\n",
       "\n",
       "    .dataframe tbody tr th {\n",
       "        vertical-align: top;\n",
       "    }\n",
       "\n",
       "    .dataframe thead th {\n",
       "        text-align: right;\n",
       "    }\n",
       "</style>\n",
       "<table border=\"1\" class=\"dataframe\">\n",
       "  <thead>\n",
       "    <tr style=\"text-align: right;\">\n",
       "      <th></th>\n",
       "      <th>description</th>\n",
       "      <th>afinn_score</th>\n",
       "    </tr>\n",
       "  </thead>\n",
       "  <tbody>\n",
       "    <tr>\n",
       "      <th>9631</th>\n",
       "      <td>Slight notes of iron oxide inform the dense and richly textured red cherry fruit of this sumptuo...</td>\n",
       "      <td>29.0</td>\n",
       "    </tr>\n",
       "    <tr>\n",
       "      <th>2556</th>\n",
       "      <td>This supremely elegant and age-worthy Sassicaia opens with an intense bouquet of black cherry, M...</td>\n",
       "      <td>23.0</td>\n",
       "    </tr>\n",
       "    <tr>\n",
       "      <th>1020</th>\n",
       "      <td>Viader has a long history of producing great Bordeaux-style blends grown at a high elevation on ...</td>\n",
       "      <td>23.0</td>\n",
       "    </tr>\n",
       "    <tr>\n",
       "      <th>5619</th>\n",
       "      <td>Wonderfully lively notes of fresh aromatic orange and citrus zest mingle together. The palate is...</td>\n",
       "      <td>22.0</td>\n",
       "    </tr>\n",
       "    <tr>\n",
       "      <th>9571</th>\n",
       "      <td>Deutz's top cuvée is as good as ever. Bottle aging has helped it to throw off its youthful awakw...</td>\n",
       "      <td>22.0</td>\n",
       "    </tr>\n",
       "    <tr>\n",
       "      <th>54</th>\n",
       "      <td>This Cabernet is a blend of estate and purchased fruit. In a successful year, it rivals Stag's L...</td>\n",
       "      <td>21.0</td>\n",
       "    </tr>\n",
       "    <tr>\n",
       "      <th>5931</th>\n",
       "      <td>This new wine from an estate vineyard is the strong, quiet type that's not effusively fruity but...</td>\n",
       "      <td>20.0</td>\n",
       "    </tr>\n",
       "    <tr>\n",
       "      <th>283</th>\n",
       "      <td>This very fine Cabernet wants a little time in the cellar. Right now, it's tight in tannins, wit...</td>\n",
       "      <td>20.0</td>\n",
       "    </tr>\n",
       "    <tr>\n",
       "      <th>1812</th>\n",
       "      <td>Just delicious, an important, elegant Merlot to drink with the finest steaks and chops. Even bet...</td>\n",
       "      <td>20.0</td>\n",
       "    </tr>\n",
       "    <tr>\n",
       "      <th>9280</th>\n",
       "      <td>While this bottling is always interesting, it is dependent on vintage conditions. This bottling,...</td>\n",
       "      <td>20.0</td>\n",
       "    </tr>\n",
       "  </tbody>\n",
       "</table>\n",
       "</div>"
      ],
      "text/plain": [
       "                                                                                              description  \\\n",
       "9631  Slight notes of iron oxide inform the dense and richly textured red cherry fruit of this sumptuo...   \n",
       "2556  This supremely elegant and age-worthy Sassicaia opens with an intense bouquet of black cherry, M...   \n",
       "1020  Viader has a long history of producing great Bordeaux-style blends grown at a high elevation on ...   \n",
       "5619  Wonderfully lively notes of fresh aromatic orange and citrus zest mingle together. The palate is...   \n",
       "9571  Deutz's top cuvée is as good as ever. Bottle aging has helped it to throw off its youthful awakw...   \n",
       "54    This Cabernet is a blend of estate and purchased fruit. In a successful year, it rivals Stag's L...   \n",
       "5931  This new wine from an estate vineyard is the strong, quiet type that's not effusively fruity but...   \n",
       "283   This very fine Cabernet wants a little time in the cellar. Right now, it's tight in tannins, wit...   \n",
       "1812  Just delicious, an important, elegant Merlot to drink with the finest steaks and chops. Even bet...   \n",
       "9280  While this bottling is always interesting, it is dependent on vintage conditions. This bottling,...   \n",
       "\n",
       "      afinn_score  \n",
       "9631         29.0  \n",
       "2556         23.0  \n",
       "1020         23.0  \n",
       "5619         22.0  \n",
       "9571         22.0  \n",
       "54           21.0  \n",
       "5931         20.0  \n",
       "283          20.0  \n",
       "1812         20.0  \n",
       "9280         20.0  "
      ]
     },
     "execution_count": 20,
     "metadata": {},
     "output_type": "execute_result"
    }
   ],
   "source": [
    "columns_to_display = ['description', 'afinn_score']\n",
    "\n",
    "wine_df.sort_values(by='afinn_score', ascending=False)[columns_to_display].head(10)"
   ]
  },
  {
   "cell_type": "code",
   "execution_count": 21,
   "metadata": {
    "slideshow": {
     "slide_type": "slide"
    }
   },
   "outputs": [
    {
     "name": "stdout",
     "output_type": "stream",
     "text": [
      "A bizarre blend of lime, unipe pineapple, banana and tropical fruit marks this clumsy, disjointed wine. It's not bad, but it's all elbows, with hard edges sticking out all over.\n"
     ]
    }
   ],
   "source": [
    "worst = wine_df.sort_values(by='afinn_score').index[0]\n",
    "\n",
    "print(wine_df.iloc[worst]['description'])\n"
   ]
  },
  {
   "cell_type": "markdown",
   "metadata": {
    "slideshow": {
     "slide_type": "skip"
    }
   },
   "source": [
    "By default, the sort is ascending, mean the lowest scoring, or most negative comments, are displayed by `head`. The comments with the highest score are shown with `tail`. "
   ]
  },
  {
   "cell_type": "code",
   "execution_count": 22,
   "metadata": {
    "slideshow": {
     "slide_type": "slide"
    }
   },
   "outputs": [
    {
     "data": {
      "text/html": [
       "<div>\n",
       "<style scoped>\n",
       "    .dataframe tbody tr th:only-of-type {\n",
       "        vertical-align: middle;\n",
       "    }\n",
       "\n",
       "    .dataframe tbody tr th {\n",
       "        vertical-align: top;\n",
       "    }\n",
       "\n",
       "    .dataframe thead th {\n",
       "        text-align: right;\n",
       "    }\n",
       "</style>\n",
       "<table border=\"1\" class=\"dataframe\">\n",
       "  <thead>\n",
       "    <tr style=\"text-align: right;\">\n",
       "      <th></th>\n",
       "      <th>description</th>\n",
       "      <th>afinn_score</th>\n",
       "    </tr>\n",
       "  </thead>\n",
       "  <tbody>\n",
       "    <tr>\n",
       "      <th>5931</th>\n",
       "      <td>This new wine from an estate vineyard is the strong, quiet type that's not effusively fruity but...</td>\n",
       "      <td>20.0</td>\n",
       "    </tr>\n",
       "    <tr>\n",
       "      <th>9280</th>\n",
       "      <td>While this bottling is always interesting, it is dependent on vintage conditions. This bottling,...</td>\n",
       "      <td>20.0</td>\n",
       "    </tr>\n",
       "    <tr>\n",
       "      <th>283</th>\n",
       "      <td>This very fine Cabernet wants a little time in the cellar. Right now, it's tight in tannins, wit...</td>\n",
       "      <td>20.0</td>\n",
       "    </tr>\n",
       "    <tr>\n",
       "      <th>1812</th>\n",
       "      <td>Just delicious, an important, elegant Merlot to drink with the finest steaks and chops. Even bet...</td>\n",
       "      <td>20.0</td>\n",
       "    </tr>\n",
       "    <tr>\n",
       "      <th>54</th>\n",
       "      <td>This Cabernet is a blend of estate and purchased fruit. In a successful year, it rivals Stag's L...</td>\n",
       "      <td>21.0</td>\n",
       "    </tr>\n",
       "    <tr>\n",
       "      <th>9571</th>\n",
       "      <td>Deutz's top cuvée is as good as ever. Bottle aging has helped it to throw off its youthful awakw...</td>\n",
       "      <td>22.0</td>\n",
       "    </tr>\n",
       "    <tr>\n",
       "      <th>5619</th>\n",
       "      <td>Wonderfully lively notes of fresh aromatic orange and citrus zest mingle together. The palate is...</td>\n",
       "      <td>22.0</td>\n",
       "    </tr>\n",
       "    <tr>\n",
       "      <th>2556</th>\n",
       "      <td>This supremely elegant and age-worthy Sassicaia opens with an intense bouquet of black cherry, M...</td>\n",
       "      <td>23.0</td>\n",
       "    </tr>\n",
       "    <tr>\n",
       "      <th>1020</th>\n",
       "      <td>Viader has a long history of producing great Bordeaux-style blends grown at a high elevation on ...</td>\n",
       "      <td>23.0</td>\n",
       "    </tr>\n",
       "    <tr>\n",
       "      <th>9631</th>\n",
       "      <td>Slight notes of iron oxide inform the dense and richly textured red cherry fruit of this sumptuo...</td>\n",
       "      <td>29.0</td>\n",
       "    </tr>\n",
       "  </tbody>\n",
       "</table>\n",
       "</div>"
      ],
      "text/plain": [
       "                                                                                              description  \\\n",
       "5931  This new wine from an estate vineyard is the strong, quiet type that's not effusively fruity but...   \n",
       "9280  While this bottling is always interesting, it is dependent on vintage conditions. This bottling,...   \n",
       "283   This very fine Cabernet wants a little time in the cellar. Right now, it's tight in tannins, wit...   \n",
       "1812  Just delicious, an important, elegant Merlot to drink with the finest steaks and chops. Even bet...   \n",
       "54    This Cabernet is a blend of estate and purchased fruit. In a successful year, it rivals Stag's L...   \n",
       "9571  Deutz's top cuvée is as good as ever. Bottle aging has helped it to throw off its youthful awakw...   \n",
       "5619  Wonderfully lively notes of fresh aromatic orange and citrus zest mingle together. The palate is...   \n",
       "2556  This supremely elegant and age-worthy Sassicaia opens with an intense bouquet of black cherry, M...   \n",
       "1020  Viader has a long history of producing great Bordeaux-style blends grown at a high elevation on ...   \n",
       "9631  Slight notes of iron oxide inform the dense and richly textured red cherry fruit of this sumptuo...   \n",
       "\n",
       "      afinn_score  \n",
       "5931         20.0  \n",
       "9280         20.0  \n",
       "283          20.0  \n",
       "1812         20.0  \n",
       "54           21.0  \n",
       "9571         22.0  \n",
       "5619         22.0  \n",
       "2556         23.0  \n",
       "1020         23.0  \n",
       "9631         29.0  "
      ]
     },
     "execution_count": 22,
     "metadata": {},
     "output_type": "execute_result"
    }
   ],
   "source": [
    "wine_df.sort_values(by='afinn_score')[columns_to_display].tail(10)"
   ]
  },
  {
   "cell_type": "code",
   "execution_count": 23,
   "metadata": {
    "slideshow": {
     "slide_type": "slide"
    }
   },
   "outputs": [
    {
     "name": "stdout",
     "output_type": "stream",
     "text": [
      "Slight notes of iron oxide inform the dense and richly textured red cherry fruit of this sumptuous, velvety red. Direction and sleekness are courtesy of wonderfully ripe but vibrant acidity. This is delicious now with its wonderful red fruit, but will age beautifully. Classy, vibrant and generous.\n"
     ]
    }
   ],
   "source": [
    "best = wine_df.sort_values(by='afinn_score', ascending=False).index[0]\n",
    "\n",
    "print(wine_df.iloc[best]['description'])\n",
    "\n"
   ]
  },
  {
   "cell_type": "markdown",
   "metadata": {
    "slideshow": {
     "slide_type": "skip"
    }
   },
   "source": [
    "One of the drawbacks to using the raw Afinn score is the that longer texts may yield higher values simply because they contain more words. To adjust for that, we can divide the score by the number of words in the text. \n",
    "\n",
    "The most straightforward way to count words in a Python string is to use the `split` method, which splits a string based on white spaces, and then count the length of the resulting list."
   ]
  },
  {
   "cell_type": "code",
   "execution_count": 24,
   "metadata": {
    "slideshow": {
     "slide_type": "slide"
    }
   },
   "outputs": [],
   "source": [
    "from pdtext.tf import word_count"
   ]
  },
  {
   "cell_type": "code",
   "execution_count": 25,
   "metadata": {
    "slideshow": {
     "slide_type": "slide"
    }
   },
   "outputs": [
    {
     "data": {
      "text/plain": [
       "7"
      ]
     },
     "execution_count": 25,
     "metadata": {},
     "output_type": "execute_result"
    }
   ],
   "source": [
    "word_count('This sentence has seven words in it.')"
   ]
  },
  {
   "cell_type": "markdown",
   "metadata": {
    "slideshow": {
     "slide_type": "skip"
    }
   },
   "source": [
    "You can employ that function on our dataframe to create a new column, `word_count` using `appply` to the text column, `commentBody`."
   ]
  },
  {
   "cell_type": "code",
   "execution_count": 26,
   "metadata": {
    "slideshow": {
     "slide_type": "slide"
    }
   },
   "outputs": [],
   "source": [
    "wine_df['word_count'] = wine_df['description'].apply(word_count)"
   ]
  },
  {
   "cell_type": "code",
   "execution_count": 27,
   "metadata": {
    "slideshow": {
     "slide_type": "slide"
    }
   },
   "outputs": [
    {
     "data": {
      "text/plain": [
       "count    10000.000000\n",
       "mean        40.233400\n",
       "std         12.057258\n",
       "min          9.000000\n",
       "25%         32.000000\n",
       "50%         39.000000\n",
       "75%         47.000000\n",
       "max        135.000000\n",
       "Name: word_count, dtype: float64"
      ]
     },
     "execution_count": 27,
     "metadata": {},
     "output_type": "execute_result"
    }
   ],
   "source": [
    "wine_df['word_count'].describe()"
   ]
  },
  {
   "cell_type": "markdown",
   "metadata": {
    "slideshow": {
     "slide_type": "skip"
    }
   },
   "source": [
    "We can divide the original score by the word count to produce `afinn_adjusted`. This isn't exactly a percentage variable, since word scores in Afinn can range from -5 to 5, but it is a useful adjustment to control for variable comment length. To make it clearer that this isn't a percent score, and to make the results more readable, the adjustment is multiplied by 100."
   ]
  },
  {
   "cell_type": "code",
   "execution_count": 28,
   "metadata": {
    "slideshow": {
     "slide_type": "slide"
    }
   },
   "outputs": [],
   "source": [
    "wine_df['afinn_adjusted'] = wine_df['afinn_score'] / wine_df['word_count'] * 100"
   ]
  },
  {
   "cell_type": "code",
   "execution_count": 29,
   "metadata": {
    "slideshow": {
     "slide_type": "slide"
    }
   },
   "outputs": [
    {
     "data": {
      "text/plain": [
       "count    10000.000000\n",
       "mean         8.500791\n",
       "std          8.579668\n",
       "min        -26.666667\n",
       "25%          2.439024\n",
       "50%          7.500000\n",
       "75%         13.461538\n",
       "max         65.217391\n",
       "Name: afinn_adjusted, dtype: float64"
      ]
     },
     "execution_count": 29,
     "metadata": {},
     "output_type": "execute_result"
    }
   ],
   "source": [
    "wine_df['afinn_adjusted'].describe()"
   ]
  },
  {
   "cell_type": "markdown",
   "metadata": {
    "slideshow": {
     "slide_type": "slide"
    }
   },
   "source": [
    "You can use `groupby` to see how the sentiment score varies by key characteristics."
   ]
  },
  {
   "cell_type": "code",
   "execution_count": 30,
   "metadata": {
    "slideshow": {
     "slide_type": "slide"
    }
   },
   "outputs": [
    {
     "data": {
      "text/html": [
       "<div>\n",
       "<style scoped>\n",
       "    .dataframe tbody tr th:only-of-type {\n",
       "        vertical-align: middle;\n",
       "    }\n",
       "\n",
       "    .dataframe tbody tr th {\n",
       "        vertical-align: top;\n",
       "    }\n",
       "\n",
       "    .dataframe thead tr th {\n",
       "        text-align: left;\n",
       "    }\n",
       "\n",
       "    .dataframe thead tr:last-of-type th {\n",
       "        text-align: right;\n",
       "    }\n",
       "</style>\n",
       "<table border=\"1\" class=\"dataframe\">\n",
       "  <thead>\n",
       "    <tr>\n",
       "      <th></th>\n",
       "      <th colspan=\"8\" halign=\"left\">afinn_adjusted</th>\n",
       "      <th colspan=\"8\" halign=\"left\">afinn_score</th>\n",
       "    </tr>\n",
       "    <tr>\n",
       "      <th></th>\n",
       "      <th>count</th>\n",
       "      <th>mean</th>\n",
       "      <th>std</th>\n",
       "      <th>min</th>\n",
       "      <th>25%</th>\n",
       "      <th>50%</th>\n",
       "      <th>75%</th>\n",
       "      <th>max</th>\n",
       "      <th>count</th>\n",
       "      <th>mean</th>\n",
       "      <th>std</th>\n",
       "      <th>min</th>\n",
       "      <th>25%</th>\n",
       "      <th>50%</th>\n",
       "      <th>75%</th>\n",
       "      <th>max</th>\n",
       "    </tr>\n",
       "    <tr>\n",
       "      <th>rating</th>\n",
       "      <th></th>\n",
       "      <th></th>\n",
       "      <th></th>\n",
       "      <th></th>\n",
       "      <th></th>\n",
       "      <th></th>\n",
       "      <th></th>\n",
       "      <th></th>\n",
       "      <th></th>\n",
       "      <th></th>\n",
       "      <th></th>\n",
       "      <th></th>\n",
       "      <th></th>\n",
       "      <th></th>\n",
       "      <th></th>\n",
       "      <th></th>\n",
       "    </tr>\n",
       "  </thead>\n",
       "  <tbody>\n",
       "    <tr>\n",
       "      <th>High</th>\n",
       "      <td>3941.0</td>\n",
       "      <td>10.497266</td>\n",
       "      <td>7.994311</td>\n",
       "      <td>-11.111111</td>\n",
       "      <td>4.878049</td>\n",
       "      <td>9.433962</td>\n",
       "      <td>15.217391</td>\n",
       "      <td>61.702128</td>\n",
       "      <td>3941.0</td>\n",
       "      <td>5.003299</td>\n",
       "      <td>3.859491</td>\n",
       "      <td>-5.0</td>\n",
       "      <td>2.0</td>\n",
       "      <td>5.0</td>\n",
       "      <td>7.0</td>\n",
       "      <td>29.0</td>\n",
       "    </tr>\n",
       "    <tr>\n",
       "      <th>Low</th>\n",
       "      <td>6059.0</td>\n",
       "      <td>7.202208</td>\n",
       "      <td>8.697876</td>\n",
       "      <td>-26.666667</td>\n",
       "      <td>0.000000</td>\n",
       "      <td>6.250000</td>\n",
       "      <td>12.000000</td>\n",
       "      <td>65.217391</td>\n",
       "      <td>6059.0</td>\n",
       "      <td>2.466909</td>\n",
       "      <td>2.910634</td>\n",
       "      <td>-8.0</td>\n",
       "      <td>0.0</td>\n",
       "      <td>2.0</td>\n",
       "      <td>4.0</td>\n",
       "      <td>15.0</td>\n",
       "    </tr>\n",
       "  </tbody>\n",
       "</table>\n",
       "</div>"
      ],
      "text/plain": [
       "       afinn_adjusted                                                      \\\n",
       "                count       mean       std        min       25%       50%   \n",
       "rating                                                                      \n",
       "High           3941.0  10.497266  7.994311 -11.111111  4.878049  9.433962   \n",
       "Low            6059.0   7.202208  8.697876 -26.666667  0.000000  6.250000   \n",
       "\n",
       "                             afinn_score                                     \\\n",
       "              75%        max       count      mean       std  min  25%  50%   \n",
       "rating                                                                        \n",
       "High    15.217391  61.702128      3941.0  5.003299  3.859491 -5.0  2.0  5.0   \n",
       "Low     12.000000  65.217391      6059.0  2.466909  2.910634 -8.0  0.0  2.0   \n",
       "\n",
       "                   \n",
       "        75%   max  \n",
       "rating             \n",
       "High    7.0  29.0  \n",
       "Low     4.0  15.0  "
      ]
     },
     "execution_count": 30,
     "metadata": {},
     "output_type": "execute_result"
    }
   ],
   "source": [
    "wine_df.groupby('rating')[['afinn_adjusted','afinn_score']].describe()"
   ]
  },
  {
   "cell_type": "markdown",
   "metadata": {
    "slideshow": {
     "slide_type": "skip"
    }
   },
   "source": [
    "The above syntax maybe a little complex to decipher.\n",
    "* `wine_df` is the dataframe we want to use;\n",
    "* `.groupby('editorsSelection')` creates a pandas `groupby` object split by the values of `rating`;\n",
    "* `['afinn_adjusted','afinn_score']` are the specific column wes want to focus on;\n",
    "* `.describe()` produces descriptive statistics for each of the groups.\n",
    "\n",
    "Pandas can also be used to create the absolute value of a variable using the `abs` method. This is useful for exploring to what extent, in this case, editors embrace or avoid comments that are extreme, either positive or negative."
   ]
  },
  {
   "cell_type": "markdown",
   "metadata": {
    "slideshow": {
     "slide_type": "slide"
    }
   },
   "source": [
    "<div class=\"alert alert-info\">\n",
    "<h3>Your turn</h3>\n",
    "<p>Group project. Make a histogram of the sentiment of UN general election speeches.</div>\n",
    "\n"
   ]
  },
  {
   "cell_type": "code",
   "execution_count": 33,
   "metadata": {},
   "outputs": [
    {
     "data": {
      "text/plain": [
       "<matplotlib.axes._subplots.AxesSubplot at 0x1259ec2b0>"
      ]
     },
     "execution_count": 33,
     "metadata": {},
     "output_type": "execute_result"
    },
    {
     "data": {
      "image/png": "[encoded data removed]",
      "text/plain": [
       "<Figure size 432x288 with 1 Axes>"
      ]
     },
     "metadata": {
      "needs_background": "light"
     },
     "output_type": "display_data"
    }
   ],
   "source": [
    "# load the data\n",
    "un_df = pd.read_json('files/un-general-debates.json')\n",
    "# Apply afinn.score to text column\n",
    "un_df['afinn'] = un_df['speech_text'].apply(afinn.score)\n",
    "# Histogram feature\n",
    "un_df['afinn'].hist(bins=20)"
   ]
  },
  {
   "cell_type": "code",
   "execution_count": 40,
   "metadata": {},
   "outputs": [
    {
     "data": {
      "text/html": [
       "<div>\n",
       "<style scoped>\n",
       "    .dataframe tbody tr th:only-of-type {\n",
       "        vertical-align: middle;\n",
       "    }\n",
       "\n",
       "    .dataframe tbody tr th {\n",
       "        vertical-align: top;\n",
       "    }\n",
       "\n",
       "    .dataframe thead th {\n",
       "        text-align: right;\n",
       "    }\n",
       "</style>\n",
       "<table border=\"1\" class=\"dataframe\">\n",
       "  <thead>\n",
       "    <tr style=\"text-align: right;\">\n",
       "      <th></th>\n",
       "      <th>country_code</th>\n",
       "      <th>speech_text</th>\n",
       "      <th>speech_year</th>\n",
       "      <th>afinn</th>\n",
       "    </tr>\n",
       "  </thead>\n",
       "  <tbody>\n",
       "    <tr>\n",
       "      <th>5924</th>\n",
       "      <td>IRN</td>\n",
       "      <td>The Islamic revolution of Iran, an anti-imperialist, anti-colonial and anti-despotic revolution ...</td>\n",
       "      <td>1981</td>\n",
       "      <td>-252.0</td>\n",
       "    </tr>\n",
       "    <tr>\n",
       "      <th>4085</th>\n",
       "      <td>IRN</td>\n",
       "      <td>I quote from the Holy Koran: 'We verily sent our messengers with \\nclear proofs and revealed wit...</td>\n",
       "      <td>1982</td>\n",
       "      <td>-245.0</td>\n",
       "    </tr>\n",
       "    <tr>\n",
       "      <th>2800</th>\n",
       "      <td>LBY</td>\n",
       "      <td>In the \\nname of the African Union, I would like to greet the \\nmembers of the General Assembly ...</td>\n",
       "      <td>2009</td>\n",
       "      <td>-211.0</td>\n",
       "    </tr>\n",
       "    <tr>\n",
       "      <th>4041</th>\n",
       "      <td>SYR</td>\n",
       "      <td>It gives me pleasure to con¬gratulate Mr. Hollai \\non his unanimous election as President of the...</td>\n",
       "      <td>1982</td>\n",
       "      <td>-171.0</td>\n",
       "    </tr>\n",
       "    <tr>\n",
       "      <th>7476</th>\n",
       "      <td>USA</td>\n",
       "      <td>﻿We meet in a Hall devoted to\\npeace; in a city scarred by violence; in a nation\\nawakened to da...</td>\n",
       "      <td>2001</td>\n",
       "      <td>-161.0</td>\n",
       "    </tr>\n",
       "  </tbody>\n",
       "</table>\n",
       "</div>"
      ],
      "text/plain": [
       "     country_code  \\\n",
       "5924          IRN   \n",
       "4085          IRN   \n",
       "2800          LBY   \n",
       "4041          SYR   \n",
       "7476          USA   \n",
       "\n",
       "                                                                                              speech_text  \\\n",
       "5924  The Islamic revolution of Iran, an anti-imperialist, anti-colonial and anti-despotic revolution ...   \n",
       "4085  I quote from the Holy Koran: 'We verily sent our messengers with \\nclear proofs and revealed wit...   \n",
       "2800  In the \\nname of the African Union, I would like to greet the \\nmembers of the General Assembly ...   \n",
       "4041  It gives me pleasure to con¬gratulate Mr. Hollai \\non his unanimous election as President of the...   \n",
       "7476  ﻿We meet in a Hall devoted to\\npeace; in a city scarred by violence; in a nation\\nawakened to da...   \n",
       "\n",
       "      speech_year  afinn  \n",
       "5924         1981 -252.0  \n",
       "4085         1982 -245.0  \n",
       "2800         2009 -211.0  \n",
       "4041         1982 -171.0  \n",
       "7476         2001 -161.0  "
      ]
     },
     "execution_count": 40,
     "metadata": {},
     "output_type": "execute_result"
    }
   ],
   "source": [
    "un_df.sort_values(by='afinn')[:5]"
   ]
  },
  {
   "cell_type": "code",
   "execution_count": 41,
   "metadata": {},
   "outputs": [
    {
     "data": {
      "text/html": [
       "<div>\n",
       "<style scoped>\n",
       "    .dataframe tbody tr th:only-of-type {\n",
       "        vertical-align: middle;\n",
       "    }\n",
       "\n",
       "    .dataframe tbody tr th {\n",
       "        vertical-align: top;\n",
       "    }\n",
       "\n",
       "    .dataframe thead th {\n",
       "        text-align: right;\n",
       "    }\n",
       "</style>\n",
       "<table border=\"1\" class=\"dataframe\">\n",
       "  <thead>\n",
       "    <tr style=\"text-align: right;\">\n",
       "      <th></th>\n",
       "      <th>country_code</th>\n",
       "      <th>speech_text</th>\n",
       "      <th>speech_year</th>\n",
       "      <th>afinn</th>\n",
       "    </tr>\n",
       "  </thead>\n",
       "  <tbody>\n",
       "    <tr>\n",
       "      <th>1959</th>\n",
       "      <td>CRI</td>\n",
       "      <td>﻿\\n\\n\\n\\n\\n\\n\\n\\n\\n\\n\\n\\n\\n\\n\\n\\n75.\\tAs I address this Assembly of the Organization in which ma...</td>\n",
       "      <td>1978</td>\n",
       "      <td>486.0</td>\n",
       "    </tr>\n",
       "    <tr>\n",
       "      <th>1935</th>\n",
       "      <td>GRD</td>\n",
       "      <td>﻿173.\\tSir Eric M. GAIRY (Grenada):\\n'Make a joyful noise unto the Lord, all ye lands,\\n'Serve t...</td>\n",
       "      <td>1978</td>\n",
       "      <td>494.0</td>\n",
       "    </tr>\n",
       "    <tr>\n",
       "      <th>1263</th>\n",
       "      <td>UGA</td>\n",
       "      <td>71.\\tAs a true African I do not want to speak to you in a foreign language. Thanks to the good o...</td>\n",
       "      <td>1975</td>\n",
       "      <td>531.0</td>\n",
       "    </tr>\n",
       "    <tr>\n",
       "      <th>6587</th>\n",
       "      <td>JPN</td>\n",
       "      <td>﻿46.\\t On behalf of the Japanese delegation I wish to extend my heartfelt congratulations to Amb...</td>\n",
       "      <td>1973</td>\n",
       "      <td>570.0</td>\n",
       "    </tr>\n",
       "    <tr>\n",
       "      <th>2152</th>\n",
       "      <td>GRC</td>\n",
       "      <td>﻿On behalf of the European Community and its member States I should like first to express my mos...</td>\n",
       "      <td>1988</td>\n",
       "      <td>587.0</td>\n",
       "    </tr>\n",
       "  </tbody>\n",
       "</table>\n",
       "</div>"
      ],
      "text/plain": [
       "     country_code  \\\n",
       "1959          CRI   \n",
       "1935          GRD   \n",
       "1263          UGA   \n",
       "6587          JPN   \n",
       "2152          GRC   \n",
       "\n",
       "                                                                                              speech_text  \\\n",
       "1959  ﻿\\n\\n\\n\\n\\n\\n\\n\\n\\n\\n\\n\\n\\n\\n\\n\\n75.\\tAs I address this Assembly of the Organization in which ma...   \n",
       "1935  ﻿173.\\tSir Eric M. GAIRY (Grenada):\\n'Make a joyful noise unto the Lord, all ye lands,\\n'Serve t...   \n",
       "1263  71.\\tAs a true African I do not want to speak to you in a foreign language. Thanks to the good o...   \n",
       "6587  ﻿46.\\t On behalf of the Japanese delegation I wish to extend my heartfelt congratulations to Amb...   \n",
       "2152  ﻿On behalf of the European Community and its member States I should like first to express my mos...   \n",
       "\n",
       "      speech_year  afinn  \n",
       "1959         1978  486.0  \n",
       "1935         1978  494.0  \n",
       "1263         1975  531.0  \n",
       "6587         1973  570.0  \n",
       "2152         1988  587.0  "
      ]
     },
     "execution_count": 41,
     "metadata": {},
     "output_type": "execute_result"
    }
   ],
   "source": [
    "un_df.sort_values(by='afinn')[-5:]"
   ]
  },
  {
   "cell_type": "markdown",
   "metadata": {
    "slideshow": {
     "slide_type": "slide"
    }
   },
   "source": [
    "#### Vader\n",
    "\n",
    "A second method for sentiment analysis is [vader](https://github.com/cjhutto/vaderSentiment)(Valence Aware Dictionary and sEntiment Reasoner). According to the authors, it is, \"a lexicon and rule-based sentiment analysis tool that is specifically attuned to sentiments expressed in social media.\" \n",
    "\n",
    "As with Afinn, Vader measures both the strength and direction of sentiment. Based on the work of 10 coders, the Vader dictionary includes approximately 7,500 words, emoticons, emojis, acronyms, and commonly used slang. \n",
    "\n",
    "Unlike Afinn, Vader scores an entire text, not just words. Looking at the whole text allows for the algorithm to adjust for negations, such as \"not\", booster words, such as \"remarkably\". It also scores words written in all caps as more intense. Vader returns the proportion of a text that is negative, positive, and neutral, along with a combined score. \n",
    "\n",
    "There is a version included with nltk (`from nltk.sentiment.vader import SentimentIntensityAnalyzer`) but a more recent version can be separately installed:\n",
    "\n",
    "\n",
    "```\n",
    "%pip install vaderSentiment\n",
    "```\n"
   ]
  },
  {
   "cell_type": "code",
   "execution_count": 37,
   "metadata": {
    "slideshow": {
     "slide_type": "slide"
    }
   },
   "outputs": [],
   "source": [
    "from vaderSentiment.vaderSentiment import SentimentIntensityAnalyzer"
   ]
  },
  {
   "cell_type": "markdown",
   "metadata": {
    "slideshow": {
     "slide_type": "skip"
    }
   },
   "source": [
    "Vader requires that you set up an analyzer."
   ]
  },
  {
   "cell_type": "code",
   "execution_count": 38,
   "metadata": {
    "slideshow": {
     "slide_type": "slide"
    }
   },
   "outputs": [],
   "source": [
    "analyzer = SentimentIntensityAnalyzer()"
   ]
  },
  {
   "cell_type": "markdown",
   "metadata": {
    "slideshow": {
     "slide_type": "slide"
    }
   },
   "source": [
    "The `polarity_scores` method returns a dictionary with four items. \n",
    "* `pos`, `neu`, and `neg`  are the proportions of text that fall in each category.\n",
    "* `compound` is the normalized, weighted composite score. "
   ]
  },
  {
   "cell_type": "code",
   "execution_count": 42,
   "metadata": {
    "slideshow": {
     "slide_type": "slide"
    }
   },
   "outputs": [
    {
     "data": {
      "text/plain": [
       "{'neg': 0.875, 'neu': 0.125, 'pos': 0.0, 'compound': -0.7906}"
      ]
     },
     "execution_count": 42,
     "metadata": {},
     "output_type": "execute_result"
    }
   ],
   "source": [
    "analyzer.polarity_scores('Horrible bad day.')"
   ]
  },
  {
   "cell_type": "markdown",
   "metadata": {
    "slideshow": {
     "slide_type": "skip"
    }
   },
   "source": [
    "One useful feature of Vader is that it is able to look at works in context and score appropriately. "
   ]
  },
  {
   "cell_type": "code",
   "execution_count": 43,
   "metadata": {
    "slideshow": {
     "slide_type": "slide"
    }
   },
   "outputs": [
    {
     "data": {
      "text/plain": [
       "{'neg': 0.0, 'neu': 0.637, 'pos': 0.363, 'compound': 0.431}"
      ]
     },
     "execution_count": 43,
     "metadata": {},
     "output_type": "execute_result"
    }
   ],
   "source": [
    "analyzer.polarity_scores(\"At least it isn't a horrible book.\")"
   ]
  },
  {
   "cell_type": "markdown",
   "metadata": {},
   "source": [
    "It also scores contemporary lingo and emojis."
   ]
  },
  {
   "cell_type": "code",
   "execution_count": 44,
   "metadata": {
    "slideshow": {
     "slide_type": "slide"
    }
   },
   "outputs": [
    {
     "data": {
      "text/plain": [
       "{'neg': 0.779, 'neu': 0.221, 'pos': 0.0, 'compound': -0.5461}"
      ]
     },
     "execution_count": 44,
     "metadata": {},
     "output_type": "execute_result"
    }
   ],
   "source": [
    "analyzer.polarity_scores('Today SUX!')"
   ]
  },
  {
   "cell_type": "code",
   "execution_count": 45,
   "metadata": {
    "slideshow": {
     "slide_type": "slide"
    }
   },
   "outputs": [
    {
     "data": {
      "text/plain": [
       "{'neg': 0.0, 'neu': 0.263, 'pos': 0.737, 'compound': 0.4215}"
      ]
     },
     "execution_count": 45,
     "metadata": {},
     "output_type": "execute_result"
    }
   ],
   "source": [
    "analyzer.polarity_scores('💋')"
   ]
  },
  {
   "cell_type": "markdown",
   "metadata": {},
   "source": [
    "<div class=\"alert alert-info\">\n",
    "<h3>Your turn</h3>\n",
    "<p>Rerun your positive and negative sentences from before. How do they score now?</div>\n",
    "\n",
    "\n",
    "\n"
   ]
  },
  {
   "cell_type": "code",
   "execution_count": 46,
   "metadata": {},
   "outputs": [
    {
     "data": {
      "text/plain": [
       "{'neg': 0.0, 'neu': 0.138, 'pos': 0.862, 'compound': 0.91}"
      ]
     },
     "execution_count": 46,
     "metadata": {},
     "output_type": "execute_result"
    }
   ],
   "source": [
    "analyzer.polarity_scores(\"We want yummy, delicious, awesome dessert.\")"
   ]
  },
  {
   "cell_type": "markdown",
   "metadata": {},
   "source": [
    "Since Vader returns a dictionary (unlike Afinn which returns a single value), it is slightly more complicated to use it on an entire pandas dataframe.\n",
    "\n",
    "First, apply the analyzer on the text column. "
   ]
  },
  {
   "cell_type": "code",
   "execution_count": 47,
   "metadata": {
    "slideshow": {
     "slide_type": "slide"
    }
   },
   "outputs": [],
   "source": [
    "sentiment = wine_df['description'].apply(analyzer.polarity_scores)"
   ]
  },
  {
   "cell_type": "markdown",
   "metadata": {},
   "source": [
    "Our new object `sentiment` is a series, where each item is a dictionary. This series can be unpacked into a dataframe."
   ]
  },
  {
   "cell_type": "code",
   "execution_count": 48,
   "metadata": {
    "slideshow": {
     "slide_type": "slide"
    }
   },
   "outputs": [
    {
     "data": {
      "text/plain": [
       "0         {'neg': 0.024, 'neu': 0.667, 'pos': 0.31, 'compound': 0.9783}\n",
       "1          {'neg': 0.0, 'neu': 0.769, 'pos': 0.231, 'compound': 0.7964}\n",
       "2          {'neg': 0.0, 'neu': 0.745, 'pos': 0.255, 'compound': 0.9287}\n",
       "3        {'neg': 0.068, 'neu': 0.871, 'pos': 0.06, 'compound': -0.1027}\n",
       "4          {'neg': 0.0, 'neu': 0.894, 'pos': 0.106, 'compound': 0.6808}\n",
       "5        {'neg': 0.057, 'neu': 0.846, 'pos': 0.097, 'compound': 0.3182}\n",
       "6                 {'neg': 0.0, 'neu': 1.0, 'pos': 0.0, 'compound': 0.0}\n",
       "7            {'neg': 0.0, 'neu': 0.81, 'pos': 0.19, 'compound': 0.7783}\n",
       "8          {'neg': 0.0, 'neu': 0.898, 'pos': 0.102, 'compound': 0.6369}\n",
       "9          {'neg': 0.0, 'neu': 0.604, 'pos': 0.396, 'compound': 0.9201}\n",
       "10         {'neg': 0.0, 'neu': 0.951, 'pos': 0.049, 'compound': 0.1655}\n",
       "11         {'neg': 0.0, 'neu': 0.847, 'pos': 0.153, 'compound': 0.6908}\n",
       "12         {'neg': 0.0, 'neu': 0.829, 'pos': 0.171, 'compound': 0.6808}\n",
       "13         {'neg': 0.048, 'neu': 0.952, 'pos': 0.0, 'compound': -0.191}\n",
       "14                {'neg': 0.0, 'neu': 1.0, 'pos': 0.0, 'compound': 0.0}\n",
       "15         {'neg': 0.059, 'neu': 0.73, 'pos': 0.211, 'compound': 0.765}\n",
       "16         {'neg': 0.0, 'neu': 0.821, 'pos': 0.179, 'compound': 0.7269}\n",
       "17                {'neg': 0.0, 'neu': 1.0, 'pos': 0.0, 'compound': 0.0}\n",
       "18                {'neg': 0.0, 'neu': 1.0, 'pos': 0.0, 'compound': 0.0}\n",
       "19         {'neg': 0.0, 'neu': 0.929, 'pos': 0.071, 'compound': 0.4404}\n",
       "20         {'neg': 0.0, 'neu': 0.805, 'pos': 0.195, 'compound': 0.7783}\n",
       "21         {'neg': 0.0, 'neu': 0.709, 'pos': 0.291, 'compound': 0.9325}\n",
       "22      {'neg': 0.053, 'neu': 0.895, 'pos': 0.051, 'compound': -0.0258}\n",
       "23         {'neg': 0.0, 'neu': 0.598, 'pos': 0.402, 'compound': 0.9022}\n",
       "24         {'neg': 0.0, 'neu': 0.812, 'pos': 0.188, 'compound': 0.9022}\n",
       "25                {'neg': 0.0, 'neu': 1.0, 'pos': 0.0, 'compound': 0.0}\n",
       "26       {'neg': 0.084, 'neu': 0.608, 'pos': 0.308, 'compound': 0.8947}\n",
       "27         {'neg': 0.0, 'neu': 0.949, 'pos': 0.051, 'compound': 0.1531}\n",
       "28       {'neg': 0.033, 'neu': 0.848, 'pos': 0.119, 'compound': 0.6077}\n",
       "29         {'neg': 0.0, 'neu': 0.816, 'pos': 0.184, 'compound': 0.6369}\n",
       "                                     ...                               \n",
       "9970     {'neg': 0.092, 'neu': 0.735, 'pos': 0.174, 'compound': 0.6652}\n",
       "9971              {'neg': 0.0, 'neu': 1.0, 'pos': 0.0, 'compound': 0.0}\n",
       "9972       {'neg': 0.0, 'neu': 0.741, 'pos': 0.259, 'compound': 0.6808}\n",
       "9973        {'neg': 0.0, 'neu': 0.734, 'pos': 0.266, 'compound': 0.942}\n",
       "9974     {'neg': 0.036, 'neu': 0.808, 'pos': 0.156, 'compound': 0.8646}\n",
       "9975     {'neg': 0.031, 'neu': 0.863, 'pos': 0.106, 'compound': 0.4854}\n",
       "9976       {'neg': 0.0, 'neu': 0.839, 'pos': 0.161, 'compound': 0.8176}\n",
       "9977              {'neg': 0.0, 'neu': 1.0, 'pos': 0.0, 'compound': 0.0}\n",
       "9978       {'neg': 0.0, 'neu': 0.883, 'pos': 0.117, 'compound': 0.6486}\n",
       "9979      {'neg': 0.045, 'neu': 0.955, 'pos': 0.0, 'compound': -0.2144}\n",
       "9980          {'neg': 0.0, 'neu': 0.81, 'pos': 0.19, 'compound': 0.855}\n",
       "9981              {'neg': 0.0, 'neu': 1.0, 'pos': 0.0, 'compound': 0.0}\n",
       "9982       {'neg': 0.0, 'neu': 0.884, 'pos': 0.116, 'compound': 0.5555}\n",
       "9983      {'neg': 0.06, 'neu': 0.798, 'pos': 0.142, 'compound': 0.5719}\n",
       "9984       {'neg': 0.0, 'neu': 0.812, 'pos': 0.188, 'compound': 0.7506}\n",
       "9985      {'neg': 0.037, 'neu': 0.963, 'pos': 0.0, 'compound': -0.0516}\n",
       "9986     {'neg': 0.024, 'neu': 0.747, 'pos': 0.229, 'compound': 0.9137}\n",
       "9987      {'neg': 0.067, 'neu': 0.933, 'pos': 0.0, 'compound': -0.4215}\n",
       "9988       {'neg': 0.0, 'neu': 0.865, 'pos': 0.135, 'compound': 0.3102}\n",
       "9989      {'neg': 0.097, 'neu': 0.72, 'pos': 0.183, 'compound': 0.3919}\n",
       "9990       {'neg': 0.0, 'neu': 0.749, 'pos': 0.251, 'compound': 0.9011}\n",
       "9991        {'neg': 0.0, 'neu': 0.842, 'pos': 0.158, 'compound': 0.878}\n",
       "9992       {'neg': 0.0, 'neu': 0.824, 'pos': 0.176, 'compound': 0.8885}\n",
       "9993     {'neg': 0.032, 'neu': 0.808, 'pos': 0.161, 'compound': 0.7717}\n",
       "9994              {'neg': 0.0, 'neu': 1.0, 'pos': 0.0, 'compound': 0.0}\n",
       "9995       {'neg': 0.0, 'neu': 0.809, 'pos': 0.191, 'compound': 0.8402}\n",
       "9996     {'neg': 0.197, 'neu': 0.602, 'pos': 0.201, 'compound': 0.0258}\n",
       "9997       {'neg': 0.0, 'neu': 0.937, 'pos': 0.063, 'compound': 0.2732}\n",
       "9998        {'neg': 0.0, 'neu': 0.885, 'pos': 0.115, 'compound': 0.765}\n",
       "9999      {'neg': 0.062, 'neu': 0.695, 'pos': 0.243, 'compound': 0.743}\n",
       "Name: description, Length: 10000, dtype: object"
      ]
     },
     "execution_count": 48,
     "metadata": {},
     "output_type": "execute_result"
    }
   ],
   "source": [
    "sentiment"
   ]
  },
  {
   "cell_type": "code",
   "execution_count": 49,
   "metadata": {
    "slideshow": {
     "slide_type": "slide"
    }
   },
   "outputs": [
    {
     "data": {
      "text/html": [
       "<div>\n",
       "<style scoped>\n",
       "    .dataframe tbody tr th:only-of-type {\n",
       "        vertical-align: middle;\n",
       "    }\n",
       "\n",
       "    .dataframe tbody tr th {\n",
       "        vertical-align: top;\n",
       "    }\n",
       "\n",
       "    .dataframe thead th {\n",
       "        text-align: right;\n",
       "    }\n",
       "</style>\n",
       "<table border=\"1\" class=\"dataframe\">\n",
       "  <thead>\n",
       "    <tr style=\"text-align: right;\">\n",
       "      <th></th>\n",
       "      <th>compound</th>\n",
       "      <th>neg</th>\n",
       "      <th>neu</th>\n",
       "      <th>pos</th>\n",
       "    </tr>\n",
       "  </thead>\n",
       "  <tbody>\n",
       "    <tr>\n",
       "      <th>0</th>\n",
       "      <td>0.9783</td>\n",
       "      <td>0.024</td>\n",
       "      <td>0.667</td>\n",
       "      <td>0.310</td>\n",
       "    </tr>\n",
       "    <tr>\n",
       "      <th>1</th>\n",
       "      <td>0.7964</td>\n",
       "      <td>0.000</td>\n",
       "      <td>0.769</td>\n",
       "      <td>0.231</td>\n",
       "    </tr>\n",
       "    <tr>\n",
       "      <th>2</th>\n",
       "      <td>0.9287</td>\n",
       "      <td>0.000</td>\n",
       "      <td>0.745</td>\n",
       "      <td>0.255</td>\n",
       "    </tr>\n",
       "    <tr>\n",
       "      <th>3</th>\n",
       "      <td>-0.1027</td>\n",
       "      <td>0.068</td>\n",
       "      <td>0.871</td>\n",
       "      <td>0.060</td>\n",
       "    </tr>\n",
       "    <tr>\n",
       "      <th>4</th>\n",
       "      <td>0.6808</td>\n",
       "      <td>0.000</td>\n",
       "      <td>0.894</td>\n",
       "      <td>0.106</td>\n",
       "    </tr>\n",
       "  </tbody>\n",
       "</table>\n",
       "</div>"
      ],
      "text/plain": [
       "   compound    neg    neu    pos\n",
       "0    0.9783  0.024  0.667  0.310\n",
       "1    0.7964  0.000  0.769  0.231\n",
       "2    0.9287  0.000  0.745  0.255\n",
       "3   -0.1027  0.068  0.871  0.060\n",
       "4    0.6808  0.000  0.894  0.106"
      ]
     },
     "execution_count": 49,
     "metadata": {},
     "output_type": "execute_result"
    }
   ],
   "source": [
    "sentiment_df = pd.DataFrame(sentiment.tolist())\n",
    "\n",
    "sentiment_df.head()"
   ]
  },
  {
   "cell_type": "markdown",
   "metadata": {
    "slideshow": {
     "slide_type": "slide"
    }
   },
   "source": [
    "The new sentiment dataframe can be merged with the original dataframe."
   ]
  },
  {
   "cell_type": "code",
   "execution_count": 50,
   "metadata": {
    "slideshow": {
     "slide_type": "fragment"
    }
   },
   "outputs": [],
   "source": [
    "wine_df_sentiment = pd.concat([wine_df,sentiment_df], axis = 1)"
   ]
  },
  {
   "cell_type": "code",
   "execution_count": 51,
   "metadata": {
    "slideshow": {
     "slide_type": "slide"
    }
   },
   "outputs": [
    {
     "data": {
      "text/html": [
       "<div>\n",
       "<style scoped>\n",
       "    .dataframe tbody tr th:only-of-type {\n",
       "        vertical-align: middle;\n",
       "    }\n",
       "\n",
       "    .dataframe tbody tr th {\n",
       "        vertical-align: top;\n",
       "    }\n",
       "\n",
       "    .dataframe thead th {\n",
       "        text-align: right;\n",
       "    }\n",
       "</style>\n",
       "<table border=\"1\" class=\"dataframe\">\n",
       "  <thead>\n",
       "    <tr style=\"text-align: right;\">\n",
       "      <th></th>\n",
       "      <th>index</th>\n",
       "      <th>country</th>\n",
       "      <th>description</th>\n",
       "      <th>designation</th>\n",
       "      <th>points</th>\n",
       "      <th>price</th>\n",
       "      <th>province</th>\n",
       "      <th>region_1</th>\n",
       "      <th>region_2</th>\n",
       "      <th>taster_name</th>\n",
       "      <th>...</th>\n",
       "      <th>variety</th>\n",
       "      <th>winery</th>\n",
       "      <th>rating</th>\n",
       "      <th>afinn_score</th>\n",
       "      <th>word_count</th>\n",
       "      <th>afinn_adjusted</th>\n",
       "      <th>compound</th>\n",
       "      <th>neg</th>\n",
       "      <th>neu</th>\n",
       "      <th>pos</th>\n",
       "    </tr>\n",
       "  </thead>\n",
       "  <tbody>\n",
       "    <tr>\n",
       "      <th>0</th>\n",
       "      <td>77490</td>\n",
       "      <td>US</td>\n",
       "      <td>A splendid Chardonnay, rich, vital and elegant, with so many layers of interest. Framed by a cut...</td>\n",
       "      <td>Susanna's Vineyard</td>\n",
       "      <td>96</td>\n",
       "      <td>50.0</td>\n",
       "      <td>California</td>\n",
       "      <td>Russian River Valley</td>\n",
       "      <td>Sonoma</td>\n",
       "      <td>NaN</td>\n",
       "      <td>...</td>\n",
       "      <td>Chardonnay</td>\n",
       "      <td>Lynmar</td>\n",
       "      <td>High</td>\n",
       "      <td>17.0</td>\n",
       "      <td>72</td>\n",
       "      <td>23.611111</td>\n",
       "      <td>0.9783</td>\n",
       "      <td>0.024</td>\n",
       "      <td>0.667</td>\n",
       "      <td>0.310</td>\n",
       "    </tr>\n",
       "    <tr>\n",
       "      <th>1</th>\n",
       "      <td>39530</td>\n",
       "      <td>Portugal</td>\n",
       "      <td>A rich opening is followed by firm tannins. The wine has ample weight and a solid structure arou...</td>\n",
       "      <td>Vintage</td>\n",
       "      <td>94</td>\n",
       "      <td>NaN</td>\n",
       "      <td>Port</td>\n",
       "      <td>NaN</td>\n",
       "      <td>NaN</td>\n",
       "      <td>Roger Voss</td>\n",
       "      <td>...</td>\n",
       "      <td>Port</td>\n",
       "      <td>Maynard's</td>\n",
       "      <td>High</td>\n",
       "      <td>4.0</td>\n",
       "      <td>32</td>\n",
       "      <td>12.500000</td>\n",
       "      <td>0.7964</td>\n",
       "      <td>0.000</td>\n",
       "      <td>0.769</td>\n",
       "      <td>0.231</td>\n",
       "    </tr>\n",
       "    <tr>\n",
       "      <th>2</th>\n",
       "      <td>3178</td>\n",
       "      <td>Greece</td>\n",
       "      <td>This is a great example of a variety Americans are still learning to embrace. Plum and cherry ar...</td>\n",
       "      <td>Single Vineyard Selection</td>\n",
       "      <td>87</td>\n",
       "      <td>25.0</td>\n",
       "      <td>Nemea</td>\n",
       "      <td>NaN</td>\n",
       "      <td>NaN</td>\n",
       "      <td>Susan Kostrzewa</td>\n",
       "      <td>...</td>\n",
       "      <td>Agiorgitiko</td>\n",
       "      <td>Palivou</td>\n",
       "      <td>Low</td>\n",
       "      <td>10.0</td>\n",
       "      <td>46</td>\n",
       "      <td>21.739130</td>\n",
       "      <td>0.9287</td>\n",
       "      <td>0.000</td>\n",
       "      <td>0.745</td>\n",
       "      <td>0.255</td>\n",
       "    </tr>\n",
       "    <tr>\n",
       "      <th>3</th>\n",
       "      <td>46461</td>\n",
       "      <td>US</td>\n",
       "      <td>A Bordeaux blend with a Right Bank inclination, this offers forward fruit aromas and flavors of ...</td>\n",
       "      <td>domenica</td>\n",
       "      <td>86</td>\n",
       "      <td>20.0</td>\n",
       "      <td>Washington</td>\n",
       "      <td>Columbia Valley (WA)</td>\n",
       "      <td>Columbia Valley</td>\n",
       "      <td>Paul Gregutt</td>\n",
       "      <td>...</td>\n",
       "      <td>Bordeaux-style Red Blend</td>\n",
       "      <td>DiStefano</td>\n",
       "      <td>Low</td>\n",
       "      <td>-2.0</td>\n",
       "      <td>48</td>\n",
       "      <td>-4.166667</td>\n",
       "      <td>-0.1027</td>\n",
       "      <td>0.068</td>\n",
       "      <td>0.871</td>\n",
       "      <td>0.060</td>\n",
       "    </tr>\n",
       "    <tr>\n",
       "      <th>4</th>\n",
       "      <td>25631</td>\n",
       "      <td>US</td>\n",
       "      <td>You'll find plenty of blackberry, cherry, currant and oak flavors in this 100% Cabernet. Aging i...</td>\n",
       "      <td>Blackjack Pasture Estate Bottled</td>\n",
       "      <td>85</td>\n",
       "      <td>50.0</td>\n",
       "      <td>California</td>\n",
       "      <td>Carmel Valley</td>\n",
       "      <td>Central Coast</td>\n",
       "      <td>NaN</td>\n",
       "      <td>...</td>\n",
       "      <td>Cabernet Sauvignon</td>\n",
       "      <td>Galante</td>\n",
       "      <td>Low</td>\n",
       "      <td>3.0</td>\n",
       "      <td>49</td>\n",
       "      <td>6.122449</td>\n",
       "      <td>0.6808</td>\n",
       "      <td>0.000</td>\n",
       "      <td>0.894</td>\n",
       "      <td>0.106</td>\n",
       "    </tr>\n",
       "  </tbody>\n",
       "</table>\n",
       "<p>5 rows × 22 columns</p>\n",
       "</div>"
      ],
      "text/plain": [
       "   index   country  \\\n",
       "0  77490        US   \n",
       "1  39530  Portugal   \n",
       "2   3178    Greece   \n",
       "3  46461        US   \n",
       "4  25631        US   \n",
       "\n",
       "                                                                                           description  \\\n",
       "0  A splendid Chardonnay, rich, vital and elegant, with so many layers of interest. Framed by a cut...   \n",
       "1  A rich opening is followed by firm tannins. The wine has ample weight and a solid structure arou...   \n",
       "2  This is a great example of a variety Americans are still learning to embrace. Plum and cherry ar...   \n",
       "3  A Bordeaux blend with a Right Bank inclination, this offers forward fruit aromas and flavors of ...   \n",
       "4  You'll find plenty of blackberry, cherry, currant and oak flavors in this 100% Cabernet. Aging i...   \n",
       "\n",
       "                        designation  points  price    province  \\\n",
       "0                Susanna's Vineyard      96   50.0  California   \n",
       "1                           Vintage      94    NaN        Port   \n",
       "2         Single Vineyard Selection      87   25.0       Nemea   \n",
       "3                          domenica      86   20.0  Washington   \n",
       "4  Blackjack Pasture Estate Bottled      85   50.0  California   \n",
       "\n",
       "               region_1         region_2      taster_name  ...  \\\n",
       "0  Russian River Valley           Sonoma              NaN  ...   \n",
       "1                   NaN              NaN       Roger Voss  ...   \n",
       "2                   NaN              NaN  Susan Kostrzewa  ...   \n",
       "3  Columbia Valley (WA)  Columbia Valley     Paul Gregutt  ...   \n",
       "4         Carmel Valley    Central Coast              NaN  ...   \n",
       "\n",
       "                    variety     winery rating afinn_score word_count  \\\n",
       "0                Chardonnay     Lynmar   High        17.0         72   \n",
       "1                      Port  Maynard's   High         4.0         32   \n",
       "2               Agiorgitiko    Palivou    Low        10.0         46   \n",
       "3  Bordeaux-style Red Blend  DiStefano    Low        -2.0         48   \n",
       "4        Cabernet Sauvignon    Galante    Low         3.0         49   \n",
       "\n",
       "   afinn_adjusted  compound    neg    neu    pos  \n",
       "0       23.611111    0.9783  0.024  0.667  0.310  \n",
       "1       12.500000    0.7964  0.000  0.769  0.231  \n",
       "2       21.739130    0.9287  0.000  0.745  0.255  \n",
       "3       -4.166667   -0.1027  0.068  0.871  0.060  \n",
       "4        6.122449    0.6808  0.000  0.894  0.106  \n",
       "\n",
       "[5 rows x 22 columns]"
      ]
     },
     "execution_count": 51,
     "metadata": {},
     "output_type": "execute_result"
    }
   ],
   "source": [
    "wine_df_sentiment.head()"
   ]
  },
  {
   "cell_type": "markdown",
   "metadata": {},
   "source": [
    "If you intend to do this more than once, it can be useful to wrap the entire process into a single function that takes a dataframe and returns the datframe with the polarity columns appended. To clarify where the sentiment information comes from, the prefix `vader_` is added to each of the polarity scores."
   ]
  },
  {
   "cell_type": "code",
   "execution_count": 52,
   "metadata": {
    "slideshow": {
     "slide_type": "slide"
    }
   },
   "outputs": [],
   "source": [
    "def vaderize(df, textfield):\n",
    "    '''Compute the Vader polarity scores for a textfield. \n",
    "    Returns scores and original dataframe.'''\n",
    "\n",
    "    analyzer = SentimentIntensityAnalyzer()\n",
    "\n",
    "    print('Estimating polarity scores for %d cases.' % len(df))\n",
    "    sentiment = df[textfield].apply(analyzer.polarity_scores)\n",
    "\n",
    "    # convert to dataframe\n",
    "    sdf = pd.DataFrame(sentiment.tolist()).add_prefix('vader_')\n",
    "\n",
    "    # merge dataframes\n",
    "    df_combined = pd.concat([df, sdf], axis=1)\n",
    "    return df_combined"
   ]
  },
  {
   "cell_type": "code",
   "execution_count": 53,
   "metadata": {},
   "outputs": [
    {
     "name": "stdout",
     "output_type": "stream",
     "text": [
      "Estimating polarity scores for 10000 cases.\n"
     ]
    }
   ],
   "source": [
    "df_vaderized = vaderize(wine_df, 'description')"
   ]
  },
  {
   "cell_type": "code",
   "execution_count": 54,
   "metadata": {},
   "outputs": [
    {
     "data": {
      "text/html": [
       "<div>\n",
       "<style scoped>\n",
       "    .dataframe tbody tr th:only-of-type {\n",
       "        vertical-align: middle;\n",
       "    }\n",
       "\n",
       "    .dataframe tbody tr th {\n",
       "        vertical-align: top;\n",
       "    }\n",
       "\n",
       "    .dataframe thead th {\n",
       "        text-align: right;\n",
       "    }\n",
       "</style>\n",
       "<table border=\"1\" class=\"dataframe\">\n",
       "  <thead>\n",
       "    <tr style=\"text-align: right;\">\n",
       "      <th></th>\n",
       "      <th>index</th>\n",
       "      <th>country</th>\n",
       "      <th>description</th>\n",
       "      <th>designation</th>\n",
       "      <th>points</th>\n",
       "      <th>price</th>\n",
       "      <th>province</th>\n",
       "      <th>region_1</th>\n",
       "      <th>region_2</th>\n",
       "      <th>taster_name</th>\n",
       "      <th>...</th>\n",
       "      <th>variety</th>\n",
       "      <th>winery</th>\n",
       "      <th>rating</th>\n",
       "      <th>afinn_score</th>\n",
       "      <th>word_count</th>\n",
       "      <th>afinn_adjusted</th>\n",
       "      <th>vader_compound</th>\n",
       "      <th>vader_neg</th>\n",
       "      <th>vader_neu</th>\n",
       "      <th>vader_pos</th>\n",
       "    </tr>\n",
       "  </thead>\n",
       "  <tbody>\n",
       "    <tr>\n",
       "      <th>0</th>\n",
       "      <td>77490</td>\n",
       "      <td>US</td>\n",
       "      <td>A splendid Chardonnay, rich, vital and elegant, with so many layers of interest. Framed by a cut...</td>\n",
       "      <td>Susanna's Vineyard</td>\n",
       "      <td>96</td>\n",
       "      <td>50.0</td>\n",
       "      <td>California</td>\n",
       "      <td>Russian River Valley</td>\n",
       "      <td>Sonoma</td>\n",
       "      <td>NaN</td>\n",
       "      <td>...</td>\n",
       "      <td>Chardonnay</td>\n",
       "      <td>Lynmar</td>\n",
       "      <td>High</td>\n",
       "      <td>17.0</td>\n",
       "      <td>72</td>\n",
       "      <td>23.611111</td>\n",
       "      <td>0.9783</td>\n",
       "      <td>0.024</td>\n",
       "      <td>0.667</td>\n",
       "      <td>0.310</td>\n",
       "    </tr>\n",
       "    <tr>\n",
       "      <th>1</th>\n",
       "      <td>39530</td>\n",
       "      <td>Portugal</td>\n",
       "      <td>A rich opening is followed by firm tannins. The wine has ample weight and a solid structure arou...</td>\n",
       "      <td>Vintage</td>\n",
       "      <td>94</td>\n",
       "      <td>NaN</td>\n",
       "      <td>Port</td>\n",
       "      <td>NaN</td>\n",
       "      <td>NaN</td>\n",
       "      <td>Roger Voss</td>\n",
       "      <td>...</td>\n",
       "      <td>Port</td>\n",
       "      <td>Maynard's</td>\n",
       "      <td>High</td>\n",
       "      <td>4.0</td>\n",
       "      <td>32</td>\n",
       "      <td>12.500000</td>\n",
       "      <td>0.7964</td>\n",
       "      <td>0.000</td>\n",
       "      <td>0.769</td>\n",
       "      <td>0.231</td>\n",
       "    </tr>\n",
       "    <tr>\n",
       "      <th>2</th>\n",
       "      <td>3178</td>\n",
       "      <td>Greece</td>\n",
       "      <td>This is a great example of a variety Americans are still learning to embrace. Plum and cherry ar...</td>\n",
       "      <td>Single Vineyard Selection</td>\n",
       "      <td>87</td>\n",
       "      <td>25.0</td>\n",
       "      <td>Nemea</td>\n",
       "      <td>NaN</td>\n",
       "      <td>NaN</td>\n",
       "      <td>Susan Kostrzewa</td>\n",
       "      <td>...</td>\n",
       "      <td>Agiorgitiko</td>\n",
       "      <td>Palivou</td>\n",
       "      <td>Low</td>\n",
       "      <td>10.0</td>\n",
       "      <td>46</td>\n",
       "      <td>21.739130</td>\n",
       "      <td>0.9287</td>\n",
       "      <td>0.000</td>\n",
       "      <td>0.745</td>\n",
       "      <td>0.255</td>\n",
       "    </tr>\n",
       "    <tr>\n",
       "      <th>3</th>\n",
       "      <td>46461</td>\n",
       "      <td>US</td>\n",
       "      <td>A Bordeaux blend with a Right Bank inclination, this offers forward fruit aromas and flavors of ...</td>\n",
       "      <td>domenica</td>\n",
       "      <td>86</td>\n",
       "      <td>20.0</td>\n",
       "      <td>Washington</td>\n",
       "      <td>Columbia Valley (WA)</td>\n",
       "      <td>Columbia Valley</td>\n",
       "      <td>Paul Gregutt</td>\n",
       "      <td>...</td>\n",
       "      <td>Bordeaux-style Red Blend</td>\n",
       "      <td>DiStefano</td>\n",
       "      <td>Low</td>\n",
       "      <td>-2.0</td>\n",
       "      <td>48</td>\n",
       "      <td>-4.166667</td>\n",
       "      <td>-0.1027</td>\n",
       "      <td>0.068</td>\n",
       "      <td>0.871</td>\n",
       "      <td>0.060</td>\n",
       "    </tr>\n",
       "    <tr>\n",
       "      <th>4</th>\n",
       "      <td>25631</td>\n",
       "      <td>US</td>\n",
       "      <td>You'll find plenty of blackberry, cherry, currant and oak flavors in this 100% Cabernet. Aging i...</td>\n",
       "      <td>Blackjack Pasture Estate Bottled</td>\n",
       "      <td>85</td>\n",
       "      <td>50.0</td>\n",
       "      <td>California</td>\n",
       "      <td>Carmel Valley</td>\n",
       "      <td>Central Coast</td>\n",
       "      <td>NaN</td>\n",
       "      <td>...</td>\n",
       "      <td>Cabernet Sauvignon</td>\n",
       "      <td>Galante</td>\n",
       "      <td>Low</td>\n",
       "      <td>3.0</td>\n",
       "      <td>49</td>\n",
       "      <td>6.122449</td>\n",
       "      <td>0.6808</td>\n",
       "      <td>0.000</td>\n",
       "      <td>0.894</td>\n",
       "      <td>0.106</td>\n",
       "    </tr>\n",
       "  </tbody>\n",
       "</table>\n",
       "<p>5 rows × 22 columns</p>\n",
       "</div>"
      ],
      "text/plain": [
       "   index   country  \\\n",
       "0  77490        US   \n",
       "1  39530  Portugal   \n",
       "2   3178    Greece   \n",
       "3  46461        US   \n",
       "4  25631        US   \n",
       "\n",
       "                                                                                           description  \\\n",
       "0  A splendid Chardonnay, rich, vital and elegant, with so many layers of interest. Framed by a cut...   \n",
       "1  A rich opening is followed by firm tannins. The wine has ample weight and a solid structure arou...   \n",
       "2  This is a great example of a variety Americans are still learning to embrace. Plum and cherry ar...   \n",
       "3  A Bordeaux blend with a Right Bank inclination, this offers forward fruit aromas and flavors of ...   \n",
       "4  You'll find plenty of blackberry, cherry, currant and oak flavors in this 100% Cabernet. Aging i...   \n",
       "\n",
       "                        designation  points  price    province  \\\n",
       "0                Susanna's Vineyard      96   50.0  California   \n",
       "1                           Vintage      94    NaN        Port   \n",
       "2         Single Vineyard Selection      87   25.0       Nemea   \n",
       "3                          domenica      86   20.0  Washington   \n",
       "4  Blackjack Pasture Estate Bottled      85   50.0  California   \n",
       "\n",
       "               region_1         region_2      taster_name  ...  \\\n",
       "0  Russian River Valley           Sonoma              NaN  ...   \n",
       "1                   NaN              NaN       Roger Voss  ...   \n",
       "2                   NaN              NaN  Susan Kostrzewa  ...   \n",
       "3  Columbia Valley (WA)  Columbia Valley     Paul Gregutt  ...   \n",
       "4         Carmel Valley    Central Coast              NaN  ...   \n",
       "\n",
       "                    variety     winery rating afinn_score word_count  \\\n",
       "0                Chardonnay     Lynmar   High        17.0         72   \n",
       "1                      Port  Maynard's   High         4.0         32   \n",
       "2               Agiorgitiko    Palivou    Low        10.0         46   \n",
       "3  Bordeaux-style Red Blend  DiStefano    Low        -2.0         48   \n",
       "4        Cabernet Sauvignon    Galante    Low         3.0         49   \n",
       "\n",
       "   afinn_adjusted  vader_compound  vader_neg  vader_neu  vader_pos  \n",
       "0       23.611111          0.9783      0.024      0.667      0.310  \n",
       "1       12.500000          0.7964      0.000      0.769      0.231  \n",
       "2       21.739130          0.9287      0.000      0.745      0.255  \n",
       "3       -4.166667         -0.1027      0.068      0.871      0.060  \n",
       "4        6.122449          0.6808      0.000      0.894      0.106  \n",
       "\n",
       "[5 rows x 22 columns]"
      ]
     },
     "execution_count": 54,
     "metadata": {},
     "output_type": "execute_result"
    }
   ],
   "source": [
    "df_vaderized.head()"
   ]
  },
  {
   "cell_type": "code",
   "execution_count": 55,
   "metadata": {
    "slideshow": {
     "slide_type": "slide"
    }
   },
   "outputs": [
    {
     "data": {
      "text/plain": [
       "<matplotlib.axes._subplots.AxesSubplot at 0x122c90c88>"
      ]
     },
     "execution_count": 55,
     "metadata": {},
     "output_type": "execute_result"
    },
    {
     "data": {
      "image/png": "[encoded data removed]",
      "text/plain": [
       "<Figure size 432x288 with 1 Axes>"
      ]
     },
     "metadata": {
      "needs_background": "light"
     },
     "output_type": "display_data"
    }
   ],
   "source": [
    "df_vaderized['vader_compound'].plot(kind='hist')"
   ]
  },
  {
   "cell_type": "code",
   "execution_count": 56,
   "metadata": {
    "slideshow": {
     "slide_type": "slide"
    }
   },
   "outputs": [
    {
     "data": {
      "text/html": [
       "<div>\n",
       "<style scoped>\n",
       "    .dataframe tbody tr th:only-of-type {\n",
       "        vertical-align: middle;\n",
       "    }\n",
       "\n",
       "    .dataframe tbody tr th {\n",
       "        vertical-align: top;\n",
       "    }\n",
       "\n",
       "    .dataframe thead th {\n",
       "        text-align: right;\n",
       "    }\n",
       "</style>\n",
       "<table border=\"1\" class=\"dataframe\">\n",
       "  <thead>\n",
       "    <tr style=\"text-align: right;\">\n",
       "      <th></th>\n",
       "      <th>afinn_score</th>\n",
       "      <th>afinn_adjusted</th>\n",
       "      <th>vader_neg</th>\n",
       "      <th>vader_neu</th>\n",
       "      <th>vader_pos</th>\n",
       "    </tr>\n",
       "    <tr>\n",
       "      <th>rating</th>\n",
       "      <th></th>\n",
       "      <th></th>\n",
       "      <th></th>\n",
       "      <th></th>\n",
       "      <th></th>\n",
       "    </tr>\n",
       "  </thead>\n",
       "  <tbody>\n",
       "    <tr>\n",
       "      <th>High</th>\n",
       "      <td>5.003299</td>\n",
       "      <td>10.497266</td>\n",
       "      <td>0.011848</td>\n",
       "      <td>0.836356</td>\n",
       "      <td>0.151793</td>\n",
       "    </tr>\n",
       "    <tr>\n",
       "      <th>Low</th>\n",
       "      <td>2.466909</td>\n",
       "      <td>7.202208</td>\n",
       "      <td>0.021357</td>\n",
       "      <td>0.855191</td>\n",
       "      <td>0.123449</td>\n",
       "    </tr>\n",
       "  </tbody>\n",
       "</table>\n",
       "</div>"
      ],
      "text/plain": [
       "        afinn_score  afinn_adjusted  vader_neg  vader_neu  vader_pos\n",
       "rating                                                              \n",
       "High       5.003299       10.497266   0.011848   0.836356   0.151793\n",
       "Low        2.466909        7.202208   0.021357   0.855191   0.123449"
      ]
     },
     "execution_count": 56,
     "metadata": {},
     "output_type": "execute_result"
    }
   ],
   "source": [
    "sentiment_variables = ['afinn_score','afinn_adjusted', 'vader_neg', 'vader_neu', 'vader_pos']\n",
    "\n",
    "df_vaderized.groupby('rating')[sentiment_variables].mean()"
   ]
  },
  {
   "cell_type": "markdown",
   "metadata": {
    "slideshow": {
     "slide_type": "slide"
    }
   },
   "source": [
    "#### Word List\n",
    "\n",
    "Occasionally, you will have a sentiment list from a different source that you would like to use. Or, more generally, you have a word list about any subject, not just attitudes, and you want to count their occurrences in texts, such as the use of words associated with politics or hypothesis testing. \n",
    "\n",
    "The final section of the lesson shows the steps for building a function that can analyze texts for the presence of words on any given list. In this case, the sample list will be words associated with men that were assembled by [Danielle Sucher](https://github.com/DanielleSucher/Jailbreak-the-Patriarchy). "
   ]
  },
  {
   "cell_type": "markdown",
   "metadata": {},
   "source": [
    "The list is stored as a csv file. Pandas can be used to read the word list and turn it into a Python list."
   ]
  },
  {
   "cell_type": "code",
   "execution_count": 57,
   "metadata": {
    "slideshow": {
     "slide_type": "slide"
    }
   },
   "outputs": [
    {
     "data": {
      "text/html": [
       "<div>\n",
       "<style scoped>\n",
       "    .dataframe tbody tr th:only-of-type {\n",
       "        vertical-align: middle;\n",
       "    }\n",
       "\n",
       "    .dataframe tbody tr th {\n",
       "        vertical-align: top;\n",
       "    }\n",
       "\n",
       "    .dataframe thead th {\n",
       "        text-align: right;\n",
       "    }\n",
       "</style>\n",
       "<table border=\"1\" class=\"dataframe\">\n",
       "  <thead>\n",
       "    <tr style=\"text-align: right;\">\n",
       "      <th></th>\n",
       "      <th>term</th>\n",
       "    </tr>\n",
       "  </thead>\n",
       "  <tbody>\n",
       "    <tr>\n",
       "      <th>4</th>\n",
       "      <td>grandson</td>\n",
       "    </tr>\n",
       "    <tr>\n",
       "      <th>2</th>\n",
       "      <td>uncles</td>\n",
       "    </tr>\n",
       "    <tr>\n",
       "      <th>33</th>\n",
       "      <td>dude</td>\n",
       "    </tr>\n",
       "    <tr>\n",
       "      <th>25</th>\n",
       "      <td>dads</td>\n",
       "    </tr>\n",
       "    <tr>\n",
       "      <th>43</th>\n",
       "      <td>father</td>\n",
       "    </tr>\n",
       "    <tr>\n",
       "      <th>11</th>\n",
       "      <td>men's</td>\n",
       "    </tr>\n",
       "    <tr>\n",
       "      <th>21</th>\n",
       "      <td>grandfather</td>\n",
       "    </tr>\n",
       "    <tr>\n",
       "      <th>38</th>\n",
       "      <td>prince</td>\n",
       "    </tr>\n",
       "    <tr>\n",
       "      <th>31</th>\n",
       "      <td>boy</td>\n",
       "    </tr>\n",
       "    <tr>\n",
       "      <th>1</th>\n",
       "      <td>priest</td>\n",
       "    </tr>\n",
       "  </tbody>\n",
       "</table>\n",
       "</div>"
      ],
      "text/plain": [
       "           term\n",
       "4      grandson\n",
       "2        uncles\n",
       "33         dude\n",
       "25         dads\n",
       "43       father\n",
       "11        men's\n",
       "21  grandfather\n",
       "38       prince\n",
       "31          boy\n",
       "1        priest"
      ]
     },
     "execution_count": 57,
     "metadata": {},
     "output_type": "execute_result"
    }
   ],
   "source": [
    "\n",
    "male_csv_location = 'https://raw.githubusercontent.com/nealcaren/KULeuvenBigData/master/notebooks/data/male_words.csv'\n",
    "\n",
    "\n",
    "male_words_df = pd.read_csv(male_csv_location)\n",
    "\n",
    "male_words_df.sample(10)"
   ]
  },
  {
   "cell_type": "code",
   "execution_count": 58,
   "metadata": {
    "slideshow": {
     "slide_type": "slide"
    }
   },
   "outputs": [],
   "source": [
    "male_words_list = male_words_df['term'].values"
   ]
  },
  {
   "cell_type": "markdown",
   "metadata": {
    "slideshow": {
     "slide_type": "slide"
    }
   },
   "source": [
    "The function that looks for cooccurences has two parts. A preliminary helper function transforms the original text string into a list of lower case words stripping out any punctuation. "
   ]
  },
  {
   "cell_type": "code",
   "execution_count": 59,
   "metadata": {
    "slideshow": {
     "slide_type": "slide"
    }
   },
   "outputs": [],
   "source": [
    "def text_to_words(text):\n",
    "    '''Transform a string to a list of words,\n",
    "    removing all punctuation.'''\n",
    "    text = text.lower()\n",
    "\n",
    "    p = '!\"#$%&\\'()*+,-./:;<=>?@[\\\\]^_`{|}~'\n",
    "    text = ''.join([ch for ch in text if ch not in p])\n",
    "\n",
    "    return text.split()"
   ]
  },
  {
   "cell_type": "code",
   "execution_count": 60,
   "metadata": {
    "slideshow": {
     "slide_type": "slide"
    }
   },
   "outputs": [
    {
     "data": {
      "text/plain": [
       "['make', 'this', 'lower', 'case', 'and', 'remove', 'all', 'punctuation']"
      ]
     },
     "execution_count": 60,
     "metadata": {},
     "output_type": "execute_result"
    }
   ],
   "source": [
    "text_to_words('Make this lower case and remove! All? Punctuation.')"
   ]
  },
  {
   "cell_type": "markdown",
   "metadata": {
    "slideshow": {
     "slide_type": "slide"
    }
   },
   "source": [
    "The main function takes two arguments, the text and the word list. First, the text string is transformed to a list using `text_to_words`. Second, a new list `intersection` is created which contains only those elements from the text list that are in the word list. Finally, the function returns the length of the intersection. "
   ]
  },
  {
   "cell_type": "code",
   "execution_count": 61,
   "metadata": {
    "slideshow": {
     "slide_type": "slide"
    }
   },
   "outputs": [],
   "source": [
    "def count_occurences(text, word_list):\n",
    "    '''Count occurences of words from a list in a text string.'''\n",
    "    text_list = text_to_words(text)\n",
    "\n",
    "    intersection = [w for w in text_list if w in word_list]\n",
    "\n",
    "    return len(intersection)"
   ]
  },
  {
   "cell_type": "code",
   "execution_count": 62,
   "metadata": {
    "slideshow": {
     "slide_type": "slide"
    }
   },
   "outputs": [
    {
     "data": {
      "text/plain": [
       "1"
      ]
     },
     "execution_count": 62,
     "metadata": {},
     "output_type": "execute_result"
    }
   ],
   "source": [
    "count_occurences('He went to the store.', male_words_list)"
   ]
  },
  {
   "cell_type": "markdown",
   "metadata": {
    "slideshow": {
     "slide_type": "slide"
    }
   },
   "source": [
    "The function can now be applied on the Times dataframe to count ocurrences of male words in the comments. Since the function takes a second arguement, the word list, this is passed to the `apply` method as a tuple."
   ]
  },
  {
   "cell_type": "code",
   "execution_count": null,
   "metadata": {
    "slideshow": {
     "slide_type": "slide"
    }
   },
   "outputs": [],
   "source": [
    "un_df['male_words'] = un_df['speech_text'].apply(count_occurences, \n",
    "                                                   args=(male_words_list, ))"
   ]
  },
  {
   "cell_type": "code",
   "execution_count": null,
   "metadata": {},
   "outputs": [],
   "source": []
  }
 ],
 "metadata": {
  "kernelspec": {
   "display_name": "Python 3",
   "language": "python",
   "name": "python3"
  },
  "language_info": {
   "codemirror_mode": {
    "name": "ipython",
    "version": 3
   },
   "file_extension": ".py",
   "mimetype": "text/x-python",
   "name": "python",
   "nbconvert_exporter": "python",
   "pygments_lexer": "ipython3",
   "version": "3.6.7"
  },
  "toc": {
   "base_numbering": 1,
   "nav_menu": {},
   "number_sections": true,
   "sideBar": true,
   "skip_h1_title": false,
   "title_cell": "Table of Contents",
   "title_sidebar": "Contents",
   "toc_cell": true,
   "toc_position": {},
   "toc_section_display": true,
   "toc_window_display": false
  }
 },
 "nbformat": 4,
 "nbformat_minor": 2
}

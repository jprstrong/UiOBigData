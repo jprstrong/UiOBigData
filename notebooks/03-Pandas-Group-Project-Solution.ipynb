{
 "cells": [
  {
   "cell_type": "markdown",
   "metadata": {
    "slideshow": {
     "slide_type": "slide"
    }
   },
   "source": [
    "## Panda trolls\n",
    "\n",
    "In this assignment, you will analyze a sample of 50,000 Russian troll tweets. You can answer each question in the cell space provided in this notebook or start a new notebook.\n",
    "\n",
    "As part of analysis of Russian influence in the 2016 U.S. presidential election, FiveThirtyEight released almost [three million russian troll tweets](https://fivethirtyeight.com/features/why-were-sharing-3-million-russian-troll-tweets/). FiveThirtyEight obtained the data from Clemson University researchers [Darren Linvill](https://www.clemson.edu/cbshs/faculty-staff/profiles/darrenl) and [Patrick Warren](http://pwarren.people.clemson.edu/). Tweets were collected from accounts identified in the  [November 2017](https://democrats-intelligence.house.gov/uploadedfiles/exhibit_b.pdf) and [June 2018](https://democrats-intelligence.house.gov/uploadedfiles/ira_handles_june_2018.pdf) lists of Internet Research Agency-connected handles [provided to Congress](https://democrats-intelligence.house.gov/news/documentsingle.aspx?DocumentID=396) by Twitter. You can access the FiveThirtyEight repository for a comlete description of the data.\n"
   ]
  },
  {
   "cell_type": "markdown",
   "metadata": {
    "slideshow": {
     "slide_type": "slide"
    }
   },
   "source": [
    "Variables in the file include:\n",
    "\n",
    "Name | Definition\n",
    "---|---------\n",
    "`external_author_id` | An author account ID from Twitter \n",
    "`author` | The handle sending the tweet\n",
    "`content` | The text of the tweet\n",
    "`region` | A region classification, as [determined by Social Studio](https://help.salesforce.com/articleView?id=000199367&type=1)\n",
    "`language` | The language of the tweet\n",
    "`publish_date` | The date and time the tweet was sent\n",
    "`harvested_date` | The date and time the tweet was collected by Social Studio\n",
    "`following` | The number of accounts the handle was following at the time of the tweet\n",
    "`followers` | The number of followers the handle had at the time of the tweet\n",
    "`updates` | The number of “update actions” on the account that authored the tweet, including tweets, retweets and likes\n",
    "`post_type` | Indicates if the tweet was a retweet or a quote-tweet\n",
    "`account_type` | Specific account theme, as coded by Linvill and Warren\n",
    "`retweet` | A binary indicator of whether or not the tweet is a retweet\n",
    "`account_category` | General account theme, as coded by Linvill and Warren\n",
    "`new_june_2018` | A binary indicator of whether the handle was newly listed in June 2018\n",
    "`alt_external_id` | Reconstruction of author account ID from Twitter, derived from `article_url` variable and the first list provided to Congress\n",
    "`tweet_id` | Unique id assigned by twitter to each status update, derived from `article_url`\n",
    "`article_url` | Link to original tweet. Now redirects to \"Account Suspended\" page\n",
    "`tco1_step1` | First redirect for the first http(s)://t.co/ link in a tweet, if it exists\n",
    "`tco2_step1` | First redirect for the second http(s)://t.co/ link in a tweet, if it exists\n",
    "`tco3_step1` | First redirect for the third http(s)://t.co/ link in a tweet, if it exists\n"
   ]
  },
  {
   "cell_type": "markdown",
   "metadata": {
    "slideshow": {
     "slide_type": "slide"
    }
   },
   "source": [
    "### Part I\n",
    "**Load the dataset as a pandas dataframe.** \n",
    "The dataset is available in the [`data`](https://github.com/nealcaren/UiOBigData⁩/tree/master/notebooks/data) folder on the course [Github site](https://github.com/nealcaren/UiOBigData⁩/). You can also access it directly from this URL:\n",
    "https://raw.githubusercontent.com/nealcaren/UiOBigData⁩/master/notebooks/data/ira_sample_50k.csv\n",
    "\n",
    "Hint:\n",
    "* Remember to `import` pandas. \n",
    "* Pandas can load a file from a local directory or from a URL."
   ]
  },
  {
   "cell_type": "code",
   "execution_count": 1,
   "metadata": {
    "slideshow": {
     "slide_type": "slide"
    }
   },
   "outputs": [],
   "source": [
    "import pandas as pd"
   ]
  },
  {
   "cell_type": "code",
   "execution_count": 3,
   "metadata": {
    "slideshow": {
     "slide_type": "fragment"
    }
   },
   "outputs": [],
   "source": [
    "troll_df = pd.read_csv('data/ira_sample_50k.csv')"
   ]
  },
  {
   "cell_type": "markdown",
   "metadata": {
    "slideshow": {
     "slide_type": "slide"
    }
   },
   "source": [
    "### Part II\n",
    "\n",
    "After inspecting the dataframe, answer the following questions.\n",
    "\n"
   ]
  },
  {
   "cell_type": "code",
   "execution_count": 4,
   "metadata": {
    "slideshow": {
     "slide_type": "slide"
    }
   },
   "outputs": [
    {
     "data": {
      "text/html": [
       "<div>\n",
       "<style scoped>\n",
       "    .dataframe tbody tr th:only-of-type {\n",
       "        vertical-align: middle;\n",
       "    }\n",
       "\n",
       "    .dataframe tbody tr th {\n",
       "        vertical-align: top;\n",
       "    }\n",
       "\n",
       "    .dataframe thead th {\n",
       "        text-align: right;\n",
       "    }\n",
       "</style>\n",
       "<table border=\"1\" class=\"dataframe\">\n",
       "  <thead>\n",
       "    <tr style=\"text-align: right;\">\n",
       "      <th></th>\n",
       "      <th>external_author_id</th>\n",
       "      <th>author</th>\n",
       "      <th>content</th>\n",
       "      <th>region</th>\n",
       "      <th>language</th>\n",
       "      <th>publish_date</th>\n",
       "      <th>harvested_date</th>\n",
       "      <th>following</th>\n",
       "      <th>followers</th>\n",
       "      <th>updates</th>\n",
       "      <th>...</th>\n",
       "      <th>account_type</th>\n",
       "      <th>retweet</th>\n",
       "      <th>account_category</th>\n",
       "      <th>new_june_2018</th>\n",
       "      <th>alt_external_id</th>\n",
       "      <th>tweet_id</th>\n",
       "      <th>article_url</th>\n",
       "      <th>tco1_step1</th>\n",
       "      <th>tco2_step1</th>\n",
       "      <th>tco3_step1</th>\n",
       "    </tr>\n",
       "  </thead>\n",
       "  <tbody>\n",
       "    <tr>\n",
       "      <th>8090</th>\n",
       "      <td>2570574680</td>\n",
       "      <td>RIAFANRU</td>\n",
       "      <td>МЧС полностью потушило пожар в кафе на юге Мос...</td>\n",
       "      <td>Belarus</td>\n",
       "      <td>Russian</td>\n",
       "      <td>12/25/2015 21:50</td>\n",
       "      <td>12/25/2015 21:50</td>\n",
       "      <td>3076</td>\n",
       "      <td>11254</td>\n",
       "      <td>39388</td>\n",
       "      <td>...</td>\n",
       "      <td>Russian</td>\n",
       "      <td>0</td>\n",
       "      <td>NonEnglish</td>\n",
       "      <td>0</td>\n",
       "      <td>2570574680</td>\n",
       "      <td>680505887660883968</td>\n",
       "      <td>http://twitter.com/riafanru/statuses/680505887...</td>\n",
       "      <td>https://twitter.com/riafanru/status/6805058876...</td>\n",
       "      <td>http://riafan.ru/492606-mchs-polnostyu-potushi...</td>\n",
       "      <td>NaN</td>\n",
       "    </tr>\n",
       "    <tr>\n",
       "      <th>26799</th>\n",
       "      <td>2753146444</td>\n",
       "      <td>ONLINECLEVELAND</td>\n",
       "      <td>#clevelandcaveliers @WashWizards : preview of ...</td>\n",
       "      <td>United States</td>\n",
       "      <td>English</td>\n",
       "      <td>1/6/2016 16:47</td>\n",
       "      <td>1/6/2016 16:47</td>\n",
       "      <td>9386</td>\n",
       "      <td>13376</td>\n",
       "      <td>12911</td>\n",
       "      <td>...</td>\n",
       "      <td>local</td>\n",
       "      <td>0</td>\n",
       "      <td>NewsFeed</td>\n",
       "      <td>0</td>\n",
       "      <td>2753146444</td>\n",
       "      <td>684778263525330945</td>\n",
       "      <td>http://twitter.com/OnlineCleveland/statuses/68...</td>\n",
       "      <td>https://twitter.com/OnlineCleveland/status/684...</td>\n",
       "      <td>http://www.cleveland.com/cavs/index.ssf/2016/0...</td>\n",
       "      <td>NaN</td>\n",
       "    </tr>\n",
       "    <tr>\n",
       "      <th>43848</th>\n",
       "      <td>3801877816</td>\n",
       "      <td>NOVOSTITUMENI</td>\n",
       "      <td>В Тюмени вышла новая книга учеников Владислава...</td>\n",
       "      <td>Unknown</td>\n",
       "      <td>Russian</td>\n",
       "      <td>12/25/2016 7:01</td>\n",
       "      <td>12/25/2016 7:01</td>\n",
       "      <td>288</td>\n",
       "      <td>3858</td>\n",
       "      <td>6843</td>\n",
       "      <td>...</td>\n",
       "      <td>Russian</td>\n",
       "      <td>0</td>\n",
       "      <td>NonEnglish</td>\n",
       "      <td>0</td>\n",
       "      <td>3801877816</td>\n",
       "      <td>812916088883347456</td>\n",
       "      <td>http://twitter.com/3801877816/statuses/8129160...</td>\n",
       "      <td>https://news.yandex.ru/yandsearch?cl4url=www.t...</td>\n",
       "      <td>NaN</td>\n",
       "      <td>NaN</td>\n",
       "    </tr>\n",
       "    <tr>\n",
       "      <th>16864</th>\n",
       "      <td>839000000000000000</td>\n",
       "      <td>ANNAROMAN0</td>\n",
       "      <td>Roma, assessore Frongia: \"Puliremo l'opera sul...</td>\n",
       "      <td>Italy</td>\n",
       "      <td>Italian</td>\n",
       "      <td>4/3/2017 20:25</td>\n",
       "      <td>4/3/2017 20:27</td>\n",
       "      <td>565</td>\n",
       "      <td>96</td>\n",
       "      <td>1814</td>\n",
       "      <td>...</td>\n",
       "      <td>Italian</td>\n",
       "      <td>1</td>\n",
       "      <td>NonEnglish</td>\n",
       "      <td>0</td>\n",
       "      <td>838682742229504001</td>\n",
       "      <td>848994972317523968</td>\n",
       "      <td>http://twitter.com/838682742229504001/statuses...</td>\n",
       "      <td>http://larep.it/2nQ4Wcc</td>\n",
       "      <td>NaN</td>\n",
       "      <td>NaN</td>\n",
       "    </tr>\n",
       "    <tr>\n",
       "      <th>26173</th>\n",
       "      <td>870000000000000000</td>\n",
       "      <td>EISSYT56T</td>\n",
       "      <td>WATCH: Miners Cheer As Trump Announces Opening...</td>\n",
       "      <td>Unknown</td>\n",
       "      <td>English</td>\n",
       "      <td>6/9/2017 14:34</td>\n",
       "      <td>6/9/2017 14:34</td>\n",
       "      <td>0</td>\n",
       "      <td>5</td>\n",
       "      <td>201</td>\n",
       "      <td>...</td>\n",
       "      <td>Right</td>\n",
       "      <td>0</td>\n",
       "      <td>RightTroll</td>\n",
       "      <td>0</td>\n",
       "      <td>870497148365754368</td>\n",
       "      <td>873186453714370561</td>\n",
       "      <td>http://twitter.com/870497148365754368/statuses...</td>\n",
       "      <td>https://twitter.com/EissyT56T/status/873186453...</td>\n",
       "      <td>https://twitter.com/safety/unsafe_link_warning...</td>\n",
       "      <td>NaN</td>\n",
       "    </tr>\n",
       "  </tbody>\n",
       "</table>\n",
       "<p>5 rows × 21 columns</p>\n",
       "</div>"
      ],
      "text/plain": [
       "       external_author_id           author  \\\n",
       "8090           2570574680         RIAFANRU   \n",
       "26799          2753146444  ONLINECLEVELAND   \n",
       "43848          3801877816    NOVOSTITUMENI   \n",
       "16864  839000000000000000       ANNAROMAN0   \n",
       "26173  870000000000000000        EISSYT56T   \n",
       "\n",
       "                                                 content         region  \\\n",
       "8090   МЧС полностью потушило пожар в кафе на юге Мос...        Belarus   \n",
       "26799  #clevelandcaveliers @WashWizards : preview of ...  United States   \n",
       "43848  В Тюмени вышла новая книга учеников Владислава...        Unknown   \n",
       "16864  Roma, assessore Frongia: \"Puliremo l'opera sul...          Italy   \n",
       "26173  WATCH: Miners Cheer As Trump Announces Opening...        Unknown   \n",
       "\n",
       "      language      publish_date    harvested_date  following  followers  \\\n",
       "8090   Russian  12/25/2015 21:50  12/25/2015 21:50       3076      11254   \n",
       "26799  English    1/6/2016 16:47    1/6/2016 16:47       9386      13376   \n",
       "43848  Russian   12/25/2016 7:01   12/25/2016 7:01        288       3858   \n",
       "16864  Italian    4/3/2017 20:25    4/3/2017 20:27        565         96   \n",
       "26173  English    6/9/2017 14:34    6/9/2017 14:34          0          5   \n",
       "\n",
       "       updates  ... account_type retweet  account_category new_june_2018  \\\n",
       "8090     39388  ...      Russian       0        NonEnglish             0   \n",
       "26799    12911  ...        local       0          NewsFeed             0   \n",
       "43848     6843  ...      Russian       0        NonEnglish             0   \n",
       "16864     1814  ...      Italian       1        NonEnglish             0   \n",
       "26173      201  ...        Right       0        RightTroll             0   \n",
       "\n",
       "          alt_external_id            tweet_id  \\\n",
       "8090           2570574680  680505887660883968   \n",
       "26799          2753146444  684778263525330945   \n",
       "43848          3801877816  812916088883347456   \n",
       "16864  838682742229504001  848994972317523968   \n",
       "26173  870497148365754368  873186453714370561   \n",
       "\n",
       "                                             article_url  \\\n",
       "8090   http://twitter.com/riafanru/statuses/680505887...   \n",
       "26799  http://twitter.com/OnlineCleveland/statuses/68...   \n",
       "43848  http://twitter.com/3801877816/statuses/8129160...   \n",
       "16864  http://twitter.com/838682742229504001/statuses...   \n",
       "26173  http://twitter.com/870497148365754368/statuses...   \n",
       "\n",
       "                                              tco1_step1  \\\n",
       "8090   https://twitter.com/riafanru/status/6805058876...   \n",
       "26799  https://twitter.com/OnlineCleveland/status/684...   \n",
       "43848  https://news.yandex.ru/yandsearch?cl4url=www.t...   \n",
       "16864                            http://larep.it/2nQ4Wcc   \n",
       "26173  https://twitter.com/EissyT56T/status/873186453...   \n",
       "\n",
       "                                              tco2_step1 tco3_step1  \n",
       "8090   http://riafan.ru/492606-mchs-polnostyu-potushi...        NaN  \n",
       "26799  http://www.cleveland.com/cavs/index.ssf/2016/0...        NaN  \n",
       "43848                                                NaN        NaN  \n",
       "16864                                                NaN        NaN  \n",
       "26173  https://twitter.com/safety/unsafe_link_warning...        NaN  \n",
       "\n",
       "[5 rows x 21 columns]"
      ]
     },
     "execution_count": 4,
     "metadata": {},
     "output_type": "execute_result"
    }
   ],
   "source": [
    "troll_df.sample(5)"
   ]
  },
  {
   "cell_type": "code",
   "execution_count": 5,
   "metadata": {
    "slideshow": {
     "slide_type": "slide"
    }
   },
   "outputs": [
    {
     "name": "stdout",
     "output_type": "stream",
     "text": [
      "<class 'pandas.core.frame.DataFrame'>\n",
      "RangeIndex: 50000 entries, 0 to 49999\n",
      "Data columns (total 21 columns):\n",
      "external_author_id    50000 non-null int64\n",
      "author                50000 non-null object\n",
      "content               50000 non-null object\n",
      "region                49843 non-null object\n",
      "language              50000 non-null object\n",
      "publish_date          50000 non-null object\n",
      "harvested_date        50000 non-null object\n",
      "following             50000 non-null int64\n",
      "followers             50000 non-null int64\n",
      "updates               50000 non-null int64\n",
      "post_type             21917 non-null object\n",
      "account_type          50000 non-null object\n",
      "retweet               50000 non-null int64\n",
      "account_category      50000 non-null object\n",
      "new_june_2018         50000 non-null int64\n",
      "alt_external_id       50000 non-null int64\n",
      "tweet_id              50000 non-null int64\n",
      "article_url           50000 non-null object\n",
      "tco1_step1            35825 non-null object\n",
      "tco2_step1            12156 non-null object\n",
      "tco3_step1            260 non-null object\n",
      "dtypes: int64(8), object(13)\n",
      "memory usage: 8.0+ MB\n"
     ]
    }
   ],
   "source": [
    "troll_df.info()"
   ]
  },
  {
   "cell_type": "code",
   "execution_count": 5,
   "metadata": {
    "slideshow": {
     "slide_type": "slide"
    }
   },
   "outputs": [
    {
     "data": {
      "text/html": [
       "<div>\n",
       "<style scoped>\n",
       "    .dataframe tbody tr th:only-of-type {\n",
       "        vertical-align: middle;\n",
       "    }\n",
       "\n",
       "    .dataframe tbody tr th {\n",
       "        vertical-align: top;\n",
       "    }\n",
       "\n",
       "    .dataframe thead th {\n",
       "        text-align: right;\n",
       "    }\n",
       "</style>\n",
       "<table border=\"1\" class=\"dataframe\">\n",
       "  <thead>\n",
       "    <tr style=\"text-align: right;\">\n",
       "      <th></th>\n",
       "      <th>external_author_id</th>\n",
       "      <th>following</th>\n",
       "      <th>followers</th>\n",
       "      <th>updates</th>\n",
       "      <th>retweet</th>\n",
       "      <th>new_june_2018</th>\n",
       "      <th>alt_external_id</th>\n",
       "      <th>tweet_id</th>\n",
       "    </tr>\n",
       "  </thead>\n",
       "  <tbody>\n",
       "    <tr>\n",
       "      <th>count</th>\n",
       "      <td>5.000000e+04</td>\n",
       "      <td>50000.000000</td>\n",
       "      <td>50000.000000</td>\n",
       "      <td>50000.000000</td>\n",
       "      <td>50000.000000</td>\n",
       "      <td>50000.00000</td>\n",
       "      <td>5.000000e+04</td>\n",
       "      <td>5.000000e+04</td>\n",
       "    </tr>\n",
       "    <tr>\n",
       "      <th>mean</th>\n",
       "      <td>1.273233e+17</td>\n",
       "      <td>3446.866700</td>\n",
       "      <td>7025.970420</td>\n",
       "      <td>10586.753980</td>\n",
       "      <td>0.438340</td>\n",
       "      <td>0.21284</td>\n",
       "      <td>1.273355e+17</td>\n",
       "      <td>7.597890e+17</td>\n",
       "    </tr>\n",
       "    <tr>\n",
       "      <th>std</th>\n",
       "      <td>3.012598e+17</td>\n",
       "      <td>5616.629783</td>\n",
       "      <td>14363.372185</td>\n",
       "      <td>17966.244128</td>\n",
       "      <td>0.496188</td>\n",
       "      <td>0.40932</td>\n",
       "      <td>3.012889e+17</td>\n",
       "      <td>9.647651e+16</td>\n",
       "    </tr>\n",
       "    <tr>\n",
       "      <th>min</th>\n",
       "      <td>8.758894e+07</td>\n",
       "      <td>0.000000</td>\n",
       "      <td>0.000000</td>\n",
       "      <td>1.000000</td>\n",
       "      <td>0.000000</td>\n",
       "      <td>0.00000</td>\n",
       "      <td>8.758894e+07</td>\n",
       "      <td>1.672898e+17</td>\n",
       "    </tr>\n",
       "    <tr>\n",
       "      <th>25%</th>\n",
       "      <td>1.905260e+09</td>\n",
       "      <td>322.000000</td>\n",
       "      <td>315.000000</td>\n",
       "      <td>1806.000000</td>\n",
       "      <td>0.000000</td>\n",
       "      <td>0.00000</td>\n",
       "      <td>1.905260e+09</td>\n",
       "      <td>6.730155e+17</td>\n",
       "    </tr>\n",
       "    <tr>\n",
       "      <th>50%</th>\n",
       "      <td>2.586507e+09</td>\n",
       "      <td>1481.000000</td>\n",
       "      <td>1255.500000</td>\n",
       "      <td>4384.000000</td>\n",
       "      <td>0.000000</td>\n",
       "      <td>0.00000</td>\n",
       "      <td>2.586507e+09</td>\n",
       "      <td>7.753215e+17</td>\n",
       "    </tr>\n",
       "    <tr>\n",
       "      <th>75%</th>\n",
       "      <td>3.254274e+09</td>\n",
       "      <td>4751.000000</td>\n",
       "      <td>10928.000000</td>\n",
       "      <td>12470.000000</td>\n",
       "      <td>1.000000</td>\n",
       "      <td>0.00000</td>\n",
       "      <td>3.254274e+09</td>\n",
       "      <td>8.384575e+17</td>\n",
       "    </tr>\n",
       "    <tr>\n",
       "      <th>max</th>\n",
       "      <td>9.812510e+17</td>\n",
       "      <td>76130.000000</td>\n",
       "      <td>245274.000000</td>\n",
       "      <td>166016.000000</td>\n",
       "      <td>1.000000</td>\n",
       "      <td>1.00000</td>\n",
       "      <td>9.812509e+17</td>\n",
       "      <td>1.001648e+18</td>\n",
       "    </tr>\n",
       "  </tbody>\n",
       "</table>\n",
       "</div>"
      ],
      "text/plain": [
       "       external_author_id     following      followers        updates  \\\n",
       "count        5.000000e+04  50000.000000   50000.000000   50000.000000   \n",
       "mean         1.273233e+17   3446.866700    7025.970420   10586.753980   \n",
       "std          3.012598e+17   5616.629783   14363.372185   17966.244128   \n",
       "min          8.758894e+07      0.000000       0.000000       1.000000   \n",
       "25%          1.905260e+09    322.000000     315.000000    1806.000000   \n",
       "50%          2.586507e+09   1481.000000    1255.500000    4384.000000   \n",
       "75%          3.254274e+09   4751.000000   10928.000000   12470.000000   \n",
       "max          9.812510e+17  76130.000000  245274.000000  166016.000000   \n",
       "\n",
       "            retweet  new_june_2018  alt_external_id      tweet_id  \n",
       "count  50000.000000    50000.00000     5.000000e+04  5.000000e+04  \n",
       "mean       0.438340        0.21284     1.273355e+17  7.597890e+17  \n",
       "std        0.496188        0.40932     3.012889e+17  9.647651e+16  \n",
       "min        0.000000        0.00000     8.758894e+07  1.672898e+17  \n",
       "25%        0.000000        0.00000     1.905260e+09  6.730155e+17  \n",
       "50%        0.000000        0.00000     2.586507e+09  7.753215e+17  \n",
       "75%        1.000000        0.00000     3.254274e+09  8.384575e+17  \n",
       "max        1.000000        1.00000     9.812509e+17  1.001648e+18  "
      ]
     },
     "execution_count": 5,
     "metadata": {},
     "output_type": "execute_result"
    }
   ],
   "source": [
    "troll_df.describe()"
   ]
  },
  {
   "cell_type": "code",
   "execution_count": 7,
   "metadata": {},
   "outputs": [
    {
     "data": {
      "text/html": [
       "<div>\n",
       "<style scoped>\n",
       "    .dataframe tbody tr th:only-of-type {\n",
       "        vertical-align: middle;\n",
       "    }\n",
       "\n",
       "    .dataframe tbody tr th {\n",
       "        vertical-align: top;\n",
       "    }\n",
       "\n",
       "    .dataframe thead th {\n",
       "        text-align: right;\n",
       "    }\n",
       "</style>\n",
       "<table border=\"1\" class=\"dataframe\">\n",
       "  <thead>\n",
       "    <tr style=\"text-align: right;\">\n",
       "      <th></th>\n",
       "      <th>external_author_id</th>\n",
       "      <th>author</th>\n",
       "      <th>content</th>\n",
       "      <th>region</th>\n",
       "      <th>language</th>\n",
       "      <th>publish_date</th>\n",
       "      <th>harvested_date</th>\n",
       "      <th>following</th>\n",
       "      <th>followers</th>\n",
       "      <th>updates</th>\n",
       "      <th>...</th>\n",
       "      <th>account_type</th>\n",
       "      <th>retweet</th>\n",
       "      <th>account_category</th>\n",
       "      <th>new_june_2018</th>\n",
       "      <th>alt_external_id</th>\n",
       "      <th>tweet_id</th>\n",
       "      <th>article_url</th>\n",
       "      <th>tco1_step1</th>\n",
       "      <th>tco2_step1</th>\n",
       "      <th>tco3_step1</th>\n",
       "    </tr>\n",
       "  </thead>\n",
       "  <tbody>\n",
       "    <tr>\n",
       "      <th>20092</th>\n",
       "      <td>3438999494</td>\n",
       "      <td>WORLDOFHASHTAGS</td>\n",
       "      <td>Our Monday game hosted by @GiselleEvns and @An...</td>\n",
       "      <td>United States</td>\n",
       "      <td>English</td>\n",
       "      <td>5/2/2016 12:00</td>\n",
       "      <td>5/2/2016 12:01</td>\n",
       "      <td>3156</td>\n",
       "      <td>3846</td>\n",
       "      <td>6508</td>\n",
       "      <td>...</td>\n",
       "      <td>Hashtager</td>\n",
       "      <td>0</td>\n",
       "      <td>HashtagGamer</td>\n",
       "      <td>0</td>\n",
       "      <td>3438999494</td>\n",
       "      <td>727105557941747713</td>\n",
       "      <td>http://twitter.com/WorldOfHashtags/statuses/72...</td>\n",
       "      <td>NaN</td>\n",
       "      <td>NaN</td>\n",
       "      <td>NaN</td>\n",
       "    </tr>\n",
       "    <tr>\n",
       "      <th>7208</th>\n",
       "      <td>1631358655</td>\n",
       "      <td>KILLMEPLSAGAIN</td>\n",
       "      <td>G20: отмена антироссийских санкций связана с в...</td>\n",
       "      <td>Unknown</td>\n",
       "      <td>Russian</td>\n",
       "      <td>11/15/2015 10:52</td>\n",
       "      <td>11/15/2015 10:52</td>\n",
       "      <td>53</td>\n",
       "      <td>168</td>\n",
       "      <td>2237</td>\n",
       "      <td>...</td>\n",
       "      <td>Russian</td>\n",
       "      <td>1</td>\n",
       "      <td>NonEnglish</td>\n",
       "      <td>1</td>\n",
       "      <td>1631358655</td>\n",
       "      <td>665844752592580608</td>\n",
       "      <td>http://twitter.com/killmeplsagain/statuses/665...</td>\n",
       "      <td>https://twitter.com/vesti_news/status/66583531...</td>\n",
       "      <td>http://www.vesti.ru/doc.html?id=2686958&amp;cid=9</td>\n",
       "      <td>NaN</td>\n",
       "    </tr>\n",
       "    <tr>\n",
       "      <th>19484</th>\n",
       "      <td>1691736218</td>\n",
       "      <td>REGIEBLACKMON</td>\n",
       "      <td>A storm is coming, @LeagueOfExtra. 😂 This isn'...</td>\n",
       "      <td>United States</td>\n",
       "      <td>English</td>\n",
       "      <td>4/22/2017 11:30</td>\n",
       "      <td>4/22/2017 11:30</td>\n",
       "      <td>899</td>\n",
       "      <td>826</td>\n",
       "      <td>4853</td>\n",
       "      <td>...</td>\n",
       "      <td>Left</td>\n",
       "      <td>1</td>\n",
       "      <td>LeftTroll</td>\n",
       "      <td>0</td>\n",
       "      <td>1691736218</td>\n",
       "      <td>855745702282088448</td>\n",
       "      <td>http://twitter.com/1691736218/statuses/8557457...</td>\n",
       "      <td>NaN</td>\n",
       "      <td>NaN</td>\n",
       "      <td>NaN</td>\n",
       "    </tr>\n",
       "    <tr>\n",
       "      <th>49127</th>\n",
       "      <td>2189501756</td>\n",
       "      <td>MUHAMMADMUSA23</td>\n",
       "      <td>نشر نشطاء سوريون شريط فيديو يظهر لأول مرة سلاح...</td>\n",
       "      <td>Israel</td>\n",
       "      <td>Arabic</td>\n",
       "      <td>2/17/2016 13:01</td>\n",
       "      <td>2/17/2016 13:01</td>\n",
       "      <td>2114</td>\n",
       "      <td>1468</td>\n",
       "      <td>7193</td>\n",
       "      <td>...</td>\n",
       "      <td>Arabic</td>\n",
       "      <td>0</td>\n",
       "      <td>NonEnglish</td>\n",
       "      <td>1</td>\n",
       "      <td>2189501756</td>\n",
       "      <td>699941656724905984</td>\n",
       "      <td>http://twitter.com/MuhammadMusa23/statuses/699...</td>\n",
       "      <td>http://ar.rt.com/he4t</td>\n",
       "      <td>NaN</td>\n",
       "      <td>NaN</td>\n",
       "    </tr>\n",
       "    <tr>\n",
       "      <th>1206</th>\n",
       "      <td>2260338140</td>\n",
       "      <td>POLITICS_T0DAY</td>\n",
       "      <td>КОСМИЧЕСКИЙ МЕЧ - УДАРНАЯ СИЛА https://t.co/5N...</td>\n",
       "      <td>United States</td>\n",
       "      <td>Russian</td>\n",
       "      <td>6/14/2017 17:02</td>\n",
       "      <td>6/14/2017 17:02</td>\n",
       "      <td>168</td>\n",
       "      <td>1124</td>\n",
       "      <td>25362</td>\n",
       "      <td>...</td>\n",
       "      <td>Russian</td>\n",
       "      <td>0</td>\n",
       "      <td>NonEnglish</td>\n",
       "      <td>0</td>\n",
       "      <td>2260338140</td>\n",
       "      <td>875035683726950401</td>\n",
       "      <td>http://twitter.com/2260338140/statuses/8750356...</td>\n",
       "      <td>https://twitter.com/politics_t0day/status/8750...</td>\n",
       "      <td>https://goo.gl/iXDjDN</td>\n",
       "      <td>NaN</td>\n",
       "    </tr>\n",
       "    <tr>\n",
       "      <th>33227</th>\n",
       "      <td>2257531735</td>\n",
       "      <td>FASTLIVE_5</td>\n",
       "      <td>'@zubovnik @BarackObama  сан-франциско наш!'</td>\n",
       "      <td>Unknown</td>\n",
       "      <td>Macedonian</td>\n",
       "      <td>8/20/2015 20:17</td>\n",
       "      <td>8/20/2015 20:17</td>\n",
       "      <td>1338</td>\n",
       "      <td>269</td>\n",
       "      <td>2180</td>\n",
       "      <td>...</td>\n",
       "      <td>Russian</td>\n",
       "      <td>0</td>\n",
       "      <td>NonEnglish</td>\n",
       "      <td>1</td>\n",
       "      <td>2257531735</td>\n",
       "      <td>634459184340303873</td>\n",
       "      <td>http://twitter.com/fastlive_5/statuses/6344591...</td>\n",
       "      <td>NaN</td>\n",
       "      <td>NaN</td>\n",
       "      <td>NaN</td>\n",
       "    </tr>\n",
       "    <tr>\n",
       "      <th>4798</th>\n",
       "      <td>2533001646</td>\n",
       "      <td>JASPER_FLY</td>\n",
       "      <td>https://t.co/bjezprHif6 what an expression!!</td>\n",
       "      <td>United States</td>\n",
       "      <td>English</td>\n",
       "      <td>2/20/2015 9:47</td>\n",
       "      <td>2/20/2015 9:47</td>\n",
       "      <td>181</td>\n",
       "      <td>80</td>\n",
       "      <td>678</td>\n",
       "      <td>...</td>\n",
       "      <td>Hashtager</td>\n",
       "      <td>0</td>\n",
       "      <td>HashtagGamer</td>\n",
       "      <td>0</td>\n",
       "      <td>2533001646</td>\n",
       "      <td>568708484004384768</td>\n",
       "      <td>http://twitter.com/Jasper_Fly/statuses/5687084...</td>\n",
       "      <td>https://vine.co/v/Opt7Pn9FUxY</td>\n",
       "      <td>NaN</td>\n",
       "      <td>NaN</td>\n",
       "    </tr>\n",
       "    <tr>\n",
       "      <th>39718</th>\n",
       "      <td>3084866039</td>\n",
       "      <td>DEVINEDEVINBR</td>\n",
       "      <td>One thing is clear, Obama has NO understanding...</td>\n",
       "      <td>United States</td>\n",
       "      <td>English</td>\n",
       "      <td>12/9/2015 14:45</td>\n",
       "      <td>12/9/2015 14:45</td>\n",
       "      <td>508</td>\n",
       "      <td>237</td>\n",
       "      <td>452</td>\n",
       "      <td>...</td>\n",
       "      <td>Right</td>\n",
       "      <td>1</td>\n",
       "      <td>RightTroll</td>\n",
       "      <td>0</td>\n",
       "      <td>3084866039</td>\n",
       "      <td>674600852074573825</td>\n",
       "      <td>http://twitter.com/DevineDevinBr/statuses/6746...</td>\n",
       "      <td>https://twitter.com/bobfox321/status/674590742...</td>\n",
       "      <td>http://bit.ly/1RCwUCk</td>\n",
       "      <td>NaN</td>\n",
       "    </tr>\n",
       "    <tr>\n",
       "      <th>44891</th>\n",
       "      <td>2570574680</td>\n",
       "      <td>RIAFANRU</td>\n",
       "      <td>Назван топ-10 самых продаваемых автомобилей в ...</td>\n",
       "      <td>Belarus</td>\n",
       "      <td>Russian</td>\n",
       "      <td>6/9/2017 14:45</td>\n",
       "      <td>6/9/2017 14:56</td>\n",
       "      <td>6568</td>\n",
       "      <td>12851</td>\n",
       "      <td>83950</td>\n",
       "      <td>...</td>\n",
       "      <td>Russian</td>\n",
       "      <td>0</td>\n",
       "      <td>NonEnglish</td>\n",
       "      <td>0</td>\n",
       "      <td>2570574680</td>\n",
       "      <td>873189276044980224</td>\n",
       "      <td>http://twitter.com/2570574680/statuses/8731892...</td>\n",
       "      <td>https://twitter.com/riafanru/status/8731892760...</td>\n",
       "      <td>https://riafan.ru/813061-nazvan-top-10-samykh-...</td>\n",
       "      <td>NaN</td>\n",
       "    </tr>\n",
       "    <tr>\n",
       "      <th>27314</th>\n",
       "      <td>895000000000000000</td>\n",
       "      <td>ANISACRRUTR</td>\n",
       "      <td>#anisiss Charlottesville Mayor Declared his Ci...</td>\n",
       "      <td>Unknown</td>\n",
       "      <td>English</td>\n",
       "      <td>8/15/2017 0:54</td>\n",
       "      <td>8/15/2017 0:54</td>\n",
       "      <td>52</td>\n",
       "      <td>1</td>\n",
       "      <td>304</td>\n",
       "      <td>...</td>\n",
       "      <td>Right</td>\n",
       "      <td>0</td>\n",
       "      <td>RightTroll</td>\n",
       "      <td>0</td>\n",
       "      <td>894831603775488000</td>\n",
       "      <td>897260105577771008</td>\n",
       "      <td>http://twitter.com/894831603775488000/statuses...</td>\n",
       "      <td>https://twitter.com/anisaCrrutr/status/8972601...</td>\n",
       "      <td>http://ift.tt/2uE5Dw0</td>\n",
       "      <td>NaN</td>\n",
       "    </tr>\n",
       "  </tbody>\n",
       "</table>\n",
       "<p>10 rows × 21 columns</p>\n",
       "</div>"
      ],
      "text/plain": [
       "       external_author_id           author  \\\n",
       "20092          3438999494  WORLDOFHASHTAGS   \n",
       "7208           1631358655   KILLMEPLSAGAIN   \n",
       "19484          1691736218    REGIEBLACKMON   \n",
       "49127          2189501756   MUHAMMADMUSA23   \n",
       "1206           2260338140   POLITICS_T0DAY   \n",
       "33227          2257531735       FASTLIVE_5   \n",
       "4798           2533001646       JASPER_FLY   \n",
       "39718          3084866039    DEVINEDEVINBR   \n",
       "44891          2570574680         RIAFANRU   \n",
       "27314  895000000000000000      ANISACRRUTR   \n",
       "\n",
       "                                                 content         region  \\\n",
       "20092  Our Monday game hosted by @GiselleEvns and @An...  United States   \n",
       "7208   G20: отмена антироссийских санкций связана с в...        Unknown   \n",
       "19484  A storm is coming, @LeagueOfExtra. 😂 This isn'...  United States   \n",
       "49127  نشر نشطاء سوريون شريط فيديو يظهر لأول مرة سلاح...         Israel   \n",
       "1206   КОСМИЧЕСКИЙ МЕЧ - УДАРНАЯ СИЛА https://t.co/5N...  United States   \n",
       "33227       '@zubovnik @BarackObama  сан-франциско наш!'        Unknown   \n",
       "4798        https://t.co/bjezprHif6 what an expression!!  United States   \n",
       "39718  One thing is clear, Obama has NO understanding...  United States   \n",
       "44891  Назван топ-10 самых продаваемых автомобилей в ...        Belarus   \n",
       "27314  #anisiss Charlottesville Mayor Declared his Ci...        Unknown   \n",
       "\n",
       "         language      publish_date    harvested_date  following  followers  \\\n",
       "20092     English    5/2/2016 12:00    5/2/2016 12:01       3156       3846   \n",
       "7208      Russian  11/15/2015 10:52  11/15/2015 10:52         53        168   \n",
       "19484     English   4/22/2017 11:30   4/22/2017 11:30        899        826   \n",
       "49127      Arabic   2/17/2016 13:01   2/17/2016 13:01       2114       1468   \n",
       "1206      Russian   6/14/2017 17:02   6/14/2017 17:02        168       1124   \n",
       "33227  Macedonian   8/20/2015 20:17   8/20/2015 20:17       1338        269   \n",
       "4798      English    2/20/2015 9:47    2/20/2015 9:47        181         80   \n",
       "39718     English   12/9/2015 14:45   12/9/2015 14:45        508        237   \n",
       "44891     Russian    6/9/2017 14:45    6/9/2017 14:56       6568      12851   \n",
       "27314     English    8/15/2017 0:54    8/15/2017 0:54         52          1   \n",
       "\n",
       "       updates  ... account_type retweet  account_category new_june_2018  \\\n",
       "20092     6508  ...    Hashtager       0      HashtagGamer             0   \n",
       "7208      2237  ...      Russian       1        NonEnglish             1   \n",
       "19484     4853  ...         Left       1         LeftTroll             0   \n",
       "49127     7193  ...       Arabic       0        NonEnglish             1   \n",
       "1206     25362  ...      Russian       0        NonEnglish             0   \n",
       "33227     2180  ...      Russian       0        NonEnglish             1   \n",
       "4798       678  ...    Hashtager       0      HashtagGamer             0   \n",
       "39718      452  ...        Right       1        RightTroll             0   \n",
       "44891    83950  ...      Russian       0        NonEnglish             0   \n",
       "27314      304  ...        Right       0        RightTroll             0   \n",
       "\n",
       "          alt_external_id            tweet_id  \\\n",
       "20092          3438999494  727105557941747713   \n",
       "7208           1631358655  665844752592580608   \n",
       "19484          1691736218  855745702282088448   \n",
       "49127          2189501756  699941656724905984   \n",
       "1206           2260338140  875035683726950401   \n",
       "33227          2257531735  634459184340303873   \n",
       "4798           2533001646  568708484004384768   \n",
       "39718          3084866039  674600852074573825   \n",
       "44891          2570574680  873189276044980224   \n",
       "27314  894831603775488000  897260105577771008   \n",
       "\n",
       "                                             article_url  \\\n",
       "20092  http://twitter.com/WorldOfHashtags/statuses/72...   \n",
       "7208   http://twitter.com/killmeplsagain/statuses/665...   \n",
       "19484  http://twitter.com/1691736218/statuses/8557457...   \n",
       "49127  http://twitter.com/MuhammadMusa23/statuses/699...   \n",
       "1206   http://twitter.com/2260338140/statuses/8750356...   \n",
       "33227  http://twitter.com/fastlive_5/statuses/6344591...   \n",
       "4798   http://twitter.com/Jasper_Fly/statuses/5687084...   \n",
       "39718  http://twitter.com/DevineDevinBr/statuses/6746...   \n",
       "44891  http://twitter.com/2570574680/statuses/8731892...   \n",
       "27314  http://twitter.com/894831603775488000/statuses...   \n",
       "\n",
       "                                              tco1_step1  \\\n",
       "20092                                                NaN   \n",
       "7208   https://twitter.com/vesti_news/status/66583531...   \n",
       "19484                                                NaN   \n",
       "49127                              http://ar.rt.com/he4t   \n",
       "1206   https://twitter.com/politics_t0day/status/8750...   \n",
       "33227                                                NaN   \n",
       "4798                       https://vine.co/v/Opt7Pn9FUxY   \n",
       "39718  https://twitter.com/bobfox321/status/674590742...   \n",
       "44891  https://twitter.com/riafanru/status/8731892760...   \n",
       "27314  https://twitter.com/anisaCrrutr/status/8972601...   \n",
       "\n",
       "                                              tco2_step1 tco3_step1  \n",
       "20092                                                NaN        NaN  \n",
       "7208       http://www.vesti.ru/doc.html?id=2686958&cid=9        NaN  \n",
       "19484                                                NaN        NaN  \n",
       "49127                                                NaN        NaN  \n",
       "1206                               https://goo.gl/iXDjDN        NaN  \n",
       "33227                                                NaN        NaN  \n",
       "4798                                                 NaN        NaN  \n",
       "39718                              http://bit.ly/1RCwUCk        NaN  \n",
       "44891  https://riafan.ru/813061-nazvan-top-10-samykh-...        NaN  \n",
       "27314                              http://ift.tt/2uE5Dw0        NaN  \n",
       "\n",
       "[10 rows x 21 columns]"
      ]
     },
     "execution_count": 7,
     "metadata": {},
     "output_type": "execute_result"
    }
   ],
   "source": [
    "troll_df.sample(10)"
   ]
  },
  {
   "cell_type": "markdown",
   "metadata": {
    "slideshow": {
     "slide_type": "slide"
    }
   },
   "source": [
    "* **How many columns in the dataset?**\n",
    "\n",
    "Hint: \n",
    "* `len` can be used to compute the length of a list."
   ]
  },
  {
   "cell_type": "code",
   "execution_count": 6,
   "metadata": {
    "slideshow": {
     "slide_type": "slide"
    }
   },
   "outputs": [
    {
     "name": "stdout",
     "output_type": "stream",
     "text": [
      "<class 'pandas.core.frame.DataFrame'>\n",
      "RangeIndex: 50000 entries, 0 to 49999\n",
      "Data columns (total 21 columns):\n",
      "external_author_id    50000 non-null int64\n",
      "author                50000 non-null object\n",
      "content               50000 non-null object\n",
      "region                49843 non-null object\n",
      "language              50000 non-null object\n",
      "publish_date          50000 non-null object\n",
      "harvested_date        50000 non-null object\n",
      "following             50000 non-null int64\n",
      "followers             50000 non-null int64\n",
      "updates               50000 non-null int64\n",
      "post_type             21917 non-null object\n",
      "account_type          50000 non-null object\n",
      "retweet               50000 non-null int64\n",
      "account_category      50000 non-null object\n",
      "new_june_2018         50000 non-null int64\n",
      "alt_external_id       50000 non-null int64\n",
      "tweet_id              50000 non-null int64\n",
      "article_url           50000 non-null object\n",
      "tco1_step1            35825 non-null object\n",
      "tco2_step1            12156 non-null object\n",
      "tco3_step1            260 non-null object\n",
      "dtypes: int64(8), object(13)\n",
      "memory usage: 8.0+ MB\n"
     ]
    }
   ],
   "source": [
    "troll_df.info()"
   ]
  },
  {
   "cell_type": "code",
   "execution_count": 8,
   "metadata": {
    "slideshow": {
     "slide_type": "slide"
    }
   },
   "outputs": [
    {
     "data": {
      "text/plain": [
       "21"
      ]
     },
     "execution_count": 8,
     "metadata": {},
     "output_type": "execute_result"
    }
   ],
   "source": [
    "len(troll_df.keys())"
   ]
  },
  {
   "cell_type": "markdown",
   "metadata": {
    "slideshow": {
     "slide_type": "slide"
    }
   },
   "source": [
    "* **What percent of the tweets had links?**\n"
   ]
  },
  {
   "cell_type": "code",
   "execution_count": 9,
   "metadata": {
    "slideshow": {
     "slide_type": "slide"
    }
   },
   "outputs": [
    {
     "name": "stdout",
     "output_type": "stream",
     "text": [
      "<class 'pandas.core.frame.DataFrame'>\n",
      "RangeIndex: 50000 entries, 0 to 49999\n",
      "Data columns (total 21 columns):\n",
      "external_author_id    50000 non-null int64\n",
      "author                50000 non-null object\n",
      "content               50000 non-null object\n",
      "region                49843 non-null object\n",
      "language              50000 non-null object\n",
      "publish_date          50000 non-null object\n",
      "harvested_date        50000 non-null object\n",
      "following             50000 non-null int64\n",
      "followers             50000 non-null int64\n",
      "updates               50000 non-null int64\n",
      "post_type             21917 non-null object\n",
      "account_type          50000 non-null object\n",
      "retweet               50000 non-null int64\n",
      "account_category      50000 non-null object\n",
      "new_june_2018         50000 non-null int64\n",
      "alt_external_id       50000 non-null int64\n",
      "tweet_id              50000 non-null int64\n",
      "article_url           50000 non-null object\n",
      "tco1_step1            35825 non-null object\n",
      "tco2_step1            12156 non-null object\n",
      "tco3_step1            260 non-null object\n",
      "dtypes: int64(8), object(13)\n",
      "memory usage: 8.0+ MB\n"
     ]
    }
   ],
   "source": [
    "troll_df.info()"
   ]
  },
  {
   "cell_type": "code",
   "execution_count": 11,
   "metadata": {
    "slideshow": {
     "slide_type": "slide"
    }
   },
   "outputs": [
    {
     "data": {
      "text/plain": [
       "count                35825\n",
       "unique               34825\n",
       "top       http://1063.mobi\n",
       "freq                    66\n",
       "Name: tco1_step1, dtype: object"
      ]
     },
     "execution_count": 11,
     "metadata": {},
     "output_type": "execute_result"
    }
   ],
   "source": [
    "troll_df['tco1_step1'].describe()"
   ]
  },
  {
   "cell_type": "code",
   "execution_count": 12,
   "metadata": {
    "slideshow": {
     "slide_type": "slide"
    }
   },
   "outputs": [
    {
     "data": {
      "text/plain": [
       "50000"
      ]
     },
     "execution_count": 12,
     "metadata": {},
     "output_type": "execute_result"
    }
   ],
   "source": [
    "len(troll_df)"
   ]
  },
  {
   "cell_type": "code",
   "execution_count": 13,
   "metadata": {
    "slideshow": {
     "slide_type": "fragment"
    }
   },
   "outputs": [
    {
     "data": {
      "text/plain": [
       "0.7165"
      ]
     },
     "execution_count": 13,
     "metadata": {},
     "output_type": "execute_result"
    }
   ],
   "source": [
    "35825/50000"
   ]
  },
  {
   "cell_type": "code",
   "execution_count": 15,
   "metadata": {
    "slideshow": {
     "slide_type": "slide"
    }
   },
   "outputs": [
    {
     "data": {
      "text/plain": [
       "0.7165"
      ]
     },
     "execution_count": 15,
     "metadata": {},
     "output_type": "execute_result"
    }
   ],
   "source": [
    "troll_df['tco1_step1'].describe()['count'] / len(troll_df)"
   ]
  },
  {
   "cell_type": "markdown",
   "metadata": {
    "slideshow": {
     "slide_type": "slide"
    }
   },
   "source": [
    "* **How many of the tweets are tagged `RightTroll`?**\n"
   ]
  },
  {
   "cell_type": "code",
   "execution_count": 16,
   "metadata": {
    "slideshow": {
     "slide_type": "fragment"
    }
   },
   "outputs": [
    {
     "data": {
      "text/plain": [
       "NonEnglish      13925\n",
       "RightTroll      11945\n",
       "NewsFeed        10279\n",
       "LeftTroll        7277\n",
       "HashtagGamer     4036\n",
       "Commercial       2118\n",
       "Unknown           230\n",
       "Fearmonger        190\n",
       "Name: account_category, dtype: int64"
      ]
     },
     "execution_count": 16,
     "metadata": {},
     "output_type": "execute_result"
    }
   ],
   "source": [
    "troll_df['account_category'].value_counts()"
   ]
  },
  {
   "cell_type": "code",
   "execution_count": 28,
   "metadata": {},
   "outputs": [
    {
     "data": {
      "text/plain": [
       "11945"
      ]
     },
     "execution_count": 28,
     "metadata": {},
     "output_type": "execute_result"
    }
   ],
   "source": [
    "troll_df['right_troll'].sum()"
   ]
  },
  {
   "cell_type": "code",
   "execution_count": 31,
   "metadata": {
    "slideshow": {
     "slide_type": "slide"
    }
   },
   "outputs": [
    {
     "data": {
      "text/plain": [
       "11945"
      ]
     },
     "execution_count": 31,
     "metadata": {},
     "output_type": "execute_result"
    }
   ],
   "source": [
    "troll_df['account_category'].value_counts()['RightTroll']"
   ]
  },
  {
   "cell_type": "markdown",
   "metadata": {
    "slideshow": {
     "slide_type": "slide"
    }
   },
   "source": [
    "* **What is the median number of following accounts?**"
   ]
  },
  {
   "cell_type": "code",
   "execution_count": 33,
   "metadata": {
    "slideshow": {
     "slide_type": "fragment"
    }
   },
   "outputs": [
    {
     "data": {
      "text/plain": [
       "count    50000.000000\n",
       "mean      3446.866700\n",
       "std       5616.629783\n",
       "min          0.000000\n",
       "25%        322.000000\n",
       "50%       1481.000000\n",
       "75%       4751.000000\n",
       "max      76130.000000\n",
       "Name: following, dtype: float64"
      ]
     },
     "execution_count": 33,
     "metadata": {},
     "output_type": "execute_result"
    }
   ],
   "source": [
    "troll_df['following'].describe()"
   ]
  },
  {
   "cell_type": "markdown",
   "metadata": {
    "slideshow": {
     "slide_type": "slide"
    }
   },
   "source": [
    "### Part III\n",
    "\n",
    "* **Plot a histogram of the number of follower accounts.**\n",
    "\n",
    "Hint:\n",
    "* Remember to enable graph displays in a notebook.\n"
   ]
  },
  {
   "cell_type": "code",
   "execution_count": 34,
   "metadata": {
    "slideshow": {
     "slide_type": "fragment"
    }
   },
   "outputs": [],
   "source": [
    "%matplotlib inline"
   ]
  },
  {
   "cell_type": "code",
   "execution_count": 35,
   "metadata": {
    "slideshow": {
     "slide_type": "slide"
    }
   },
   "outputs": [
    {
     "data": {
      "text/plain": [
       "<matplotlib.axes._subplots.AxesSubplot at 0x11fb55828>"
      ]
     },
     "execution_count": 35,
     "metadata": {},
     "output_type": "execute_result"
    },
    {
     "data": {
      "image/png": "[encoded data removed]",
      "text/plain": [
       "<Figure size 432x288 with 1 Axes>"
      ]
     },
     "metadata": {
      "needs_background": "light"
     },
     "output_type": "display_data"
    }
   ],
   "source": [
    "troll_df['followers'].hist()"
   ]
  },
  {
   "cell_type": "code",
   "execution_count": 20,
   "metadata": {
    "slideshow": {
     "slide_type": "slide"
    }
   },
   "outputs": [
    {
     "data": {
      "text/plain": [
       "count     50000.000000\n",
       "mean       7025.970420\n",
       "std       14363.372185\n",
       "min           0.000000\n",
       "25%         315.000000\n",
       "50%        1255.500000\n",
       "75%       10928.000000\n",
       "max      245274.000000\n",
       "Name: followers, dtype: float64"
      ]
     },
     "execution_count": 20,
     "metadata": {},
     "output_type": "execute_result"
    }
   ],
   "source": [
    "troll_df['followers'].describe()"
   ]
  },
  {
   "cell_type": "markdown",
   "metadata": {
    "slideshow": {
     "slide_type": "slide"
    }
   },
   "source": [
    "* **Plot a histogram of the date the tweets were published, using 100 bins.**"
   ]
  },
  {
   "cell_type": "code",
   "execution_count": 36,
   "metadata": {
    "slideshow": {
     "slide_type": "fragment"
    }
   },
   "outputs": [
    {
     "data": {
      "text/plain": [
       "count              50000\n",
       "unique             47095\n",
       "top       8/5/2017 14:16\n",
       "freq                   5\n",
       "Name: publish_date, dtype: object"
      ]
     },
     "execution_count": 36,
     "metadata": {},
     "output_type": "execute_result"
    }
   ],
   "source": [
    "troll_df['publish_date'].describe()"
   ]
  },
  {
   "cell_type": "code",
   "execution_count": 22,
   "metadata": {
    "slideshow": {
     "slide_type": "slide"
    }
   },
   "outputs": [],
   "source": [
    "troll_df['date'] = pd.to_datetime(troll_df['publish_date'])"
   ]
  },
  {
   "cell_type": "code",
   "execution_count": 23,
   "metadata": {
    "slideshow": {
     "slide_type": "slide"
    }
   },
   "outputs": [
    {
     "name": "stderr",
     "output_type": "stream",
     "text": [
      "/Users/nealcaren/anaconda3/envs/new_anaconda/lib/python3.7/site-packages/pandas/plotting/_converter.py:129: FutureWarning: Using an implicitly registered datetime converter for a matplotlib plotting method. The converter was registered by pandas on import. Future versions of pandas will require you to explicitly register matplotlib converters.\n",
      "\n",
      "To register the converters:\n",
      "\t>>> from pandas.plotting import register_matplotlib_converters\n",
      "\t>>> register_matplotlib_converters()\n",
      "  warnings.warn(msg, FutureWarning)\n"
     ]
    },
    {
     "data": {
      "text/plain": [
       "<matplotlib.axes._subplots.AxesSubplot at 0x103757470>"
      ]
     },
     "execution_count": 23,
     "metadata": {},
     "output_type": "execute_result"
    },
    {
     "data": {
      "image/png": "[encoded data removed]",
      "text/plain": [
       "<Figure size 432x288 with 1 Axes>"
      ]
     },
     "metadata": {
      "needs_background": "light"
     },
     "output_type": "display_data"
    }
   ],
   "source": [
    "troll_df['date'].hist()"
   ]
  },
  {
   "cell_type": "code",
   "execution_count": 24,
   "metadata": {
    "slideshow": {
     "slide_type": "slide"
    }
   },
   "outputs": [
    {
     "data": {
      "text/plain": [
       "<matplotlib.axes._subplots.AxesSubplot at 0x113e06860>"
      ]
     },
     "execution_count": 24,
     "metadata": {},
     "output_type": "execute_result"
    },
    {
     "data": {
      "image/png": "[encoded data removed]",
      "text/plain": [
       "<Figure size 432x288 with 1 Axes>"
      ]
     },
     "metadata": {
      "needs_background": "light"
     },
     "output_type": "display_data"
    }
   ],
   "source": [
    "troll_df['date'].hist(bins=5"
   ]
  },
  {
   "cell_type": "markdown",
   "metadata": {
    "slideshow": {
     "slide_type": "slide"
    }
   },
   "source": [
    "### Part IV\n",
    "\n",
    "* **Create  a histogram of a new variable `tweet_length` that is the number of words in the tweet (`content`).**\n",
    "\n",
    "Hint:\n",
    "* This requires you to `apply` a function that you create."
   ]
  },
  {
   "cell_type": "code",
   "execution_count": 37,
   "metadata": {
    "slideshow": {
     "slide_type": "slide"
    }
   },
   "outputs": [],
   "source": [
    "content = 'Egypt Deports French Journalist Amid Crackdown on the Media'"
   ]
  },
  {
   "cell_type": "code",
   "execution_count": 38,
   "metadata": {
    "slideshow": {
     "slide_type": "fragment"
    }
   },
   "outputs": [
    {
     "name": "stdout",
     "output_type": "stream",
     "text": [
      "['Egypt', 'Deports', 'French', 'Journalist', 'Amid', 'Crackdown', 'on', 'the', 'Media']\n"
     ]
    }
   ],
   "source": [
    "content_words = content.split()\n",
    "print(content_words)"
   ]
  },
  {
   "cell_type": "code",
   "execution_count": 39,
   "metadata": {
    "slideshow": {
     "slide_type": "slide"
    }
   },
   "outputs": [
    {
     "name": "stdout",
     "output_type": "stream",
     "text": [
      "9\n"
     ]
    }
   ],
   "source": [
    "word_count = len(content_words)\n",
    "print(word_count)"
   ]
  },
  {
   "cell_type": "code",
   "execution_count": 47,
   "metadata": {
    "slideshow": {
     "slide_type": "slide"
    }
   },
   "outputs": [],
   "source": [
    "def word_counter(content):\n",
    "    '''Count the number of words in a string.'''\n",
    "    content_words = content.split()\n",
    "    word_count = len(content_words)\n",
    "    return word_count"
   ]
  },
  {
   "cell_type": "markdown",
   "metadata": {
    "slideshow": {
     "slide_type": "slide"
    }
   },
   "source": [
    "![](images/function.png)"
   ]
  },
  {
   "cell_type": "code",
   "execution_count": 42,
   "metadata": {
    "slideshow": {
     "slide_type": "fragment"
    }
   },
   "outputs": [
    {
     "data": {
      "text/plain": [
       "9"
      ]
     },
     "execution_count": 42,
     "metadata": {},
     "output_type": "execute_result"
    }
   ],
   "source": [
    "word_counter(content)"
   ]
  },
  {
   "cell_type": "code",
   "execution_count": 43,
   "metadata": {
    "slideshow": {
     "slide_type": "slide"
    }
   },
   "outputs": [
    {
     "data": {
      "text/plain": [
       "4"
      ]
     },
     "execution_count": 43,
     "metadata": {},
     "output_type": "execute_result"
    }
   ],
   "source": [
    "word_counter('The birds are chirping.')"
   ]
  },
  {
   "cell_type": "code",
   "execution_count": 44,
   "metadata": {
    "slideshow": {
     "slide_type": "slide"
    }
   },
   "outputs": [
    {
     "data": {
      "text/plain": [
       "0        22\n",
       "1         7\n",
       "2        13\n",
       "3        10\n",
       "4        11\n",
       "5        15\n",
       "6         4\n",
       "7        10\n",
       "8        13\n",
       "9        22\n",
       "10       11\n",
       "11       19\n",
       "12       11\n",
       "13       11\n",
       "14       10\n",
       "15       11\n",
       "16        2\n",
       "17       15\n",
       "18       19\n",
       "19       13\n",
       "20       15\n",
       "21        9\n",
       "22       17\n",
       "23       16\n",
       "24        6\n",
       "25       11\n",
       "26       21\n",
       "27       11\n",
       "28       11\n",
       "29        7\n",
       "         ..\n",
       "49970    22\n",
       "49971     1\n",
       "49972    12\n",
       "49973     3\n",
       "49974     4\n",
       "49975    18\n",
       "49976     8\n",
       "49977    13\n",
       "49978    15\n",
       "49979     7\n",
       "49980    13\n",
       "49981    20\n",
       "49982     4\n",
       "49983     7\n",
       "49984    12\n",
       "49985    11\n",
       "49986    23\n",
       "49987    16\n",
       "49988    17\n",
       "49989     7\n",
       "49990    21\n",
       "49991    11\n",
       "49992     9\n",
       "49993    13\n",
       "49994    14\n",
       "49995     8\n",
       "49996     4\n",
       "49997    16\n",
       "49998     8\n",
       "49999     5\n",
       "Name: content, Length: 50000, dtype: int64"
      ]
     },
     "execution_count": 44,
     "metadata": {},
     "output_type": "execute_result"
    }
   ],
   "source": [
    "troll_df['content'].apply(word_counter)"
   ]
  },
  {
   "cell_type": "code",
   "execution_count": 45,
   "metadata": {
    "slideshow": {
     "slide_type": "slide"
    }
   },
   "outputs": [],
   "source": [
    "troll_df['tweet_length'] = troll_df['content'].apply(word_counter)"
   ]
  },
  {
   "cell_type": "code",
   "execution_count": 46,
   "metadata": {
    "slideshow": {
     "slide_type": "slide"
    }
   },
   "outputs": [
    {
     "data": {
      "text/plain": [
       "<matplotlib.axes._subplots.AxesSubplot at 0x1261a10f0>"
      ]
     },
     "execution_count": 46,
     "metadata": {},
     "output_type": "execute_result"
    },
    {
     "data": {
      "image/png": "[encoded data removed]",
      "text/plain": [
       "<Figure size 432x288 with 1 Axes>"
      ]
     },
     "metadata": {
      "needs_background": "light"
     },
     "output_type": "display_data"
    }
   ],
   "source": [
    "troll_df['tweet_length'].hist(bins=40)"
   ]
  },
  {
   "cell_type": "markdown",
   "metadata": {
    "slideshow": {
     "slide_type": "slide"
    }
   },
   "source": [
    "* **What are the ten most frequently occur first words in the tweets?**\n",
    "\n",
    "Hint:\n",
    "* Create a new variable `first_word` that is the first word of the tweet (`content`).\n",
    "* This requires you to `apply` a function that you create."
   ]
  },
  {
   "cell_type": "code",
   "execution_count": 34,
   "metadata": {
    "slideshow": {
     "slide_type": "slide"
    }
   },
   "outputs": [],
   "source": [
    "def first_word(content):\n",
    "    content_words = content.split()\n",
    "    first_word = content_words[0]\n",
    "    return first_word"
   ]
  },
  {
   "cell_type": "code",
   "execution_count": 35,
   "metadata": {
    "slideshow": {
     "slide_type": "fragment"
    }
   },
   "outputs": [
    {
     "data": {
      "text/plain": [
       "'Egypt'"
      ]
     },
     "execution_count": 35,
     "metadata": {},
     "output_type": "execute_result"
    }
   ],
   "source": [
    "first_word(content)"
   ]
  },
  {
   "cell_type": "code",
   "execution_count": 36,
   "metadata": {
    "slideshow": {
     "slide_type": "slide"
    }
   },
   "outputs": [],
   "source": [
    "troll_df['first_word'] = troll_df['content'].apply(first_word)"
   ]
  },
  {
   "cell_type": "code",
   "execution_count": 37,
   "metadata": {
    "slideshow": {
     "slide_type": "slide"
    }
   },
   "outputs": [
    {
     "data": {
      "text/plain": [
       "RT          1148\n",
       "В            925\n",
       "The          739\n",
       "I            497\n",
       "Trump        273\n",
       "This         264\n",
       "A            227\n",
       "#TopNews     226\n",
       "New          222\n",
       "Man          215\n",
       "Name: first_word, dtype: int64"
      ]
     },
     "execution_count": 37,
     "metadata": {},
     "output_type": "execute_result"
    }
   ],
   "source": [
    "troll_df['first_word'].value_counts()[:10]"
   ]
  },
  {
   "cell_type": "code",
   "execution_count": null,
   "metadata": {},
   "outputs": [],
   "source": []
  },
  {
   "cell_type": "code",
   "execution_count": null,
   "metadata": {},
   "outputs": [],
   "source": []
  }
 ],
 "metadata": {
  "celltoolbar": "Slideshow",
  "kernelspec": {
   "display_name": "Python 3",
   "language": "python",
   "name": "python3"
  },
  "language_info": {
   "codemirror_mode": {
    "name": "ipython",
    "version": 3
   },
   "file_extension": ".py",
   "mimetype": "text/x-python",
   "name": "python",
   "nbconvert_exporter": "python",
   "pygments_lexer": "ipython3",
   "version": "3.6.8"
  }
 },
 "nbformat": 4,
 "nbformat_minor": 2
}

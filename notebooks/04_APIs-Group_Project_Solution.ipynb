{
 "cells": [
  {
   "cell_type": "markdown",
   "metadata": {
    "slideshow": {
     "slide_type": "slide"
    }
   },
   "source": [
    "# Group Project\n",
    "\n",
    "\n",
    "In your Wednesday Group, pick a famous person on Twitter and estimate whether they follow more men or women on Twitter. When done, evaluate the strenght of your study.\n",
    "\n",
    "\n",
    "Thinks to know:\n",
    "* On Twitter, the people that you follow are called your \"friends\". The people that follow you are called \"followers.\"\n",
    "* [Twython](https://twython.readthedocs.io/en/latest/api.html) has a method (get_friends_list) for returning a list of up to 200 friends. The relevant parameters are `screen_name` and `count`. In your study today, only look at the 200 most recent friends.\n",
    "* You can use my API but don't use it too much. There are strict [rate limits](https://developer.twitter.com/en/docs/basics/rate-limits.html). \n",
    "* The python package [`gender_guesser`](https://pypi.org/project/gender-guesser/) can be used to estimate a person's gender based on first name. You will likely need to install it.\n",
    "\n",
    "* Before you begin programming, write out each of the steps you'll need to do. \n",
    "\n",
    "Good luck!"
   ]
  },
  {
   "cell_type": "code",
   "execution_count": 1,
   "metadata": {},
   "outputs": [],
   "source": [
    "%matplotlib inline\n",
    "\n",
    "import pandas as pd\n",
    "from twython import Twython\n",
    "import gender_guesser.detector as gender\n"
   ]
  },
  {
   "cell_type": "code",
   "execution_count": 2,
   "metadata": {},
   "outputs": [],
   "source": [
    "# My info\n",
    "APP_KEY            = 'J8TGgv1SlKgAtqvxGZzc9XiNx'\n",
    "APP_SECRET         = '8bEieGM73FLqbnWu6WcTR3vM6ICfEBEmQ8lXgqojw5IL1uzQ0Z'\n",
    "OAUTH_TOKEN        = '594565064-wshfaIrt0SvJQzlm4Jj1Dl2N45yDnJMaj851UjMw'\n",
    "OAUTH_TOKEN_SECRET = 'gqFB5xtegNnQKzSoH701POPRM9iK7QfJ2Wr0VMDweETse'\n",
    "\n",
    "\n",
    "twitter = Twython(APP_KEY,\n",
    "                  APP_SECRET,\n",
    "                  OAUTH_TOKEN,\n",
    "                  OAUTH_TOKEN_SECRET)\n",
    "\n",
    "def get_friends(username):\n",
    "    '''Grab the 200 most recent people follwed.'''\n",
    "    user_friends = twitter.get_friends_list(screen_name=username,\n",
    "                                           count = 200)\n",
    "    friend_df = pd.DataFrame(user_friends['users'])\n",
    "    return friend_df"
   ]
  },
  {
   "cell_type": "code",
   "execution_count": 3,
   "metadata": {
    "slideshow": {
     "slide_type": "slide"
    }
   },
   "outputs": [],
   "source": [
    "d = gender.Detector()\n",
    "def guess_gender(name):\n",
    "    '''Guess gender based on first name'''\n",
    "    name_split = name.split()\n",
    "    first_name = name_split[0]\n",
    "    gender = d.get_gender(first_name)\n",
    "    return gender\n"
   ]
  },
  {
   "cell_type": "code",
   "execution_count": 4,
   "metadata": {
    "slideshow": {
     "slide_type": "slide"
    }
   },
   "outputs": [],
   "source": [
    "def twitter_friend_genders(username):\n",
    "    '''Estimate gender of a Twitter user's friends.'''\n",
    "    friend_df = get_friends(username)\n",
    "    friend_df['gender'] = friend_df['name'].apply(guess_gender)\n",
    "    #reports\n",
    "    friend_df['gender'].value_counts(normalize=True).plot(kind='bar')\n",
    "    print(friend_df['gender'].value_counts())\n",
    "    return friend_df"
   ]
  },
  {
   "cell_type": "code",
   "execution_count": 5,
   "metadata": {
    "slideshow": {
     "slide_type": "slide"
    }
   },
   "outputs": [
    {
     "name": "stdout",
     "output_type": "stream",
     "text": [
      "male             99\n",
      "unknown          47\n",
      "female           38\n",
      "mostly_male       9\n",
      "mostly_female     6\n",
      "andy              1\n",
      "Name: gender, dtype: int64\n"
     ]
    },
    {
     "data": {
      "image/png": "[encoded data removed]",
      "text/plain": [
       "<Figure size 432x288 with 1 Axes>"
      ]
     },
     "metadata": {
      "needs_background": "light"
     },
     "output_type": "display_data"
    }
   ],
   "source": [
    "results = twitter_friend_genders('NateSilver538')"
   ]
  }
 ],
 "metadata": {
  "anaconda-cloud": {},
  "celltoolbar": "Slideshow",
  "kernelspec": {
   "display_name": "Python 3",
   "language": "python",
   "name": "python3"
  },
  "language_info": {
   "codemirror_mode": {
    "name": "ipython",
    "version": 3
   },
   "file_extension": ".py",
   "mimetype": "text/x-python",
   "name": "python",
   "nbconvert_exporter": "python",
   "pygments_lexer": "ipython3",
   "version": "3.7.0"
  }
 },
 "nbformat": 4,
 "nbformat_minor": 2
}

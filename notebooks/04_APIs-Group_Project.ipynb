{
 "cells": [
  {
   "cell_type": "markdown",
   "metadata": {
    "slideshow": {
     "slide_type": "slide"
    }
   },
   "source": [
    "# Group Project\n",
    "\n",
    "\n",
    "In your Wednesday Group, pick a famous person on Twitter and estimate whether they follow more men or women on Twitter. When done, evaluate the strenght of your study.\n",
    "\n",
    "\n",
    "Thinks to know:\n",
    "* On Twitter, the people that you follow are called your \"friends\". The people that follow you are called \"followers.\"\n",
    "* [Twython](https://twython.readthedocs.io/en/latest/api.html) has a method (get_friends_list) for returning a list of up to 200 friends. The relevant parameters are `screen_name` and `count`. In your study today, only look at the 200 most recent friends.\n",
    "* You can use my API but don't use it too much. There are strict [rate limits](https://developer.twitter.com/en/docs/basics/rate-limits.html). \n",
    "* The python package [`gender_guesser`](https://pypi.org/project/gender-guesser/) can be used to estimate a person's gender based on first name. You will likely need to install it.\n",
    "\n",
    "* Before you begin programming, write out each of the steps you'll need to do. \n",
    "\n",
    "Good luck!"
   ]
  },
  {
   "cell_type": "code",
   "execution_count": 28,
   "metadata": {
    "slideshow": {
     "slide_type": "fragment"
    }
   },
   "outputs": [],
   "source": [
    "# My info\n",
    "\n",
    "APP_KEY            = 'J8TGgv1SlKgAtqvxGZzc9XiNx'\n",
    "APP_SECRET         = '8bEieGM73FLqbnWu6WcTR3vM6ICfEBEmQ8lXgqojw5IL1uzQ0Z'\n",
    "OAUTH_TOKEN        = '594565064-wshfaIrt0SvJQzlm4Jj1Dl2N45yDnJMaj851UjMw'\n",
    "OAUTH_TOKEN_SECRET = 'gqFB5xtegNnQKzSoH701POPRM9iK7QfJ2Wr0VMDweETse'\n"
   ]
  },
  {
   "cell_type": "code",
   "execution_count": null,
   "metadata": {},
   "outputs": [],
   "source": []
  }
 ],
 "metadata": {
  "anaconda-cloud": {},
  "kernelspec": {
   "display_name": "Python 3",
   "language": "python",
   "name": "python3"
  },
  "language_info": {
   "codemirror_mode": {
    "name": "ipython",
    "version": 3
   },
   "file_extension": ".py",
   "mimetype": "text/x-python",
   "name": "python",
   "nbconvert_exporter": "python",
   "pygments_lexer": "ipython3",
   "version": "3.6.8"
  }
 },
 "nbformat": 4,
 "nbformat_minor": 2
}

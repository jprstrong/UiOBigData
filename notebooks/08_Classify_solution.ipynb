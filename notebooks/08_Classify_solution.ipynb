{
 "cells": [
  {
   "cell_type": "markdown",
   "metadata": {
    "slideshow": {
     "slide_type": "slide"
    }
   },
   "source": [
    "### Text Classification"
   ]
  },
  {
   "cell_type": "code",
   "execution_count": 1,
   "metadata": {
    "slideshow": {
     "slide_type": "slide"
    }
   },
   "outputs": [],
   "source": [
    "%matplotlib inline\n",
    "\n",
    "import pandas as pd"
   ]
  },
  {
   "cell_type": "code",
   "execution_count": 2,
   "metadata": {
    "slideshow": {
     "slide_type": "slide"
    }
   },
   "outputs": [],
   "source": [
    "wine_df = pd.read_csv('/Users/nealcaren/Documents/GitHub/UiOBigData/draft/data/wine_reviews.csv')"
   ]
  },
  {
   "cell_type": "code",
   "execution_count": 3,
   "metadata": {
    "slideshow": {
     "slide_type": "fragment"
    }
   },
   "outputs": [
    {
     "data": {
      "text/plain": [
       "87     16933\n",
       "86     12600\n",
       "91     11359\n",
       "92      9613\n",
       "85      9530\n",
       "93      6489\n",
       "84      6480\n",
       "94      3758\n",
       "83      3025\n",
       "82      1836\n",
       "95      1535\n",
       "81       692\n",
       "96       523\n",
       "80       397\n",
       "97       229\n",
       "98        77\n",
       "99        33\n",
       "100       19\n",
       "Name: points, dtype: int64"
      ]
     },
     "execution_count": 3,
     "metadata": {},
     "output_type": "execute_result"
    }
   ],
   "source": [
    "wine_df['points'].value_counts()"
   ]
  },
  {
   "cell_type": "code",
   "execution_count": 4,
   "metadata": {
    "slideshow": {
     "slide_type": "slide"
    }
   },
   "outputs": [
    {
     "data": {
      "text/plain": [
       "0    Aromas include tropical fruit, broom, brimston...\n",
       "1    This is ripe and fruity, a wine that is smooth...\n",
       "2    Tart and snappy, the flavors of lime flesh and...\n",
       "3    Pineapple rind, lemon pith and orange blossom ...\n",
       "4    Much like the regular bottling from 2012, this...\n",
       "Name: description, dtype: object"
      ]
     },
     "execution_count": 4,
     "metadata": {},
     "output_type": "execute_result"
    }
   ],
   "source": [
    "wine_df['description'][:5]"
   ]
  },
  {
   "cell_type": "markdown",
   "metadata": {
    "slideshow": {
     "slide_type": "slide"
    }
   },
   "source": [
    "![google_search.png](images/google_search.png)"
   ]
  },
  {
   "cell_type": "code",
   "execution_count": 5,
   "metadata": {
    "slideshow": {
     "slide_type": "slide"
    }
   },
   "outputs": [],
   "source": [
    "pd.set_option('display.max_colwidth', 120)\n",
    "\n"
   ]
  },
  {
   "cell_type": "code",
   "execution_count": 6,
   "metadata": {
    "slideshow": {
     "slide_type": "slide"
    }
   },
   "outputs": [
    {
     "data": {
      "text/plain": [
       "0    Aromas include tropical fruit, broom, brimstone and dried herb. The palate isn't overly expressive, offering unripen...\n",
       "1    This is ripe and fruity, a wine that is smooth while still structured. Firm tannins are filled out with juicy red be...\n",
       "2    Tart and snappy, the flavors of lime flesh and rind dominate. Some green pineapple pokes through, with crisp acidity...\n",
       "3    Pineapple rind, lemon pith and orange blossom start off the aromas. The palate is a bit more opulent, with notes of ...\n",
       "4    Much like the regular bottling from 2012, this comes across as rather rough and tannic, with rustic, earthy, herbal ...\n",
       "Name: description, dtype: object"
      ]
     },
     "execution_count": 6,
     "metadata": {},
     "output_type": "execute_result"
    }
   ],
   "source": [
    "wine_df['description'][:5]"
   ]
  },
  {
   "cell_type": "code",
   "execution_count": 7,
   "metadata": {
    "slideshow": {
     "slide_type": "slide"
    }
   },
   "outputs": [
    {
     "data": {
      "text/html": [
       "<div>\n",
       "<style scoped>\n",
       "    .dataframe tbody tr th:only-of-type {\n",
       "        vertical-align: middle;\n",
       "    }\n",
       "\n",
       "    .dataframe tbody tr th {\n",
       "        vertical-align: top;\n",
       "    }\n",
       "\n",
       "    .dataframe thead th {\n",
       "        text-align: right;\n",
       "    }\n",
       "</style>\n",
       "<table border=\"1\" class=\"dataframe\">\n",
       "  <thead>\n",
       "    <tr style=\"text-align: right;\">\n",
       "      <th></th>\n",
       "      <th>country</th>\n",
       "      <th>description</th>\n",
       "      <th>designation</th>\n",
       "      <th>points</th>\n",
       "      <th>price</th>\n",
       "      <th>province</th>\n",
       "      <th>region_1</th>\n",
       "      <th>region_2</th>\n",
       "      <th>taster_name</th>\n",
       "      <th>taster_twitter_handle</th>\n",
       "      <th>title</th>\n",
       "      <th>variety</th>\n",
       "      <th>winery</th>\n",
       "      <th>rating</th>\n",
       "    </tr>\n",
       "  </thead>\n",
       "  <tbody>\n",
       "    <tr>\n",
       "      <th>68799</th>\n",
       "      <td>US</td>\n",
       "      <td>Bright aromas and vibrant fruit flavors combine for a very energized, beautifully balanced wine that will shine at t...</td>\n",
       "      <td>NaN</td>\n",
       "      <td>91</td>\n",
       "      <td>35.0</td>\n",
       "      <td>California</td>\n",
       "      <td>Anderson Valley</td>\n",
       "      <td>NaN</td>\n",
       "      <td>Jim Gordon</td>\n",
       "      <td>@gordone_cellars</td>\n",
       "      <td>Carpe Diem 2014 Pinot Noir (Anderson Valley)</td>\n",
       "      <td>Pinot Noir</td>\n",
       "      <td>Carpe Diem</td>\n",
       "      <td>High</td>\n",
       "    </tr>\n",
       "    <tr>\n",
       "      <th>54408</th>\n",
       "      <td>Argentina</td>\n",
       "      <td>Aromas of briary berries mixed with tomato leaf set up a compact bumpy palate. Saucy herbal tomatoey berry flavors a...</td>\n",
       "      <td>Finca Lalande</td>\n",
       "      <td>87</td>\n",
       "      <td>16.0</td>\n",
       "      <td>Mendoza Province</td>\n",
       "      <td>Mendoza</td>\n",
       "      <td>NaN</td>\n",
       "      <td>Michael Schachner</td>\n",
       "      <td>@wineschach</td>\n",
       "      <td>Domaine Bousquet 2015 Finca Lalande Cabernet Sauvignon (Mendoza)</td>\n",
       "      <td>Cabernet Sauvignon</td>\n",
       "      <td>Domaine Bousquet</td>\n",
       "      <td>Low</td>\n",
       "    </tr>\n",
       "    <tr>\n",
       "      <th>15716</th>\n",
       "      <td>US</td>\n",
       "      <td>Dark mauve in color, nearly approaching a red-wine tone, this shows a fruit-forward nose of red cherries and strawbe...</td>\n",
       "      <td>Pedregal Vineyard Rose of</td>\n",
       "      <td>86</td>\n",
       "      <td>23.0</td>\n",
       "      <td>California</td>\n",
       "      <td>San Benito County</td>\n",
       "      <td>Central Coast</td>\n",
       "      <td>Matt Kettmann</td>\n",
       "      <td>@mattkettmann</td>\n",
       "      <td>Manzoni 2014 Pedregal Vineyard Rose of Pinot Noir (San Benito County)</td>\n",
       "      <td>Pinot Noir</td>\n",
       "      <td>Manzoni</td>\n",
       "      <td>Low</td>\n",
       "    </tr>\n",
       "    <tr>\n",
       "      <th>12816</th>\n",
       "      <td>US</td>\n",
       "      <td>Not much going on with this dry, crisp Chardonnay. It has watery flavors of citrus fruits and apricots, with a hint ...</td>\n",
       "      <td>NaN</td>\n",
       "      <td>83</td>\n",
       "      <td>20.0</td>\n",
       "      <td>California</td>\n",
       "      <td>Sonoma County</td>\n",
       "      <td>Sonoma</td>\n",
       "      <td>NaN</td>\n",
       "      <td>NaN</td>\n",
       "      <td>Simple Math Cellars 2008 Chardonnay (Sonoma County)</td>\n",
       "      <td>Chardonnay</td>\n",
       "      <td>Simple Math Cellars</td>\n",
       "      <td>Low</td>\n",
       "    </tr>\n",
       "    <tr>\n",
       "      <th>33990</th>\n",
       "      <td>Chile</td>\n",
       "      <td>The Carmenère in this Carm-Cabernet-Syrah blend is the lead singer, so expect a touch of minty green and herbal esse...</td>\n",
       "      <td>Rivalta Limited Selection</td>\n",
       "      <td>91</td>\n",
       "      <td>68.0</td>\n",
       "      <td>Cachapoal Valley</td>\n",
       "      <td>NaN</td>\n",
       "      <td>NaN</td>\n",
       "      <td>Michael Schachner</td>\n",
       "      <td>@wineschach</td>\n",
       "      <td>Santa Ema 2005 Rivalta Limited Selection Red (Cachapoal Valley)</td>\n",
       "      <td>Red Blend</td>\n",
       "      <td>Santa Ema</td>\n",
       "      <td>High</td>\n",
       "    </tr>\n",
       "  </tbody>\n",
       "</table>\n",
       "</div>"
      ],
      "text/plain": [
       "         country  \\\n",
       "68799         US   \n",
       "54408  Argentina   \n",
       "15716         US   \n",
       "12816         US   \n",
       "33990      Chile   \n",
       "\n",
       "                                                                                                                   description  \\\n",
       "68799  Bright aromas and vibrant fruit flavors combine for a very energized, beautifully balanced wine that will shine at t...   \n",
       "54408  Aromas of briary berries mixed with tomato leaf set up a compact bumpy palate. Saucy herbal tomatoey berry flavors a...   \n",
       "15716  Dark mauve in color, nearly approaching a red-wine tone, this shows a fruit-forward nose of red cherries and strawbe...   \n",
       "12816  Not much going on with this dry, crisp Chardonnay. It has watery flavors of citrus fruits and apricots, with a hint ...   \n",
       "33990  The Carmenère in this Carm-Cabernet-Syrah blend is the lead singer, so expect a touch of minty green and herbal esse...   \n",
       "\n",
       "                     designation  points  price          province  \\\n",
       "68799                        NaN      91   35.0        California   \n",
       "54408              Finca Lalande      87   16.0  Mendoza Province   \n",
       "15716  Pedregal Vineyard Rose of      86   23.0        California   \n",
       "12816                        NaN      83   20.0        California   \n",
       "33990  Rivalta Limited Selection      91   68.0  Cachapoal Valley   \n",
       "\n",
       "                region_1       region_2        taster_name  \\\n",
       "68799    Anderson Valley            NaN         Jim Gordon   \n",
       "54408            Mendoza            NaN  Michael Schachner   \n",
       "15716  San Benito County  Central Coast      Matt Kettmann   \n",
       "12816      Sonoma County         Sonoma                NaN   \n",
       "33990                NaN            NaN  Michael Schachner   \n",
       "\n",
       "      taster_twitter_handle  \\\n",
       "68799      @gordone_cellars   \n",
       "54408           @wineschach   \n",
       "15716         @mattkettmann   \n",
       "12816                   NaN   \n",
       "33990           @wineschach   \n",
       "\n",
       "                                                                       title  \\\n",
       "68799                           Carpe Diem 2014 Pinot Noir (Anderson Valley)   \n",
       "54408       Domaine Bousquet 2015 Finca Lalande Cabernet Sauvignon (Mendoza)   \n",
       "15716  Manzoni 2014 Pedregal Vineyard Rose of Pinot Noir (San Benito County)   \n",
       "12816                    Simple Math Cellars 2008 Chardonnay (Sonoma County)   \n",
       "33990        Santa Ema 2005 Rivalta Limited Selection Red (Cachapoal Valley)   \n",
       "\n",
       "                  variety               winery rating  \n",
       "68799          Pinot Noir           Carpe Diem   High  \n",
       "54408  Cabernet Sauvignon     Domaine Bousquet    Low  \n",
       "15716          Pinot Noir              Manzoni    Low  \n",
       "12816          Chardonnay  Simple Math Cellars    Low  \n",
       "33990           Red Blend            Santa Ema   High  "
      ]
     },
     "execution_count": 7,
     "metadata": {},
     "output_type": "execute_result"
    }
   ],
   "source": [
    "wine_df.sample(5)"
   ]
  },
  {
   "cell_type": "markdown",
   "metadata": {
    "slideshow": {
     "slide_type": "slide"
    }
   },
   "source": [
    "### Turning words in to features"
   ]
  },
  {
   "cell_type": "code",
   "execution_count": 8,
   "metadata": {
    "slideshow": {
     "slide_type": "slide"
    }
   },
   "outputs": [],
   "source": [
    "from sklearn.feature_extraction.text import CountVectorizer\n"
   ]
  },
  {
   "cell_type": "markdown",
   "metadata": {
    "slideshow": {
     "slide_type": "slide"
    }
   },
   "source": [
    "# 1. Set up your model, fixing any parameters."
   ]
  },
  {
   "cell_type": "code",
   "execution_count": 9,
   "metadata": {
    "slideshow": {
     "slide_type": "slide"
    }
   },
   "outputs": [],
   "source": [
    "vectorizer = CountVectorizer(lowercase   = True,\n",
    "                             ngram_range = (1,1),\n",
    "                             stop_words  = 'english',\n",
    "                             min_df      = .01,\n",
    "                             max_features = None)"
   ]
  },
  {
   "cell_type": "markdown",
   "metadata": {
    "slideshow": {
     "slide_type": "slide"
    }
   },
   "source": [
    "# 2. Train your model"
   ]
  },
  {
   "cell_type": "markdown",
   "metadata": {
    "slideshow": {
     "slide_type": "fragment"
    }
   },
   "source": [
    "`model.fit(X)`"
   ]
  },
  {
   "cell_type": "code",
   "execution_count": 10,
   "metadata": {
    "slideshow": {
     "slide_type": "fragment"
    }
   },
   "outputs": [
    {
     "data": {
      "text/plain": [
       "CountVectorizer(analyzer='word', binary=False, decode_error='strict',\n",
       "                dtype=<class 'numpy.int64'>, encoding='utf-8', input='content',\n",
       "                lowercase=True, max_df=1.0, max_features=None, min_df=0.01,\n",
       "                ngram_range=(1, 1), preprocessor=None, stop_words='english',\n",
       "                strip_accents=None, token_pattern='(?u)\\\\b\\\\w\\\\w+\\\\b',\n",
       "                tokenizer=None, vocabulary=None)"
      ]
     },
     "execution_count": 10,
     "metadata": {},
     "output_type": "execute_result"
    }
   ],
   "source": [
    "vectorizer.fit(wine_df['description'])"
   ]
  },
  {
   "cell_type": "markdown",
   "metadata": {
    "slideshow": {
     "slide_type": "slide"
    }
   },
   "source": [
    "# Inpsect your model"
   ]
  },
  {
   "cell_type": "code",
   "execution_count": 11,
   "metadata": {
    "slideshow": {
     "slide_type": "fragment"
    }
   },
   "outputs": [
    {
     "data": {
      "text/plain": [
       "400"
      ]
     },
     "execution_count": 11,
     "metadata": {},
     "output_type": "execute_result"
    }
   ],
   "source": [
    "len(vectorizer.get_feature_names())"
   ]
  },
  {
   "cell_type": "markdown",
   "metadata": {
    "slideshow": {
     "slide_type": "slide"
    }
   },
   "source": [
    "# 3. Create new data based on your model"
   ]
  },
  {
   "cell_type": "code",
   "execution_count": 12,
   "metadata": {
    "slideshow": {
     "slide_type": "slide"
    }
   },
   "outputs": [],
   "source": [
    "review_word_counts = vectorizer.transform(wine_df['description'])\n",
    "\n",
    "\n"
   ]
  },
  {
   "cell_type": "markdown",
   "metadata": {
    "slideshow": {
     "slide_type": "slide"
    }
   },
   "source": [
    "What words are associated with well-reviewed wines?"
   ]
  },
  {
   "cell_type": "code",
   "execution_count": 13,
   "metadata": {
    "slideshow": {
     "slide_type": "fragment"
    }
   },
   "outputs": [
    {
     "data": {
      "text/plain": [
       "Low     51493\n",
       "High    33635\n",
       "Name: rating, dtype: int64"
      ]
     },
     "execution_count": 13,
     "metadata": {},
     "output_type": "execute_result"
    }
   ],
   "source": [
    "wine_df['rating'].value_counts()"
   ]
  },
  {
   "cell_type": "markdown",
   "metadata": {
    "slideshow": {
     "slide_type": "slide"
    }
   },
   "source": [
    "# 1. Set up your model, fixing any parameters."
   ]
  },
  {
   "cell_type": "code",
   "execution_count": 14,
   "metadata": {
    "slideshow": {
     "slide_type": "fragment"
    }
   },
   "outputs": [],
   "source": [
    "from sklearn.naive_bayes import MultinomialNB"
   ]
  },
  {
   "cell_type": "code",
   "execution_count": 15,
   "metadata": {
    "slideshow": {
     "slide_type": "fragment"
    }
   },
   "outputs": [],
   "source": [
    "nb_classifier = MultinomialNB()"
   ]
  },
  {
   "cell_type": "markdown",
   "metadata": {
    "slideshow": {
     "slide_type": "slide"
    }
   },
   "source": [
    "# 2. Fit your model"
   ]
  },
  {
   "cell_type": "markdown",
   "metadata": {
    "slideshow": {
     "slide_type": "fragment"
    }
   },
   "source": [
    "`model.fit(X)`"
   ]
  },
  {
   "cell_type": "markdown",
   "metadata": {
    "slideshow": {
     "slide_type": "fragment"
    }
   },
   "source": [
    "`model.fit(X, Y)`"
   ]
  },
  {
   "cell_type": "code",
   "execution_count": 16,
   "metadata": {
    "slideshow": {
     "slide_type": "fragment"
    }
   },
   "outputs": [
    {
     "data": {
      "text/plain": [
       "MultinomialNB(alpha=1.0, class_prior=None, fit_prior=True)"
      ]
     },
     "execution_count": 16,
     "metadata": {},
     "output_type": "execute_result"
    }
   ],
   "source": [
    "nb_classifier.fit(review_word_counts, wine_df['rating'])"
   ]
  },
  {
   "cell_type": "markdown",
   "metadata": {
    "slideshow": {
     "slide_type": "slide"
    }
   },
   "source": [
    "## We have coefficients now"
   ]
  },
  {
   "cell_type": "code",
   "execution_count": 17,
   "metadata": {
    "slideshow": {
     "slide_type": "fragment"
    }
   },
   "outputs": [
    {
     "data": {
      "text/plain": [
       "array([ -7.33467081,  -7.24590289,  -7.19142933,  -7.20616256,\n",
       "        -7.38885524,  -8.18761044,  -8.89070795, -11.09798286,\n",
       "        -7.20061213,  -7.24397425,  -6.69237287,  -4.00593826,\n",
       "        -6.70465667,  -7.24397425,  -7.25950854,  -6.263145  ,\n",
       "        -6.67477066,  -6.92639671,  -6.56148092,  -6.14471991,\n",
       "        -6.39337878,  -6.09342661,  -7.16437628,  -4.84345499,\n",
       "        -6.96645929,  -6.27185332,  -7.04067957,  -3.78998822,\n",
       "        -6.93484747,  -6.76128647,  -5.86105745,  -7.28728811,\n",
       "        -6.39585097,  -7.30147274,  -6.26459113,  -5.88949074,\n",
       "        -6.73083916,  -7.12085331,  -8.99606846,  -9.17839002,\n",
       "        -6.77928336,  -4.62605818,  -6.80255446,  -7.28127003,\n",
       "        -6.45534174,  -5.38365017,  -5.85864374,  -4.66095875,\n",
       "        -6.82131674,  -5.29641393,  -6.28284647,  -5.05147071,\n",
       "        -7.33256333,  -7.57162234,  -6.77807344,  -5.25233262,\n",
       "        -6.4614902 ,  -7.22300113,  -7.28127003,  -6.99910314,\n",
       "        -6.93202261,  -6.6704181 ,  -5.11679824,  -6.92639671,\n",
       "        -6.60120809,  -7.02817941,  -6.90970648,  -5.45898136,\n",
       "        -6.25953879,  -6.94337025,  -6.60019543,  -6.97231583,\n",
       "        -6.67368074,  -6.92639671,  -8.24885406,  -5.35585418,\n",
       "        -5.83765061,  -6.17138815,  -4.27578547,  -7.14499242,\n",
       "        -5.76966548,  -6.77084449,  -6.78779405,  -4.92438617,\n",
       "        -6.89600763,  -7.57429971,  -5.50665672,  -6.73894574,\n",
       "        -6.66392457,  -7.36248009,  -6.42855828,  -6.28505968,\n",
       "        -6.03022282,  -6.31276643,  -6.62064605,  -7.24783526,\n",
       "        -6.96063686,  -6.76605406,  -7.01583357,  -7.06133161,\n",
       "        -6.71029049,  -6.71937114,  -5.85479388,  -4.80154344,\n",
       "        -7.04698874,  -5.67423501,  -6.93909978,  -6.87981295,\n",
       "        -5.63530735,  -7.44143879,  -6.60934649,  -6.80007922,\n",
       "        -6.5595354 ,  -6.69793772,  -7.28728811,  -7.23057692,\n",
       "        -7.82255487,  -6.81376954,  -6.74594694,  -5.74741811,\n",
       "        -4.30921589,  -6.14087621,  -7.07425586,  -4.5923347 ,\n",
       "        -6.65319485,  -6.59012486,  -5.8944758 ,  -5.40823784,\n",
       "        -6.27696842,  -7.73382675,  -6.93061316,  -6.48106378,\n",
       "        -7.04698874,  -6.99158996,  -7.37558071,  -7.10061653,\n",
       "        -7.26343012,  -5.86882072,  -5.67865535,  -6.2459526 ,\n",
       "        -3.93059431,  -6.04579856,  -7.30761401,  -6.00367509,\n",
       "        -5.63878427,  -6.97820686,  -3.2928417 ,  -6.26459113,\n",
       "        -6.47747633,  -6.96938327,  -8.22287857,  -6.49372218,\n",
       "        -6.8520884 ,  -7.59598078,  -6.53363467,  -7.02507863,\n",
       "        -6.81251719,  -7.17510984,  -4.62241008,  -6.51023631,\n",
       "        -3.71517988,  -6.61755166,  -5.08005344,  -4.95653214,\n",
       "        -7.05015831,  -6.33580892,  -7.05015831,  -7.01583357,\n",
       "        -5.10606387,  -6.59514747,  -6.14664731,  -6.52327188,\n",
       "        -6.65747293,  -4.95888231,  -7.0066732 ,  -6.93626289,\n",
       "        -7.71513462,  -6.31885937,  -6.23114795,  -5.97077739,\n",
       "        -5.341953  ,  -6.24808555,  -6.13069801,  -5.71641117,\n",
       "        -6.0574946 ,  -6.2283527 ,  -6.82384519,  -8.7337042 ,\n",
       "        -7.71205295,  -6.85469596,  -7.23821054,  -6.52514805,\n",
       "        -6.20695044,  -6.99910314,  -5.54467098,  -5.76131929,\n",
       "        -7.86825702,  -7.3516925 ,  -5.98599507,  -7.40910341,\n",
       "        -6.09770404,  -6.30144128,  -5.36670314,  -7.73382675,\n",
       "        -6.37867263,  -4.70226606,  -6.0983166 ,  -5.25602072,\n",
       "        -5.78612127,  -7.55834193,  -5.70146693,  -6.07052025,\n",
       "        -6.74010921,  -7.00212429,  -8.26476952,  -6.94765903,\n",
       "        -7.48706495,  -6.41165171,  -6.702412  ,  -6.84948762,\n",
       "        -6.85339133,  -6.96792021,  -5.44485592,  -5.80559211,\n",
       "        -5.85095879,  -7.36465164,  -6.61344066,  -6.17535117,\n",
       "        -7.07425586,  -6.85339133,  -6.92639671,  -6.90695165,\n",
       "        -7.09396094,  -5.56891459,  -5.8830471 ,  -6.99458846,\n",
       "        -7.02817941,  -6.61652233,  -6.28653788,  -7.16082388,\n",
       "        -6.39998491,  -4.75027528,  -5.67183212,  -4.66518893,\n",
       "        -4.6986319 ,  -6.2459526 ,  -6.85469596,  -5.05297755,\n",
       "        -7.28327204,  -7.25365487,  -7.0036383 ,  -5.93631864,\n",
       "        -8.6675644 ,  -5.76526407,  -6.78657379,  -7.55570688,\n",
       "        -6.25953879,  -3.97101903,  -5.3208936 ,  -5.51825303,\n",
       "        -7.03597368,  -5.50665672,  -6.63626323,  -6.70690639,\n",
       "        -7.36465164,  -7.05015831,  -6.01432243,  -6.79884388,\n",
       "        -5.62380415,  -6.54794106,  -6.37059504,  -4.88046989,\n",
       "        -7.05972776,  -7.64080621,  -7.79878465,  -8.18761044,\n",
       "        -7.66987803,  -7.75287494,  -6.19203491,  -6.60019543,\n",
       "        -7.53229879,  -7.87547727,  -7.83988632,  -6.87847515,\n",
       "        -7.48706495,  -7.86825702,  -6.84689358,  -6.3196236 ,\n",
       "        -6.97673084,  -7.26934146,  -5.31303942,  -6.78779405,\n",
       "        -5.67543862,  -4.40533532,  -6.20695044,  -5.30082044,\n",
       "        -6.4676767 ,  -6.84689358,  -6.93768033,  -4.53233384,\n",
       "        -7.40005357,  -6.50194516,  -7.27927203,  -6.48827752,\n",
       "        -6.19608077,  -6.6682489 ,  -6.61755166,  -7.35815108,\n",
       "        -6.83146911,  -5.62724124,  -6.37220535,  -6.47301005,\n",
       "        -7.69375976,  -7.36900895,  -6.39255607,  -6.55468808,\n",
       "        -6.56538337,  -5.28439522,  -6.81502345,  -5.348011  ,\n",
       "        -7.64367565,  -6.95629218,  -5.53940133,  -6.67586177,\n",
       "        -6.82511181,  -6.22974935,  -5.86009127,  -4.62115037,\n",
       "        -6.34989366,  -6.71595622,  -6.83530298,  -6.27185332,\n",
       "        -4.84170949,  -6.91246891,  -5.67183212,  -6.32115382,\n",
       "        -6.53933269,  -6.05573145,  -6.54794106,  -5.97239682,\n",
       "        -6.8430151 ,  -5.68755508,  -6.96354384,  -6.63941615,\n",
       "        -7.56098394,  -4.6830347 ,  -6.39915675,  -6.01883966,\n",
       "        -6.88249391,  -6.31428619,  -5.67183212,  -7.0051546 ,\n",
       "        -4.37644764,  -5.58382124,  -6.64046933,  -5.76000781,\n",
       "        -7.25755351,  -5.23641994,  -6.92080229,  -6.11437624,\n",
       "        -8.05779882,  -6.68243353,  -5.98818805,  -6.60628682,\n",
       "        -6.76844641,  -6.37301147,  -6.80255446,  -6.51023631,\n",
       "        -5.30496925,  -7.25171123,  -6.0307954 ,  -7.30556273,\n",
       "        -5.15566081,  -7.01583357,  -7.00819411,  -8.2973811 ,\n",
       "        -7.43209292,  -7.15024177,  -7.79209566,  -6.78292193,\n",
       "        -7.62376034,  -6.55759365,  -7.55570688,  -6.50194516,\n",
       "        -6.60934649,  -6.37705188,  -7.27727801,  -6.94765903,\n",
       "        -5.01659451,  -6.52420953,  -3.2604285 ,  -7.35384073,\n",
       "        -6.92499517,  -5.85383373,  -7.07263117,  -6.63836407,\n",
       "        -6.35147095,  -6.36098728,  -6.58214078,  -6.49645566])"
      ]
     },
     "execution_count": 17,
     "metadata": {},
     "output_type": "execute_result"
    }
   ],
   "source": [
    "nb_classifier.coef_[0]"
   ]
  },
  {
   "cell_type": "code",
   "execution_count": 18,
   "metadata": {
    "slideshow": {
     "slide_type": "slide"
    }
   },
   "outputs": [],
   "source": [
    "coeficients = pd.Series(nb_classifier.coef_[0],\n",
    "                        index = vectorizer.get_feature_names())"
   ]
  },
  {
   "cell_type": "code",
   "execution_count": 19,
   "metadata": {
    "slideshow": {
     "slide_type": "slide"
    }
   },
   "outputs": [
    {
     "data": {
      "text/plain": [
       "2022          -11.097983\n",
       "beautifully    -9.178390\n",
       "beautiful      -8.996068\n",
       "2020           -8.890708\n",
       "impressive     -8.733704\n",
       "opulent        -8.667564\n",
       "velvety        -8.297381\n",
       "lovely         -8.264770\n",
       "cellar         -8.248854\n",
       "focused        -8.222879\n",
       "potential      -8.187610\n",
       "2019           -8.187610\n",
       "tightly        -8.057799\n",
       "producer       -7.875477\n",
       "layered        -7.868257\n",
       "purple         -7.868257\n",
       "provide        -7.839886\n",
       "develop        -7.822555\n",
       "polished       -7.798785\n",
       "vines          -7.792096\n",
       "dtype: float64"
      ]
     },
     "execution_count": 19,
     "metadata": {},
     "output_type": "execute_result"
    }
   ],
   "source": [
    "coeficients.sort_values(ascending=True)[:20]"
   ]
  },
  {
   "cell_type": "markdown",
   "metadata": {
    "slideshow": {
     "slide_type": "slide"
    }
   },
   "source": [
    "<div class=\"alert alert-info\">\n",
    "<h3> Your turn</h3>\n",
    "<p> Construct a model of UN speeches to distinquish between those before and after the collapse of the Soviet Union.</p>\n",
    "</div>\n"
   ]
  },
  {
   "cell_type": "code",
   "execution_count": 20,
   "metadata": {
    "slideshow": {
     "slide_type": "fragment"
    }
   },
   "outputs": [
    {
     "data": {
      "text/html": [
       "<div>\n",
       "<style scoped>\n",
       "    .dataframe tbody tr th:only-of-type {\n",
       "        vertical-align: middle;\n",
       "    }\n",
       "\n",
       "    .dataframe tbody tr th {\n",
       "        vertical-align: top;\n",
       "    }\n",
       "\n",
       "    .dataframe thead th {\n",
       "        text-align: right;\n",
       "    }\n",
       "</style>\n",
       "<table border=\"1\" class=\"dataframe\">\n",
       "  <thead>\n",
       "    <tr style=\"text-align: right;\">\n",
       "      <th></th>\n",
       "      <th>country_code</th>\n",
       "      <th>speech_text</th>\n",
       "      <th>speech_year</th>\n",
       "    </tr>\n",
       "  </thead>\n",
       "  <tbody>\n",
       "    <tr>\n",
       "      <th>0</th>\n",
       "      <td>MDV</td>\n",
       "      <td>﻿It is indeed a pleasure for me and the members of my delegation to extend to Ambassador Garba our sincere congratul...</td>\n",
       "      <td>1989</td>\n",
       "    </tr>\n",
       "    <tr>\n",
       "      <th>1</th>\n",
       "      <td>FIN</td>\n",
       "      <td>﻿\\nMay I begin by congratulating you. Sir, on your election to the presidency of the General Assembly at its forty-f...</td>\n",
       "      <td>1989</td>\n",
       "    </tr>\n",
       "  </tbody>\n",
       "</table>\n",
       "</div>"
      ],
      "text/plain": [
       "  country_code  \\\n",
       "0          MDV   \n",
       "1          FIN   \n",
       "\n",
       "                                                                                                               speech_text  \\\n",
       "0  ﻿It is indeed a pleasure for me and the members of my delegation to extend to Ambassador Garba our sincere congratul...   \n",
       "1  ﻿\\nMay I begin by congratulating you. Sir, on your election to the presidency of the General Assembly at its forty-f...   \n",
       "\n",
       "   speech_year  \n",
       "0         1989  \n",
       "1         1989  "
      ]
     },
     "execution_count": 20,
     "metadata": {},
     "output_type": "execute_result"
    }
   ],
   "source": [
    "un_df = pd.read_json('files/un-general-debates.json')\n",
    "un_df.head(2)"
   ]
  },
  {
   "cell_type": "code",
   "execution_count": 21,
   "metadata": {},
   "outputs": [
    {
     "data": {
      "text/plain": [
       "0.5939789529772213"
      ]
     },
     "execution_count": 21,
     "metadata": {},
     "output_type": "execute_result"
    }
   ],
   "source": [
    "un_df['post_soviet'] = un_df['speech_year'] > 1991\n",
    "un_df['post_soviet'].mean()"
   ]
  },
  {
   "cell_type": "code",
   "execution_count": 22,
   "metadata": {},
   "outputs": [
    {
     "data": {
      "text/plain": [
       "CountVectorizer(analyzer='word', binary=False, decode_error='strict',\n",
       "                dtype=<class 'numpy.int64'>, encoding='utf-8', input='content',\n",
       "                lowercase=True, max_df=1.0, max_features=None, min_df=0.05,\n",
       "                ngram_range=(1, 1), preprocessor=None, stop_words='english',\n",
       "                strip_accents=None, token_pattern='(?u)\\\\b\\\\w\\\\w+\\\\b',\n",
       "                tokenizer=None, vocabulary=None)"
      ]
     },
     "execution_count": 22,
     "metadata": {},
     "output_type": "execute_result"
    }
   ],
   "source": [
    "un_vectorizer = CountVectorizer(lowercase   = True,\n",
    "                             ngram_range = (1,1),\n",
    "                             stop_words  = 'english',\n",
    "                             min_df      = .05,\n",
    "                             max_features = None)\n",
    "\n",
    "\n",
    "un_vectorizer.fit(un_df['speech_text'])"
   ]
  },
  {
   "cell_type": "code",
   "execution_count": 23,
   "metadata": {},
   "outputs": [
    {
     "name": "stdout",
     "output_type": "stream",
     "text": [
      "3342\n"
     ]
    }
   ],
   "source": [
    "print(len(un_vectorizer.get_feature_names()))\n",
    "\n"
   ]
  },
  {
   "cell_type": "code",
   "execution_count": 24,
   "metadata": {},
   "outputs": [],
   "source": [
    "un_tf = un_vectorizer.transform(un_df['speech_text'])"
   ]
  },
  {
   "cell_type": "code",
   "execution_count": 25,
   "metadata": {},
   "outputs": [
    {
     "data": {
      "text/plain": [
       "MultinomialNB(alpha=1.0, class_prior=None, fit_prior=True)"
      ]
     },
     "execution_count": 25,
     "metadata": {},
     "output_type": "execute_result"
    }
   ],
   "source": [
    "un_nb_classifier = MultinomialNB()\n",
    "\n",
    "un_nb_classifier.fit(un_tf, un_df['post_soviet'])"
   ]
  },
  {
   "cell_type": "code",
   "execution_count": 26,
   "metadata": {},
   "outputs": [
    {
     "data": {
      "text/plain": [
       "connexion   -15.260692\n",
       "waldheim    -14.162080\n",
       "kurt        -14.162080\n",
       "kampuchea   -14.162080\n",
       "131         -13.874398\n",
       "104         -13.651254\n",
       "129         -13.651254\n",
       "119         -13.651254\n",
       "contadora   -13.651254\n",
       "435         -13.651254\n",
       "127         -13.468933\n",
       "101         -13.468933\n",
       "174         -13.468933\n",
       "rhodesia    -13.314782\n",
       "121         -13.314782\n",
       "112         -13.181250\n",
       "123         -13.181250\n",
       "111         -13.181250\n",
       "138         -13.063467\n",
       "115         -13.063467\n",
       "dtype: float64"
      ]
     },
     "execution_count": 26,
     "metadata": {},
     "output_type": "execute_result"
    }
   ],
   "source": [
    "coeficients = pd.Series(un_nb_classifier.coef_[0],\n",
    "                        index = un_vectorizer.get_feature_names())\n",
    "coeficients.sort_values(ascending=True)[:20]"
   ]
  },
  {
   "cell_type": "markdown",
   "metadata": {},
   "source": [
    "## Let's make some predictions"
   ]
  },
  {
   "cell_type": "code",
   "execution_count": 27,
   "metadata": {},
   "outputs": [
    {
     "data": {
      "text/plain": [
       "MultinomialNB(alpha=1.0, class_prior=None, fit_prior=True)"
      ]
     },
     "execution_count": 27,
     "metadata": {},
     "output_type": "execute_result"
    }
   ],
   "source": [
    "nb_classifier.fit(review_word_counts, wine_df['rating'])"
   ]
  },
  {
   "cell_type": "code",
   "execution_count": 28,
   "metadata": {
    "slideshow": {
     "slide_type": "fragment"
    }
   },
   "outputs": [
    {
     "data": {
      "text/plain": [
       "array(['Low', 'High', 'Low', ..., 'Low', 'High', 'High'], dtype='<U4')"
      ]
     },
     "execution_count": 28,
     "metadata": {},
     "output_type": "execute_result"
    }
   ],
   "source": [
    "nb_classifier.predict(review_word_counts)"
   ]
  },
  {
   "cell_type": "code",
   "execution_count": 29,
   "metadata": {
    "slideshow": {
     "slide_type": "fragment"
    }
   },
   "outputs": [],
   "source": [
    "nb_classifier.fit(review_word_counts, wine_df['rating'])\n",
    "\n",
    "\n",
    "\n",
    "wine_df['prediction']  = nb_classifier.predict(review_word_counts)"
   ]
  },
  {
   "cell_type": "code",
   "execution_count": 30,
   "metadata": {
    "slideshow": {
     "slide_type": "slide"
    }
   },
   "outputs": [
    {
     "data": {
      "text/html": [
       "<div>\n",
       "<style scoped>\n",
       "    .dataframe tbody tr th:only-of-type {\n",
       "        vertical-align: middle;\n",
       "    }\n",
       "\n",
       "    .dataframe tbody tr th {\n",
       "        vertical-align: top;\n",
       "    }\n",
       "\n",
       "    .dataframe thead th {\n",
       "        text-align: right;\n",
       "    }\n",
       "</style>\n",
       "<table border=\"1\" class=\"dataframe\">\n",
       "  <thead>\n",
       "    <tr style=\"text-align: right;\">\n",
       "      <th>prediction</th>\n",
       "      <th>High</th>\n",
       "      <th>Low</th>\n",
       "    </tr>\n",
       "    <tr>\n",
       "      <th>rating</th>\n",
       "      <th></th>\n",
       "      <th></th>\n",
       "    </tr>\n",
       "  </thead>\n",
       "  <tbody>\n",
       "    <tr>\n",
       "      <th>High</th>\n",
       "      <td>26996</td>\n",
       "      <td>6639</td>\n",
       "    </tr>\n",
       "    <tr>\n",
       "      <th>Low</th>\n",
       "      <td>7884</td>\n",
       "      <td>43609</td>\n",
       "    </tr>\n",
       "  </tbody>\n",
       "</table>\n",
       "</div>"
      ],
      "text/plain": [
       "prediction   High    Low\n",
       "rating                  \n",
       "High        26996   6639\n",
       "Low          7884  43609"
      ]
     },
     "execution_count": 30,
     "metadata": {},
     "output_type": "execute_result"
    }
   ],
   "source": [
    "pd.crosstab(wine_df['rating'], wine_df['prediction'])"
   ]
  },
  {
   "cell_type": "code",
   "execution_count": 31,
   "metadata": {
    "slideshow": {
     "slide_type": "slide"
    }
   },
   "outputs": [],
   "source": [
    "from sklearn.metrics import classification_report, confusion_matrix, accuracy_score"
   ]
  },
  {
   "cell_type": "code",
   "execution_count": 32,
   "metadata": {
    "slideshow": {
     "slide_type": "slide"
    }
   },
   "outputs": [
    {
     "data": {
      "text/plain": [
       "0.8293980828869467"
      ]
     },
     "execution_count": 32,
     "metadata": {},
     "output_type": "execute_result"
    }
   ],
   "source": [
    "accuracy_score(wine_df['rating'], wine_df['prediction'])"
   ]
  },
  {
   "cell_type": "code",
   "execution_count": null,
   "metadata": {
    "slideshow": {
     "slide_type": "slide"
    }
   },
   "outputs": [],
   "source": []
  },
  {
   "cell_type": "code",
   "execution_count": 33,
   "metadata": {
    "slideshow": {
     "slide_type": "slide"
    }
   },
   "outputs": [
    {
     "data": {
      "text/plain": [
       "<matplotlib.axes._subplots.AxesSubplot at 0x122a086d8>"
      ]
     },
     "execution_count": 33,
     "metadata": {},
     "output_type": "execute_result"
    },
    {
     "data": {
      "image/png": "[encoded data removed]",
      "text/plain": [
       "<Figure size 432x288 with 2 Axes>"
      ]
     },
     "metadata": {
      "needs_background": "light"
     },
     "output_type": "display_data"
    }
   ],
   "source": [
    "import seaborn as sns\n",
    "\n",
    "cm = confusion_matrix(wine_df['rating'], wine_df['prediction'])\n",
    "sns.heatmap(cm, annot=True, cmap=\"Greens\", fmt='g')\n"
   ]
  },
  {
   "cell_type": "code",
   "execution_count": 34,
   "metadata": {
    "slideshow": {
     "slide_type": "slide"
    }
   },
   "outputs": [
    {
     "name": "stdout",
     "output_type": "stream",
     "text": [
      "              precision    recall  f1-score   support\n",
      "\n",
      "        High       0.77      0.80      0.79     33635\n",
      "         Low       0.87      0.85      0.86     51493\n",
      "\n",
      "    accuracy                           0.83     85128\n",
      "   macro avg       0.82      0.82      0.82     85128\n",
      "weighted avg       0.83      0.83      0.83     85128\n",
      "\n"
     ]
    }
   ],
   "source": [
    "print(classification_report(wine_df['rating'], wine_df['prediction']))"
   ]
  },
  {
   "cell_type": "markdown",
   "metadata": {
    "slideshow": {
     "slide_type": "-"
    }
   },
   "source": [
    "Precision: % of selected items that are correct \n",
    "\n",
    "Recall: % of correct items that are selected\n",
    "\n"
   ]
  },
  {
   "cell_type": "markdown",
   "metadata": {
    "slideshow": {
     "slide_type": "slide"
    }
   },
   "source": [
    "<div class=\"alert alert-info\">\n",
    "<h3> Your turn</h3>\n",
    "<p> How's your UN model doing? How many correct? Is it balanced?</div>\n",
    "\n"
   ]
  },
  {
   "cell_type": "code",
   "execution_count": 35,
   "metadata": {},
   "outputs": [
    {
     "name": "stdout",
     "output_type": "stream",
     "text": [
      "              precision    recall  f1-score   support\n",
      "\n",
      "       False       0.98      0.96      0.97      3048\n",
      "        True       0.97      0.99      0.98      4459\n",
      "\n",
      "    accuracy                           0.98      7507\n",
      "   macro avg       0.98      0.97      0.97      7507\n",
      "weighted avg       0.98      0.98      0.98      7507\n",
      "\n"
     ]
    }
   ],
   "source": [
    "un_df['post_soviet_guess'] = un_nb_classifier.predict(un_tf)\n",
    "\n",
    "print(classification_report(un_df['post_soviet'], \n",
    "                            un_df['post_soviet_guess']))\n"
   ]
  },
  {
   "cell_type": "code",
   "execution_count": 36,
   "metadata": {},
   "outputs": [
    {
     "name": "stdout",
     "output_type": "stream",
     "text": [
      "0.9757559611029706\n"
     ]
    }
   ],
   "source": [
    "print(accuracy_score(un_df['post_soviet'], \n",
    "                            un_df['post_soviet_guess']))"
   ]
  },
  {
   "cell_type": "code",
   "execution_count": 37,
   "metadata": {
    "slideshow": {
     "slide_type": "slide"
    }
   },
   "outputs": [
    {
     "data": {
      "text/plain": [
       "array([[0.05837039, 0.94162961],\n",
       "       [0.8189896 , 0.1810104 ],\n",
       "       [0.0073304 , 0.9926696 ],\n",
       "       ...,\n",
       "       [0.31987064, 0.68012936],\n",
       "       [0.92064944, 0.07935056],\n",
       "       [0.65113375, 0.34886625]])"
      ]
     },
     "execution_count": 37,
     "metadata": {},
     "output_type": "execute_result"
    }
   ],
   "source": [
    "nb_classifier.fit(review_word_counts, wine_df['rating'])\n",
    "\n",
    "nb_classifier.predict_proba(review_word_counts)"
   ]
  },
  {
   "cell_type": "code",
   "execution_count": 38,
   "metadata": {
    "slideshow": {
     "slide_type": "slide"
    }
   },
   "outputs": [],
   "source": [
    "predict_df = pd.DataFrame(nb_classifier.predict_proba(review_word_counts), \n",
    "                          columns=nb_classifier.classes_)"
   ]
  },
  {
   "cell_type": "code",
   "execution_count": 39,
   "metadata": {
    "slideshow": {
     "slide_type": "slide"
    }
   },
   "outputs": [
    {
     "data": {
      "text/html": [
       "<div>\n",
       "<style scoped>\n",
       "    .dataframe tbody tr th:only-of-type {\n",
       "        vertical-align: middle;\n",
       "    }\n",
       "\n",
       "    .dataframe tbody tr th {\n",
       "        vertical-align: top;\n",
       "    }\n",
       "\n",
       "    .dataframe thead th {\n",
       "        text-align: right;\n",
       "    }\n",
       "</style>\n",
       "<table border=\"1\" class=\"dataframe\">\n",
       "  <thead>\n",
       "    <tr style=\"text-align: right;\">\n",
       "      <th></th>\n",
       "      <th>High</th>\n",
       "      <th>Low</th>\n",
       "    </tr>\n",
       "  </thead>\n",
       "  <tbody>\n",
       "    <tr>\n",
       "      <th>0</th>\n",
       "      <td>0.058370</td>\n",
       "      <td>0.941630</td>\n",
       "    </tr>\n",
       "    <tr>\n",
       "      <th>1</th>\n",
       "      <td>0.818990</td>\n",
       "      <td>0.181010</td>\n",
       "    </tr>\n",
       "    <tr>\n",
       "      <th>2</th>\n",
       "      <td>0.007330</td>\n",
       "      <td>0.992670</td>\n",
       "    </tr>\n",
       "    <tr>\n",
       "      <th>3</th>\n",
       "      <td>0.009965</td>\n",
       "      <td>0.990035</td>\n",
       "    </tr>\n",
       "    <tr>\n",
       "      <th>4</th>\n",
       "      <td>0.017779</td>\n",
       "      <td>0.982221</td>\n",
       "    </tr>\n",
       "  </tbody>\n",
       "</table>\n",
       "</div>"
      ],
      "text/plain": [
       "       High       Low\n",
       "0  0.058370  0.941630\n",
       "1  0.818990  0.181010\n",
       "2  0.007330  0.992670\n",
       "3  0.009965  0.990035\n",
       "4  0.017779  0.982221"
      ]
     },
     "execution_count": 39,
     "metadata": {},
     "output_type": "execute_result"
    }
   ],
   "source": [
    "predict_df.head()"
   ]
  },
  {
   "cell_type": "code",
   "execution_count": 40,
   "metadata": {
    "slideshow": {
     "slide_type": "slide"
    }
   },
   "outputs": [],
   "source": [
    "wine_df_prediction = pd.concat([wine_df, predict_df], axis = 1)"
   ]
  },
  {
   "cell_type": "code",
   "execution_count": 41,
   "metadata": {
    "slideshow": {
     "slide_type": "slide"
    }
   },
   "outputs": [
    {
     "data": {
      "text/html": [
       "<div>\n",
       "<style scoped>\n",
       "    .dataframe tbody tr th:only-of-type {\n",
       "        vertical-align: middle;\n",
       "    }\n",
       "\n",
       "    .dataframe tbody tr th {\n",
       "        vertical-align: top;\n",
       "    }\n",
       "\n",
       "    .dataframe thead th {\n",
       "        text-align: right;\n",
       "    }\n",
       "</style>\n",
       "<table border=\"1\" class=\"dataframe\">\n",
       "  <thead>\n",
       "    <tr style=\"text-align: right;\">\n",
       "      <th></th>\n",
       "      <th>description</th>\n",
       "      <th>points</th>\n",
       "      <th>High</th>\n",
       "    </tr>\n",
       "  </thead>\n",
       "  <tbody>\n",
       "    <tr>\n",
       "      <th>79481</th>\n",
       "      <td>From a beautifully exposed southwest facing vineyard with views of the Pyrenees, this is a serious and impressive wi...</td>\n",
       "      <td>96</td>\n",
       "      <td>1.0</td>\n",
       "    </tr>\n",
       "    <tr>\n",
       "      <th>67748</th>\n",
       "      <td>Dark, rich mountain blueberry and blackberry form the core of this classically delicious Napa Valley wine from an es...</td>\n",
       "      <td>93</td>\n",
       "      <td>1.0</td>\n",
       "    </tr>\n",
       "    <tr>\n",
       "      <th>5129</th>\n",
       "      <td>A blend of 28% Cabernet Franc, 23% Cabernet Sauvignon, 21% Malbec, 18% Petit Verdot and 10% Merlot, this is a big, b...</td>\n",
       "      <td>94</td>\n",
       "      <td>1.0</td>\n",
       "    </tr>\n",
       "    <tr>\n",
       "      <th>25463</th>\n",
       "      <td>A blend of 28% Cabernet Franc, 23% Cabernet Sauvignon, 21% Malbec, 18% Petit Verdot and 10% Merlot, this is a big, b...</td>\n",
       "      <td>94</td>\n",
       "      <td>1.0</td>\n",
       "    </tr>\n",
       "    <tr>\n",
       "      <th>64570</th>\n",
       "      <td>A superb wine from a great year, this is powerful and structured, with great acidity and solid, pronounced fruits. L...</td>\n",
       "      <td>96</td>\n",
       "      <td>1.0</td>\n",
       "    </tr>\n",
       "    <tr>\n",
       "      <th>49526</th>\n",
       "      <td>This Ferreirinha Douro Superior wine is made in exceptional years. The 2007 is the 16th vintage since 1960 (the prev...</td>\n",
       "      <td>97</td>\n",
       "      <td>1.0</td>\n",
       "    </tr>\n",
       "    <tr>\n",
       "      <th>58945</th>\n",
       "      <td>A blend of 57% Cabernet Sauvignon, 14% Merlot, 13% Malbec, 11% Cabernet Franc and 5% Petit Verdot, this stunning, we...</td>\n",
       "      <td>93</td>\n",
       "      <td>1.0</td>\n",
       "    </tr>\n",
       "    <tr>\n",
       "      <th>3958</th>\n",
       "      <td>This is an enormous Cabernet, as packed with intensity and power as anything in Napa Valley. The vineyard is Von Str...</td>\n",
       "      <td>95</td>\n",
       "      <td>1.0</td>\n",
       "    </tr>\n",
       "    <tr>\n",
       "      <th>5115</th>\n",
       "      <td>A proprietary blend of 57% Merlot, 35% Cabernet Sauvignon and 8% Petit Verdot, all homegrown, this is dense and powe...</td>\n",
       "      <td>94</td>\n",
       "      <td>1.0</td>\n",
       "    </tr>\n",
       "    <tr>\n",
       "      <th>36344</th>\n",
       "      <td>Mature dark-skinned berry, leather, underbrush and dark spice are some of the aromas that emerge on this fantastic r...</td>\n",
       "      <td>97</td>\n",
       "      <td>1.0</td>\n",
       "    </tr>\n",
       "    <tr>\n",
       "      <th>68457</th>\n",
       "      <td>After a great inaugural 2010 vintage, this is another impressive Cabernet from this winery. The vineyard is in the P...</td>\n",
       "      <td>95</td>\n",
       "      <td>1.0</td>\n",
       "    </tr>\n",
       "    <tr>\n",
       "      <th>41876</th>\n",
       "      <td>This is a bold and powerful yet layered and nuanced wine, with hints of green peppercorn, tobacco leaf, cigar box an...</td>\n",
       "      <td>93</td>\n",
       "      <td>1.0</td>\n",
       "    </tr>\n",
       "    <tr>\n",
       "      <th>73422</th>\n",
       "      <td>A beautifully dense, ripe wine, its intense acidity balanced by an opulent structure and gorgeous fruits. The textur...</td>\n",
       "      <td>97</td>\n",
       "      <td>1.0</td>\n",
       "    </tr>\n",
       "    <tr>\n",
       "      <th>77340</th>\n",
       "      <td>From one of the top estates in Cahors, this complex, dense wine is both structured and packed with great fruit. At t...</td>\n",
       "      <td>94</td>\n",
       "      <td>1.0</td>\n",
       "    </tr>\n",
       "    <tr>\n",
       "      <th>70514</th>\n",
       "      <td>This comes from 30-year-old vines in the Quinta da Manoella, the family vineyard of Jorge Borges, one of the winemak...</td>\n",
       "      <td>91</td>\n",
       "      <td>1.0</td>\n",
       "    </tr>\n",
       "  </tbody>\n",
       "</table>\n",
       "</div>"
      ],
      "text/plain": [
       "                                                                                                                   description  \\\n",
       "79481  From a beautifully exposed southwest facing vineyard with views of the Pyrenees, this is a serious and impressive wi...   \n",
       "67748  Dark, rich mountain blueberry and blackberry form the core of this classically delicious Napa Valley wine from an es...   \n",
       "5129   A blend of 28% Cabernet Franc, 23% Cabernet Sauvignon, 21% Malbec, 18% Petit Verdot and 10% Merlot, this is a big, b...   \n",
       "25463  A blend of 28% Cabernet Franc, 23% Cabernet Sauvignon, 21% Malbec, 18% Petit Verdot and 10% Merlot, this is a big, b...   \n",
       "64570  A superb wine from a great year, this is powerful and structured, with great acidity and solid, pronounced fruits. L...   \n",
       "49526  This Ferreirinha Douro Superior wine is made in exceptional years. The 2007 is the 16th vintage since 1960 (the prev...   \n",
       "58945  A blend of 57% Cabernet Sauvignon, 14% Merlot, 13% Malbec, 11% Cabernet Franc and 5% Petit Verdot, this stunning, we...   \n",
       "3958   This is an enormous Cabernet, as packed with intensity and power as anything in Napa Valley. The vineyard is Von Str...   \n",
       "5115   A proprietary blend of 57% Merlot, 35% Cabernet Sauvignon and 8% Petit Verdot, all homegrown, this is dense and powe...   \n",
       "36344  Mature dark-skinned berry, leather, underbrush and dark spice are some of the aromas that emerge on this fantastic r...   \n",
       "68457  After a great inaugural 2010 vintage, this is another impressive Cabernet from this winery. The vineyard is in the P...   \n",
       "41876  This is a bold and powerful yet layered and nuanced wine, with hints of green peppercorn, tobacco leaf, cigar box an...   \n",
       "73422  A beautifully dense, ripe wine, its intense acidity balanced by an opulent structure and gorgeous fruits. The textur...   \n",
       "77340  From one of the top estates in Cahors, this complex, dense wine is both structured and packed with great fruit. At t...   \n",
       "70514  This comes from 30-year-old vines in the Quinta da Manoella, the family vineyard of Jorge Borges, one of the winemak...   \n",
       "\n",
       "       points  High  \n",
       "79481      96   1.0  \n",
       "67748      93   1.0  \n",
       "5129       94   1.0  \n",
       "25463      94   1.0  \n",
       "64570      96   1.0  \n",
       "49526      97   1.0  \n",
       "58945      93   1.0  \n",
       "3958       95   1.0  \n",
       "5115       94   1.0  \n",
       "36344      97   1.0  \n",
       "68457      95   1.0  \n",
       "41876      93   1.0  \n",
       "73422      97   1.0  \n",
       "77340      94   1.0  \n",
       "70514      91   1.0  "
      ]
     },
     "execution_count": 41,
     "metadata": {},
     "output_type": "execute_result"
    }
   ],
   "source": [
    "wine_df_prediction.sort_values('High', ascending=False)[['description','points','High']].head(15)"
   ]
  },
  {
   "cell_type": "code",
   "execution_count": 42,
   "metadata": {
    "slideshow": {
     "slide_type": "slide"
    }
   },
   "outputs": [
    {
     "data": {
      "text/html": [
       "<div>\n",
       "<style scoped>\n",
       "    .dataframe tbody tr th:only-of-type {\n",
       "        vertical-align: middle;\n",
       "    }\n",
       "\n",
       "    .dataframe tbody tr th {\n",
       "        vertical-align: top;\n",
       "    }\n",
       "\n",
       "    .dataframe thead th {\n",
       "        text-align: right;\n",
       "    }\n",
       "</style>\n",
       "<table border=\"1\" class=\"dataframe\">\n",
       "  <thead>\n",
       "    <tr style=\"text-align: right;\">\n",
       "      <th></th>\n",
       "      <th>description</th>\n",
       "      <th>points</th>\n",
       "    </tr>\n",
       "  </thead>\n",
       "  <tbody>\n",
       "    <tr>\n",
       "      <th>26592</th>\n",
       "      <td>Lemon citrus, toast, white flowers—the lead on this wine is feminine and light and, as the name suggests, feels like...</td>\n",
       "      <td>84</td>\n",
       "    </tr>\n",
       "    <tr>\n",
       "      <th>39450</th>\n",
       "      <td>Reasonably accurate on the nose for Leyda Sauvignon Blanc, but also a little pickled smelling. Feels chunky and a li...</td>\n",
       "      <td>85</td>\n",
       "    </tr>\n",
       "    <tr>\n",
       "      <th>63660</th>\n",
       "      <td>Apple and mineral aromas are basic but clean, and the palate is fresh and lithe, with little to no extra weight. Fla...</td>\n",
       "      <td>86</td>\n",
       "    </tr>\n",
       "    <tr>\n",
       "      <th>16200</th>\n",
       "      <td>Lively aromas of grapefruit, white flowers and mineral lead into a light, fruity but rather simple palate that offer...</td>\n",
       "      <td>86</td>\n",
       "    </tr>\n",
       "    <tr>\n",
       "      <th>30861</th>\n",
       "      <td>Simple but solid apple and nectarine aromas are straight forward. This feels round and easy, without much acid-based...</td>\n",
       "      <td>86</td>\n",
       "    </tr>\n",
       "    <tr>\n",
       "      <th>21333</th>\n",
       "      <td>Simple but solid apple and nectarine aromas are straight forward. This feels round and easy, without much acid-based...</td>\n",
       "      <td>86</td>\n",
       "    </tr>\n",
       "    <tr>\n",
       "      <th>52219</th>\n",
       "      <td>Fruity on the nose, with a friendly mix of pineapple, apple, melon and powdered sugar aromas. Feels smooth and round...</td>\n",
       "      <td>87</td>\n",
       "    </tr>\n",
       "    <tr>\n",
       "      <th>43618</th>\n",
       "      <td>A medium-bodied Bordeaux blend with sweet aromas of cherry pie and a hint of fresh sage and tarragon. Simple and str...</td>\n",
       "      <td>85</td>\n",
       "    </tr>\n",
       "    <tr>\n",
       "      <th>66311</th>\n",
       "      <td>Dry, mild, dusty berry aromas are simple but correct for the variety. This feels scattered across the palate, with s...</td>\n",
       "      <td>86</td>\n",
       "    </tr>\n",
       "    <tr>\n",
       "      <th>58458</th>\n",
       "      <td>Slightly stalky, roasted aromas of earthy plum and berry lean in the direction of compost. This feels light and some...</td>\n",
       "      <td>87</td>\n",
       "    </tr>\n",
       "    <tr>\n",
       "      <th>13944</th>\n",
       "      <td>This straightforward Verdicchio opens with subdued aromas of stone fruit and citrus. The palate is a bit lean but of...</td>\n",
       "      <td>86</td>\n",
       "    </tr>\n",
       "    <tr>\n",
       "      <th>44783</th>\n",
       "      <td>Simple green-apple aromas are innocuous. This is fresh, easy and light on the palate. Flavors of apple and sweet gre...</td>\n",
       "      <td>87</td>\n",
       "    </tr>\n",
       "    <tr>\n",
       "      <th>65070</th>\n",
       "      <td>Citrus and peach aromas are basic but clean. The palate starts out fresh and easy before losing some steam, but alon...</td>\n",
       "      <td>85</td>\n",
       "    </tr>\n",
       "    <tr>\n",
       "      <th>84252</th>\n",
       "      <td>This easy-drinking white marries citrus and green pear with just a hint of herbal spice. Simple and straightforward,...</td>\n",
       "      <td>87</td>\n",
       "    </tr>\n",
       "    <tr>\n",
       "      <th>54423</th>\n",
       "      <td>Stylistically, this is a racy, no-oak wine that smells of pineapple and tastes of citrus and passion fruit. The mout...</td>\n",
       "      <td>83</td>\n",
       "    </tr>\n",
       "    <tr>\n",
       "      <th>73216</th>\n",
       "      <td>Tomato and herbal aromas tell you most of what you need to know about this bargain-priced Cab. It's somewhat green a...</td>\n",
       "      <td>83</td>\n",
       "    </tr>\n",
       "    <tr>\n",
       "      <th>62512</th>\n",
       "      <td>Aromas of tobacco, mild raisin, dry oak and berries are simple and pleasant, while the palate is light in weight, a ...</td>\n",
       "      <td>86</td>\n",
       "    </tr>\n",
       "    <tr>\n",
       "      <th>31129</th>\n",
       "      <td>Dusty apple, pear and other dry-fruit aromas give this clean wine a good but basic starting point. The palate is fre...</td>\n",
       "      <td>85</td>\n",
       "    </tr>\n",
       "    <tr>\n",
       "      <th>42439</th>\n",
       "      <td>A simple bouquet offers light apple and melon aromas, while the palate shows some malic acidity before it softens. M...</td>\n",
       "      <td>86</td>\n",
       "    </tr>\n",
       "    <tr>\n",
       "      <th>58337</th>\n",
       "      <td>Here's a fresh and easy Sauvignon Blanc that would pair with easy appetizers or a salad lunch. Crisp but simple arom...</td>\n",
       "      <td>86</td>\n",
       "    </tr>\n",
       "    <tr>\n",
       "      <th>60249</th>\n",
       "      <td>Pale color with fairly vigorous bubbles. Moderate aromas intensity showing mainly a medley of fresh apple aromas. Cr...</td>\n",
       "      <td>87</td>\n",
       "    </tr>\n",
       "    <tr>\n",
       "      <th>70096</th>\n",
       "      <td>Whole-cluster pressed, with 20% Marsanne in the blend, this displays fresh fruit flavors of apple and pear, with a b...</td>\n",
       "      <td>86</td>\n",
       "    </tr>\n",
       "    <tr>\n",
       "      <th>34072</th>\n",
       "      <td>Punchbowl aromas of melon and papaya are a bit watery. The palate is round and simple in feel, with modest acidity. ...</td>\n",
       "      <td>86</td>\n",
       "    </tr>\n",
       "    <tr>\n",
       "      <th>22481</th>\n",
       "      <td>Restrained aromas of white flower lead the way on this fresh, straightforward white. The round, simple palate shows ...</td>\n",
       "      <td>86</td>\n",
       "    </tr>\n",
       "    <tr>\n",
       "      <th>40081</th>\n",
       "      <td>Light, pleasant apple aromas are about all this neutral Chardonnay is giving. Its mild palate with just enough acidi...</td>\n",
       "      <td>86</td>\n",
       "    </tr>\n",
       "  </tbody>\n",
       "</table>\n",
       "</div>"
      ],
      "text/plain": [
       "                                                                                                                   description  \\\n",
       "26592  Lemon citrus, toast, white flowers—the lead on this wine is feminine and light and, as the name suggests, feels like...   \n",
       "39450  Reasonably accurate on the nose for Leyda Sauvignon Blanc, but also a little pickled smelling. Feels chunky and a li...   \n",
       "63660  Apple and mineral aromas are basic but clean, and the palate is fresh and lithe, with little to no extra weight. Fla...   \n",
       "16200  Lively aromas of grapefruit, white flowers and mineral lead into a light, fruity but rather simple palate that offer...   \n",
       "30861  Simple but solid apple and nectarine aromas are straight forward. This feels round and easy, without much acid-based...   \n",
       "21333  Simple but solid apple and nectarine aromas are straight forward. This feels round and easy, without much acid-based...   \n",
       "52219  Fruity on the nose, with a friendly mix of pineapple, apple, melon and powdered sugar aromas. Feels smooth and round...   \n",
       "43618  A medium-bodied Bordeaux blend with sweet aromas of cherry pie and a hint of fresh sage and tarragon. Simple and str...   \n",
       "66311  Dry, mild, dusty berry aromas are simple but correct for the variety. This feels scattered across the palate, with s...   \n",
       "58458  Slightly stalky, roasted aromas of earthy plum and berry lean in the direction of compost. This feels light and some...   \n",
       "13944  This straightforward Verdicchio opens with subdued aromas of stone fruit and citrus. The palate is a bit lean but of...   \n",
       "44783  Simple green-apple aromas are innocuous. This is fresh, easy and light on the palate. Flavors of apple and sweet gre...   \n",
       "65070  Citrus and peach aromas are basic but clean. The palate starts out fresh and easy before losing some steam, but alon...   \n",
       "84252  This easy-drinking white marries citrus and green pear with just a hint of herbal spice. Simple and straightforward,...   \n",
       "54423  Stylistically, this is a racy, no-oak wine that smells of pineapple and tastes of citrus and passion fruit. The mout...   \n",
       "73216  Tomato and herbal aromas tell you most of what you need to know about this bargain-priced Cab. It's somewhat green a...   \n",
       "62512  Aromas of tobacco, mild raisin, dry oak and berries are simple and pleasant, while the palate is light in weight, a ...   \n",
       "31129  Dusty apple, pear and other dry-fruit aromas give this clean wine a good but basic starting point. The palate is fre...   \n",
       "42439  A simple bouquet offers light apple and melon aromas, while the palate shows some malic acidity before it softens. M...   \n",
       "58337  Here's a fresh and easy Sauvignon Blanc that would pair with easy appetizers or a salad lunch. Crisp but simple arom...   \n",
       "60249  Pale color with fairly vigorous bubbles. Moderate aromas intensity showing mainly a medley of fresh apple aromas. Cr...   \n",
       "70096  Whole-cluster pressed, with 20% Marsanne in the blend, this displays fresh fruit flavors of apple and pear, with a b...   \n",
       "34072  Punchbowl aromas of melon and papaya are a bit watery. The palate is round and simple in feel, with modest acidity. ...   \n",
       "22481  Restrained aromas of white flower lead the way on this fresh, straightforward white. The round, simple palate shows ...   \n",
       "40081  Light, pleasant apple aromas are about all this neutral Chardonnay is giving. Its mild palate with just enough acidi...   \n",
       "\n",
       "       points  \n",
       "26592      84  \n",
       "39450      85  \n",
       "63660      86  \n",
       "16200      86  \n",
       "30861      86  \n",
       "21333      86  \n",
       "52219      87  \n",
       "43618      85  \n",
       "66311      86  \n",
       "58458      87  \n",
       "13944      86  \n",
       "44783      87  \n",
       "65070      85  \n",
       "84252      87  \n",
       "54423      83  \n",
       "73216      83  \n",
       "62512      86  \n",
       "31129      85  \n",
       "42439      86  \n",
       "58337      86  \n",
       "60249      87  \n",
       "70096      86  \n",
       "34072      86  \n",
       "22481      86  \n",
       "40081      86  "
      ]
     },
     "execution_count": 42,
     "metadata": {},
     "output_type": "execute_result"
    }
   ],
   "source": [
    "wine_df_prediction.sort_values('Low', ascending=False)[['description','points']].head(25)"
   ]
  },
  {
   "cell_type": "markdown",
   "metadata": {
    "slideshow": {
     "slide_type": "slide"
    }
   },
   "source": [
    "<div class=\"alert alert-info\">\n",
    "<h3> Your turn</h3>\n",
    "  <p> Which <b>post 1989</b> speech had the highest likelihood of being delivered during an earlier period?\n",
    "\n",
    "</div>\n",
    "\n"
   ]
  },
  {
   "cell_type": "code",
   "execution_count": 43,
   "metadata": {},
   "outputs": [
    {
     "data": {
      "text/html": [
       "<div>\n",
       "<style scoped>\n",
       "    .dataframe tbody tr th:only-of-type {\n",
       "        vertical-align: middle;\n",
       "    }\n",
       "\n",
       "    .dataframe tbody tr th {\n",
       "        vertical-align: top;\n",
       "    }\n",
       "\n",
       "    .dataframe thead th {\n",
       "        text-align: right;\n",
       "    }\n",
       "</style>\n",
       "<table border=\"1\" class=\"dataframe\">\n",
       "  <thead>\n",
       "    <tr style=\"text-align: right;\">\n",
       "      <th></th>\n",
       "      <th>country_code</th>\n",
       "      <th>speech_text</th>\n",
       "      <th>speech_year</th>\n",
       "      <th>post_soviet</th>\n",
       "      <th>post_soviet_guess</th>\n",
       "      <th>pred_pre</th>\n",
       "      <th>pred_post</th>\n",
       "    </tr>\n",
       "  </thead>\n",
       "  <tbody>\n",
       "    <tr>\n",
       "      <th>5580</th>\n",
       "      <td>PRK</td>\n",
       "      <td>On behalf of the delegation of the Democratic\\nPeople’s Republic of Korea, I should like, first of all, to\\ncongratu...</td>\n",
       "      <td>1993</td>\n",
       "      <td>True</td>\n",
       "      <td>False</td>\n",
       "      <td>1.000000e+00</td>\n",
       "      <td>3.141851e-95</td>\n",
       "    </tr>\n",
       "    <tr>\n",
       "      <th>6353</th>\n",
       "      <td>PRK</td>\n",
       "      <td>On behalf of the delegation of the \\nDemocratic People's Republic of Korea, I would like to congratulate you, \\nMr. ...</td>\n",
       "      <td>1992</td>\n",
       "      <td>True</td>\n",
       "      <td>False</td>\n",
       "      <td>1.000000e+00</td>\n",
       "      <td>1.539919e-90</td>\n",
       "    </tr>\n",
       "    <tr>\n",
       "      <th>6202</th>\n",
       "      <td>CUB</td>\n",
       "      <td>I wish \\nto congratulate Mr. Ganev on his election to the presidency of the General \\nAssembly at this session. He c...</td>\n",
       "      <td>1992</td>\n",
       "      <td>True</td>\n",
       "      <td>False</td>\n",
       "      <td>1.000000e+00</td>\n",
       "      <td>1.829508e-62</td>\n",
       "    </tr>\n",
       "    <tr>\n",
       "      <th>7266</th>\n",
       "      <td>NIC</td>\n",
       "      <td>I should like to begin by remembering the \\nmillions of human beings who are the victims of the \\npolicies of coloni...</td>\n",
       "      <td>2007</td>\n",
       "      <td>True</td>\n",
       "      <td>False</td>\n",
       "      <td>1.000000e+00</td>\n",
       "      <td>2.049954e-54</td>\n",
       "    </tr>\n",
       "    <tr>\n",
       "      <th>6788</th>\n",
       "      <td>PRK</td>\n",
       "      <td>Mr. President, allow me first of all, on behalf\\nof the Democratic People’s Republic of Korea, to convey\\nto you our...</td>\n",
       "      <td>1994</td>\n",
       "      <td>True</td>\n",
       "      <td>False</td>\n",
       "      <td>1.000000e+00</td>\n",
       "      <td>8.598637e-41</td>\n",
       "    </tr>\n",
       "    <tr>\n",
       "      <th>3635</th>\n",
       "      <td>PRK</td>\n",
       "      <td>At the outset, please allow me to express, on\\nbehalf of the delegation of the Democratic People's\\nRepublic of Kore...</td>\n",
       "      <td>1999</td>\n",
       "      <td>True</td>\n",
       "      <td>False</td>\n",
       "      <td>1.000000e+00</td>\n",
       "      <td>2.590976e-38</td>\n",
       "    </tr>\n",
       "    <tr>\n",
       "      <th>1830</th>\n",
       "      <td>PRK</td>\n",
       "      <td>﻿Allow me first of all, on behalf of the\\ndelegation of the Democratic People’s Republic of Korea,\\nto congratulate ...</td>\n",
       "      <td>1997</td>\n",
       "      <td>True</td>\n",
       "      <td>False</td>\n",
       "      <td>1.000000e+00</td>\n",
       "      <td>6.803213e-33</td>\n",
       "    </tr>\n",
       "    <tr>\n",
       "      <th>1149</th>\n",
       "      <td>PRK</td>\n",
       "      <td>﻿I would like to\\ncongratulate you, Sir, on your election as President of\\nthe General Assembly at its fifty-seventh...</td>\n",
       "      <td>2002</td>\n",
       "      <td>True</td>\n",
       "      <td>False</td>\n",
       "      <td>1.000000e+00</td>\n",
       "      <td>2.933563e-30</td>\n",
       "    </tr>\n",
       "    <tr>\n",
       "      <th>6234</th>\n",
       "      <td>VNM</td>\n",
       "      <td>On \\nbehalf of the delegation of Viet Nam, permit me at the outset to extend my \\nwarmest congratulations to His Exc...</td>\n",
       "      <td>1992</td>\n",
       "      <td>True</td>\n",
       "      <td>False</td>\n",
       "      <td>1.000000e+00</td>\n",
       "      <td>6.514479e-30</td>\n",
       "    </tr>\n",
       "    <tr>\n",
       "      <th>2576</th>\n",
       "      <td>PRK</td>\n",
       "      <td>On behalf of the delegation of the\\nDemocratic People’s Republic of Korea, I should like first\\nto congratulate you,...</td>\n",
       "      <td>1995</td>\n",
       "      <td>True</td>\n",
       "      <td>False</td>\n",
       "      <td>1.000000e+00</td>\n",
       "      <td>9.504932e-28</td>\n",
       "    </tr>\n",
       "    <tr>\n",
       "      <th>6248</th>\n",
       "      <td>AZE</td>\n",
       "      <td>Anyone who \\nhas spoken from this rostrum will probably understand what my feelings are at \\nthis moment: there is b...</td>\n",
       "      <td>1992</td>\n",
       "      <td>True</td>\n",
       "      <td>False</td>\n",
       "      <td>1.000000e+00</td>\n",
       "      <td>1.752742e-25</td>\n",
       "    </tr>\n",
       "    <tr>\n",
       "      <th>1629</th>\n",
       "      <td>PSE</td>\n",
       "      <td>﻿I wish to\\nbegin by extending my appreciation to the heads of all\\nthe delegations who in their statements to the A...</td>\n",
       "      <td>2012</td>\n",
       "      <td>True</td>\n",
       "      <td>False</td>\n",
       "      <td>1.000000e+00</td>\n",
       "      <td>5.618561e-23</td>\n",
       "    </tr>\n",
       "    <tr>\n",
       "      <th>1826</th>\n",
       "      <td>LBN</td>\n",
       "      <td>﻿Allow me to extend our thanks to the outgoing President,\\nAmbassador Razali Ismail, and to congratulate him on the\\...</td>\n",
       "      <td>1997</td>\n",
       "      <td>True</td>\n",
       "      <td>False</td>\n",
       "      <td>1.000000e+00</td>\n",
       "      <td>2.219759e-20</td>\n",
       "    </tr>\n",
       "    <tr>\n",
       "      <th>4651</th>\n",
       "      <td>PRK</td>\n",
       "      <td>On behalf of the\\ndelegation of the Democratic People’s Republic of\\nKorea, I should like at the outset to congratul...</td>\n",
       "      <td>2004</td>\n",
       "      <td>True</td>\n",
       "      <td>False</td>\n",
       "      <td>1.000000e+00</td>\n",
       "      <td>3.844494e-20</td>\n",
       "    </tr>\n",
       "    <tr>\n",
       "      <th>7034</th>\n",
       "      <td>CUB</td>\n",
       "      <td>As President Hugo Chávez said in his brilliant \\nstatement, only four days ago the Fourteenth Summit \\nof the Non-Al...</td>\n",
       "      <td>2006</td>\n",
       "      <td>True</td>\n",
       "      <td>False</td>\n",
       "      <td>1.000000e+00</td>\n",
       "      <td>7.616501e-20</td>\n",
       "    </tr>\n",
       "    <tr>\n",
       "      <th>6796</th>\n",
       "      <td>LBN</td>\n",
       "      <td>We are gathered here today, in a new session of the\\nGeneral Assembly, in a new year in the life of the United\\nNati...</td>\n",
       "      <td>1994</td>\n",
       "      <td>True</td>\n",
       "      <td>False</td>\n",
       "      <td>1.000000e+00</td>\n",
       "      <td>9.180649e-19</td>\n",
       "    </tr>\n",
       "    <tr>\n",
       "      <th>6318</th>\n",
       "      <td>AGO</td>\n",
       "      <td>Allow me, first of all, on behalf \\nof the Angolan Government and on my own behalf, to congratulate you. Sir, on \\ny...</td>\n",
       "      <td>1992</td>\n",
       "      <td>True</td>\n",
       "      <td>False</td>\n",
       "      <td>1.000000e+00</td>\n",
       "      <td>9.677769e-19</td>\n",
       "    </tr>\n",
       "    <tr>\n",
       "      <th>5103</th>\n",
       "      <td>PRK</td>\n",
       "      <td>First of all, I would like to \\ncongratulate Mr. Nassir Abdulaziz Al-Nasser on his \\nelection as President of the Ge...</td>\n",
       "      <td>2011</td>\n",
       "      <td>True</td>\n",
       "      <td>False</td>\n",
       "      <td>1.000000e+00</td>\n",
       "      <td>8.835105e-18</td>\n",
       "    </tr>\n",
       "    <tr>\n",
       "      <th>2822</th>\n",
       "      <td>VEN</td>\n",
       "      <td>I greet all the citizens of the world who have come \\nhere — as they do every year — for this gathering of \\nsuch gr...</td>\n",
       "      <td>2009</td>\n",
       "      <td>True</td>\n",
       "      <td>False</td>\n",
       "      <td>1.000000e+00</td>\n",
       "      <td>2.944184e-17</td>\n",
       "    </tr>\n",
       "    <tr>\n",
       "      <th>6026</th>\n",
       "      <td>PRK</td>\n",
       "      <td>On behalf of the\\ndelegation of the Democratic People's Republic of\\nKorea, I should like first of all to congratula...</td>\n",
       "      <td>2000</td>\n",
       "      <td>True</td>\n",
       "      <td>False</td>\n",
       "      <td>1.000000e+00</td>\n",
       "      <td>4.506257e-17</td>\n",
       "    </tr>\n",
       "    <tr>\n",
       "      <th>1072</th>\n",
       "      <td>PSE</td>\n",
       "      <td>﻿I\\ncongratulate you, Mr. President, on your election to the\\npresidency of the fifty-seventh session of the General...</td>\n",
       "      <td>2002</td>\n",
       "      <td>True</td>\n",
       "      <td>False</td>\n",
       "      <td>1.000000e+00</td>\n",
       "      <td>4.994709e-17</td>\n",
       "    </tr>\n",
       "    <tr>\n",
       "      <th>6995</th>\n",
       "      <td>PRK</td>\n",
       "      <td>Allow me first, on behalf \\nof my delegation, to congratulate Ms. Haya Rashed \\nAl-Khalifa on her election as Presid...</td>\n",
       "      <td>2006</td>\n",
       "      <td>True</td>\n",
       "      <td>False</td>\n",
       "      <td>1.000000e+00</td>\n",
       "      <td>9.899130e-17</td>\n",
       "    </tr>\n",
       "    <tr>\n",
       "      <th>7273</th>\n",
       "      <td>PRK</td>\n",
       "      <td>On behalf of the  delegation of the Democratic People's Republic of \\nKorea, I should like at the outset to congratu...</td>\n",
       "      <td>2007</td>\n",
       "      <td>True</td>\n",
       "      <td>False</td>\n",
       "      <td>1.000000e+00</td>\n",
       "      <td>7.611114e-16</td>\n",
       "    </tr>\n",
       "    <tr>\n",
       "      <th>4335</th>\n",
       "      <td>PRK</td>\n",
       "      <td>﻿I would like at the outset,\\non behalf of the delegation of the Democratic People’s\\nRepublic of Korea, to congratu...</td>\n",
       "      <td>2003</td>\n",
       "      <td>True</td>\n",
       "      <td>False</td>\n",
       "      <td>1.000000e+00</td>\n",
       "      <td>1.770432e-14</td>\n",
       "    </tr>\n",
       "    <tr>\n",
       "      <th>4244</th>\n",
       "      <td>PRK</td>\n",
       "      <td>Allow me first of all, on behalf of the\\ndelegation of the Democratic People’s Republic of Korea,\\nto congratulate M...</td>\n",
       "      <td>1998</td>\n",
       "      <td>True</td>\n",
       "      <td>False</td>\n",
       "      <td>1.000000e+00</td>\n",
       "      <td>4.066244e-14</td>\n",
       "    </tr>\n",
       "    <tr>\n",
       "      <th>5062</th>\n",
       "      <td>ISR</td>\n",
       "      <td>Israel has extended its \\nhand in peace from the moment it was established \\n63 years ago. On behalf of Israel and t...</td>\n",
       "      <td>2011</td>\n",
       "      <td>True</td>\n",
       "      <td>False</td>\n",
       "      <td>1.000000e+00</td>\n",
       "      <td>1.686551e-13</td>\n",
       "    </tr>\n",
       "    <tr>\n",
       "      <th>2602</th>\n",
       "      <td>LBN</td>\n",
       "      <td>In a few days the United Nations will be marking the first\\nhalf-century of its existence. This historic occasion, w...</td>\n",
       "      <td>1995</td>\n",
       "      <td>True</td>\n",
       "      <td>False</td>\n",
       "      <td>1.000000e+00</td>\n",
       "      <td>2.482694e-13</td>\n",
       "    </tr>\n",
       "    <tr>\n",
       "      <th>7499</th>\n",
       "      <td>LBN</td>\n",
       "      <td>﻿Mr. President, allow me first to congratulate you on\\nyour election as President of the fifty-sixth session of\\nthe...</td>\n",
       "      <td>2001</td>\n",
       "      <td>True</td>\n",
       "      <td>False</td>\n",
       "      <td>1.000000e+00</td>\n",
       "      <td>3.226927e-13</td>\n",
       "    </tr>\n",
       "    <tr>\n",
       "      <th>1600</th>\n",
       "      <td>PRK</td>\n",
       "      <td>﻿Allow me to congratulate you, Sir,\\non your election to preside over the General Assembly\\nat its sixty-seventh ses...</td>\n",
       "      <td>2012</td>\n",
       "      <td>True</td>\n",
       "      <td>False</td>\n",
       "      <td>1.000000e+00</td>\n",
       "      <td>2.509258e-12</td>\n",
       "    </tr>\n",
       "    <tr>\n",
       "      <th>3828</th>\n",
       "      <td>PSE</td>\n",
       "      <td>Unlike the Israeli Prime Minister, who a few days ago\\ntold the Assembly that he had come to the United\\nNations fro...</td>\n",
       "      <td>2005</td>\n",
       "      <td>True</td>\n",
       "      <td>False</td>\n",
       "      <td>1.000000e+00</td>\n",
       "      <td>3.695565e-12</td>\n",
       "    </tr>\n",
       "    <tr>\n",
       "      <th>...</th>\n",
       "      <td>...</td>\n",
       "      <td>...</td>\n",
       "      <td>...</td>\n",
       "      <td>...</td>\n",
       "      <td>...</td>\n",
       "      <td>...</td>\n",
       "      <td>...</td>\n",
       "    </tr>\n",
       "    <tr>\n",
       "      <th>2734</th>\n",
       "      <td>CPV</td>\n",
       "      <td>\\nBefore beginning my statement, I would like to \\nmention something that happened on our continent, in \\nWest Afric...</td>\n",
       "      <td>2009</td>\n",
       "      <td>True</td>\n",
       "      <td>True</td>\n",
       "      <td>1.676882e-89</td>\n",
       "      <td>1.000000e+00</td>\n",
       "    </tr>\n",
       "    <tr>\n",
       "      <th>2735</th>\n",
       "      <td>GMB</td>\n",
       "      <td>I would like first of all to \\nthank almighty Allah for granting us yet another \\nopportunity for a gathering of wor...</td>\n",
       "      <td>2009</td>\n",
       "      <td>True</td>\n",
       "      <td>True</td>\n",
       "      <td>1.622333e-38</td>\n",
       "      <td>1.000000e+00</td>\n",
       "    </tr>\n",
       "    <tr>\n",
       "      <th>2736</th>\n",
       "      <td>BRA</td>\n",
       "      <td>The General \\nAssembly has been and must continue to be the great \\nforum for general debate concerning humankind’s ...</td>\n",
       "      <td>2009</td>\n",
       "      <td>True</td>\n",
       "      <td>True</td>\n",
       "      <td>2.804638e-62</td>\n",
       "      <td>1.000000e+00</td>\n",
       "    </tr>\n",
       "    <tr>\n",
       "      <th>2737</th>\n",
       "      <td>ARG</td>\n",
       "      <td>I must confess that, when I arrived in this \\ncity to participate in this session of the General \\nAssembly, I had i...</td>\n",
       "      <td>2009</td>\n",
       "      <td>True</td>\n",
       "      <td>True</td>\n",
       "      <td>3.074498e-42</td>\n",
       "      <td>1.000000e+00</td>\n",
       "    </tr>\n",
       "    <tr>\n",
       "      <th>2738</th>\n",
       "      <td>BFA</td>\n",
       "      <td>The \\nsixty-fourth session of the General Assembly is being \\nheld at a time when the international community, faced...</td>\n",
       "      <td>2009</td>\n",
       "      <td>True</td>\n",
       "      <td>True</td>\n",
       "      <td>3.227820e-56</td>\n",
       "      <td>1.000000e+00</td>\n",
       "    </tr>\n",
       "    <tr>\n",
       "      <th>2739</th>\n",
       "      <td>FSM</td>\n",
       "      <td>I wish to offer my warm \\ncongratulations to Mr. Ali Abdussalam Treki on his \\nelection to the presidency of the Gen...</td>\n",
       "      <td>2009</td>\n",
       "      <td>True</td>\n",
       "      <td>True</td>\n",
       "      <td>4.518987e-77</td>\n",
       "      <td>1.000000e+00</td>\n",
       "    </tr>\n",
       "    <tr>\n",
       "      <th>2740</th>\n",
       "      <td>IRL</td>\n",
       "      <td>Let me begin, \\nMr. President, by warmly congratulating you on your \\nelection and extending the best wishes of the ...</td>\n",
       "      <td>2009</td>\n",
       "      <td>True</td>\n",
       "      <td>True</td>\n",
       "      <td>6.492602e-161</td>\n",
       "      <td>1.000000e+00</td>\n",
       "    </tr>\n",
       "    <tr>\n",
       "      <th>2741</th>\n",
       "      <td>PSE</td>\n",
       "      <td>I \\ncongratulate you, Sir, on your election to the \\npresidency of the General Assembly. I wish you every \\nsuccess ...</td>\n",
       "      <td>2009</td>\n",
       "      <td>True</td>\n",
       "      <td>True</td>\n",
       "      <td>1.384255e-16</td>\n",
       "      <td>1.000000e+00</td>\n",
       "    </tr>\n",
       "    <tr>\n",
       "      <th>2742</th>\n",
       "      <td>KGZ</td>\n",
       "      <td>At the outset, I should like to express our \\ncongratulations to Mr. Ali Abdussalam Treki on his \\nelection to presi...</td>\n",
       "      <td>2009</td>\n",
       "      <td>True</td>\n",
       "      <td>True</td>\n",
       "      <td>7.014171e-95</td>\n",
       "      <td>1.000000e+00</td>\n",
       "    </tr>\n",
       "    <tr>\n",
       "      <th>2743</th>\n",
       "      <td>AZE</td>\n",
       "      <td>I would like to \\njoin previous speakers in congratulating His \\nExcellency Mr. Ali Abdussalam Treki of Libya on his...</td>\n",
       "      <td>2009</td>\n",
       "      <td>True</td>\n",
       "      <td>True</td>\n",
       "      <td>2.138007e-53</td>\n",
       "      <td>1.000000e+00</td>\n",
       "    </tr>\n",
       "    <tr>\n",
       "      <th>2744</th>\n",
       "      <td>ATG</td>\n",
       "      <td>On behalf \\nof my Government and the people of Antigua and \\nBarbuda, I congratulate you, Sir, on your election to \\...</td>\n",
       "      <td>2009</td>\n",
       "      <td>True</td>\n",
       "      <td>True</td>\n",
       "      <td>2.296929e-135</td>\n",
       "      <td>1.000000e+00</td>\n",
       "    </tr>\n",
       "    <tr>\n",
       "      <th>2745</th>\n",
       "      <td>BTN</td>\n",
       "      <td>I should like to congratulate \\nthe President on his election to preside over the \\nGeneral Assembly at its sixty-fo...</td>\n",
       "      <td>2009</td>\n",
       "      <td>True</td>\n",
       "      <td>True</td>\n",
       "      <td>5.711315e-101</td>\n",
       "      <td>1.000000e+00</td>\n",
       "    </tr>\n",
       "    <tr>\n",
       "      <th>2746</th>\n",
       "      <td>NGA</td>\n",
       "      <td>On behalf of the \\nNigerian delegation, I wish to congratulate His \\nExcellency Mr. Ali Abdussalam Treki on his elec...</td>\n",
       "      <td>2009</td>\n",
       "      <td>True</td>\n",
       "      <td>True</td>\n",
       "      <td>1.696345e-98</td>\n",
       "      <td>1.000000e+00</td>\n",
       "    </tr>\n",
       "    <tr>\n",
       "      <th>2747</th>\n",
       "      <td>ITA</td>\n",
       "      <td>This morning, like all \\nother members of the Assembly, I listened with great \\ninterest to President Obama’s statem...</td>\n",
       "      <td>2009</td>\n",
       "      <td>True</td>\n",
       "      <td>True</td>\n",
       "      <td>5.017616e-53</td>\n",
       "      <td>1.000000e+00</td>\n",
       "    </tr>\n",
       "    <tr>\n",
       "      <th>2761</th>\n",
       "      <td>PRY</td>\n",
       "      <td>I \\nshould like at the outset to express my sincerest \\ncongratulations to Mr. Ali Abdussalam Treki on his \\nelectio...</td>\n",
       "      <td>2009</td>\n",
       "      <td>True</td>\n",
       "      <td>True</td>\n",
       "      <td>3.008510e-41</td>\n",
       "      <td>1.000000e+00</td>\n",
       "    </tr>\n",
       "    <tr>\n",
       "      <th>2760</th>\n",
       "      <td>SDN</td>\n",
       "      <td>It is my \\npleasure at the outset to convey the best wishes of the \\nGovernment and people of the Sudan for successf...</td>\n",
       "      <td>2009</td>\n",
       "      <td>True</td>\n",
       "      <td>True</td>\n",
       "      <td>4.307182e-113</td>\n",
       "      <td>1.000000e+00</td>\n",
       "    </tr>\n",
       "    <tr>\n",
       "      <th>2759</th>\n",
       "      <td>PER</td>\n",
       "      <td>\\nI wish first of all to congratulate Mr. Ali Abdussalam \\nTreki on his election as President of the General \\nAssem...</td>\n",
       "      <td>2009</td>\n",
       "      <td>True</td>\n",
       "      <td>True</td>\n",
       "      <td>7.638617e-64</td>\n",
       "      <td>1.000000e+00</td>\n",
       "    </tr>\n",
       "    <tr>\n",
       "      <th>2758</th>\n",
       "      <td>TON</td>\n",
       "      <td>Like previous speakers, I \\noffer you, Sir, my warmest congratulations on your \\nelection to the presidency of the G...</td>\n",
       "      <td>2009</td>\n",
       "      <td>True</td>\n",
       "      <td>True</td>\n",
       "      <td>2.978735e-85</td>\n",
       "      <td>1.000000e+00</td>\n",
       "    </tr>\n",
       "    <tr>\n",
       "      <th>2757</th>\n",
       "      <td>BWA</td>\n",
       "      <td>I congratulate you, \\nSir, on your election as President of the General \\nAssembly and on the very effective manner ...</td>\n",
       "      <td>2009</td>\n",
       "      <td>True</td>\n",
       "      <td>True</td>\n",
       "      <td>2.726949e-152</td>\n",
       "      <td>1.000000e+00</td>\n",
       "    </tr>\n",
       "    <tr>\n",
       "      <th>2756</th>\n",
       "      <td>ZMB</td>\n",
       "      <td>Let me join previous speakers \\nin congratulating you, Sir, on your assumption of the \\npresidency at the sixty-four...</td>\n",
       "      <td>2009</td>\n",
       "      <td>True</td>\n",
       "      <td>True</td>\n",
       "      <td>5.991803e-146</td>\n",
       "      <td>1.000000e+00</td>\n",
       "    </tr>\n",
       "    <tr>\n",
       "      <th>2729</th>\n",
       "      <td>BHS</td>\n",
       "      <td>On behalf of the \\nGovernment and people of the Commonwealth of the \\nBahamas, I convey my sincere congratulations o...</td>\n",
       "      <td>2009</td>\n",
       "      <td>True</td>\n",
       "      <td>True</td>\n",
       "      <td>1.521159e-99</td>\n",
       "      <td>1.000000e+00</td>\n",
       "    </tr>\n",
       "    <tr>\n",
       "      <th>2755</th>\n",
       "      <td>ARM</td>\n",
       "      <td>I should like to \\nwarmly congratulate Mr. Treki on his election as \\nPresident of the General Assembly at its sixty...</td>\n",
       "      <td>2009</td>\n",
       "      <td>True</td>\n",
       "      <td>True</td>\n",
       "      <td>3.596855e-65</td>\n",
       "      <td>1.000000e+00</td>\n",
       "    </tr>\n",
       "    <tr>\n",
       "      <th>2753</th>\n",
       "      <td>WSM</td>\n",
       "      <td>The value of the \\nUnited Nations to humanity has not diminished with \\nthe passing of time. Our Organization remain...</td>\n",
       "      <td>2009</td>\n",
       "      <td>True</td>\n",
       "      <td>True</td>\n",
       "      <td>2.199102e-100</td>\n",
       "      <td>1.000000e+00</td>\n",
       "    </tr>\n",
       "    <tr>\n",
       "      <th>2752</th>\n",
       "      <td>KWT</td>\n",
       "      <td>It \\nis my pleasure, Sir, to convey to you on behalf of the \\nState of Kuwait and on my own account our most \\nsince...</td>\n",
       "      <td>2009</td>\n",
       "      <td>True</td>\n",
       "      <td>True</td>\n",
       "      <td>2.191085e-94</td>\n",
       "      <td>1.000000e+00</td>\n",
       "    </tr>\n",
       "    <tr>\n",
       "      <th>2751</th>\n",
       "      <td>UZB</td>\n",
       "      <td>This session is being \\nheld at a time of unprecedented efforts made by States \\nand international institutions to o...</td>\n",
       "      <td>2009</td>\n",
       "      <td>True</td>\n",
       "      <td>True</td>\n",
       "      <td>2.476216e-35</td>\n",
       "      <td>1.000000e+00</td>\n",
       "    </tr>\n",
       "    <tr>\n",
       "      <th>2750</th>\n",
       "      <td>RUS</td>\n",
       "      <td>Today, \\nspeaking from this high rostrum, I would like to \\nhighlight five topics that are, in my view, important to...</td>\n",
       "      <td>2009</td>\n",
       "      <td>True</td>\n",
       "      <td>True</td>\n",
       "      <td>2.840088e-86</td>\n",
       "      <td>1.000000e+00</td>\n",
       "    </tr>\n",
       "    <tr>\n",
       "      <th>2749</th>\n",
       "      <td>NER</td>\n",
       "      <td>The \\ndelegation of the Niger — which I have the honour to \\nlead and which brings the message of His Excellency \\nM...</td>\n",
       "      <td>2009</td>\n",
       "      <td>True</td>\n",
       "      <td>True</td>\n",
       "      <td>7.845586e-95</td>\n",
       "      <td>1.000000e+00</td>\n",
       "    </tr>\n",
       "    <tr>\n",
       "      <th>2748</th>\n",
       "      <td>MRT</td>\n",
       "      <td>I should like at the outset, on behalf of the \\nIslamic Republic of Mauritania as well as on my own \\naccount, to co...</td>\n",
       "      <td>2009</td>\n",
       "      <td>True</td>\n",
       "      <td>True</td>\n",
       "      <td>5.194894e-58</td>\n",
       "      <td>1.000000e+00</td>\n",
       "    </tr>\n",
       "    <tr>\n",
       "      <th>2754</th>\n",
       "      <td>SGP</td>\n",
       "      <td>When we met here last \\nyear, financial institutions such as Lehman Brothers \\nand American International Group (AIG...</td>\n",
       "      <td>2009</td>\n",
       "      <td>True</td>\n",
       "      <td>True</td>\n",
       "      <td>1.520616e-74</td>\n",
       "      <td>1.000000e+00</td>\n",
       "    </tr>\n",
       "    <tr>\n",
       "      <th>7506</th>\n",
       "      <td>KWT</td>\n",
       "      <td>﻿On behalf of the State of Kuwait, it\\ngives me pleasure to congratulate Mr. Han Seung-soo,\\nand his friendly countr...</td>\n",
       "      <td>2001</td>\n",
       "      <td>True</td>\n",
       "      <td>True</td>\n",
       "      <td>4.260619e-74</td>\n",
       "      <td>1.000000e+00</td>\n",
       "    </tr>\n",
       "  </tbody>\n",
       "</table>\n",
       "<p>4459 rows × 7 columns</p>\n",
       "</div>"
      ],
      "text/plain": [
       "     country_code  \\\n",
       "5580          PRK   \n",
       "6353          PRK   \n",
       "6202          CUB   \n",
       "7266          NIC   \n",
       "6788          PRK   \n",
       "3635          PRK   \n",
       "1830          PRK   \n",
       "1149          PRK   \n",
       "6234          VNM   \n",
       "2576          PRK   \n",
       "6248          AZE   \n",
       "1629          PSE   \n",
       "1826          LBN   \n",
       "4651          PRK   \n",
       "7034          CUB   \n",
       "6796          LBN   \n",
       "6318          AGO   \n",
       "5103          PRK   \n",
       "2822          VEN   \n",
       "6026          PRK   \n",
       "1072          PSE   \n",
       "6995          PRK   \n",
       "7273          PRK   \n",
       "4335          PRK   \n",
       "4244          PRK   \n",
       "5062          ISR   \n",
       "2602          LBN   \n",
       "7499          LBN   \n",
       "1600          PRK   \n",
       "3828          PSE   \n",
       "...           ...   \n",
       "2734          CPV   \n",
       "2735          GMB   \n",
       "2736          BRA   \n",
       "2737          ARG   \n",
       "2738          BFA   \n",
       "2739          FSM   \n",
       "2740          IRL   \n",
       "2741          PSE   \n",
       "2742          KGZ   \n",
       "2743          AZE   \n",
       "2744          ATG   \n",
       "2745          BTN   \n",
       "2746          NGA   \n",
       "2747          ITA   \n",
       "2761          PRY   \n",
       "2760          SDN   \n",
       "2759          PER   \n",
       "2758          TON   \n",
       "2757          BWA   \n",
       "2756          ZMB   \n",
       "2729          BHS   \n",
       "2755          ARM   \n",
       "2753          WSM   \n",
       "2752          KWT   \n",
       "2751          UZB   \n",
       "2750          RUS   \n",
       "2749          NER   \n",
       "2748          MRT   \n",
       "2754          SGP   \n",
       "7506          KWT   \n",
       "\n",
       "                                                                                                                  speech_text  \\\n",
       "5580  On behalf of the delegation of the Democratic\\nPeople’s Republic of Korea, I should like, first of all, to\\ncongratu...   \n",
       "6353  On behalf of the delegation of the \\nDemocratic People's Republic of Korea, I would like to congratulate you, \\nMr. ...   \n",
       "6202  I wish \\nto congratulate Mr. Ganev on his election to the presidency of the General \\nAssembly at this session. He c...   \n",
       "7266  I should like to begin by remembering the \\nmillions of human beings who are the victims of the \\npolicies of coloni...   \n",
       "6788  Mr. President, allow me first of all, on behalf\\nof the Democratic People’s Republic of Korea, to convey\\nto you our...   \n",
       "3635  At the outset, please allow me to express, on\\nbehalf of the delegation of the Democratic People's\\nRepublic of Kore...   \n",
       "1830  ﻿Allow me first of all, on behalf of the\\ndelegation of the Democratic People’s Republic of Korea,\\nto congratulate ...   \n",
       "1149  ﻿I would like to\\ncongratulate you, Sir, on your election as President of\\nthe General Assembly at its fifty-seventh...   \n",
       "6234  On \\nbehalf of the delegation of Viet Nam, permit me at the outset to extend my \\nwarmest congratulations to His Exc...   \n",
       "2576  On behalf of the delegation of the\\nDemocratic People’s Republic of Korea, I should like first\\nto congratulate you,...   \n",
       "6248  Anyone who \\nhas spoken from this rostrum will probably understand what my feelings are at \\nthis moment: there is b...   \n",
       "1629  ﻿I wish to\\nbegin by extending my appreciation to the heads of all\\nthe delegations who in their statements to the A...   \n",
       "1826  ﻿Allow me to extend our thanks to the outgoing President,\\nAmbassador Razali Ismail, and to congratulate him on the\\...   \n",
       "4651  On behalf of the\\ndelegation of the Democratic People’s Republic of\\nKorea, I should like at the outset to congratul...   \n",
       "7034  As President Hugo Chávez said in his brilliant \\nstatement, only four days ago the Fourteenth Summit \\nof the Non-Al...   \n",
       "6796  We are gathered here today, in a new session of the\\nGeneral Assembly, in a new year in the life of the United\\nNati...   \n",
       "6318  Allow me, first of all, on behalf \\nof the Angolan Government and on my own behalf, to congratulate you. Sir, on \\ny...   \n",
       "5103  First of all, I would like to \\ncongratulate Mr. Nassir Abdulaziz Al-Nasser on his \\nelection as President of the Ge...   \n",
       "2822  I greet all the citizens of the world who have come \\nhere — as they do every year — for this gathering of \\nsuch gr...   \n",
       "6026  On behalf of the\\ndelegation of the Democratic People's Republic of\\nKorea, I should like first of all to congratula...   \n",
       "1072  ﻿I\\ncongratulate you, Mr. President, on your election to the\\npresidency of the fifty-seventh session of the General...   \n",
       "6995  Allow me first, on behalf \\nof my delegation, to congratulate Ms. Haya Rashed \\nAl-Khalifa on her election as Presid...   \n",
       "7273  On behalf of the  delegation of the Democratic People's Republic of \\nKorea, I should like at the outset to congratu...   \n",
       "4335  ﻿I would like at the outset,\\non behalf of the delegation of the Democratic People’s\\nRepublic of Korea, to congratu...   \n",
       "4244  Allow me first of all, on behalf of the\\ndelegation of the Democratic People’s Republic of Korea,\\nto congratulate M...   \n",
       "5062  Israel has extended its \\nhand in peace from the moment it was established \\n63 years ago. On behalf of Israel and t...   \n",
       "2602  In a few days the United Nations will be marking the first\\nhalf-century of its existence. This historic occasion, w...   \n",
       "7499  ﻿Mr. President, allow me first to congratulate you on\\nyour election as President of the fifty-sixth session of\\nthe...   \n",
       "1600  ﻿Allow me to congratulate you, Sir,\\non your election to preside over the General Assembly\\nat its sixty-seventh ses...   \n",
       "3828  Unlike the Israeli Prime Minister, who a few days ago\\ntold the Assembly that he had come to the United\\nNations fro...   \n",
       "...                                                                                                                       ...   \n",
       "2734  \\nBefore beginning my statement, I would like to \\nmention something that happened on our continent, in \\nWest Afric...   \n",
       "2735  I would like first of all to \\nthank almighty Allah for granting us yet another \\nopportunity for a gathering of wor...   \n",
       "2736  The General \\nAssembly has been and must continue to be the great \\nforum for general debate concerning humankind’s ...   \n",
       "2737  I must confess that, when I arrived in this \\ncity to participate in this session of the General \\nAssembly, I had i...   \n",
       "2738  The \\nsixty-fourth session of the General Assembly is being \\nheld at a time when the international community, faced...   \n",
       "2739  I wish to offer my warm \\ncongratulations to Mr. Ali Abdussalam Treki on his \\nelection to the presidency of the Gen...   \n",
       "2740  Let me begin, \\nMr. President, by warmly congratulating you on your \\nelection and extending the best wishes of the ...   \n",
       "2741  I \\ncongratulate you, Sir, on your election to the \\npresidency of the General Assembly. I wish you every \\nsuccess ...   \n",
       "2742  At the outset, I should like to express our \\ncongratulations to Mr. Ali Abdussalam Treki on his \\nelection to presi...   \n",
       "2743  I would like to \\njoin previous speakers in congratulating His \\nExcellency Mr. Ali Abdussalam Treki of Libya on his...   \n",
       "2744  On behalf \\nof my Government and the people of Antigua and \\nBarbuda, I congratulate you, Sir, on your election to \\...   \n",
       "2745  I should like to congratulate \\nthe President on his election to preside over the \\nGeneral Assembly at its sixty-fo...   \n",
       "2746  On behalf of the \\nNigerian delegation, I wish to congratulate His \\nExcellency Mr. Ali Abdussalam Treki on his elec...   \n",
       "2747  This morning, like all \\nother members of the Assembly, I listened with great \\ninterest to President Obama’s statem...   \n",
       "2761  I \\nshould like at the outset to express my sincerest \\ncongratulations to Mr. Ali Abdussalam Treki on his \\nelectio...   \n",
       "2760  It is my \\npleasure at the outset to convey the best wishes of the \\nGovernment and people of the Sudan for successf...   \n",
       "2759  \\nI wish first of all to congratulate Mr. Ali Abdussalam \\nTreki on his election as President of the General \\nAssem...   \n",
       "2758  Like previous speakers, I \\noffer you, Sir, my warmest congratulations on your \\nelection to the presidency of the G...   \n",
       "2757  I congratulate you, \\nSir, on your election as President of the General \\nAssembly and on the very effective manner ...   \n",
       "2756  Let me join previous speakers \\nin congratulating you, Sir, on your assumption of the \\npresidency at the sixty-four...   \n",
       "2729  On behalf of the \\nGovernment and people of the Commonwealth of the \\nBahamas, I convey my sincere congratulations o...   \n",
       "2755  I should like to \\nwarmly congratulate Mr. Treki on his election as \\nPresident of the General Assembly at its sixty...   \n",
       "2753  The value of the \\nUnited Nations to humanity has not diminished with \\nthe passing of time. Our Organization remain...   \n",
       "2752  It \\nis my pleasure, Sir, to convey to you on behalf of the \\nState of Kuwait and on my own account our most \\nsince...   \n",
       "2751  This session is being \\nheld at a time of unprecedented efforts made by States \\nand international institutions to o...   \n",
       "2750  Today, \\nspeaking from this high rostrum, I would like to \\nhighlight five topics that are, in my view, important to...   \n",
       "2749  The \\ndelegation of the Niger — which I have the honour to \\nlead and which brings the message of His Excellency \\nM...   \n",
       "2748  I should like at the outset, on behalf of the \\nIslamic Republic of Mauritania as well as on my own \\naccount, to co...   \n",
       "2754  When we met here last \\nyear, financial institutions such as Lehman Brothers \\nand American International Group (AIG...   \n",
       "7506  ﻿On behalf of the State of Kuwait, it\\ngives me pleasure to congratulate Mr. Han Seung-soo,\\nand his friendly countr...   \n",
       "\n",
       "      speech_year  post_soviet  post_soviet_guess       pred_pre     pred_post  \n",
       "5580         1993         True              False   1.000000e+00  3.141851e-95  \n",
       "6353         1992         True              False   1.000000e+00  1.539919e-90  \n",
       "6202         1992         True              False   1.000000e+00  1.829508e-62  \n",
       "7266         2007         True              False   1.000000e+00  2.049954e-54  \n",
       "6788         1994         True              False   1.000000e+00  8.598637e-41  \n",
       "3635         1999         True              False   1.000000e+00  2.590976e-38  \n",
       "1830         1997         True              False   1.000000e+00  6.803213e-33  \n",
       "1149         2002         True              False   1.000000e+00  2.933563e-30  \n",
       "6234         1992         True              False   1.000000e+00  6.514479e-30  \n",
       "2576         1995         True              False   1.000000e+00  9.504932e-28  \n",
       "6248         1992         True              False   1.000000e+00  1.752742e-25  \n",
       "1629         2012         True              False   1.000000e+00  5.618561e-23  \n",
       "1826         1997         True              False   1.000000e+00  2.219759e-20  \n",
       "4651         2004         True              False   1.000000e+00  3.844494e-20  \n",
       "7034         2006         True              False   1.000000e+00  7.616501e-20  \n",
       "6796         1994         True              False   1.000000e+00  9.180649e-19  \n",
       "6318         1992         True              False   1.000000e+00  9.677769e-19  \n",
       "5103         2011         True              False   1.000000e+00  8.835105e-18  \n",
       "2822         2009         True              False   1.000000e+00  2.944184e-17  \n",
       "6026         2000         True              False   1.000000e+00  4.506257e-17  \n",
       "1072         2002         True              False   1.000000e+00  4.994709e-17  \n",
       "6995         2006         True              False   1.000000e+00  9.899130e-17  \n",
       "7273         2007         True              False   1.000000e+00  7.611114e-16  \n",
       "4335         2003         True              False   1.000000e+00  1.770432e-14  \n",
       "4244         1998         True              False   1.000000e+00  4.066244e-14  \n",
       "5062         2011         True              False   1.000000e+00  1.686551e-13  \n",
       "2602         1995         True              False   1.000000e+00  2.482694e-13  \n",
       "7499         2001         True              False   1.000000e+00  3.226927e-13  \n",
       "1600         2012         True              False   1.000000e+00  2.509258e-12  \n",
       "3828         2005         True              False   1.000000e+00  3.695565e-12  \n",
       "...           ...          ...                ...            ...           ...  \n",
       "2734         2009         True               True   1.676882e-89  1.000000e+00  \n",
       "2735         2009         True               True   1.622333e-38  1.000000e+00  \n",
       "2736         2009         True               True   2.804638e-62  1.000000e+00  \n",
       "2737         2009         True               True   3.074498e-42  1.000000e+00  \n",
       "2738         2009         True               True   3.227820e-56  1.000000e+00  \n",
       "2739         2009         True               True   4.518987e-77  1.000000e+00  \n",
       "2740         2009         True               True  6.492602e-161  1.000000e+00  \n",
       "2741         2009         True               True   1.384255e-16  1.000000e+00  \n",
       "2742         2009         True               True   7.014171e-95  1.000000e+00  \n",
       "2743         2009         True               True   2.138007e-53  1.000000e+00  \n",
       "2744         2009         True               True  2.296929e-135  1.000000e+00  \n",
       "2745         2009         True               True  5.711315e-101  1.000000e+00  \n",
       "2746         2009         True               True   1.696345e-98  1.000000e+00  \n",
       "2747         2009         True               True   5.017616e-53  1.000000e+00  \n",
       "2761         2009         True               True   3.008510e-41  1.000000e+00  \n",
       "2760         2009         True               True  4.307182e-113  1.000000e+00  \n",
       "2759         2009         True               True   7.638617e-64  1.000000e+00  \n",
       "2758         2009         True               True   2.978735e-85  1.000000e+00  \n",
       "2757         2009         True               True  2.726949e-152  1.000000e+00  \n",
       "2756         2009         True               True  5.991803e-146  1.000000e+00  \n",
       "2729         2009         True               True   1.521159e-99  1.000000e+00  \n",
       "2755         2009         True               True   3.596855e-65  1.000000e+00  \n",
       "2753         2009         True               True  2.199102e-100  1.000000e+00  \n",
       "2752         2009         True               True   2.191085e-94  1.000000e+00  \n",
       "2751         2009         True               True   2.476216e-35  1.000000e+00  \n",
       "2750         2009         True               True   2.840088e-86  1.000000e+00  \n",
       "2749         2009         True               True   7.845586e-95  1.000000e+00  \n",
       "2748         2009         True               True   5.194894e-58  1.000000e+00  \n",
       "2754         2009         True               True   1.520616e-74  1.000000e+00  \n",
       "7506         2001         True               True   4.260619e-74  1.000000e+00  \n",
       "\n",
       "[4459 rows x 7 columns]"
      ]
     },
     "execution_count": 43,
     "metadata": {},
     "output_type": "execute_result"
    }
   ],
   "source": [
    "un_predict_df = pd.DataFrame(un_nb_classifier.predict_proba(un_tf), \n",
    "                          columns=['pred_pre','pred_post'])\n",
    "\n",
    "un_df_prediction = pd.concat([un_df, un_predict_df], axis = 1)\n",
    "\n",
    "un_df_prediction[un_df_prediction['post_soviet']==True].sort_values('pred_post')"
   ]
  },
  {
   "cell_type": "code",
   "execution_count": 44,
   "metadata": {},
   "outputs": [
    {
     "data": {
      "text/html": [
       "<div>\n",
       "<style scoped>\n",
       "    .dataframe tbody tr th:only-of-type {\n",
       "        vertical-align: middle;\n",
       "    }\n",
       "\n",
       "    .dataframe tbody tr th {\n",
       "        vertical-align: top;\n",
       "    }\n",
       "\n",
       "    .dataframe thead th {\n",
       "        text-align: right;\n",
       "    }\n",
       "</style>\n",
       "<table border=\"1\" class=\"dataframe\">\n",
       "  <thead>\n",
       "    <tr style=\"text-align: right;\">\n",
       "      <th></th>\n",
       "      <th>country_code</th>\n",
       "      <th>speech_text</th>\n",
       "      <th>speech_year</th>\n",
       "      <th>post_soviet</th>\n",
       "      <th>post_soviet_guess</th>\n",
       "      <th>pred_pre</th>\n",
       "      <th>pred_post</th>\n",
       "    </tr>\n",
       "  </thead>\n",
       "  <tbody>\n",
       "    <tr>\n",
       "      <th>822</th>\n",
       "      <td>CAN</td>\n",
       "      <td>﻿I know that you, Sir, will convey to the President of the General Assembly at the forty-sixth session my congratula...</td>\n",
       "      <td>1991</td>\n",
       "      <td>False</td>\n",
       "      <td>True</td>\n",
       "      <td>4.171855e-114</td>\n",
       "      <td>1.000000e+00</td>\n",
       "    </tr>\n",
       "    <tr>\n",
       "      <th>65</th>\n",
       "      <td>NOR</td>\n",
       "      <td>﻿It is a great pleasure, Mr. President, to congratulate you upon your election as President of this session of the G...</td>\n",
       "      <td>1989</td>\n",
       "      <td>False</td>\n",
       "      <td>True</td>\n",
       "      <td>1.216317e-84</td>\n",
       "      <td>1.000000e+00</td>\n",
       "    </tr>\n",
       "    <tr>\n",
       "      <th>811</th>\n",
       "      <td>JPN</td>\n",
       "      <td>﻿I should like first to extend my heartfelt congratulations to His Excellency Mr. Samir Shihabi upon his election as...</td>\n",
       "      <td>1991</td>\n",
       "      <td>False</td>\n",
       "      <td>True</td>\n",
       "      <td>1.672033e-73</td>\n",
       "      <td>1.000000e+00</td>\n",
       "    </tr>\n",
       "    <tr>\n",
       "      <th>141</th>\n",
       "      <td>NZL</td>\n",
       "      <td>﻿\\nIt is a great pleasure to see a distinguished leader such as Ambassador Garba presiding over this Assembly. We ha...</td>\n",
       "      <td>1989</td>\n",
       "      <td>False</td>\n",
       "      <td>True</td>\n",
       "      <td>1.051915e-69</td>\n",
       "      <td>1.000000e+00</td>\n",
       "    </tr>\n",
       "    <tr>\n",
       "      <th>796</th>\n",
       "      <td>DNK</td>\n",
       "      <td>﻿We are today In the happy position of being able to give a warm welcome to the representatives of the three Baltic ...</td>\n",
       "      <td>1991</td>\n",
       "      <td>False</td>\n",
       "      <td>True</td>\n",
       "      <td>5.386032e-66</td>\n",
       "      <td>1.000000e+00</td>\n",
       "    </tr>\n",
       "    <tr>\n",
       "      <th>898</th>\n",
       "      <td>BGD</td>\n",
       "      <td>﻿I stand before this Assembly with a sense of pride and humility - pride, because I represent a Government freely el...</td>\n",
       "      <td>1991</td>\n",
       "      <td>False</td>\n",
       "      <td>True</td>\n",
       "      <td>6.228746e-61</td>\n",
       "      <td>1.000000e+00</td>\n",
       "    </tr>\n",
       "    <tr>\n",
       "      <th>857</th>\n",
       "      <td>PER</td>\n",
       "      <td>﻿At a stage of unprecedented significance for the international system, I should like to congratulate Mr. Shihabi on...</td>\n",
       "      <td>1991</td>\n",
       "      <td>False</td>\n",
       "      <td>True</td>\n",
       "      <td>1.397509e-55</td>\n",
       "      <td>1.000000e+00</td>\n",
       "    </tr>\n",
       "    <tr>\n",
       "      <th>773</th>\n",
       "      <td>AUS</td>\n",
       "      <td>﻿I congratulate you, Sir, on your election as President of the forty-sixth session of the General Assembly. I am sur...</td>\n",
       "      <td>1991</td>\n",
       "      <td>False</td>\n",
       "      <td>True</td>\n",
       "      <td>2.521340e-55</td>\n",
       "      <td>1.000000e+00</td>\n",
       "    </tr>\n",
       "    <tr>\n",
       "      <th>883</th>\n",
       "      <td>NOR</td>\n",
       "      <td>﻿It is indeed a pleasure to congratulate you, Mr. President, upon your election to this high office at a time of suc...</td>\n",
       "      <td>1991</td>\n",
       "      <td>False</td>\n",
       "      <td>True</td>\n",
       "      <td>4.566214e-52</td>\n",
       "      <td>1.000000e+00</td>\n",
       "    </tr>\n",
       "    <tr>\n",
       "      <th>750</th>\n",
       "      <td>LBR</td>\n",
       "      <td>﻿It is indeed for me a great honour and privilege to address the forty-sixth session of the General Assembly. This o...</td>\n",
       "      <td>1991</td>\n",
       "      <td>False</td>\n",
       "      <td>True</td>\n",
       "      <td>1.643594e-49</td>\n",
       "      <td>1.000000e+00</td>\n",
       "    </tr>\n",
       "    <tr>\n",
       "      <th>856</th>\n",
       "      <td>MHL</td>\n",
       "      <td>﻿Please permit me to extend to you, Sir, my warmest congratulations upon your election as the President of the Gener...</td>\n",
       "      <td>1991</td>\n",
       "      <td>False</td>\n",
       "      <td>True</td>\n",
       "      <td>7.167980e-48</td>\n",
       "      <td>1.000000e+00</td>\n",
       "    </tr>\n",
       "    <tr>\n",
       "      <th>876</th>\n",
       "      <td>TTO</td>\n",
       "      <td>﻿It gives me great pleasure, Sir, to extend to you and to your country, Saudi Arabia, the warm congratulations of th...</td>\n",
       "      <td>1991</td>\n",
       "      <td>False</td>\n",
       "      <td>True</td>\n",
       "      <td>3.472318e-40</td>\n",
       "      <td>1.000000e+00</td>\n",
       "    </tr>\n",
       "    <tr>\n",
       "      <th>784</th>\n",
       "      <td>FJI</td>\n",
       "      <td>﻿On behalf of the delegation of the Republic of Fiji, I should like to congratulate Ambassador Samir Shihabi on his ...</td>\n",
       "      <td>1991</td>\n",
       "      <td>False</td>\n",
       "      <td>True</td>\n",
       "      <td>4.142573e-40</td>\n",
       "      <td>1.000000e+00</td>\n",
       "    </tr>\n",
       "    <tr>\n",
       "      <th>848</th>\n",
       "      <td>COL</td>\n",
       "      <td>﻿In the name of the people and Government of Colombia, allow me to congratulate Ambassador Shihabi of Saudi Arabia o...</td>\n",
       "      <td>1991</td>\n",
       "      <td>False</td>\n",
       "      <td>True</td>\n",
       "      <td>1.629177e-38</td>\n",
       "      <td>1.000000e+00</td>\n",
       "    </tr>\n",
       "    <tr>\n",
       "      <th>808</th>\n",
       "      <td>NLD</td>\n",
       "      <td>﻿I have the honour to speak on behalf of the European Community and its Member States. First allow me to extend to y...</td>\n",
       "      <td>1991</td>\n",
       "      <td>False</td>\n",
       "      <td>True</td>\n",
       "      <td>2.670971e-38</td>\n",
       "      <td>1.000000e+00</td>\n",
       "    </tr>\n",
       "    <tr>\n",
       "      <th>33</th>\n",
       "      <td>JPN</td>\n",
       "      <td>﻿\\nI should like first, on behalf of the Government and people of Japan, to express „y heartfelt congratulations to ...</td>\n",
       "      <td>1989</td>\n",
       "      <td>False</td>\n",
       "      <td>True</td>\n",
       "      <td>8.940235e-38</td>\n",
       "      <td>1.000000e+00</td>\n",
       "    </tr>\n",
       "    <tr>\n",
       "      <th>16</th>\n",
       "      <td>COL</td>\n",
       "      <td>﻿\\nOn behalf of the people and the Government of Colombia please accept our congratulations and good wishes on your ...</td>\n",
       "      <td>1989</td>\n",
       "      <td>False</td>\n",
       "      <td>True</td>\n",
       "      <td>1.096738e-36</td>\n",
       "      <td>1.000000e+00</td>\n",
       "    </tr>\n",
       "    <tr>\n",
       "      <th>794</th>\n",
       "      <td>KNA</td>\n",
       "      <td>﻿I bring the Assembly most sincere greetings from the Government and the people of Saint Kitts and Nevis, and deem i...</td>\n",
       "      <td>1991</td>\n",
       "      <td>False</td>\n",
       "      <td>True</td>\n",
       "      <td>1.435560e-36</td>\n",
       "      <td>1.000000e+00</td>\n",
       "    </tr>\n",
       "    <tr>\n",
       "      <th>895</th>\n",
       "      <td>WSM</td>\n",
       "      <td>﻿May I congratulate you, Mr. President, on your election to your high post. Your long experience of international af...</td>\n",
       "      <td>1991</td>\n",
       "      <td>False</td>\n",
       "      <td>True</td>\n",
       "      <td>6.236347e-33</td>\n",
       "      <td>1.000000e+00</td>\n",
       "    </tr>\n",
       "    <tr>\n",
       "      <th>6468</th>\n",
       "      <td>USA</td>\n",
       "      <td>﻿\\nIt is really a great privilege to greet you today as we begin what marks a new and historic session of the Genera...</td>\n",
       "      <td>1990</td>\n",
       "      <td>False</td>\n",
       "      <td>True</td>\n",
       "      <td>8.409355e-33</td>\n",
       "      <td>1.000000e+00</td>\n",
       "    </tr>\n",
       "    <tr>\n",
       "      <th>887</th>\n",
       "      <td>FIN</td>\n",
       "      <td>﻿Mr. President, it is a real pleasure for me to see you presiding over our deliberations. I am sure that under your ...</td>\n",
       "      <td>1991</td>\n",
       "      <td>False</td>\n",
       "      <td>True</td>\n",
       "      <td>4.489575e-32</td>\n",
       "      <td>1.000000e+00</td>\n",
       "    </tr>\n",
       "    <tr>\n",
       "      <th>850</th>\n",
       "      <td>BRA</td>\n",
       "      <td>﻿Mr. President, may I congratulate you upon your election, which does justice to the tradition of international coop...</td>\n",
       "      <td>1991</td>\n",
       "      <td>False</td>\n",
       "      <td>True</td>\n",
       "      <td>5.452909e-32</td>\n",
       "      <td>1.000000e+00</td>\n",
       "    </tr>\n",
       "    <tr>\n",
       "      <th>6407</th>\n",
       "      <td>AUS</td>\n",
       "      <td>﻿It is with great pleasure. Sir, that I congratulate you on your election to the presidency of the General Assembly,...</td>\n",
       "      <td>1990</td>\n",
       "      <td>False</td>\n",
       "      <td>True</td>\n",
       "      <td>4.404971e-29</td>\n",
       "      <td>1.000000e+00</td>\n",
       "    </tr>\n",
       "    <tr>\n",
       "      <th>2141</th>\n",
       "      <td>CAN</td>\n",
       "      <td>﻿\\n\\nLet me first congratulate Mr. Caputo on his election as President of the General Assembly. His wisdom and exper...</td>\n",
       "      <td>1988</td>\n",
       "      <td>False</td>\n",
       "      <td>True</td>\n",
       "      <td>4.842019e-29</td>\n",
       "      <td>1.000000e+00</td>\n",
       "    </tr>\n",
       "    <tr>\n",
       "      <th>5957</th>\n",
       "      <td>USA</td>\n",
       "      <td>The United Nations, this parliament of man, offers us a unique opportunity to examine the human condition. We are ea...</td>\n",
       "      <td>1981</td>\n",
       "      <td>False</td>\n",
       "      <td>True</td>\n",
       "      <td>4.256729e-26</td>\n",
       "      <td>1.000000e+00</td>\n",
       "    </tr>\n",
       "    <tr>\n",
       "      <th>749</th>\n",
       "      <td>FSM</td>\n",
       "      <td>﻿Mr. President, it is my high honour to address you today both as the Chairman of the South Pacific Forum and as Pre...</td>\n",
       "      <td>1991</td>\n",
       "      <td>False</td>\n",
       "      <td>True</td>\n",
       "      <td>4.437180e-26</td>\n",
       "      <td>1.000000e+00</td>\n",
       "    </tr>\n",
       "    <tr>\n",
       "      <th>814</th>\n",
       "      <td>ROU</td>\n",
       "      <td>﻿I wish first of all to convey to Mr. Samir Shihabl my congratulations on his assumption of the presidency of the Ge...</td>\n",
       "      <td>1991</td>\n",
       "      <td>False</td>\n",
       "      <td>True</td>\n",
       "      <td>6.644273e-26</td>\n",
       "      <td>1.000000e+00</td>\n",
       "    </tr>\n",
       "    <tr>\n",
       "      <th>1</th>\n",
       "      <td>FIN</td>\n",
       "      <td>﻿\\nMay I begin by congratulating you. Sir, on your election to the presidency of the General Assembly at its forty-f...</td>\n",
       "      <td>1989</td>\n",
       "      <td>False</td>\n",
       "      <td>True</td>\n",
       "      <td>2.291459e-25</td>\n",
       "      <td>1.000000e+00</td>\n",
       "    </tr>\n",
       "    <tr>\n",
       "      <th>787</th>\n",
       "      <td>BHS</td>\n",
       "      <td>﻿I am happy to congratulate you warmly, Sir, on your election to the presidency of the General Assembly at its forty...</td>\n",
       "      <td>1991</td>\n",
       "      <td>False</td>\n",
       "      <td>True</td>\n",
       "      <td>4.330031e-25</td>\n",
       "      <td>1.000000e+00</td>\n",
       "    </tr>\n",
       "    <tr>\n",
       "      <th>831</th>\n",
       "      <td>IDN</td>\n",
       "      <td>﻿It gives me great pleasure, Sir, to extend to you my congratulations and those of the Indonesian delegation on your...</td>\n",
       "      <td>1991</td>\n",
       "      <td>False</td>\n",
       "      <td>True</td>\n",
       "      <td>6.115989e-25</td>\n",
       "      <td>1.000000e+00</td>\n",
       "    </tr>\n",
       "    <tr>\n",
       "      <th>...</th>\n",
       "      <td>...</td>\n",
       "      <td>...</td>\n",
       "      <td>...</td>\n",
       "      <td>...</td>\n",
       "      <td>...</td>\n",
       "      <td>...</td>\n",
       "      <td>...</td>\n",
       "    </tr>\n",
       "    <tr>\n",
       "      <th>2443</th>\n",
       "      <td>MDV</td>\n",
       "      <td>﻿It is indeed a great honour for me and my delegation to felicitate you, Sir, on your election to the esteemed offic...</td>\n",
       "      <td>1984</td>\n",
       "      <td>False</td>\n",
       "      <td>False</td>\n",
       "      <td>1.000000e+00</td>\n",
       "      <td>9.015311e-161</td>\n",
       "    </tr>\n",
       "    <tr>\n",
       "      <th>2444</th>\n",
       "      <td>COG</td>\n",
       "      <td>﻿As I speak in the General Assembly, the people of the People's Republic of the Congo is in the course of giving eff...</td>\n",
       "      <td>1984</td>\n",
       "      <td>False</td>\n",
       "      <td>False</td>\n",
       "      <td>1.000000e+00</td>\n",
       "      <td>1.197106e-176</td>\n",
       "    </tr>\n",
       "    <tr>\n",
       "      <th>2445</th>\n",
       "      <td>MDG</td>\n",
       "      <td>﻿The General Assembly's choice of Mr. Paul Lusaka to preside over the work of its thirty-ninth session gives us caus...</td>\n",
       "      <td>1984</td>\n",
       "      <td>False</td>\n",
       "      <td>False</td>\n",
       "      <td>1.000000e+00</td>\n",
       "      <td>3.965181e-157</td>\n",
       "    </tr>\n",
       "    <tr>\n",
       "      <th>2446</th>\n",
       "      <td>LBN</td>\n",
       "      <td>﻿On behalf of Lebanon and on my own behalf, allow me at the outset, Sir, to associate myself with those delegations ...</td>\n",
       "      <td>1984</td>\n",
       "      <td>False</td>\n",
       "      <td>False</td>\n",
       "      <td>1.000000e+00</td>\n",
       "      <td>2.729029e-130</td>\n",
       "    </tr>\n",
       "    <tr>\n",
       "      <th>2447</th>\n",
       "      <td>BHR</td>\n",
       "      <td>﻿Allow me, Six, at the outset to congratulate you on your assumption of the presidency of the thirty-ninth session o...</td>\n",
       "      <td>1984</td>\n",
       "      <td>False</td>\n",
       "      <td>False</td>\n",
       "      <td>1.000000e+00</td>\n",
       "      <td>5.672698e-128</td>\n",
       "    </tr>\n",
       "    <tr>\n",
       "      <th>2428</th>\n",
       "      <td>BDI</td>\n",
       "      <td>﻿Once again I am honoured to head the delegation of Burundi in the work of the annual session of the General Assembl...</td>\n",
       "      <td>1984</td>\n",
       "      <td>False</td>\n",
       "      <td>False</td>\n",
       "      <td>1.000000e+00</td>\n",
       "      <td>3.911055e-148</td>\n",
       "    </tr>\n",
       "    <tr>\n",
       "      <th>2214</th>\n",
       "      <td>BRA</td>\n",
       "      <td>﻿\\nMr. President, a tradition dating back to the early days of this Organization confers upon me the privilege of be...</td>\n",
       "      <td>1988</td>\n",
       "      <td>False</td>\n",
       "      <td>False</td>\n",
       "      <td>1.000000e+00</td>\n",
       "      <td>6.723407e-85</td>\n",
       "    </tr>\n",
       "    <tr>\n",
       "      <th>2427</th>\n",
       "      <td>PRT</td>\n",
       "      <td>﻿215. I should like to congratulate you, Mr. President, on your election to an office in which you will represent th...</td>\n",
       "      <td>1984</td>\n",
       "      <td>False</td>\n",
       "      <td>False</td>\n",
       "      <td>1.000000e+00</td>\n",
       "      <td>7.054164e-113</td>\n",
       "    </tr>\n",
       "    <tr>\n",
       "      <th>2425</th>\n",
       "      <td>LAO</td>\n",
       "      <td>﻿On behalf of the delegation of the Lao People's Democratic Republic, I should like first to congratulate Mr. Lusaka...</td>\n",
       "      <td>1984</td>\n",
       "      <td>False</td>\n",
       "      <td>False</td>\n",
       "      <td>1.000000e+00</td>\n",
       "      <td>4.420055e-207</td>\n",
       "    </tr>\n",
       "    <tr>\n",
       "      <th>2216</th>\n",
       "      <td>ECU</td>\n",
       "      <td>﻿We are proud that Foreign Minister Dante Caputo of Argentina is presiding over the General Assembly- Argentina and ...</td>\n",
       "      <td>1988</td>\n",
       "      <td>False</td>\n",
       "      <td>False</td>\n",
       "      <td>1.000000e+00</td>\n",
       "      <td>6.906107e-47</td>\n",
       "    </tr>\n",
       "    <tr>\n",
       "      <th>2406</th>\n",
       "      <td>BTN</td>\n",
       "      <td>﻿I have the honour to convey to the President of the General Assembly and to all representatives the warm greetings ...</td>\n",
       "      <td>1984</td>\n",
       "      <td>False</td>\n",
       "      <td>False</td>\n",
       "      <td>1.000000e+00</td>\n",
       "      <td>1.255915e-56</td>\n",
       "    </tr>\n",
       "    <tr>\n",
       "      <th>2407</th>\n",
       "      <td>TUR</td>\n",
       "      <td>﻿First of all, I should like to congratulate you, Sir, on your election to the presidency of the thirty-ninth sessio...</td>\n",
       "      <td>1984</td>\n",
       "      <td>False</td>\n",
       "      <td>False</td>\n",
       "      <td>1.000000e+00</td>\n",
       "      <td>1.753668e-103</td>\n",
       "    </tr>\n",
       "    <tr>\n",
       "      <th>2409</th>\n",
       "      <td>NZL</td>\n",
       "      <td>﻿Mr. President, I congratulate you on your election. When Africa's problems are looming so large, it is appropriate ...</td>\n",
       "      <td>1984</td>\n",
       "      <td>False</td>\n",
       "      <td>False</td>\n",
       "      <td>1.000000e+00</td>\n",
       "      <td>1.323379e-66</td>\n",
       "    </tr>\n",
       "    <tr>\n",
       "      <th>2410</th>\n",
       "      <td>ATG</td>\n",
       "      <td>﻿I must first of all congratulate Mr. Lusaka on his election as President of the thirty-ninth session of the General...</td>\n",
       "      <td>1984</td>\n",
       "      <td>False</td>\n",
       "      <td>False</td>\n",
       "      <td>1.000000e+00</td>\n",
       "      <td>2.055921e-84</td>\n",
       "    </tr>\n",
       "    <tr>\n",
       "      <th>2411</th>\n",
       "      <td>BEL</td>\n",
       "      <td>﻿Mr. President, I would like to begin by conveying to you the congratulations of the Government of Belgium on your e...</td>\n",
       "      <td>1984</td>\n",
       "      <td>False</td>\n",
       "      <td>False</td>\n",
       "      <td>1.000000e+00</td>\n",
       "      <td>2.121015e-126</td>\n",
       "    </tr>\n",
       "    <tr>\n",
       "      <th>2412</th>\n",
       "      <td>DDR</td>\n",
       "      <td>﻿Mr. President, I wish to congratulate you warmly on your election to your responsible office. I am pleased to greet...</td>\n",
       "      <td>1984</td>\n",
       "      <td>False</td>\n",
       "      <td>False</td>\n",
       "      <td>1.000000e+00</td>\n",
       "      <td>3.808410e-262</td>\n",
       "    </tr>\n",
       "    <tr>\n",
       "      <th>2413</th>\n",
       "      <td>GRC</td>\n",
       "      <td>﻿Let me first of all extend to Mr. Lusaka our warmest congratulations on his election to the high office of Presiden...</td>\n",
       "      <td>1984</td>\n",
       "      <td>False</td>\n",
       "      <td>False</td>\n",
       "      <td>1.000000e+00</td>\n",
       "      <td>6.639108e-112</td>\n",
       "    </tr>\n",
       "    <tr>\n",
       "      <th>2414</th>\n",
       "      <td>BOL</td>\n",
       "      <td>﻿Mr. President, it is an honour to come to this important rostrum to represent a Government born of the people's wil...</td>\n",
       "      <td>1984</td>\n",
       "      <td>False</td>\n",
       "      <td>False</td>\n",
       "      <td>1.000000e+00</td>\n",
       "      <td>2.351345e-101</td>\n",
       "    </tr>\n",
       "    <tr>\n",
       "      <th>2415</th>\n",
       "      <td>YDYE</td>\n",
       "      <td>﻿It gives me great pleasure to congratulate Mr. Lusaka on his election to the presidency of the General Assembly at ...</td>\n",
       "      <td>1984</td>\n",
       "      <td>False</td>\n",
       "      <td>False</td>\n",
       "      <td>1.000000e+00</td>\n",
       "      <td>3.178938e-136</td>\n",
       "    </tr>\n",
       "    <tr>\n",
       "      <th>2416</th>\n",
       "      <td>IND</td>\n",
       "      <td>﻿Allow me to congratulate you, Sir, on your unanimous election to the presidency of the thirty-ninth session of the ...</td>\n",
       "      <td>1984</td>\n",
       "      <td>False</td>\n",
       "      <td>False</td>\n",
       "      <td>1.000000e+00</td>\n",
       "      <td>1.036381e-230</td>\n",
       "    </tr>\n",
       "    <tr>\n",
       "      <th>2417</th>\n",
       "      <td>AGO</td>\n",
       "      <td>﻿A few days ago, we had the legitimate satisfaction of learning that the international community had elected to the ...</td>\n",
       "      <td>1984</td>\n",
       "      <td>False</td>\n",
       "      <td>False</td>\n",
       "      <td>1.000000e+00</td>\n",
       "      <td>1.198583e-215</td>\n",
       "    </tr>\n",
       "    <tr>\n",
       "      <th>2418</th>\n",
       "      <td>SDN</td>\n",
       "      <td>﻿It gives me great pleasure, in the name of the people and Government of the Democratic Republic of the Sudan, to ex...</td>\n",
       "      <td>1984</td>\n",
       "      <td>False</td>\n",
       "      <td>False</td>\n",
       "      <td>1.000000e+00</td>\n",
       "      <td>1.039290e-125</td>\n",
       "    </tr>\n",
       "    <tr>\n",
       "      <th>2419</th>\n",
       "      <td>PER</td>\n",
       "      <td>﻿To come to the rostrum of the General Assembly is cause for deep emotion. One feels the mysterious force of world b...</td>\n",
       "      <td>1984</td>\n",
       "      <td>False</td>\n",
       "      <td>False</td>\n",
       "      <td>1.000000e+00</td>\n",
       "      <td>7.636309e-15</td>\n",
       "    </tr>\n",
       "    <tr>\n",
       "      <th>2420</th>\n",
       "      <td>JAM</td>\n",
       "      <td>﻿Mr. President, it gives me great pleasure to see you presiding over this, the thirty-ninth, session of the General ...</td>\n",
       "      <td>1984</td>\n",
       "      <td>False</td>\n",
       "      <td>False</td>\n",
       "      <td>1.000000e+00</td>\n",
       "      <td>2.725715e-85</td>\n",
       "    </tr>\n",
       "    <tr>\n",
       "      <th>2421</th>\n",
       "      <td>VNM</td>\n",
       "      <td>﻿I should like first of all to congratulate you, Sir, on your election to the high office of President of the thirty...</td>\n",
       "      <td>1984</td>\n",
       "      <td>False</td>\n",
       "      <td>False</td>\n",
       "      <td>1.000000e+00</td>\n",
       "      <td>0.000000e+00</td>\n",
       "    </tr>\n",
       "    <tr>\n",
       "      <th>2422</th>\n",
       "      <td>PAK</td>\n",
       "      <td>﻿It gives me great pleasure to congratulate Mr. Lusaka on his election to the presidency of the General Assembly at ...</td>\n",
       "      <td>1984</td>\n",
       "      <td>False</td>\n",
       "      <td>False</td>\n",
       "      <td>1.000000e+00</td>\n",
       "      <td>9.378745e-185</td>\n",
       "    </tr>\n",
       "    <tr>\n",
       "      <th>2423</th>\n",
       "      <td>SLV</td>\n",
       "      <td>﻿Mr. President, it is an honour for my delegation, and especially for me personally, to extend to you on this occasi...</td>\n",
       "      <td>1984</td>\n",
       "      <td>False</td>\n",
       "      <td>False</td>\n",
       "      <td>1.000000e+00</td>\n",
       "      <td>1.031837e-88</td>\n",
       "    </tr>\n",
       "    <tr>\n",
       "      <th>2424</th>\n",
       "      <td>CSK</td>\n",
       "      <td>﻿We congratulate you, Sir, on your election to the office of President of the thirty-ninth session of the General As...</td>\n",
       "      <td>1984</td>\n",
       "      <td>False</td>\n",
       "      <td>False</td>\n",
       "      <td>1.000000e+00</td>\n",
       "      <td>3.495685e-263</td>\n",
       "    </tr>\n",
       "    <tr>\n",
       "      <th>2426</th>\n",
       "      <td>HND</td>\n",
       "      <td>﻿We are on the eve of a great celebration. In 1985 an organization which was set up to respond to the highest ideals...</td>\n",
       "      <td>1984</td>\n",
       "      <td>False</td>\n",
       "      <td>False</td>\n",
       "      <td>1.000000e+00</td>\n",
       "      <td>6.993463e-137</td>\n",
       "    </tr>\n",
       "    <tr>\n",
       "      <th>6933</th>\n",
       "      <td>ECU</td>\n",
       "      <td>Mr. President, I wish to congratulate you very warmly on your well-earned election. Your election is a recognition o...</td>\n",
       "      <td>1972</td>\n",
       "      <td>False</td>\n",
       "      <td>False</td>\n",
       "      <td>1.000000e+00</td>\n",
       "      <td>7.746154e-157</td>\n",
       "    </tr>\n",
       "  </tbody>\n",
       "</table>\n",
       "<p>3048 rows × 7 columns</p>\n",
       "</div>"
      ],
      "text/plain": [
       "     country_code  \\\n",
       "822           CAN   \n",
       "65            NOR   \n",
       "811           JPN   \n",
       "141           NZL   \n",
       "796           DNK   \n",
       "898           BGD   \n",
       "857           PER   \n",
       "773           AUS   \n",
       "883           NOR   \n",
       "750           LBR   \n",
       "856           MHL   \n",
       "876           TTO   \n",
       "784           FJI   \n",
       "848           COL   \n",
       "808           NLD   \n",
       "33            JPN   \n",
       "16            COL   \n",
       "794           KNA   \n",
       "895           WSM   \n",
       "6468          USA   \n",
       "887           FIN   \n",
       "850           BRA   \n",
       "6407          AUS   \n",
       "2141          CAN   \n",
       "5957          USA   \n",
       "749           FSM   \n",
       "814           ROU   \n",
       "1             FIN   \n",
       "787           BHS   \n",
       "831           IDN   \n",
       "...           ...   \n",
       "2443          MDV   \n",
       "2444          COG   \n",
       "2445          MDG   \n",
       "2446          LBN   \n",
       "2447          BHR   \n",
       "2428          BDI   \n",
       "2214          BRA   \n",
       "2427          PRT   \n",
       "2425          LAO   \n",
       "2216          ECU   \n",
       "2406          BTN   \n",
       "2407          TUR   \n",
       "2409          NZL   \n",
       "2410          ATG   \n",
       "2411          BEL   \n",
       "2412          DDR   \n",
       "2413          GRC   \n",
       "2414          BOL   \n",
       "2415         YDYE   \n",
       "2416          IND   \n",
       "2417          AGO   \n",
       "2418          SDN   \n",
       "2419          PER   \n",
       "2420          JAM   \n",
       "2421          VNM   \n",
       "2422          PAK   \n",
       "2423          SLV   \n",
       "2424          CSK   \n",
       "2426          HND   \n",
       "6933          ECU   \n",
       "\n",
       "                                                                                                                  speech_text  \\\n",
       "822   ﻿I know that you, Sir, will convey to the President of the General Assembly at the forty-sixth session my congratula...   \n",
       "65    ﻿It is a great pleasure, Mr. President, to congratulate you upon your election as President of this session of the G...   \n",
       "811   ﻿I should like first to extend my heartfelt congratulations to His Excellency Mr. Samir Shihabi upon his election as...   \n",
       "141   ﻿\\nIt is a great pleasure to see a distinguished leader such as Ambassador Garba presiding over this Assembly. We ha...   \n",
       "796   ﻿We are today In the happy position of being able to give a warm welcome to the representatives of the three Baltic ...   \n",
       "898   ﻿I stand before this Assembly with a sense of pride and humility - pride, because I represent a Government freely el...   \n",
       "857   ﻿At a stage of unprecedented significance for the international system, I should like to congratulate Mr. Shihabi on...   \n",
       "773   ﻿I congratulate you, Sir, on your election as President of the forty-sixth session of the General Assembly. I am sur...   \n",
       "883   ﻿It is indeed a pleasure to congratulate you, Mr. President, upon your election to this high office at a time of suc...   \n",
       "750   ﻿It is indeed for me a great honour and privilege to address the forty-sixth session of the General Assembly. This o...   \n",
       "856   ﻿Please permit me to extend to you, Sir, my warmest congratulations upon your election as the President of the Gener...   \n",
       "876   ﻿It gives me great pleasure, Sir, to extend to you and to your country, Saudi Arabia, the warm congratulations of th...   \n",
       "784   ﻿On behalf of the delegation of the Republic of Fiji, I should like to congratulate Ambassador Samir Shihabi on his ...   \n",
       "848   ﻿In the name of the people and Government of Colombia, allow me to congratulate Ambassador Shihabi of Saudi Arabia o...   \n",
       "808   ﻿I have the honour to speak on behalf of the European Community and its Member States. First allow me to extend to y...   \n",
       "33    ﻿\\nI should like first, on behalf of the Government and people of Japan, to express „y heartfelt congratulations to ...   \n",
       "16    ﻿\\nOn behalf of the people and the Government of Colombia please accept our congratulations and good wishes on your ...   \n",
       "794   ﻿I bring the Assembly most sincere greetings from the Government and the people of Saint Kitts and Nevis, and deem i...   \n",
       "895   ﻿May I congratulate you, Mr. President, on your election to your high post. Your long experience of international af...   \n",
       "6468  ﻿\\nIt is really a great privilege to greet you today as we begin what marks a new and historic session of the Genera...   \n",
       "887   ﻿Mr. President, it is a real pleasure for me to see you presiding over our deliberations. I am sure that under your ...   \n",
       "850   ﻿Mr. President, may I congratulate you upon your election, which does justice to the tradition of international coop...   \n",
       "6407  ﻿It is with great pleasure. Sir, that I congratulate you on your election to the presidency of the General Assembly,...   \n",
       "2141  ﻿\\n\\nLet me first congratulate Mr. Caputo on his election as President of the General Assembly. His wisdom and exper...   \n",
       "5957  The United Nations, this parliament of man, offers us a unique opportunity to examine the human condition. We are ea...   \n",
       "749   ﻿Mr. President, it is my high honour to address you today both as the Chairman of the South Pacific Forum and as Pre...   \n",
       "814   ﻿I wish first of all to convey to Mr. Samir Shihabl my congratulations on his assumption of the presidency of the Ge...   \n",
       "1     ﻿\\nMay I begin by congratulating you. Sir, on your election to the presidency of the General Assembly at its forty-f...   \n",
       "787   ﻿I am happy to congratulate you warmly, Sir, on your election to the presidency of the General Assembly at its forty...   \n",
       "831   ﻿It gives me great pleasure, Sir, to extend to you my congratulations and those of the Indonesian delegation on your...   \n",
       "...                                                                                                                       ...   \n",
       "2443  ﻿It is indeed a great honour for me and my delegation to felicitate you, Sir, on your election to the esteemed offic...   \n",
       "2444  ﻿As I speak in the General Assembly, the people of the People's Republic of the Congo is in the course of giving eff...   \n",
       "2445  ﻿The General Assembly's choice of Mr. Paul Lusaka to preside over the work of its thirty-ninth session gives us caus...   \n",
       "2446  ﻿On behalf of Lebanon and on my own behalf, allow me at the outset, Sir, to associate myself with those delegations ...   \n",
       "2447  ﻿Allow me, Six, at the outset to congratulate you on your assumption of the presidency of the thirty-ninth session o...   \n",
       "2428  ﻿Once again I am honoured to head the delegation of Burundi in the work of the annual session of the General Assembl...   \n",
       "2214  ﻿\\nMr. President, a tradition dating back to the early days of this Organization confers upon me the privilege of be...   \n",
       "2427  ﻿215. I should like to congratulate you, Mr. President, on your election to an office in which you will represent th...   \n",
       "2425  ﻿On behalf of the delegation of the Lao People's Democratic Republic, I should like first to congratulate Mr. Lusaka...   \n",
       "2216  ﻿We are proud that Foreign Minister Dante Caputo of Argentina is presiding over the General Assembly- Argentina and ...   \n",
       "2406  ﻿I have the honour to convey to the President of the General Assembly and to all representatives the warm greetings ...   \n",
       "2407  ﻿First of all, I should like to congratulate you, Sir, on your election to the presidency of the thirty-ninth sessio...   \n",
       "2409  ﻿Mr. President, I congratulate you on your election. When Africa's problems are looming so large, it is appropriate ...   \n",
       "2410  ﻿I must first of all congratulate Mr. Lusaka on his election as President of the thirty-ninth session of the General...   \n",
       "2411  ﻿Mr. President, I would like to begin by conveying to you the congratulations of the Government of Belgium on your e...   \n",
       "2412  ﻿Mr. President, I wish to congratulate you warmly on your election to your responsible office. I am pleased to greet...   \n",
       "2413  ﻿Let me first of all extend to Mr. Lusaka our warmest congratulations on his election to the high office of Presiden...   \n",
       "2414  ﻿Mr. President, it is an honour to come to this important rostrum to represent a Government born of the people's wil...   \n",
       "2415  ﻿It gives me great pleasure to congratulate Mr. Lusaka on his election to the presidency of the General Assembly at ...   \n",
       "2416  ﻿Allow me to congratulate you, Sir, on your unanimous election to the presidency of the thirty-ninth session of the ...   \n",
       "2417  ﻿A few days ago, we had the legitimate satisfaction of learning that the international community had elected to the ...   \n",
       "2418  ﻿It gives me great pleasure, in the name of the people and Government of the Democratic Republic of the Sudan, to ex...   \n",
       "2419  ﻿To come to the rostrum of the General Assembly is cause for deep emotion. One feels the mysterious force of world b...   \n",
       "2420  ﻿Mr. President, it gives me great pleasure to see you presiding over this, the thirty-ninth, session of the General ...   \n",
       "2421  ﻿I should like first of all to congratulate you, Sir, on your election to the high office of President of the thirty...   \n",
       "2422  ﻿It gives me great pleasure to congratulate Mr. Lusaka on his election to the presidency of the General Assembly at ...   \n",
       "2423  ﻿Mr. President, it is an honour for my delegation, and especially for me personally, to extend to you on this occasi...   \n",
       "2424  ﻿We congratulate you, Sir, on your election to the office of President of the thirty-ninth session of the General As...   \n",
       "2426  ﻿We are on the eve of a great celebration. In 1985 an organization which was set up to respond to the highest ideals...   \n",
       "6933  Mr. President, I wish to congratulate you very warmly on your well-earned election. Your election is a recognition o...   \n",
       "\n",
       "      speech_year  post_soviet  post_soviet_guess       pred_pre  \\\n",
       "822          1991        False               True  4.171855e-114   \n",
       "65           1989        False               True   1.216317e-84   \n",
       "811          1991        False               True   1.672033e-73   \n",
       "141          1989        False               True   1.051915e-69   \n",
       "796          1991        False               True   5.386032e-66   \n",
       "898          1991        False               True   6.228746e-61   \n",
       "857          1991        False               True   1.397509e-55   \n",
       "773          1991        False               True   2.521340e-55   \n",
       "883          1991        False               True   4.566214e-52   \n",
       "750          1991        False               True   1.643594e-49   \n",
       "856          1991        False               True   7.167980e-48   \n",
       "876          1991        False               True   3.472318e-40   \n",
       "784          1991        False               True   4.142573e-40   \n",
       "848          1991        False               True   1.629177e-38   \n",
       "808          1991        False               True   2.670971e-38   \n",
       "33           1989        False               True   8.940235e-38   \n",
       "16           1989        False               True   1.096738e-36   \n",
       "794          1991        False               True   1.435560e-36   \n",
       "895          1991        False               True   6.236347e-33   \n",
       "6468         1990        False               True   8.409355e-33   \n",
       "887          1991        False               True   4.489575e-32   \n",
       "850          1991        False               True   5.452909e-32   \n",
       "6407         1990        False               True   4.404971e-29   \n",
       "2141         1988        False               True   4.842019e-29   \n",
       "5957         1981        False               True   4.256729e-26   \n",
       "749          1991        False               True   4.437180e-26   \n",
       "814          1991        False               True   6.644273e-26   \n",
       "1            1989        False               True   2.291459e-25   \n",
       "787          1991        False               True   4.330031e-25   \n",
       "831          1991        False               True   6.115989e-25   \n",
       "...           ...          ...                ...            ...   \n",
       "2443         1984        False              False   1.000000e+00   \n",
       "2444         1984        False              False   1.000000e+00   \n",
       "2445         1984        False              False   1.000000e+00   \n",
       "2446         1984        False              False   1.000000e+00   \n",
       "2447         1984        False              False   1.000000e+00   \n",
       "2428         1984        False              False   1.000000e+00   \n",
       "2214         1988        False              False   1.000000e+00   \n",
       "2427         1984        False              False   1.000000e+00   \n",
       "2425         1984        False              False   1.000000e+00   \n",
       "2216         1988        False              False   1.000000e+00   \n",
       "2406         1984        False              False   1.000000e+00   \n",
       "2407         1984        False              False   1.000000e+00   \n",
       "2409         1984        False              False   1.000000e+00   \n",
       "2410         1984        False              False   1.000000e+00   \n",
       "2411         1984        False              False   1.000000e+00   \n",
       "2412         1984        False              False   1.000000e+00   \n",
       "2413         1984        False              False   1.000000e+00   \n",
       "2414         1984        False              False   1.000000e+00   \n",
       "2415         1984        False              False   1.000000e+00   \n",
       "2416         1984        False              False   1.000000e+00   \n",
       "2417         1984        False              False   1.000000e+00   \n",
       "2418         1984        False              False   1.000000e+00   \n",
       "2419         1984        False              False   1.000000e+00   \n",
       "2420         1984        False              False   1.000000e+00   \n",
       "2421         1984        False              False   1.000000e+00   \n",
       "2422         1984        False              False   1.000000e+00   \n",
       "2423         1984        False              False   1.000000e+00   \n",
       "2424         1984        False              False   1.000000e+00   \n",
       "2426         1984        False              False   1.000000e+00   \n",
       "6933         1972        False              False   1.000000e+00   \n",
       "\n",
       "          pred_post  \n",
       "822    1.000000e+00  \n",
       "65     1.000000e+00  \n",
       "811    1.000000e+00  \n",
       "141    1.000000e+00  \n",
       "796    1.000000e+00  \n",
       "898    1.000000e+00  \n",
       "857    1.000000e+00  \n",
       "773    1.000000e+00  \n",
       "883    1.000000e+00  \n",
       "750    1.000000e+00  \n",
       "856    1.000000e+00  \n",
       "876    1.000000e+00  \n",
       "784    1.000000e+00  \n",
       "848    1.000000e+00  \n",
       "808    1.000000e+00  \n",
       "33     1.000000e+00  \n",
       "16     1.000000e+00  \n",
       "794    1.000000e+00  \n",
       "895    1.000000e+00  \n",
       "6468   1.000000e+00  \n",
       "887    1.000000e+00  \n",
       "850    1.000000e+00  \n",
       "6407   1.000000e+00  \n",
       "2141   1.000000e+00  \n",
       "5957   1.000000e+00  \n",
       "749    1.000000e+00  \n",
       "814    1.000000e+00  \n",
       "1      1.000000e+00  \n",
       "787    1.000000e+00  \n",
       "831    1.000000e+00  \n",
       "...             ...  \n",
       "2443  9.015311e-161  \n",
       "2444  1.197106e-176  \n",
       "2445  3.965181e-157  \n",
       "2446  2.729029e-130  \n",
       "2447  5.672698e-128  \n",
       "2428  3.911055e-148  \n",
       "2214   6.723407e-85  \n",
       "2427  7.054164e-113  \n",
       "2425  4.420055e-207  \n",
       "2216   6.906107e-47  \n",
       "2406   1.255915e-56  \n",
       "2407  1.753668e-103  \n",
       "2409   1.323379e-66  \n",
       "2410   2.055921e-84  \n",
       "2411  2.121015e-126  \n",
       "2412  3.808410e-262  \n",
       "2413  6.639108e-112  \n",
       "2414  2.351345e-101  \n",
       "2415  3.178938e-136  \n",
       "2416  1.036381e-230  \n",
       "2417  1.198583e-215  \n",
       "2418  1.039290e-125  \n",
       "2419   7.636309e-15  \n",
       "2420   2.725715e-85  \n",
       "2421   0.000000e+00  \n",
       "2422  9.378745e-185  \n",
       "2423   1.031837e-88  \n",
       "2424  3.495685e-263  \n",
       "2426  6.993463e-137  \n",
       "6933  7.746154e-157  \n",
       "\n",
       "[3048 rows x 7 columns]"
      ]
     },
     "execution_count": 44,
     "metadata": {},
     "output_type": "execute_result"
    }
   ],
   "source": [
    "un_df_prediction[un_df_prediction['post_soviet']==False].sort_values('pred_pre')"
   ]
  },
  {
   "cell_type": "markdown",
   "metadata": {
    "slideshow": {
     "slide_type": "slide"
    }
   },
   "source": [
    "### What about overfitting?"
   ]
  },
  {
   "cell_type": "code",
   "execution_count": 45,
   "metadata": {
    "slideshow": {
     "slide_type": "slide"
    }
   },
   "outputs": [],
   "source": [
    "from sklearn.model_selection import train_test_split\n",
    "\n",
    "train, test = train_test_split(wine_df, test_size=0.2)"
   ]
  },
  {
   "cell_type": "code",
   "execution_count": 46,
   "metadata": {
    "slideshow": {
     "slide_type": "slide"
    }
   },
   "outputs": [
    {
     "data": {
      "text/plain": [
       "68102"
      ]
     },
     "execution_count": 46,
     "metadata": {},
     "output_type": "execute_result"
    }
   ],
   "source": [
    "len(train)"
   ]
  },
  {
   "cell_type": "code",
   "execution_count": 47,
   "metadata": {
    "slideshow": {
     "slide_type": "fragment"
    }
   },
   "outputs": [
    {
     "data": {
      "text/plain": [
       "17026"
      ]
     },
     "execution_count": 47,
     "metadata": {},
     "output_type": "execute_result"
    }
   ],
   "source": [
    "len(test)"
   ]
  },
  {
   "cell_type": "code",
   "execution_count": 48,
   "metadata": {
    "slideshow": {
     "slide_type": "slide"
    }
   },
   "outputs": [
    {
     "data": {
      "text/plain": [
       "CountVectorizer(analyzer='word', binary=False, decode_error='strict',\n",
       "                dtype=<class 'numpy.int64'>, encoding='utf-8', input='content',\n",
       "                lowercase=True, max_df=1.0, max_features=None, min_df=0.01,\n",
       "                ngram_range=(1, 2), preprocessor=None, stop_words='english',\n",
       "                strip_accents=None, token_pattern='(?u)\\\\b\\\\w\\\\w+\\\\b',\n",
       "                tokenizer=None, vocabulary=None)"
      ]
     },
     "execution_count": 48,
     "metadata": {},
     "output_type": "execute_result"
    }
   ],
   "source": [
    "vectorizer = CountVectorizer(lowercase   = True,\n",
    "                             ngram_range = (1,2),\n",
    "                             stop_words  = 'english',\n",
    "                             min_df      = .01,\n",
    "                             max_features = None)\n",
    "\n",
    "vectorizer.fit(train['description'])\n"
   ]
  },
  {
   "cell_type": "code",
   "execution_count": 49,
   "metadata": {
    "slideshow": {
     "slide_type": "slide"
    }
   },
   "outputs": [],
   "source": [
    "X_train = vectorizer.transform(train['description'])"
   ]
  },
  {
   "cell_type": "code",
   "execution_count": 50,
   "metadata": {
    "slideshow": {
     "slide_type": "fragment"
    }
   },
   "outputs": [
    {
     "data": {
      "text/plain": [
       "MultinomialNB(alpha=1.0, class_prior=None, fit_prior=True)"
      ]
     },
     "execution_count": 50,
     "metadata": {},
     "output_type": "execute_result"
    }
   ],
   "source": [
    "nb_classifier.fit(X_train, train['rating'])"
   ]
  },
  {
   "cell_type": "code",
   "execution_count": 51,
   "metadata": {
    "slideshow": {
     "slide_type": "slide"
    }
   },
   "outputs": [],
   "source": [
    "from sklearn.metrics import classification_report, confusion_matrix, accuracy_score\n"
   ]
  },
  {
   "cell_type": "code",
   "execution_count": 52,
   "metadata": {
    "slideshow": {
     "slide_type": "slide"
    }
   },
   "outputs": [
    {
     "name": "stdout",
     "output_type": "stream",
     "text": [
      "0.827670259316907\n"
     ]
    }
   ],
   "source": [
    "print(accuracy_score(train['rating'],\n",
    "                     nb_classifier.predict(X_train)))\n",
    "\n"
   ]
  },
  {
   "cell_type": "code",
   "execution_count": 53,
   "metadata": {
    "slideshow": {
     "slide_type": "slide"
    }
   },
   "outputs": [],
   "source": [
    "test_wf         = vectorizer.transform(test['description'])\n",
    "test_prediction = nb_classifier.predict(test_wf)"
   ]
  },
  {
   "cell_type": "code",
   "execution_count": 54,
   "metadata": {
    "slideshow": {
     "slide_type": "slide"
    }
   },
   "outputs": [
    {
     "name": "stdout",
     "output_type": "stream",
     "text": [
      "0.8255609068483496\n"
     ]
    }
   ],
   "source": [
    "print(accuracy_score(test['rating'], test_prediction))"
   ]
  },
  {
   "cell_type": "code",
   "execution_count": 55,
   "metadata": {
    "slideshow": {
     "slide_type": "slide"
    }
   },
   "outputs": [],
   "source": [
    "vectorizer = CountVectorizer(lowercase=True,\n",
    "                             ngram_range = (1,3),\n",
    "                             stop_words = 'english',\n",
    "                             max_df = .60,\n",
    "                             min_df = 5,\n",
    "                             max_features = None)"
   ]
  },
  {
   "cell_type": "code",
   "execution_count": 56,
   "metadata": {
    "slideshow": {
     "slide_type": "slide"
    }
   },
   "outputs": [
    {
     "name": "stdout",
     "output_type": "stream",
     "text": [
      "76783\n"
     ]
    },
    {
     "data": {
      "text/plain": [
       "MultinomialNB(alpha=1.0, class_prior=None, fit_prior=True)"
      ]
     },
     "execution_count": 56,
     "metadata": {},
     "output_type": "execute_result"
    }
   ],
   "source": [
    "vectorizer.fit(train['description'])\n",
    "print(len(vectorizer.get_feature_names()))\n",
    "X_train = vectorizer.transform(train['description'])\n",
    "nb_classifier.fit(X_train, train['rating'])\n"
   ]
  },
  {
   "cell_type": "code",
   "execution_count": 57,
   "metadata": {
    "slideshow": {
     "slide_type": "slide"
    }
   },
   "outputs": [
    {
     "name": "stdout",
     "output_type": "stream",
     "text": [
      "0.9175795130833162\n"
     ]
    }
   ],
   "source": [
    "print(accuracy_score(train['rating'],\n",
    "                     nb_classifier.predict(X_train)))\n",
    "\n"
   ]
  },
  {
   "cell_type": "code",
   "execution_count": 58,
   "metadata": {
    "slideshow": {
     "slide_type": "slide"
    }
   },
   "outputs": [
    {
     "name": "stdout",
     "output_type": "stream",
     "text": [
      "0.8865852226007283\n"
     ]
    }
   ],
   "source": [
    "print(accuracy_score(test['rating'],\n",
    "                     nb_classifier.predict(vectorizer.transform(test['description']))))\n"
   ]
  },
  {
   "cell_type": "markdown",
   "metadata": {
    "slideshow": {
     "slide_type": "slide"
    }
   },
   "source": [
    "<div class=\"alert alert-info\">\n",
    "<h3> Your turn</h3>\n",
    "<p> What happens to your model if you change some of the parameters for your vectorizer? Be sure to spit the data between train and test!\n",
    "\n",
    "</div>\n",
    "\n",
    "\n"
   ]
  },
  {
   "cell_type": "markdown",
   "metadata": {
    "slideshow": {
     "slide_type": "slide"
    }
   },
   "source": [
    "# What about a different model?"
   ]
  },
  {
   "cell_type": "code",
   "execution_count": 59,
   "metadata": {
    "slideshow": {
     "slide_type": "slide"
    }
   },
   "outputs": [],
   "source": [
    "from sklearn.linear_model import LogisticRegression"
   ]
  },
  {
   "cell_type": "code",
   "execution_count": 60,
   "metadata": {
    "slideshow": {
     "slide_type": "fragment"
    }
   },
   "outputs": [],
   "source": [
    "ln_classifier = LogisticRegression()"
   ]
  },
  {
   "cell_type": "code",
   "execution_count": 61,
   "metadata": {
    "slideshow": {
     "slide_type": "slide"
    }
   },
   "outputs": [
    {
     "name": "stdout",
     "output_type": "stream",
     "text": [
      "459\n"
     ]
    },
    {
     "name": "stderr",
     "output_type": "stream",
     "text": [
      "/Users/nealcaren/anaconda3/lib/python3.6/site-packages/sklearn/linear_model/logistic.py:432: FutureWarning: Default solver will be changed to 'lbfgs' in 0.22. Specify a solver to silence this warning.\n",
      "  FutureWarning)\n"
     ]
    },
    {
     "data": {
      "text/plain": [
       "LogisticRegression(C=1.0, class_weight=None, dual=False, fit_intercept=True,\n",
       "                   intercept_scaling=1, l1_ratio=None, max_iter=100,\n",
       "                   multi_class='warn', n_jobs=None, penalty='l2',\n",
       "                   random_state=None, solver='warn', tol=0.0001, verbose=0,\n",
       "                   warm_start=False)"
      ]
     },
     "execution_count": 61,
     "metadata": {},
     "output_type": "execute_result"
    }
   ],
   "source": [
    "vectorizer = CountVectorizer(lowercase=True,\n",
    "                             ngram_range = (1,2),\n",
    "                             stop_words = 'english',\n",
    "                             min_df = .01,\n",
    "                             max_features = None)\n",
    "\n",
    "vectorizer.fit(train['description'])\n",
    "\n",
    "print(len(vectorizer.get_feature_names()))\n",
    "ln_classifier.fit(vectorizer.transform(train['description']), train['rating'])"
   ]
  },
  {
   "cell_type": "code",
   "execution_count": 62,
   "metadata": {},
   "outputs": [
    {
     "name": "stdout",
     "output_type": "stream",
     "text": [
      "0.8835570174150539\n"
     ]
    }
   ],
   "source": [
    "print(accuracy_score(train['rating'],\n",
    "                     ln_classifier.predict(vectorizer.transform(train['description']))))"
   ]
  },
  {
   "cell_type": "code",
   "execution_count": 63,
   "metadata": {},
   "outputs": [
    {
     "name": "stdout",
     "output_type": "stream",
     "text": [
      "0.8783037707036297\n"
     ]
    }
   ],
   "source": [
    "print(accuracy_score(test['rating'],\n",
    "                     ln_classifier.predict(vectorizer.transform(test['description']))))"
   ]
  },
  {
   "cell_type": "code",
   "execution_count": 64,
   "metadata": {},
   "outputs": [
    {
     "data": {
      "text/plain": [
       "<matplotlib.axes._subplots.AxesSubplot at 0x133fe5c18>"
      ]
     },
     "execution_count": 64,
     "metadata": {},
     "output_type": "execute_result"
    },
    {
     "data": {
      "image/png": "[encoded data removed]",
      "text/plain": [
       "<Figure size 432x288 with 2 Axes>"
      ]
     },
     "metadata": {
      "needs_background": "light"
     },
     "output_type": "display_data"
    }
   ],
   "source": [
    "test_prediction = ln_classifier.predict(vectorizer.transform(test['description']))\n",
    "\n",
    "cm = confusion_matrix(test['rating'], test_prediction)\n",
    "sns.heatmap(cm, annot=True, cmap=\"Greens\", fmt='g')\n",
    "\n"
   ]
  },
  {
   "cell_type": "markdown",
   "metadata": {},
   "source": [
    "<div class=\"alert alert-info\">\n",
    "<h3> Your turn</h3>\n",
    "What is the out sample accuracy of a logistic regression model on your data?\n",
    "<p><code> from sklearn.linear_model import LogisticRegression\n",
    "\n",
    "</div>\n",
    "\n",
    "\n",
    "\n"
   ]
  },
  {
   "cell_type": "markdown",
   "metadata": {
    "slideshow": {
     "slide_type": "slide"
    }
   },
   "source": [
    "# What about a different model?"
   ]
  },
  {
   "cell_type": "markdown",
   "metadata": {
    "slideshow": {
     "slide_type": "slide"
    }
   },
   "source": [
    "![](images/knn1.png)"
   ]
  },
  {
   "cell_type": "code",
   "execution_count": null,
   "metadata": {
    "slideshow": {
     "slide_type": "slide"
    }
   },
   "outputs": [],
   "source": [
    "from sklearn.neighbors import KNeighborsClassifier\n",
    "\n",
    "knn_classifier = KNeighborsClassifier(n_neighbors = 3)"
   ]
  },
  {
   "cell_type": "code",
   "execution_count": null,
   "metadata": {
    "slideshow": {
     "slide_type": "slide"
    }
   },
   "outputs": [],
   "source": [
    "from sklearn.feature_extraction.text import TfidfVectorizer"
   ]
  },
  {
   "cell_type": "code",
   "execution_count": null,
   "metadata": {
    "slideshow": {
     "slide_type": "slide"
    }
   },
   "outputs": [],
   "source": [
    "tf_vector  = TfidfVectorizer(lowercase  =  True,\n",
    "                             ngram_range = (1,2),\n",
    "                             stop_words  = 'english',\n",
    "                             max_df      = .60,\n",
    "                             min_df      = .05,\n",
    "                             max_features = None)"
   ]
  },
  {
   "cell_type": "code",
   "execution_count": null,
   "metadata": {},
   "outputs": [],
   "source": [
    "train, test = train_test_split(wine_df, test_size=0.7)"
   ]
  },
  {
   "cell_type": "code",
   "execution_count": null,
   "metadata": {
    "slideshow": {
     "slide_type": "slide"
    }
   },
   "outputs": [],
   "source": [
    "tf_vector.fit(train['description'])"
   ]
  },
  {
   "cell_type": "code",
   "execution_count": null,
   "metadata": {
    "slideshow": {
     "slide_type": "slide"
    }
   },
   "outputs": [],
   "source": [
    "review_tf = tf_vector.transform(train['description'])"
   ]
  },
  {
   "cell_type": "code",
   "execution_count": null,
   "metadata": {
    "slideshow": {
     "slide_type": "slide"
    }
   },
   "outputs": [],
   "source": [
    "knn_classifier.fit(review_tf, train['rating'])"
   ]
  },
  {
   "cell_type": "code",
   "execution_count": null,
   "metadata": {
    "slideshow": {
     "slide_type": "slide"
    }
   },
   "outputs": [],
   "source": [
    "knn_prediction = knn_classifier.predict(review_tf)"
   ]
  },
  {
   "cell_type": "code",
   "execution_count": null,
   "metadata": {
    "slideshow": {
     "slide_type": "slide"
    }
   },
   "outputs": [],
   "source": [
    "\n",
    "print(accuracy_score(train['rating'], knn_prediction))\n",
    "\n"
   ]
  },
  {
   "cell_type": "code",
   "execution_count": null,
   "metadata": {
    "slideshow": {
     "slide_type": "slide"
    }
   },
   "outputs": [],
   "source": [
    "print(classification_report(train['rating'], knn_prediction))"
   ]
  },
  {
   "cell_type": "code",
   "execution_count": null,
   "metadata": {
    "slideshow": {
     "slide_type": "slide"
    }
   },
   "outputs": [],
   "source": [
    "cm = confusion_matrix(train['rating'], knn_prediction)\n",
    "sns.heatmap(cm, annot=True, cmap=\"Greens\", fmt='g')\n"
   ]
  },
  {
   "cell_type": "markdown",
   "metadata": {
    "slideshow": {
     "slide_type": "slide"
    }
   },
   "source": [
    "<div class=\"alert alert-info\">\n",
    "<h3> Your turn</h3>\n",
    "<p> What does a k-nearest neigbhor for your speech dataset look like? (Don't forget to shrink your dataframe). How does the accuracy compare?\n",
    "</div>\n",
    "\n",
    "\n",
    "\n"
   ]
  },
  {
   "cell_type": "markdown",
   "metadata": {
    "slideshow": {
     "slide_type": "slide"
    }
   },
   "source": [
    "![](images/knn2.png)"
   ]
  },
  {
   "cell_type": "code",
   "execution_count": null,
   "metadata": {
    "slideshow": {
     "slide_type": "slide"
    }
   },
   "outputs": [],
   "source": [
    "knn_classifier = KNeighborsClassifier(n_neighbors = 15)"
   ]
  },
  {
   "cell_type": "markdown",
   "metadata": {
    "slideshow": {
     "slide_type": "slide"
    }
   },
   "source": [
    "# But what's the best fitting model?"
   ]
  },
  {
   "cell_type": "code",
   "execution_count": null,
   "metadata": {
    "slideshow": {
     "slide_type": "slide"
    }
   },
   "outputs": [],
   "source": [
    "from sklearn.model_selection import GridSearchCV"
   ]
  },
  {
   "cell_type": "code",
   "execution_count": null,
   "metadata": {
    "slideshow": {
     "slide_type": "slide"
    }
   },
   "outputs": [],
   "source": [
    "# old model: knn_classifier = KNeighborsClassifier(n_neighbors = 3)\n",
    "\n",
    "parameters = {'n_neighbors' : [2,3, 7],\n",
    "              'weights'      : ['distance', 'uniform']}\n",
    "              "
   ]
  },
  {
   "cell_type": "code",
   "execution_count": null,
   "metadata": {},
   "outputs": [],
   "source": [
    "grid = GridSearchCV(KNeighborsClassifier(), \n",
    "                    parameters, \n",
    "                    cv = 5)"
   ]
  },
  {
   "cell_type": "markdown",
   "metadata": {},
   "source": [
    "![](images/cv.png)\n"
   ]
  },
  {
   "cell_type": "markdown",
   "metadata": {
    "slideshow": {
     "slide_type": "slide"
    }
   },
   "source": [
    "# But what's the best fitting model?"
   ]
  },
  {
   "cell_type": "code",
   "execution_count": 145,
   "metadata": {
    "slideshow": {
     "slide_type": "slide"
    }
   },
   "outputs": [],
   "source": [
    "from sklearn.pipeline import Pipeline\n",
    "\n",
    "from sklearn.model_selection import GridSearchCV\n",
    "from sklearn.feature_extraction.text import TfidfVectorizer"
   ]
  },
  {
   "cell_type": "code",
   "execution_count": 237,
   "metadata": {
    "slideshow": {
     "slide_type": "skip"
    }
   },
   "outputs": [],
   "source": [
    "pipeline = Pipeline([\n",
    "                     ('vectorizer' , CountVectorizer(stop_words = 'english')),\n",
    "                     ('classifier' , LogisticRegression())\n",
    "                    ])\n",
    "\n",
    "parameters = {'vectorizer__min_df' : [.005, .01, .03 ],\n",
    "              'vectorizer__ngram_range' : [(1, 1), (1,2)],\n",
    "               }"
   ]
  },
  {
   "cell_type": "code",
   "execution_count": 238,
   "metadata": {
    "slideshow": {
     "slide_type": "slide"
    }
   },
   "outputs": [],
   "source": [
    "grid_search = GridSearchCV(pipeline,\n",
    "                           parameters,\n",
    "                           n_jobs = -1,\n",
    "                           cv = 5,\n",
    "                           verbose = 2)"
   ]
  },
  {
   "cell_type": "code",
   "execution_count": 239,
   "metadata": {
    "slideshow": {
     "slide_type": "slide"
    }
   },
   "outputs": [
    {
     "name": "stdout",
     "output_type": "stream",
     "text": [
      "Fitting 5 folds for each of 6 candidates, totalling 30 fits\n"
     ]
    },
    {
     "name": "stderr",
     "output_type": "stream",
     "text": [
      "[Parallel(n_jobs=-1)]: Using backend LokyBackend with 4 concurrent workers.\n",
      "[Parallel(n_jobs=-1)]: Done  30 out of  30 | elapsed:  1.4min finished\n",
      "/Users/nealcaren/anaconda3/lib/python3.6/site-packages/sklearn/linear_model/logistic.py:432: FutureWarning: Default solver will be changed to 'lbfgs' in 0.22. Specify a solver to silence this warning.\n",
      "  FutureWarning)\n"
     ]
    },
    {
     "data": {
      "text/plain": [
       "GridSearchCV(cv=5, error_score='raise-deprecating',\n",
       "             estimator=Pipeline(memory=None,\n",
       "                                steps=[('vectorizer',\n",
       "                                        CountVectorizer(analyzer='word',\n",
       "                                                        binary=False,\n",
       "                                                        decode_error='strict',\n",
       "                                                        dtype=<class 'numpy.int64'>,\n",
       "                                                        encoding='utf-8',\n",
       "                                                        input='content',\n",
       "                                                        lowercase=True,\n",
       "                                                        max_df=1.0,\n",
       "                                                        max_features=None,\n",
       "                                                        min_df=1,\n",
       "                                                        ngram_range=(1, 1),\n",
       "                                                        preprocessor=None,\n",
       "                                                        stop_words='english',\n",
       "                                                        strip_accen...\n",
       "                                                           l1_ratio=None,\n",
       "                                                           max_iter=100,\n",
       "                                                           multi_class='warn',\n",
       "                                                           n_jobs=None,\n",
       "                                                           penalty='l2',\n",
       "                                                           random_state=None,\n",
       "                                                           solver='warn',\n",
       "                                                           tol=0.0001,\n",
       "                                                           verbose=0,\n",
       "                                                           warm_start=False))],\n",
       "                                verbose=False),\n",
       "             iid='warn', n_jobs=-1,\n",
       "             param_grid={'vectorizer__min_df': [0.005, 0.01, 0.03],\n",
       "                         'vectorizer__ngram_range': [(1, 1), (1, 2)]},\n",
       "             pre_dispatch='2*n_jobs', refit=True, return_train_score=False,\n",
       "             scoring=None, verbose=2)"
      ]
     },
     "execution_count": 239,
     "metadata": {},
     "output_type": "execute_result"
    }
   ],
   "source": [
    "grid_search.fit(train['description'],\n",
    "                train['rating'])"
   ]
  },
  {
   "cell_type": "code",
   "execution_count": 240,
   "metadata": {
    "slideshow": {
     "slide_type": "slide"
    }
   },
   "outputs": [
    {
     "data": {
      "text/plain": [
       "0.8974919972981704"
      ]
     },
     "execution_count": 240,
     "metadata": {},
     "output_type": "execute_result"
    }
   ],
   "source": [
    "grid_search.best_score_"
   ]
  },
  {
   "cell_type": "code",
   "execution_count": 241,
   "metadata": {
    "slideshow": {
     "slide_type": "slide"
    }
   },
   "outputs": [
    {
     "data": {
      "text/html": [
       "<div>\n",
       "<style scoped>\n",
       "    .dataframe tbody tr th:only-of-type {\n",
       "        vertical-align: middle;\n",
       "    }\n",
       "\n",
       "    .dataframe tbody tr th {\n",
       "        vertical-align: top;\n",
       "    }\n",
       "\n",
       "    .dataframe thead th {\n",
       "        text-align: right;\n",
       "    }\n",
       "</style>\n",
       "<table border=\"1\" class=\"dataframe\">\n",
       "  <thead>\n",
       "    <tr style=\"text-align: right;\">\n",
       "      <th></th>\n",
       "      <th>mean_fit_time</th>\n",
       "      <th>std_fit_time</th>\n",
       "      <th>mean_score_time</th>\n",
       "      <th>std_score_time</th>\n",
       "      <th>param_vectorizer__min_df</th>\n",
       "      <th>param_vectorizer__ngram_range</th>\n",
       "      <th>params</th>\n",
       "      <th>split0_test_score</th>\n",
       "      <th>split1_test_score</th>\n",
       "      <th>split2_test_score</th>\n",
       "      <th>split3_test_score</th>\n",
       "      <th>split4_test_score</th>\n",
       "      <th>mean_test_score</th>\n",
       "      <th>std_test_score</th>\n",
       "      <th>rank_test_score</th>\n",
       "    </tr>\n",
       "  </thead>\n",
       "  <tbody>\n",
       "    <tr>\n",
       "      <th>0</th>\n",
       "      <td>6.163742</td>\n",
       "      <td>0.311600</td>\n",
       "      <td>1.058331</td>\n",
       "      <td>0.015168</td>\n",
       "      <td>0.005</td>\n",
       "      <td>(1, 1)</td>\n",
       "      <td>{'vectorizer__min_df': 0.005, 'vectorizer__ngram_range': (1, 1)}</td>\n",
       "      <td>0.901109</td>\n",
       "      <td>0.892886</td>\n",
       "      <td>0.891858</td>\n",
       "      <td>0.900661</td>\n",
       "      <td>0.895587</td>\n",
       "      <td>0.896420</td>\n",
       "      <td>0.003846</td>\n",
       "      <td>2</td>\n",
       "    </tr>\n",
       "    <tr>\n",
       "      <th>1</th>\n",
       "      <td>12.855202</td>\n",
       "      <td>0.155015</td>\n",
       "      <td>1.730297</td>\n",
       "      <td>0.090375</td>\n",
       "      <td>0.005</td>\n",
       "      <td>(1, 2)</td>\n",
       "      <td>{'vectorizer__min_df': 0.005, 'vectorizer__ngram_range': (1, 2)}</td>\n",
       "      <td>0.902063</td>\n",
       "      <td>0.893914</td>\n",
       "      <td>0.892445</td>\n",
       "      <td>0.900000</td>\n",
       "      <td>0.899038</td>\n",
       "      <td>0.897492</td>\n",
       "      <td>0.003684</td>\n",
       "      <td>1</td>\n",
       "    </tr>\n",
       "    <tr>\n",
       "      <th>2</th>\n",
       "      <td>5.735788</td>\n",
       "      <td>0.072384</td>\n",
       "      <td>1.143641</td>\n",
       "      <td>0.010138</td>\n",
       "      <td>0.01</td>\n",
       "      <td>(1, 1)</td>\n",
       "      <td>{'vectorizer__min_df': 0.01, 'vectorizer__ngram_range': (1, 1)}</td>\n",
       "      <td>0.879377</td>\n",
       "      <td>0.873504</td>\n",
       "      <td>0.872623</td>\n",
       "      <td>0.879075</td>\n",
       "      <td>0.878846</td>\n",
       "      <td>0.876685</td>\n",
       "      <td>0.002975</td>\n",
       "      <td>4</td>\n",
       "    </tr>\n",
       "    <tr>\n",
       "      <th>3</th>\n",
       "      <td>12.428664</td>\n",
       "      <td>0.255436</td>\n",
       "      <td>1.706825</td>\n",
       "      <td>0.041142</td>\n",
       "      <td>0.01</td>\n",
       "      <td>(1, 2)</td>\n",
       "      <td>{'vectorizer__min_df': 0.01, 'vectorizer__ngram_range': (1, 2)}</td>\n",
       "      <td>0.880993</td>\n",
       "      <td>0.874752</td>\n",
       "      <td>0.874385</td>\n",
       "      <td>0.880029</td>\n",
       "      <td>0.881049</td>\n",
       "      <td>0.878241</td>\n",
       "      <td>0.003023</td>\n",
       "      <td>3</td>\n",
       "    </tr>\n",
       "    <tr>\n",
       "      <th>4</th>\n",
       "      <td>4.834535</td>\n",
       "      <td>0.056363</td>\n",
       "      <td>1.088579</td>\n",
       "      <td>0.005323</td>\n",
       "      <td>0.03</td>\n",
       "      <td>(1, 1)</td>\n",
       "      <td>{'vectorizer__min_df': 0.03, 'vectorizer__ngram_range': (1, 1)}</td>\n",
       "      <td>0.816827</td>\n",
       "      <td>0.810733</td>\n",
       "      <td>0.813743</td>\n",
       "      <td>0.814758</td>\n",
       "      <td>0.818783</td>\n",
       "      <td>0.814969</td>\n",
       "      <td>0.002738</td>\n",
       "      <td>6</td>\n",
       "    </tr>\n",
       "    <tr>\n",
       "      <th>5</th>\n",
       "      <td>11.298983</td>\n",
       "      <td>0.779417</td>\n",
       "      <td>1.361173</td>\n",
       "      <td>0.334868</td>\n",
       "      <td>0.03</td>\n",
       "      <td>(1, 2)</td>\n",
       "      <td>{'vectorizer__min_df': 0.03, 'vectorizer__ngram_range': (1, 2)}</td>\n",
       "      <td>0.817488</td>\n",
       "      <td>0.812349</td>\n",
       "      <td>0.813890</td>\n",
       "      <td>0.815786</td>\n",
       "      <td>0.820251</td>\n",
       "      <td>0.815953</td>\n",
       "      <td>0.002761</td>\n",
       "      <td>5</td>\n",
       "    </tr>\n",
       "  </tbody>\n",
       "</table>\n",
       "</div>"
      ],
      "text/plain": [
       "   mean_fit_time  std_fit_time  mean_score_time  std_score_time  \\\n",
       "0       6.163742      0.311600         1.058331        0.015168   \n",
       "1      12.855202      0.155015         1.730297        0.090375   \n",
       "2       5.735788      0.072384         1.143641        0.010138   \n",
       "3      12.428664      0.255436         1.706825        0.041142   \n",
       "4       4.834535      0.056363         1.088579        0.005323   \n",
       "5      11.298983      0.779417         1.361173        0.334868   \n",
       "\n",
       "  param_vectorizer__min_df param_vectorizer__ngram_range  \\\n",
       "0                    0.005                        (1, 1)   \n",
       "1                    0.005                        (1, 2)   \n",
       "2                     0.01                        (1, 1)   \n",
       "3                     0.01                        (1, 2)   \n",
       "4                     0.03                        (1, 1)   \n",
       "5                     0.03                        (1, 2)   \n",
       "\n",
       "                                                             params  \\\n",
       "0  {'vectorizer__min_df': 0.005, 'vectorizer__ngram_range': (1, 1)}   \n",
       "1  {'vectorizer__min_df': 0.005, 'vectorizer__ngram_range': (1, 2)}   \n",
       "2   {'vectorizer__min_df': 0.01, 'vectorizer__ngram_range': (1, 1)}   \n",
       "3   {'vectorizer__min_df': 0.01, 'vectorizer__ngram_range': (1, 2)}   \n",
       "4   {'vectorizer__min_df': 0.03, 'vectorizer__ngram_range': (1, 1)}   \n",
       "5   {'vectorizer__min_df': 0.03, 'vectorizer__ngram_range': (1, 2)}   \n",
       "\n",
       "   split0_test_score  split1_test_score  split2_test_score  split3_test_score  \\\n",
       "0           0.901109           0.892886           0.891858           0.900661   \n",
       "1           0.902063           0.893914           0.892445           0.900000   \n",
       "2           0.879377           0.873504           0.872623           0.879075   \n",
       "3           0.880993           0.874752           0.874385           0.880029   \n",
       "4           0.816827           0.810733           0.813743           0.814758   \n",
       "5           0.817488           0.812349           0.813890           0.815786   \n",
       "\n",
       "   split4_test_score  mean_test_score  std_test_score  rank_test_score  \n",
       "0           0.895587         0.896420        0.003846                2  \n",
       "1           0.899038         0.897492        0.003684                1  \n",
       "2           0.878846         0.876685        0.002975                4  \n",
       "3           0.881049         0.878241        0.003023                3  \n",
       "4           0.818783         0.814969        0.002738                6  \n",
       "5           0.820251         0.815953        0.002761                5  "
      ]
     },
     "execution_count": 241,
     "metadata": {},
     "output_type": "execute_result"
    }
   ],
   "source": [
    "pd.DataFrame(grid_search.cv_results_)"
   ]
  },
  {
   "cell_type": "code",
   "execution_count": 242,
   "metadata": {},
   "outputs": [
    {
     "data": {
      "text/plain": [
       "Pipeline(memory=None,\n",
       "         steps=[('vectorizer',\n",
       "                 CountVectorizer(analyzer='word', binary=False,\n",
       "                                 decode_error='strict',\n",
       "                                 dtype=<class 'numpy.int64'>, encoding='utf-8',\n",
       "                                 input='content', lowercase=True, max_df=1.0,\n",
       "                                 max_features=None, min_df=0.005,\n",
       "                                 ngram_range=(1, 2), preprocessor=None,\n",
       "                                 stop_words='english', strip_accents=None,\n",
       "                                 token_pattern='(?u)\\\\b\\\\w\\\\w+\\\\b',\n",
       "                                 tokenizer=None, vocabulary=None)),\n",
       "                ('classifier',\n",
       "                 LogisticRegression(C=1.0, class_weight=None, dual=False,\n",
       "                                    fit_intercept=True, intercept_scaling=1,\n",
       "                                    l1_ratio=None, max_iter=100,\n",
       "                                    multi_class='warn', n_jobs=None,\n",
       "                                    penalty='l2', random_state=None,\n",
       "                                    solver='warn', tol=0.0001, verbose=0,\n",
       "                                    warm_start=False))],\n",
       "         verbose=False)"
      ]
     },
     "execution_count": 242,
     "metadata": {},
     "output_type": "execute_result"
    }
   ],
   "source": [
    "best_estimator = grid_search.best_estimator_\n",
    "\n",
    "best_estimator"
   ]
  },
  {
   "cell_type": "code",
   "execution_count": 243,
   "metadata": {},
   "outputs": [
    {
     "data": {
      "text/plain": [
       "0.8984494302830964"
      ]
     },
     "execution_count": 243,
     "metadata": {},
     "output_type": "execute_result"
    }
   ],
   "source": [
    "accuracy_score(best_estimator.predict(test['description']),\n",
    "               test['rating'])"
   ]
  },
  {
   "cell_type": "markdown",
   "metadata": {
    "slideshow": {
     "slide_type": "slide"
    }
   },
   "source": [
    "<div class=\"alert alert-info\">\n",
    "<h3> Homework</h3>\n",
    "<p> The \"data\" folder contains board games descriptions scraped from BoardGameGeeks.com. Analyze the relationship between the words in the <code>description</code> and whether or not reviewers thought it was a <code>quality_game</code>. \n",
    "</div>\n",
    "\n",
    "\n",
    "\n",
    "\n"
   ]
  },
  {
   "cell_type": "code",
   "execution_count": null,
   "metadata": {},
   "outputs": [],
   "source": []
  }
 ],
 "metadata": {
  "kernelspec": {
   "display_name": "Python 3",
   "language": "python",
   "name": "python3"
  },
  "language_info": {
   "codemirror_mode": {
    "name": "ipython",
    "version": 3
   },
   "file_extension": ".py",
   "mimetype": "text/x-python",
   "name": "python",
   "nbconvert_exporter": "python",
   "pygments_lexer": "ipython3",
   "version": "3.6.7"
  }
 },
 "nbformat": 4,
 "nbformat_minor": 2
}
